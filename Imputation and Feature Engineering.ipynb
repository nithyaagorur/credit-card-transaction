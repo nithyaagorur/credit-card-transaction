{
 "cells": [
  {
   "cell_type": "code",
   "execution_count": 1,
   "id": "fae6f46e",
   "metadata": {
    "id": "fae6f46e"
   },
   "outputs": [],
   "source": [
    "#imports\n",
    "\n",
    "import pandas as pd \n",
    "import numpy as np\n",
    "from scipy import stats as st\n",
    "import seaborn as sns\n",
    "import matplotlib.pyplot as plt\n",
    "import datetime as dt\n",
    "import calendar\n",
    "import time\n",
    "from datetime import datetime\n",
    "from datetime import date\n",
    "import calendar\n",
    "import timeit\n",
    "import math\n",
    "plt.style.use('ggplot')\n",
    "start_time = dt.datetime.now()\n",
    "%matplotlib inline"
   ]
  },
  {
   "cell_type": "code",
   "execution_count": 2,
   "id": "9db017ee",
   "metadata": {
    "colab": {
     "base_uri": "https://localhost:8080/"
    },
    "id": "9db017ee",
    "outputId": "7070f095-817c-435a-c204-3f172f6f77c2"
   },
   "outputs": [
    {
     "name": "stdout",
     "output_type": "stream",
     "text": [
      "CPU times: user 78.5 ms, sys: 16.7 ms, total: 95.2 ms\n",
      "Wall time: 99.7 ms\n"
     ]
    },
    {
     "data": {
      "text/plain": [
       "(96753, 18)"
      ]
     },
     "execution_count": 2,
     "metadata": {},
     "output_type": "execute_result"
    }
   ],
   "source": [
    "%%time\n",
    "data=pd.read_csv('card transactions.csv')\n",
    "data.shape"
   ]
  },
  {
   "cell_type": "code",
   "execution_count": 3,
   "id": "664c5234",
   "metadata": {
    "colab": {
     "base_uri": "https://localhost:8080/",
     "height": 354
    },
    "id": "664c5234",
    "outputId": "4d490918-5270-4798-f316-399bfbd3997c"
   },
   "outputs": [
    {
     "data": {
      "text/html": [
       "<div>\n",
       "<style scoped>\n",
       "    .dataframe tbody tr th:only-of-type {\n",
       "        vertical-align: middle;\n",
       "    }\n",
       "\n",
       "    .dataframe tbody tr th {\n",
       "        vertical-align: top;\n",
       "    }\n",
       "\n",
       "    .dataframe thead th {\n",
       "        text-align: right;\n",
       "    }\n",
       "</style>\n",
       "<table border=\"1\" class=\"dataframe\">\n",
       "  <thead>\n",
       "    <tr style=\"text-align: right;\">\n",
       "      <th></th>\n",
       "      <th>Recnum</th>\n",
       "      <th>Cardnum</th>\n",
       "      <th>Date</th>\n",
       "      <th>Merchnum</th>\n",
       "      <th>Merch description</th>\n",
       "      <th>Merch state</th>\n",
       "      <th>Merch zip</th>\n",
       "      <th>Transtype</th>\n",
       "      <th>Amount</th>\n",
       "      <th>Fraud</th>\n",
       "      <th>Unnamed: 10</th>\n",
       "      <th>Unnamed: 11</th>\n",
       "      <th>Unnamed: 12</th>\n",
       "      <th>Unnamed: 13</th>\n",
       "      <th>Unnamed: 14</th>\n",
       "      <th>Unnamed: 15</th>\n",
       "      <th>Unnamed: 16</th>\n",
       "      <th>Unnamed: 17</th>\n",
       "    </tr>\n",
       "  </thead>\n",
       "  <tbody>\n",
       "    <tr>\n",
       "      <th>0</th>\n",
       "      <td>1</td>\n",
       "      <td>5142190439</td>\n",
       "      <td>1/1/10</td>\n",
       "      <td>5509006296254</td>\n",
       "      <td>FEDEX SHP 12/23/09 AB#</td>\n",
       "      <td>TN</td>\n",
       "      <td>38118.0</td>\n",
       "      <td>P</td>\n",
       "      <td>3.62</td>\n",
       "      <td>0</td>\n",
       "      <td>NaN</td>\n",
       "      <td>NaN</td>\n",
       "      <td>NaN</td>\n",
       "      <td>NaN</td>\n",
       "      <td>NaN</td>\n",
       "      <td>NaN</td>\n",
       "      <td>NaN</td>\n",
       "      <td>NaN</td>\n",
       "    </tr>\n",
       "    <tr>\n",
       "      <th>1</th>\n",
       "      <td>2</td>\n",
       "      <td>5142183973</td>\n",
       "      <td>1/1/10</td>\n",
       "      <td>61003026333</td>\n",
       "      <td>SERVICE MERCHANDISE #81</td>\n",
       "      <td>MA</td>\n",
       "      <td>1803.0</td>\n",
       "      <td>P</td>\n",
       "      <td>31.42</td>\n",
       "      <td>0</td>\n",
       "      <td>NaN</td>\n",
       "      <td>NaN</td>\n",
       "      <td>NaN</td>\n",
       "      <td>NaN</td>\n",
       "      <td>NaN</td>\n",
       "      <td>NaN</td>\n",
       "      <td>NaN</td>\n",
       "      <td>NaN</td>\n",
       "    </tr>\n",
       "    <tr>\n",
       "      <th>2</th>\n",
       "      <td>3</td>\n",
       "      <td>5142131721</td>\n",
       "      <td>1/1/10</td>\n",
       "      <td>4503082993600</td>\n",
       "      <td>OFFICE DEPOT #191</td>\n",
       "      <td>MD</td>\n",
       "      <td>20706.0</td>\n",
       "      <td>P</td>\n",
       "      <td>178.49</td>\n",
       "      <td>0</td>\n",
       "      <td>NaN</td>\n",
       "      <td>NaN</td>\n",
       "      <td>NaN</td>\n",
       "      <td>NaN</td>\n",
       "      <td>NaN</td>\n",
       "      <td>NaN</td>\n",
       "      <td>NaN</td>\n",
       "      <td>NaN</td>\n",
       "    </tr>\n",
       "    <tr>\n",
       "      <th>3</th>\n",
       "      <td>4</td>\n",
       "      <td>5142148452</td>\n",
       "      <td>1/1/10</td>\n",
       "      <td>5509006296254</td>\n",
       "      <td>FEDEX SHP 12/28/09 AB#</td>\n",
       "      <td>TN</td>\n",
       "      <td>38118.0</td>\n",
       "      <td>P</td>\n",
       "      <td>3.62</td>\n",
       "      <td>0</td>\n",
       "      <td>NaN</td>\n",
       "      <td>NaN</td>\n",
       "      <td>NaN</td>\n",
       "      <td>NaN</td>\n",
       "      <td>NaN</td>\n",
       "      <td>NaN</td>\n",
       "      <td>NaN</td>\n",
       "      <td>NaN</td>\n",
       "    </tr>\n",
       "    <tr>\n",
       "      <th>4</th>\n",
       "      <td>5</td>\n",
       "      <td>5142190439</td>\n",
       "      <td>1/1/10</td>\n",
       "      <td>5509006296254</td>\n",
       "      <td>FEDEX SHP 12/23/09 AB#</td>\n",
       "      <td>TN</td>\n",
       "      <td>38118.0</td>\n",
       "      <td>P</td>\n",
       "      <td>3.62</td>\n",
       "      <td>0</td>\n",
       "      <td>NaN</td>\n",
       "      <td>NaN</td>\n",
       "      <td>NaN</td>\n",
       "      <td>NaN</td>\n",
       "      <td>NaN</td>\n",
       "      <td>NaN</td>\n",
       "      <td>NaN</td>\n",
       "      <td>NaN</td>\n",
       "    </tr>\n",
       "  </tbody>\n",
       "</table>\n",
       "</div>"
      ],
      "text/plain": [
       "   Recnum     Cardnum    Date       Merchnum        Merch description  \\\n",
       "0       1  5142190439  1/1/10  5509006296254   FEDEX SHP 12/23/09 AB#   \n",
       "1       2  5142183973  1/1/10    61003026333  SERVICE MERCHANDISE #81   \n",
       "2       3  5142131721  1/1/10  4503082993600        OFFICE DEPOT #191   \n",
       "3       4  5142148452  1/1/10  5509006296254   FEDEX SHP 12/28/09 AB#   \n",
       "4       5  5142190439  1/1/10  5509006296254   FEDEX SHP 12/23/09 AB#   \n",
       "\n",
       "  Merch state  Merch zip Transtype  Amount  Fraud  Unnamed: 10  Unnamed: 11  \\\n",
       "0          TN    38118.0         P    3.62      0          NaN          NaN   \n",
       "1          MA     1803.0         P   31.42      0          NaN          NaN   \n",
       "2          MD    20706.0         P  178.49      0          NaN          NaN   \n",
       "3          TN    38118.0         P    3.62      0          NaN          NaN   \n",
       "4          TN    38118.0         P    3.62      0          NaN          NaN   \n",
       "\n",
       "   Unnamed: 12  Unnamed: 13  Unnamed: 14  Unnamed: 15  Unnamed: 16  \\\n",
       "0          NaN          NaN          NaN          NaN          NaN   \n",
       "1          NaN          NaN          NaN          NaN          NaN   \n",
       "2          NaN          NaN          NaN          NaN          NaN   \n",
       "3          NaN          NaN          NaN          NaN          NaN   \n",
       "4          NaN          NaN          NaN          NaN          NaN   \n",
       "\n",
       "   Unnamed: 17  \n",
       "0          NaN  \n",
       "1          NaN  \n",
       "2          NaN  \n",
       "3          NaN  \n",
       "4          NaN  "
      ]
     },
     "execution_count": 3,
     "metadata": {},
     "output_type": "execute_result"
    }
   ],
   "source": [
    "data.head()"
   ]
  },
  {
   "cell_type": "code",
   "execution_count": 66,
   "id": "O4tjzsURJlFz",
   "metadata": {
    "colab": {
     "base_uri": "https://localhost:8080/"
    },
    "id": "O4tjzsURJlFz",
    "outputId": "0167b2f7-24b5-4e64-c3a6-4c808ea76b09"
   },
   "outputs": [
    {
     "name": "stdout",
     "output_type": "stream",
     "text": [
      "<class 'pandas.core.frame.DataFrame'>\n",
      "RangeIndex: 96753 entries, 0 to 96752\n",
      "Data columns (total 10 columns):\n",
      " #   Column             Non-Null Count  Dtype         \n",
      "---  ------             --------------  -----         \n",
      " 0   Recnum             96753 non-null  int64         \n",
      " 1   Cardnum            96753 non-null  int64         \n",
      " 2   Date               96753 non-null  datetime64[ns]\n",
      " 3   Merchnum           93378 non-null  object        \n",
      " 4   Merch description  96753 non-null  object        \n",
      " 5   Merch state        95558 non-null  object        \n",
      " 6   Merch zip          92097 non-null  float64       \n",
      " 7   Transtype          96753 non-null  object        \n",
      " 8   Amount             96753 non-null  float64       \n",
      " 9   Fraud              96753 non-null  int64         \n",
      "dtypes: datetime64[ns](1), float64(2), int64(3), object(4)\n",
      "memory usage: 7.4+ MB\n"
     ]
    }
   ],
   "source": [
    "#cleaning data by dropping columns\n",
    "data.dropna(how='all',axis=1,inplace=True)\n",
    "data['Date']=pd.to_datetime(data['Date'])\n",
    "data.info()"
   ]
  },
  {
   "cell_type": "code",
   "execution_count": 67,
   "id": "MbtIM3GRJotQ",
   "metadata": {
    "colab": {
     "base_uri": "https://localhost:8080/",
     "height": 206
    },
    "id": "MbtIM3GRJotQ",
    "outputId": "ff8f6ae0-06f9-4af3-c461-46233997595e"
   },
   "outputs": [
    {
     "data": {
      "text/html": [
       "<div>\n",
       "<style scoped>\n",
       "    .dataframe tbody tr th:only-of-type {\n",
       "        vertical-align: middle;\n",
       "    }\n",
       "\n",
       "    .dataframe tbody tr th {\n",
       "        vertical-align: top;\n",
       "    }\n",
       "\n",
       "    .dataframe thead th {\n",
       "        text-align: right;\n",
       "    }\n",
       "</style>\n",
       "<table border=\"1\" class=\"dataframe\">\n",
       "  <thead>\n",
       "    <tr style=\"text-align: right;\">\n",
       "      <th></th>\n",
       "      <th>Recnum</th>\n",
       "      <th>Cardnum</th>\n",
       "      <th>Date</th>\n",
       "      <th>Merchnum</th>\n",
       "      <th>Merch description</th>\n",
       "      <th>Merch state</th>\n",
       "      <th>Merch zip</th>\n",
       "      <th>Transtype</th>\n",
       "      <th>Amount</th>\n",
       "      <th>Fraud</th>\n",
       "    </tr>\n",
       "  </thead>\n",
       "  <tbody>\n",
       "    <tr>\n",
       "      <th>0</th>\n",
       "      <td>1</td>\n",
       "      <td>5142190439</td>\n",
       "      <td>2010-01-01</td>\n",
       "      <td>5509006296254</td>\n",
       "      <td>FEDEX SHP 12/23/09 AB#</td>\n",
       "      <td>TN</td>\n",
       "      <td>38118.0</td>\n",
       "      <td>P</td>\n",
       "      <td>3.62</td>\n",
       "      <td>0</td>\n",
       "    </tr>\n",
       "    <tr>\n",
       "      <th>1</th>\n",
       "      <td>2</td>\n",
       "      <td>5142183973</td>\n",
       "      <td>2010-01-01</td>\n",
       "      <td>61003026333</td>\n",
       "      <td>SERVICE MERCHANDISE #81</td>\n",
       "      <td>MA</td>\n",
       "      <td>1803.0</td>\n",
       "      <td>P</td>\n",
       "      <td>31.42</td>\n",
       "      <td>0</td>\n",
       "    </tr>\n",
       "    <tr>\n",
       "      <th>2</th>\n",
       "      <td>3</td>\n",
       "      <td>5142131721</td>\n",
       "      <td>2010-01-01</td>\n",
       "      <td>4503082993600</td>\n",
       "      <td>OFFICE DEPOT #191</td>\n",
       "      <td>MD</td>\n",
       "      <td>20706.0</td>\n",
       "      <td>P</td>\n",
       "      <td>178.49</td>\n",
       "      <td>0</td>\n",
       "    </tr>\n",
       "    <tr>\n",
       "      <th>3</th>\n",
       "      <td>4</td>\n",
       "      <td>5142148452</td>\n",
       "      <td>2010-01-01</td>\n",
       "      <td>5509006296254</td>\n",
       "      <td>FEDEX SHP 12/28/09 AB#</td>\n",
       "      <td>TN</td>\n",
       "      <td>38118.0</td>\n",
       "      <td>P</td>\n",
       "      <td>3.62</td>\n",
       "      <td>0</td>\n",
       "    </tr>\n",
       "    <tr>\n",
       "      <th>4</th>\n",
       "      <td>5</td>\n",
       "      <td>5142190439</td>\n",
       "      <td>2010-01-01</td>\n",
       "      <td>5509006296254</td>\n",
       "      <td>FEDEX SHP 12/23/09 AB#</td>\n",
       "      <td>TN</td>\n",
       "      <td>38118.0</td>\n",
       "      <td>P</td>\n",
       "      <td>3.62</td>\n",
       "      <td>0</td>\n",
       "    </tr>\n",
       "  </tbody>\n",
       "</table>\n",
       "</div>"
      ],
      "text/plain": [
       "   Recnum     Cardnum       Date       Merchnum        Merch description  \\\n",
       "0       1  5142190439 2010-01-01  5509006296254   FEDEX SHP 12/23/09 AB#   \n",
       "1       2  5142183973 2010-01-01    61003026333  SERVICE MERCHANDISE #81   \n",
       "2       3  5142131721 2010-01-01  4503082993600        OFFICE DEPOT #191   \n",
       "3       4  5142148452 2010-01-01  5509006296254   FEDEX SHP 12/28/09 AB#   \n",
       "4       5  5142190439 2010-01-01  5509006296254   FEDEX SHP 12/23/09 AB#   \n",
       "\n",
       "  Merch state  Merch zip Transtype  Amount  Fraud  \n",
       "0          TN    38118.0         P    3.62      0  \n",
       "1          MA     1803.0         P   31.42      0  \n",
       "2          MD    20706.0         P  178.49      0  \n",
       "3          TN    38118.0         P    3.62      0  \n",
       "4          TN    38118.0         P    3.62      0  "
      ]
     },
     "execution_count": 67,
     "metadata": {},
     "output_type": "execute_result"
    }
   ],
   "source": [
    "data.head()"
   ]
  },
  {
   "cell_type": "code",
   "execution_count": 68,
   "id": "j3IjUzpfJz6v",
   "metadata": {
    "colab": {
     "base_uri": "https://localhost:8080/"
    },
    "id": "j3IjUzpfJz6v",
    "outputId": "e14d9f9a-8fb4-4490-8dbb-127ebd11072e"
   },
   "outputs": [
    {
     "data": {
      "text/plain": [
       "Recnum                        int64\n",
       "Cardnum                       int64\n",
       "Date                 datetime64[ns]\n",
       "Merchnum                     object\n",
       "Merch description            object\n",
       "Merch state                  object\n",
       "Merch zip                   float64\n",
       "Transtype                    object\n",
       "Amount                      float64\n",
       "Fraud                         int64\n",
       "dtype: object"
      ]
     },
     "execution_count": 68,
     "metadata": {},
     "output_type": "execute_result"
    }
   ],
   "source": [
    "data.dtypes"
   ]
  },
  {
   "cell_type": "code",
   "execution_count": 69,
   "id": "hnEVNik4LMHq",
   "metadata": {
    "colab": {
     "base_uri": "https://localhost:8080/",
     "height": 300
    },
    "id": "hnEVNik4LMHq",
    "outputId": "a69bf5cf-6228-43ae-85ab-30bf0c2984ae"
   },
   "outputs": [
    {
     "data": {
      "text/html": [
       "<div>\n",
       "<style scoped>\n",
       "    .dataframe tbody tr th:only-of-type {\n",
       "        vertical-align: middle;\n",
       "    }\n",
       "\n",
       "    .dataframe tbody tr th {\n",
       "        vertical-align: top;\n",
       "    }\n",
       "\n",
       "    .dataframe thead th {\n",
       "        text-align: right;\n",
       "    }\n",
       "</style>\n",
       "<table border=\"1\" class=\"dataframe\">\n",
       "  <thead>\n",
       "    <tr style=\"text-align: right;\">\n",
       "      <th></th>\n",
       "      <th>Recnum</th>\n",
       "      <th>Cardnum</th>\n",
       "      <th>Merch zip</th>\n",
       "      <th>Amount</th>\n",
       "      <th>Fraud</th>\n",
       "    </tr>\n",
       "  </thead>\n",
       "  <tbody>\n",
       "    <tr>\n",
       "      <th>count</th>\n",
       "      <td>96753.000000</td>\n",
       "      <td>9.675300e+04</td>\n",
       "      <td>92097.000000</td>\n",
       "      <td>9.675300e+04</td>\n",
       "      <td>96753.000000</td>\n",
       "    </tr>\n",
       "    <tr>\n",
       "      <th>mean</th>\n",
       "      <td>48377.000000</td>\n",
       "      <td>5.142202e+09</td>\n",
       "      <td>44706.596740</td>\n",
       "      <td>4.278857e+02</td>\n",
       "      <td>0.010945</td>\n",
       "    </tr>\n",
       "    <tr>\n",
       "      <th>std</th>\n",
       "      <td>27930.329635</td>\n",
       "      <td>5.567084e+04</td>\n",
       "      <td>28369.537945</td>\n",
       "      <td>1.000614e+04</td>\n",
       "      <td>0.104047</td>\n",
       "    </tr>\n",
       "    <tr>\n",
       "      <th>min</th>\n",
       "      <td>1.000000</td>\n",
       "      <td>5.142110e+09</td>\n",
       "      <td>1.000000</td>\n",
       "      <td>1.000000e-02</td>\n",
       "      <td>0.000000</td>\n",
       "    </tr>\n",
       "    <tr>\n",
       "      <th>25%</th>\n",
       "      <td>24189.000000</td>\n",
       "      <td>5.142152e+09</td>\n",
       "      <td>20855.000000</td>\n",
       "      <td>3.348000e+01</td>\n",
       "      <td>0.000000</td>\n",
       "    </tr>\n",
       "    <tr>\n",
       "      <th>50%</th>\n",
       "      <td>48377.000000</td>\n",
       "      <td>5.142196e+09</td>\n",
       "      <td>38118.000000</td>\n",
       "      <td>1.379800e+02</td>\n",
       "      <td>0.000000</td>\n",
       "    </tr>\n",
       "    <tr>\n",
       "      <th>75%</th>\n",
       "      <td>72565.000000</td>\n",
       "      <td>5.142246e+09</td>\n",
       "      <td>63103.000000</td>\n",
       "      <td>4.282000e+02</td>\n",
       "      <td>0.000000</td>\n",
       "    </tr>\n",
       "    <tr>\n",
       "      <th>max</th>\n",
       "      <td>96753.000000</td>\n",
       "      <td>5.142847e+09</td>\n",
       "      <td>99999.000000</td>\n",
       "      <td>3.102046e+06</td>\n",
       "      <td>1.000000</td>\n",
       "    </tr>\n",
       "  </tbody>\n",
       "</table>\n",
       "</div>"
      ],
      "text/plain": [
       "             Recnum       Cardnum     Merch zip        Amount         Fraud\n",
       "count  96753.000000  9.675300e+04  92097.000000  9.675300e+04  96753.000000\n",
       "mean   48377.000000  5.142202e+09  44706.596740  4.278857e+02      0.010945\n",
       "std    27930.329635  5.567084e+04  28369.537945  1.000614e+04      0.104047\n",
       "min        1.000000  5.142110e+09      1.000000  1.000000e-02      0.000000\n",
       "25%    24189.000000  5.142152e+09  20855.000000  3.348000e+01      0.000000\n",
       "50%    48377.000000  5.142196e+09  38118.000000  1.379800e+02      0.000000\n",
       "75%    72565.000000  5.142246e+09  63103.000000  4.282000e+02      0.000000\n",
       "max    96753.000000  5.142847e+09  99999.000000  3.102046e+06      1.000000"
      ]
     },
     "execution_count": 69,
     "metadata": {},
     "output_type": "execute_result"
    }
   ],
   "source": [
    "data.describe()"
   ]
  },
  {
   "cell_type": "code",
   "execution_count": 70,
   "id": "VwUGapq5MzVC",
   "metadata": {
    "colab": {
     "base_uri": "https://localhost:8080/"
    },
    "id": "VwUGapq5MzVC",
    "outputId": "9d4b5284-f224-456f-d358-81667b073852"
   },
   "outputs": [
    {
     "data": {
      "text/plain": [
       "52714    3102045.53\n",
       "47339      47900.00\n",
       "Name: Amount, dtype: float64"
      ]
     },
     "execution_count": 70,
     "metadata": {},
     "output_type": "execute_result"
    }
   ],
   "source": [
    "# Removing the outlier\n",
    "\n",
    "data['Amount'].nlargest(2)"
   ]
  },
  {
   "cell_type": "code",
   "execution_count": 71,
   "id": "KHxKwsZVLTgF",
   "metadata": {
    "colab": {
     "base_uri": "https://localhost:8080/"
    },
    "id": "KHxKwsZVLTgF",
    "outputId": "79adc9d1-0947-4020-e985-12f25a4eb545"
   },
   "outputs": [
    {
     "data": {
      "text/plain": [
       "1"
      ]
     },
     "execution_count": 71,
     "metadata": {},
     "output_type": "execute_result"
    }
   ],
   "source": [
    "len(data[data['Amount']>1000000])"
   ]
  },
  {
   "cell_type": "code",
   "execution_count": 72,
   "id": "mcl41mv3M905",
   "metadata": {
    "colab": {
     "base_uri": "https://localhost:8080/"
    },
    "id": "mcl41mv3M905",
    "outputId": "851c7c69-09d7-45ea-a8a6-eb9cc3f91ff2"
   },
   "outputs": [
    {
     "data": {
      "text/plain": [
       "Recnum               96752\n",
       "Cardnum              96752\n",
       "Date                 96752\n",
       "Merchnum             93378\n",
       "Merch description    96752\n",
       "Merch state          95558\n",
       "Merch zip            92097\n",
       "Transtype            96752\n",
       "Amount               96752\n",
       "Fraud                96752\n",
       "dtype: int64"
      ]
     },
     "execution_count": 72,
     "metadata": {},
     "output_type": "execute_result"
    }
   ],
   "source": [
    "\n",
    "data_filtered = data[data['Amount']<1000000]\n",
    "data=data_filtered\n",
    "data.count()"
   ]
  },
  {
   "cell_type": "code",
   "execution_count": 73,
   "id": "jlqWsOKAOXHm",
   "metadata": {
    "colab": {
     "base_uri": "https://localhost:8080/"
    },
    "id": "jlqWsOKAOXHm",
    "outputId": "f942aec3-35b0-46b4-b5c3-4a838b9e4459"
   },
   "outputs": [
    {
     "data": {
      "text/plain": [
       "Recnum               96397\n",
       "Cardnum              96397\n",
       "Date                 96397\n",
       "Merchnum             93199\n",
       "Merch description    96397\n",
       "Merch state          95377\n",
       "Merch zip            92097\n",
       "Transtype            96397\n",
       "Amount               96397\n",
       "Fraud                96397\n",
       "dtype: int64"
      ]
     },
     "execution_count": 73,
     "metadata": {},
     "output_type": "execute_result"
    }
   ],
   "source": [
    "# Keeping only Transtype = p \n",
    "\n",
    "data_filtered2 = data[data['Transtype']=='P']\n",
    "data=data_filtered2\n",
    "data.count()"
   ]
  },
  {
   "cell_type": "code",
   "execution_count": 74,
   "id": "8-xvR3qR_hrI",
   "metadata": {
    "colab": {
     "base_uri": "https://localhost:8080/"
    },
    "id": "8-xvR3qR_hrI",
    "outputId": "212353a2-c3f8-40a6-b693-9e5cea691629"
   },
   "outputs": [
    {
     "data": {
      "text/plain": [
       "1020"
      ]
     },
     "execution_count": 74,
     "metadata": {},
     "output_type": "execute_result"
    }
   ],
   "source": [
    "# Imputing merch state \n",
    "\n",
    "data['Merch state'].isnull().sum()"
   ]
  },
  {
   "cell_type": "code",
   "execution_count": 75,
   "id": "LUA89_WlAHRp",
   "metadata": {
    "id": "LUA89_WlAHRp"
   },
   "outputs": [],
   "source": [
    "zip_state = {}\n",
    "for index, zip5 in data[data['Merch zip'].notnull()]['Merch zip'].items(): \n",
    "  if zip5 not in zip_state:\n",
    "    zip_state[zip5] = data.loc[index, 'Merch state']\n",
    "\n",
    "zip_state['00926'] = 'PR'\n",
    "zip_state['00929'] = 'PR'\n",
    "zip_state['00934'] = 'PR'\n",
    "zip_state['00902'] = 'PR'\n",
    "zip_state['00738'] = 'PR'\n",
    "zip_state['90805'] = 'CA'\n",
    "zip_state['76302'] = 'TX'\n",
    "zip_state['00914'] = 'PR'\n",
    "zip_state['95461'] ='CA'\n",
    "zip_state['00680']= 'PR'\n",
    "zip_state['00623'] = 'PR'\n",
    "zip_state['00726'] = 'PR'\n",
    "zip_state['00936'] = 'PR'\n",
    "zip_state['12108'] = 'NY'\n",
    "zip_state['00791'] = 'PR'\n",
    "zip_state['00907'] = 'PR'\n",
    "zip_state['00922'] ='PR'\n",
    "zip_state['00920'] = 'PR'\n",
    "zip_state['00801'] = 'VI'\n",
    "zip_state['31040'] = 'GA'\n",
    "zip_state['41160'] = 'KY'\n",
    "zip_state['00681'] = 'PR'"
   ]
  },
  {
   "cell_type": "code",
   "execution_count": 76,
   "id": "gObD139aEyxJ",
   "metadata": {
    "id": "gObD139aEyxJ"
   },
   "outputs": [],
   "source": [
    "merchnum_state= {}\n",
    "for index, merchnum in data[data['Merchnum'].notnull()]['Merchnum'].items():\n",
    "  if merchnum not in merchnum_state:\n",
    "    merchnum_state [merchnum]= data.loc[index, 'Merch state']\n"
   ]
  },
  {
   "cell_type": "code",
   "execution_count": 77,
   "id": "QRDR4lGRffyl",
   "metadata": {
    "id": "QRDR4lGRffyl"
   },
   "outputs": [],
   "source": [
    "merchdes_state = {}\n",
    "for index, merchdes in data[data['Merch description'].notnull()]['Merch description'].items():\n",
    "  if merchdes not in merchdes_state:\n",
    "    merchdes_state [merchdes] = data.loc[index, 'Merch state']"
   ]
  },
  {
   "cell_type": "code",
   "execution_count": 78,
   "id": "p2L5FlM_LqIm",
   "metadata": {
    "colab": {
     "base_uri": "https://localhost:8080/"
    },
    "id": "p2L5FlM_LqIm",
    "outputId": "a1423017-0a8d-4b31-fe50-6165edfcbfef"
   },
   "outputs": [
    {
     "name": "stderr",
     "output_type": "stream",
     "text": [
      "/var/folders/ll/h_rnbgns62bcj0skpd2j0ktr0000gp/T/ipykernel_38628/641192430.py:1: SettingWithCopyWarning: \n",
      "A value is trying to be set on a copy of a slice from a DataFrame.\n",
      "Try using .loc[row_indexer,col_indexer] = value instead\n",
      "\n",
      "See the caveats in the documentation: https://pandas.pydata.org/pandas-docs/stable/user_guide/indexing.html#returning-a-view-versus-a-copy\n",
      "  data['Merch state'] = data['Merch state'].fillna(data['Merch zip'].map(zip_state))\n",
      "/var/folders/ll/h_rnbgns62bcj0skpd2j0ktr0000gp/T/ipykernel_38628/641192430.py:2: SettingWithCopyWarning: \n",
      "A value is trying to be set on a copy of a slice from a DataFrame.\n",
      "Try using .loc[row_indexer,col_indexer] = value instead\n",
      "\n",
      "See the caveats in the documentation: https://pandas.pydata.org/pandas-docs/stable/user_guide/indexing.html#returning-a-view-versus-a-copy\n",
      "  data['Merch state'] = data['Merch state'].fillna(data['Merchnum'].map(merchnum_state))\n",
      "/var/folders/ll/h_rnbgns62bcj0skpd2j0ktr0000gp/T/ipykernel_38628/641192430.py:3: SettingWithCopyWarning: \n",
      "A value is trying to be set on a copy of a slice from a DataFrame.\n",
      "Try using .loc[row_indexer,col_indexer] = value instead\n",
      "\n",
      "See the caveats in the documentation: https://pandas.pydata.org/pandas-docs/stable/user_guide/indexing.html#returning-a-view-versus-a-copy\n",
      "  data['Merch state'] = data['Merch state'].fillna(data['Merch description'].map(merchdes_state))\n"
     ]
    }
   ],
   "source": [
    "data['Merch state'] = data['Merch state'].fillna(data['Merch zip'].map(zip_state)) \n",
    "data['Merch state'] = data['Merch state'].fillna(data['Merchnum'].map(merchnum_state))\n",
    "data['Merch state'] = data['Merch state'].fillna(data['Merch description'].map(merchdes_state))"
   ]
  },
  {
   "cell_type": "code",
   "execution_count": 79,
   "id": "Pv92NN1wfzBh",
   "metadata": {
    "colab": {
     "base_uri": "https://localhost:8080/"
    },
    "id": "Pv92NN1wfzBh",
    "outputId": "636dd12a-4b1b-4da5-9ddd-e6828458203f"
   },
   "outputs": [
    {
     "name": "stderr",
     "output_type": "stream",
     "text": [
      "/var/folders/ll/h_rnbgns62bcj0skpd2j0ktr0000gp/T/ipykernel_38628/1566027572.py:1: SettingWithCopyWarning: \n",
      "A value is trying to be set on a copy of a slice from a DataFrame.\n",
      "Try using .loc[row_indexer,col_indexer] = value instead\n",
      "\n",
      "See the caveats in the documentation: https://pandas.pydata.org/pandas-docs/stable/user_guide/indexing.html#returning-a-view-versus-a-copy\n",
      "  data['Merch state'] = data['Merch state'].mask (data['Merch description'] == 'RETAIL CREDIT ADJUSTMENT', 'unknown')\n",
      "/var/folders/ll/h_rnbgns62bcj0skpd2j0ktr0000gp/T/ipykernel_38628/1566027572.py:2: SettingWithCopyWarning: \n",
      "A value is trying to be set on a copy of a slice from a DataFrame.\n",
      "Try using .loc[row_indexer,col_indexer] = value instead\n",
      "\n",
      "See the caveats in the documentation: https://pandas.pydata.org/pandas-docs/stable/user_guide/indexing.html#returning-a-view-versus-a-copy\n",
      "  data['Merch state'] = data['Merch state'].mask (data['Merch description'] == 'RETAIL DEBIT ADJUSTMENT',\n"
     ]
    }
   ],
   "source": [
    "data['Merch state'] = data['Merch state'].mask (data['Merch description'] == 'RETAIL CREDIT ADJUSTMENT', 'unknown') \n",
    "data['Merch state'] = data['Merch state'].mask (data['Merch description'] == 'RETAIL DEBIT ADJUSTMENT',\n",
    "'unknown')"
   ]
  },
  {
   "cell_type": "code",
   "execution_count": 80,
   "id": "2DzKQWGIgATm",
   "metadata": {
    "colab": {
     "base_uri": "https://localhost:8080/"
    },
    "id": "2DzKQWGIgATm",
    "outputId": "d82c7c75-8697-46a8-9759-d94d68c11d8f"
   },
   "outputs": [
    {
     "data": {
      "text/plain": [
       "317"
      ]
     },
     "execution_count": 80,
     "metadata": {},
     "output_type": "execute_result"
    }
   ],
   "source": [
    "data['Merch state'].isnull().sum()"
   ]
  },
  {
   "cell_type": "code",
   "execution_count": 81,
   "id": "RSldI_sAgAd2",
   "metadata": {
    "colab": {
     "base_uri": "https://localhost:8080/"
    },
    "id": "RSldI_sAgAd2",
    "outputId": "d0d1e869-bf54-4dff-fe29-da56061c2e10"
   },
   "outputs": [],
   "source": [
    "states = [\"AL\", \"AK\", \"AZ\",\"AR\", \"CA\",\"CO\", \"CT\",\"DE\",\"FL\", \"GA\",\"HI\",\"ID\", \"IL\",\"IN\",\"IA\",\"KS\",\"KY\",\"LA\", \"ME\",\"MD\",\"MA\", \"MI\", \"MN\", \"MS\",\"MO\",\"MT\",\"NE\",\"Ny\",\"NE\",\"NJ\",\"NM\", \"NY\", \"NC\", \"ND\", \"OH\",\"OK\",\"OR\",\"PA\",\"RI\",\"Sc\",\"SD\",\"IN\",\"TX\", \"UT\", \"VT\",\"VA\", \"WA\",\"WV\",\"WI\", \"WY\",'VI','PR', np.nan, 'unknown' ]\n",
    "\n",
    "for index, state in data['Merch state'].items():\n",
    "  if state not in states:\n",
    "    data.loc[index, 'Merch state'] = 'foreign'"
   ]
  },
  {
   "cell_type": "code",
   "execution_count": 82,
   "id": "3OpS3MK6gAk6",
   "metadata": {
    "colab": {
     "base_uri": "https://localhost:8080/"
    },
    "id": "3OpS3MK6gAk6",
    "outputId": "14255b01-26c1-4bdd-d3c2-a8a45a157395"
   },
   "outputs": [
    {
     "name": "stderr",
     "output_type": "stream",
     "text": [
      "/var/folders/ll/h_rnbgns62bcj0skpd2j0ktr0000gp/T/ipykernel_38628/1044665337.py:1: SettingWithCopyWarning: \n",
      "A value is trying to be set on a copy of a slice from a DataFrame\n",
      "\n",
      "See the caveats in the documentation: https://pandas.pydata.org/pandas-docs/stable/user_guide/indexing.html#returning-a-view-versus-a-copy\n",
      "  data['Merch state'].fillna('unknown', inplace=True)\n"
     ]
    }
   ],
   "source": [
    "data['Merch state'].fillna('unknown', inplace=True)"
   ]
  },
  {
   "cell_type": "code",
   "execution_count": 83,
   "id": "FGCtcaE8gAri",
   "metadata": {
    "colab": {
     "base_uri": "https://localhost:8080/"
    },
    "id": "FGCtcaE8gAri",
    "outputId": "5183629b-e7fe-4b7e-c75f-7b3adc899a1e"
   },
   "outputs": [
    {
     "data": {
      "text/plain": [
       "0"
      ]
     },
     "execution_count": 83,
     "metadata": {},
     "output_type": "execute_result"
    }
   ],
   "source": [
    "data['Merch state'].isnull().sum()"
   ]
  },
  {
   "cell_type": "code",
   "execution_count": 84,
   "id": "H499LimiyGQd",
   "metadata": {
    "colab": {
     "base_uri": "https://localhost:8080/"
    },
    "id": "H499LimiyGQd",
    "outputId": "540a3927-7d9b-4a1d-a62f-0212dd8571c5"
   },
   "outputs": [
    {
     "data": {
      "text/plain": [
       "array(['foreign', 'MA', 'MD', 'OH', 'GA', 'IL', 'TX', 'WA', 'WI', 'NJ',\n",
       "       'FL', 'NY', 'CA', 'MS', 'VA', 'MO', 'PA', 'NC', 'WV', 'CT', 'KS',\n",
       "       'OR', 'MI', 'MN', 'KY', 'ME', 'CO', 'AK', 'IA', 'MT', 'OK',\n",
       "       'unknown', 'RI', 'NE', 'AZ', 'NM', 'UT', 'ID', 'SD', 'AL', 'DE',\n",
       "       'LA', 'IN', 'VT', 'ND', 'AR', 'HI', 'WY'], dtype=object)"
      ]
     },
     "execution_count": 84,
     "metadata": {},
     "output_type": "execute_result"
    }
   ],
   "source": [
    "data['Merch state'].unique()"
   ]
  },
  {
   "cell_type": "code",
   "execution_count": 85,
   "id": "yohZlE0lgAxX",
   "metadata": {
    "colab": {
     "base_uri": "https://localhost:8080/"
    },
    "id": "yohZlE0lgAxX",
    "outputId": "2e5b9ee8-c1b6-407b-f957-1f7e250102ac"
   },
   "outputs": [
    {
     "name": "stderr",
     "output_type": "stream",
     "text": [
      "/var/folders/ll/h_rnbgns62bcj0skpd2j0ktr0000gp/T/ipykernel_38628/1170896044.py:2: SettingWithCopyWarning: \n",
      "A value is trying to be set on a copy of a slice from a DataFrame.\n",
      "Try using .loc[row_indexer,col_indexer] = value instead\n",
      "\n",
      "See the caveats in the documentation: https://pandas.pydata.org/pandas-docs/stable/user_guide/indexing.html#returning-a-view-versus-a-copy\n",
      "  data['Merchnum']=data['Merchnum'].replace({0:np.nan})\n"
     ]
    }
   ],
   "source": [
    "# Imputing Merchnum \n",
    "\n",
    "data['Merchnum']=data['Merchnum'].replace({0:np.nan})"
   ]
  },
  {
   "cell_type": "code",
   "execution_count": 86,
   "id": "gKMj7NlefzGr",
   "metadata": {
    "colab": {
     "base_uri": "https://localhost:8080/"
    },
    "id": "gKMj7NlefzGr",
    "outputId": "b6b3fccb-af37-4003-a3bd-6eff33206f60"
   },
   "outputs": [
    {
     "data": {
      "text/plain": [
       "3198"
      ]
     },
     "execution_count": 86,
     "metadata": {},
     "output_type": "execute_result"
    }
   ],
   "source": [
    "data['Merchnum'].isnull().sum()"
   ]
  },
  {
   "cell_type": "code",
   "execution_count": 87,
   "id": "iKjWI4Goj4Sm",
   "metadata": {
    "id": "iKjWI4Goj4Sm"
   },
   "outputs": [],
   "source": [
    "merchdes_merchnum = {}\n",
    "for index, merchdes in data[data['Merch description'].notnull()] [data['Merchnum'].notnull()]['Merch description'].items():\n",
    "  if pd.isnull(merchdes) == True:\n",
    "    continue\n",
    "  elif merchdes not in merchdes_merchnum:\n",
    "    merchdes_merchnum[merchdes] = data.loc[index, 'Merchnum']"
   ]
  },
  {
   "cell_type": "code",
   "execution_count": 88,
   "id": "poYu2wxQj4sH",
   "metadata": {
    "colab": {
     "base_uri": "https://localhost:8080/"
    },
    "id": "poYu2wxQj4sH",
    "outputId": "f0a07b7b-ef66-4142-c313-5382c8f4b155"
   },
   "outputs": [
    {
     "name": "stderr",
     "output_type": "stream",
     "text": [
      "/var/folders/ll/h_rnbgns62bcj0skpd2j0ktr0000gp/T/ipykernel_38628/2620706319.py:1: SettingWithCopyWarning: \n",
      "A value is trying to be set on a copy of a slice from a DataFrame.\n",
      "Try using .loc[row_indexer,col_indexer] = value instead\n",
      "\n",
      "See the caveats in the documentation: https://pandas.pydata.org/pandas-docs/stable/user_guide/indexing.html#returning-a-view-versus-a-copy\n",
      "  data['Merchnum'] = data['Merchnum'].fillna(data['Merch description'].map(merchdes_merchnum))\n"
     ]
    }
   ],
   "source": [
    "data['Merchnum'] = data['Merchnum'].fillna(data['Merch description'].map(merchdes_merchnum))"
   ]
  },
  {
   "cell_type": "code",
   "execution_count": 89,
   "id": "8YUs90Vzj4we",
   "metadata": {
    "colab": {
     "base_uri": "https://localhost:8080/"
    },
    "id": "8YUs90Vzj4we",
    "outputId": "24d06e11-5e87-41f4-b793-86336dd681ac"
   },
   "outputs": [
    {
     "data": {
      "text/plain": [
       "2038"
      ]
     },
     "execution_count": 89,
     "metadata": {},
     "output_type": "execute_result"
    }
   ],
   "source": [
    "data['Merchnum'].isnull().sum()"
   ]
  },
  {
   "cell_type": "code",
   "execution_count": 90,
   "id": "WxNSzYg1j400",
   "metadata": {
    "colab": {
     "base_uri": "https://localhost:8080/"
    },
    "id": "WxNSzYg1j400",
    "outputId": "4ec6720b-57da-45e2-ff8f-df1cc99ac28b"
   },
   "outputs": [
    {
     "name": "stderr",
     "output_type": "stream",
     "text": [
      "/var/folders/ll/h_rnbgns62bcj0skpd2j0ktr0000gp/T/ipykernel_38628/1239878148.py:1: SettingWithCopyWarning: \n",
      "A value is trying to be set on a copy of a slice from a DataFrame.\n",
      "Try using .loc[row_indexer,col_indexer] = value instead\n",
      "\n",
      "See the caveats in the documentation: https://pandas.pydata.org/pandas-docs/stable/user_guide/indexing.html#returning-a-view-versus-a-copy\n",
      "  data['Merchnum'] = data['Merchnum'].mask(data['Merch description'] == 'RETAIL CREDIT ADJUSTMENT', 'unknown')\n",
      "/var/folders/ll/h_rnbgns62bcj0skpd2j0ktr0000gp/T/ipykernel_38628/1239878148.py:2: SettingWithCopyWarning: \n",
      "A value is trying to be set on a copy of a slice from a DataFrame.\n",
      "Try using .loc[row_indexer,col_indexer] = value instead\n",
      "\n",
      "See the caveats in the documentation: https://pandas.pydata.org/pandas-docs/stable/user_guide/indexing.html#returning-a-view-versus-a-copy\n",
      "  data['Merchnum'] = data['Merchnum'].mask(data['Merch description'] == 'RETAIL DEBIT ADJUSTMENT',\n"
     ]
    }
   ],
   "source": [
    "data['Merchnum'] = data['Merchnum'].mask(data['Merch description'] == 'RETAIL CREDIT ADJUSTMENT', 'unknown') \n",
    "data['Merchnum'] = data['Merchnum'].mask(data['Merch description'] == 'RETAIL DEBIT ADJUSTMENT',\n",
    "'unknown')"
   ]
  },
  {
   "cell_type": "code",
   "execution_count": 91,
   "id": "P7QUxyYQmstu",
   "metadata": {
    "colab": {
     "base_uri": "https://localhost:8080/"
    },
    "id": "P7QUxyYQmstu",
    "outputId": "656a771f-2cf9-4878-f48d-4a82c461cc8f"
   },
   "outputs": [
    {
     "data": {
      "text/plain": [
       "1347"
      ]
     },
     "execution_count": 91,
     "metadata": {},
     "output_type": "execute_result"
    }
   ],
   "source": [
    "data['Merchnum'].isnull().sum()"
   ]
  },
  {
   "cell_type": "code",
   "execution_count": 92,
   "id": "mOo3fIIHj44l",
   "metadata": {
    "colab": {
     "base_uri": "https://localhost:8080/"
    },
    "id": "mOo3fIIHj44l",
    "outputId": "4ca3a2a3-aed4-4a5a-9bc5-a6c58a2b4bfa"
   },
   "outputs": [
    {
     "data": {
      "text/plain": [
       "481"
      ]
     },
     "execution_count": 92,
     "metadata": {},
     "output_type": "execute_result"
    }
   ],
   "source": [
    "data.loc[data.Merchnum.isna(), 'Merch description'].nunique()"
   ]
  },
  {
   "cell_type": "code",
   "execution_count": 93,
   "id": "ZRDpxtKenCks",
   "metadata": {
    "id": "ZRDpxtKenCks"
   },
   "outputs": [],
   "source": [
    "merchnum_create = {}\n",
    "max_merchnum = pd.to_numeric(data.Merchnum, errors='coerce').max() \n",
    "for merch_desc in data.loc[data.Merchnum.isna(), 'Merch description'].unique():\n",
    "  merchnum_create[merch_desc] = str(int(max_merchnum + 1))\n",
    "  max_merchnum += 1"
   ]
  },
  {
   "cell_type": "code",
   "execution_count": 94,
   "id": "9zUkZMmen6MC",
   "metadata": {
    "colab": {
     "base_uri": "https://localhost:8080/"
    },
    "id": "9zUkZMmen6MC",
    "outputId": "c3f697ad-d315-46c6-bd85-5ec39816548f"
   },
   "outputs": [
    {
     "name": "stderr",
     "output_type": "stream",
     "text": [
      "/var/folders/ll/h_rnbgns62bcj0skpd2j0ktr0000gp/T/ipykernel_38628/1465096031.py:1: SettingWithCopyWarning: \n",
      "A value is trying to be set on a copy of a slice from a DataFrame.\n",
      "Try using .loc[row_indexer,col_indexer] = value instead\n",
      "\n",
      "See the caveats in the documentation: https://pandas.pydata.org/pandas-docs/stable/user_guide/indexing.html#returning-a-view-versus-a-copy\n",
      "  data['Merchnum'] = data['Merchnum'].fillna(data['Merch description'].map(merchnum_create) )\n"
     ]
    }
   ],
   "source": [
    "data['Merchnum'] = data['Merchnum'].fillna(data['Merch description'].map(merchnum_create) )"
   ]
  },
  {
   "cell_type": "code",
   "execution_count": 95,
   "id": "OxtwbQgqn6RC",
   "metadata": {
    "colab": {
     "base_uri": "https://localhost:8080/"
    },
    "id": "OxtwbQgqn6RC",
    "outputId": "25e4bef2-bd19-4c31-8438-bba6313b625b"
   },
   "outputs": [
    {
     "name": "stdout",
     "output_type": "stream",
     "text": [
      "<class 'pandas.core.frame.DataFrame'>\n",
      "Int64Index: 96397 entries, 0 to 96752\n",
      "Data columns (total 10 columns):\n",
      " #   Column             Non-Null Count  Dtype         \n",
      "---  ------             --------------  -----         \n",
      " 0   Recnum             96397 non-null  int64         \n",
      " 1   Cardnum            96397 non-null  int64         \n",
      " 2   Date               96397 non-null  datetime64[ns]\n",
      " 3   Merchnum           96397 non-null  object        \n",
      " 4   Merch description  96397 non-null  object        \n",
      " 5   Merch state        96397 non-null  object        \n",
      " 6   Merch zip          92097 non-null  float64       \n",
      " 7   Transtype          96397 non-null  object        \n",
      " 8   Amount             96397 non-null  float64       \n",
      " 9   Fraud              96397 non-null  int64         \n",
      "dtypes: datetime64[ns](1), float64(2), int64(3), object(4)\n",
      "memory usage: 10.1+ MB\n"
     ]
    }
   ],
   "source": [
    "# for i in data.columns:\n",
    "#   print(i, data[i].isnul1().sum())\n",
    "data.info()"
   ]
  },
  {
   "cell_type": "code",
   "execution_count": 96,
   "id": "THTeRlLXn6Wg",
   "metadata": {
    "colab": {
     "base_uri": "https://localhost:8080/"
    },
    "id": "THTeRlLXn6Wg",
    "outputId": "4f3c6b62-3e7e-4e46-d899-a9746aa6b770"
   },
   "outputs": [
    {
     "data": {
      "text/plain": [
       "0"
      ]
     },
     "execution_count": 96,
     "metadata": {},
     "output_type": "execute_result"
    }
   ],
   "source": [
    "data['Merchnum'].isnull().sum()"
   ]
  },
  {
   "cell_type": "code",
   "execution_count": 97,
   "id": "jQjZJ9yBn6aw",
   "metadata": {
    "colab": {
     "base_uri": "https://localhost:8080/"
    },
    "id": "jQjZJ9yBn6aw",
    "outputId": "96a86089-8589-4270-a7be-7173d9442375"
   },
   "outputs": [
    {
     "data": {
      "text/plain": [
       "4300"
      ]
     },
     "execution_count": 97,
     "metadata": {},
     "output_type": "execute_result"
    }
   ],
   "source": [
    "# Imputing zip\n",
    "\n",
    "data['Merch zip'].isnull().sum()"
   ]
  },
  {
   "cell_type": "code",
   "execution_count": 98,
   "id": "KLpovtNgn6e1",
   "metadata": {
    "id": "KLpovtNgn6e1"
   },
   "outputs": [],
   "source": [
    "merchnum_zip = {}\n",
    "for index, merchnum in data[data['Merchnum'].notnull()]['Merchnum'].items(): \n",
    "  if merchnum not in merchnum_zip :\n",
    "    merchnum_zip[merchnum] = data.loc[index, 'Merch zip']"
   ]
  },
  {
   "cell_type": "code",
   "execution_count": 99,
   "id": "MZN4t4vXotmB",
   "metadata": {
    "id": "MZN4t4vXotmB"
   },
   "outputs": [],
   "source": [
    "merchdes_zip = {}\n",
    "for index, merchdes in data[data['Merch description'].notnull()]['Merch description'].items(): \n",
    "  if merchdes not in merchdes_zip:\n",
    "    merchdes_zip[merchdes]=data.loc[index, 'Merch zip']"
   ]
  },
  {
   "cell_type": "code",
   "execution_count": 100,
   "id": "8OI6Gs_OouBN",
   "metadata": {
    "colab": {
     "base_uri": "https://localhost:8080/"
    },
    "id": "8OI6Gs_OouBN",
    "outputId": "c5018759-6fdb-4cca-ec18-bc085330ce5d"
   },
   "outputs": [
    {
     "name": "stderr",
     "output_type": "stream",
     "text": [
      "/var/folders/ll/h_rnbgns62bcj0skpd2j0ktr0000gp/T/ipykernel_38628/2895164077.py:1: SettingWithCopyWarning: \n",
      "A value is trying to be set on a copy of a slice from a DataFrame.\n",
      "Try using .loc[row_indexer,col_indexer] = value instead\n",
      "\n",
      "See the caveats in the documentation: https://pandas.pydata.org/pandas-docs/stable/user_guide/indexing.html#returning-a-view-versus-a-copy\n",
      "  data['Merch zip'] = data['Merch zip'].fillna(data['Merchnum'].map(merchnum_zip))\n",
      "/var/folders/ll/h_rnbgns62bcj0skpd2j0ktr0000gp/T/ipykernel_38628/2895164077.py:2: SettingWithCopyWarning: \n",
      "A value is trying to be set on a copy of a slice from a DataFrame.\n",
      "Try using .loc[row_indexer,col_indexer] = value instead\n",
      "\n",
      "See the caveats in the documentation: https://pandas.pydata.org/pandas-docs/stable/user_guide/indexing.html#returning-a-view-versus-a-copy\n",
      "  data['Merch zip'] = data['Merch zip'].fillna(data['Merch description'].map(merchdes_zip))\n"
     ]
    }
   ],
   "source": [
    "data['Merch zip'] = data['Merch zip'].fillna(data['Merchnum'].map(merchnum_zip)) \n",
    "data['Merch zip'] = data['Merch zip'].fillna(data['Merch description'].map(merchdes_zip))"
   ]
  },
  {
   "cell_type": "code",
   "execution_count": 101,
   "id": "2aMTgOD_ouFU",
   "metadata": {
    "colab": {
     "base_uri": "https://localhost:8080/"
    },
    "id": "2aMTgOD_ouFU",
    "outputId": "91fe2a36-126a-4717-d9a4-6ed7d03177c0"
   },
   "outputs": [
    {
     "data": {
      "text/plain": [
       "2658"
      ]
     },
     "execution_count": 101,
     "metadata": {},
     "output_type": "execute_result"
    }
   ],
   "source": [
    "data['Merch zip'].isnull().sum()"
   ]
  },
  {
   "cell_type": "code",
   "execution_count": 102,
   "id": "3FRaLO2eouI8",
   "metadata": {
    "colab": {
     "base_uri": "https://localhost:8080/"
    },
    "id": "3FRaLO2eouI8",
    "outputId": "8935c0bd-271f-4812-a3c0-689a6bce9e2a"
   },
   "outputs": [
    {
     "name": "stderr",
     "output_type": "stream",
     "text": [
      "/var/folders/ll/h_rnbgns62bcj0skpd2j0ktr0000gp/T/ipykernel_38628/914902354.py:1: SettingWithCopyWarning: \n",
      "A value is trying to be set on a copy of a slice from a DataFrame.\n",
      "Try using .loc[row_indexer,col_indexer] = value instead\n",
      "\n",
      "See the caveats in the documentation: https://pandas.pydata.org/pandas-docs/stable/user_guide/indexing.html#returning-a-view-versus-a-copy\n",
      "  data['Merch zip'] = data['Merch zip'].mask(data['Merch zip'] == 'RETAIL CREDIT ADJUSTMENT', 'unknown')\n",
      "/var/folders/ll/h_rnbgns62bcj0skpd2j0ktr0000gp/T/ipykernel_38628/914902354.py:2: SettingWithCopyWarning: \n",
      "A value is trying to be set on a copy of a slice from a DataFrame.\n",
      "Try using .loc[row_indexer,col_indexer] = value instead\n",
      "\n",
      "See the caveats in the documentation: https://pandas.pydata.org/pandas-docs/stable/user_guide/indexing.html#returning-a-view-versus-a-copy\n",
      "  data['Merch zip'] = data['Merch zip'].mask(data['Merch zip'] == 'RETAIL DEBIT ADJUSTMENT',\n"
     ]
    }
   ],
   "source": [
    "data['Merch zip'] = data['Merch zip'].mask(data['Merch zip'] == 'RETAIL CREDIT ADJUSTMENT', 'unknown') \n",
    "data['Merch zip'] = data['Merch zip'].mask(data['Merch zip'] == 'RETAIL DEBIT ADJUSTMENT',\n",
    "'unknown')"
   ]
  },
  {
   "cell_type": "code",
   "execution_count": 103,
   "id": "U2M1DaZKqczS",
   "metadata": {
    "colab": {
     "base_uri": "https://localhost:8080/"
    },
    "id": "U2M1DaZKqczS",
    "outputId": "b35358d5-315d-4357-a902-ed7ff6e4d6ed"
   },
   "outputs": [
    {
     "name": "stderr",
     "output_type": "stream",
     "text": [
      "/var/folders/ll/h_rnbgns62bcj0skpd2j0ktr0000gp/T/ipykernel_38628/1956064474.py:1: SettingWithCopyWarning: \n",
      "A value is trying to be set on a copy of a slice from a DataFrame\n",
      "\n",
      "See the caveats in the documentation: https://pandas.pydata.org/pandas-docs/stable/user_guide/indexing.html#returning-a-view-versus-a-copy\n",
      "  data['Merch zip'].fillna('unknown',inplace=True)\n"
     ]
    },
    {
     "data": {
      "text/plain": [
       "<bound method NDFrame._add_numeric_operations.<locals>.sum of 0        False\n",
       "1        False\n",
       "2        False\n",
       "3        False\n",
       "4        False\n",
       "         ...  \n",
       "96748    False\n",
       "96749    False\n",
       "96750    False\n",
       "96751    False\n",
       "96752    False\n",
       "Name: Merch zip, Length: 96397, dtype: bool>"
      ]
     },
     "execution_count": 103,
     "metadata": {},
     "output_type": "execute_result"
    }
   ],
   "source": [
    "data['Merch zip'].fillna('unknown',inplace=True)\n",
    "data['Merch zip'].isnull().sum"
   ]
  },
  {
   "cell_type": "code",
   "execution_count": 104,
   "id": "MtQX_0q6ouMY",
   "metadata": {
    "colab": {
     "base_uri": "https://localhost:8080/"
    },
    "id": "MtQX_0q6ouMY",
    "outputId": "78186959-5f7c-44a2-b590-9e516e035c97"
   },
   "outputs": [
    {
     "data": {
      "text/plain": [
       "0"
      ]
     },
     "execution_count": 104,
     "metadata": {},
     "output_type": "execute_result"
    }
   ],
   "source": [
    "data['Merch zip'].isnull().sum()"
   ]
  },
  {
   "cell_type": "code",
   "execution_count": 105,
   "id": "U45Lnrn1ouPY",
   "metadata": {
    "colab": {
     "base_uri": "https://localhost:8080/"
    },
    "id": "U45Lnrn1ouPY",
    "outputId": "903cee4f-6e15-4f48-d4b4-9b7bac07f84a"
   },
   "outputs": [
    {
     "name": "stdout",
     "output_type": "stream",
     "text": [
      "<class 'pandas.core.frame.DataFrame'>\n",
      "Int64Index: 96397 entries, 0 to 96752\n",
      "Data columns (total 10 columns):\n",
      " #   Column             Non-Null Count  Dtype         \n",
      "---  ------             --------------  -----         \n",
      " 0   Recnum             96397 non-null  int64         \n",
      " 1   Cardnum            96397 non-null  int64         \n",
      " 2   Date               96397 non-null  datetime64[ns]\n",
      " 3   Merchnum           96397 non-null  object        \n",
      " 4   Merch description  96397 non-null  object        \n",
      " 5   Merch state        96397 non-null  object        \n",
      " 6   Merch zip          96397 non-null  object        \n",
      " 7   Transtype          96397 non-null  object        \n",
      " 8   Amount             96397 non-null  float64       \n",
      " 9   Fraud              96397 non-null  int64         \n",
      "dtypes: datetime64[ns](1), float64(1), int64(3), object(5)\n",
      "memory usage: 10.1+ MB\n"
     ]
    }
   ],
   "source": [
    "data.info()"
   ]
  },
  {
   "cell_type": "code",
   "execution_count": 106,
   "id": "_wXrlelwouS3",
   "metadata": {
    "colab": {
     "base_uri": "https://localhost:8080/"
    },
    "id": "_wXrlelwouS3",
    "outputId": "238f3fa7-74d7-4e19-a904-4843d85811b2"
   },
   "outputs": [
    {
     "data": {
      "text/plain": [
       "Recnum               0.0\n",
       "Cardnum              0.0\n",
       "Date                 0.0\n",
       "Merchnum             0.0\n",
       "Merch description    0.0\n",
       "Merch state          0.0\n",
       "Merch zip            0.0\n",
       "Transtype            0.0\n",
       "Amount               0.0\n",
       "Fraud                0.0\n",
       "dtype: float64"
      ]
     },
     "execution_count": 106,
     "metadata": {},
     "output_type": "execute_result"
    }
   ],
   "source": [
    "data.isnull().sum()/len(data)*100"
   ]
  },
  {
   "cell_type": "code",
   "execution_count": 107,
   "id": "676bb2af",
   "metadata": {
    "colab": {
     "base_uri": "https://localhost:8080/",
     "height": 206
    },
    "id": "676bb2af",
    "outputId": "7305e952-d7df-42f3-99d2-67b42dad23f4"
   },
   "outputs": [
    {
     "data": {
      "text/html": [
       "<div>\n",
       "<style scoped>\n",
       "    .dataframe tbody tr th:only-of-type {\n",
       "        vertical-align: middle;\n",
       "    }\n",
       "\n",
       "    .dataframe tbody tr th {\n",
       "        vertical-align: top;\n",
       "    }\n",
       "\n",
       "    .dataframe thead th {\n",
       "        text-align: right;\n",
       "    }\n",
       "</style>\n",
       "<table border=\"1\" class=\"dataframe\">\n",
       "  <thead>\n",
       "    <tr style=\"text-align: right;\">\n",
       "      <th></th>\n",
       "      <th>Recnum</th>\n",
       "      <th>Cardnum</th>\n",
       "      <th>Date</th>\n",
       "      <th>Merchnum</th>\n",
       "      <th>Merch description</th>\n",
       "      <th>Merch state</th>\n",
       "      <th>Merch zip</th>\n",
       "      <th>Transtype</th>\n",
       "      <th>Amount</th>\n",
       "      <th>Fraud</th>\n",
       "    </tr>\n",
       "  </thead>\n",
       "  <tbody>\n",
       "    <tr>\n",
       "      <th>0</th>\n",
       "      <td>1</td>\n",
       "      <td>5142190439</td>\n",
       "      <td>2010-01-01</td>\n",
       "      <td>5509006296254</td>\n",
       "      <td>FEDEX SHP 12/23/09 AB#</td>\n",
       "      <td>foreign</td>\n",
       "      <td>38118.0</td>\n",
       "      <td>P</td>\n",
       "      <td>3.62</td>\n",
       "      <td>0</td>\n",
       "    </tr>\n",
       "    <tr>\n",
       "      <th>1</th>\n",
       "      <td>2</td>\n",
       "      <td>5142183973</td>\n",
       "      <td>2010-01-01</td>\n",
       "      <td>61003026333</td>\n",
       "      <td>SERVICE MERCHANDISE #81</td>\n",
       "      <td>MA</td>\n",
       "      <td>1803.0</td>\n",
       "      <td>P</td>\n",
       "      <td>31.42</td>\n",
       "      <td>0</td>\n",
       "    </tr>\n",
       "    <tr>\n",
       "      <th>2</th>\n",
       "      <td>3</td>\n",
       "      <td>5142131721</td>\n",
       "      <td>2010-01-01</td>\n",
       "      <td>4503082993600</td>\n",
       "      <td>OFFICE DEPOT #191</td>\n",
       "      <td>MD</td>\n",
       "      <td>20706.0</td>\n",
       "      <td>P</td>\n",
       "      <td>178.49</td>\n",
       "      <td>0</td>\n",
       "    </tr>\n",
       "    <tr>\n",
       "      <th>3</th>\n",
       "      <td>4</td>\n",
       "      <td>5142148452</td>\n",
       "      <td>2010-01-01</td>\n",
       "      <td>5509006296254</td>\n",
       "      <td>FEDEX SHP 12/28/09 AB#</td>\n",
       "      <td>foreign</td>\n",
       "      <td>38118.0</td>\n",
       "      <td>P</td>\n",
       "      <td>3.62</td>\n",
       "      <td>0</td>\n",
       "    </tr>\n",
       "    <tr>\n",
       "      <th>4</th>\n",
       "      <td>5</td>\n",
       "      <td>5142190439</td>\n",
       "      <td>2010-01-01</td>\n",
       "      <td>5509006296254</td>\n",
       "      <td>FEDEX SHP 12/23/09 AB#</td>\n",
       "      <td>foreign</td>\n",
       "      <td>38118.0</td>\n",
       "      <td>P</td>\n",
       "      <td>3.62</td>\n",
       "      <td>0</td>\n",
       "    </tr>\n",
       "  </tbody>\n",
       "</table>\n",
       "</div>"
      ],
      "text/plain": [
       "   Recnum     Cardnum       Date       Merchnum        Merch description  \\\n",
       "0       1  5142190439 2010-01-01  5509006296254   FEDEX SHP 12/23/09 AB#   \n",
       "1       2  5142183973 2010-01-01    61003026333  SERVICE MERCHANDISE #81   \n",
       "2       3  5142131721 2010-01-01  4503082993600        OFFICE DEPOT #191   \n",
       "3       4  5142148452 2010-01-01  5509006296254   FEDEX SHP 12/28/09 AB#   \n",
       "4       5  5142190439 2010-01-01  5509006296254   FEDEX SHP 12/23/09 AB#   \n",
       "\n",
       "  Merch state Merch zip Transtype  Amount  Fraud  \n",
       "0     foreign   38118.0         P    3.62      0  \n",
       "1          MA    1803.0         P   31.42      0  \n",
       "2          MD   20706.0         P  178.49      0  \n",
       "3     foreign   38118.0         P    3.62      0  \n",
       "4     foreign   38118.0         P    3.62      0  "
      ]
     },
     "execution_count": 107,
     "metadata": {},
     "output_type": "execute_result"
    }
   ],
   "source": [
    "data.head()"
   ]
  },
  {
   "cell_type": "code",
   "execution_count": 108,
   "id": "928e3d70",
   "metadata": {
    "colab": {
     "base_uri": "https://localhost:8080/"
    },
    "id": "928e3d70",
    "outputId": "98390386-710d-42de-f666-e0bd91f4f2ee"
   },
   "outputs": [
    {
     "name": "stderr",
     "output_type": "stream",
     "text": [
      "/var/folders/ll/h_rnbgns62bcj0skpd2j0ktr0000gp/T/ipykernel_38628/548837697.py:2: SettingWithCopyWarning: \n",
      "A value is trying to be set on a copy of a slice from a DataFrame.\n",
      "Try using .loc[row_indexer,col_indexer] = value instead\n",
      "\n",
      "See the caveats in the documentation: https://pandas.pydata.org/pandas-docs/stable/user_guide/indexing.html#returning-a-view-versus-a-copy\n",
      "  data['dow']=data.Date.apply(lambda x: calendar.day_name[x.weekday()])\n"
     ]
    }
   ],
   "source": [
    "#Day of Week Target Encoding\n",
    "data['dow']=data.Date.apply(lambda x: calendar.day_name[x.weekday()])"
   ]
  },
  {
   "cell_type": "code",
   "execution_count": 109,
   "id": "c14ed237",
   "metadata": {
    "id": "c14ed237"
   },
   "outputs": [],
   "source": [
    "# Separate the OOT\n",
    "train_test=data[data.Date<'2010-11-01']"
   ]
  },
  {
   "cell_type": "code",
   "execution_count": 110,
   "id": "ddUGSbiaeR1A",
   "metadata": {
    "colab": {
     "base_uri": "https://localhost:8080/"
    },
    "id": "ddUGSbiaeR1A",
    "outputId": "77fb3fe7-4ac2-4b5f-eb56-a678761cc3e9"
   },
   "outputs": [
    {
     "name": "stderr",
     "output_type": "stream",
     "text": [
      "/var/folders/ll/h_rnbgns62bcj0skpd2j0ktr0000gp/T/ipykernel_38628/1991196477.py:9: SettingWithCopyWarning: \n",
      "A value is trying to be set on a copy of a slice from a DataFrame.\n",
      "Try using .loc[row_indexer,col_indexer] = value instead\n",
      "\n",
      "See the caveats in the documentation: https://pandas.pydata.org/pandas-docs/stable/user_guide/indexing.html#returning-a-view-versus-a-copy\n",
      "  data['Dow_Risk'] = data.dow.map(y_dow_smooth)\n"
     ]
    }
   ],
   "source": [
    "c = 4; nmid = 20; y_avg = train_test['Fraud'].mean()\n",
    "\n",
    "y_dow =  train_test.groupby(\"dow\")['Fraud'].mean()\n",
    "\n",
    "num = train_test.groupby('dow').size()\n",
    "\n",
    "y_dow_smooth = y_avg + (y_dow-y_avg)/(1+ np.exp(-(num - nmid)/c))\n",
    "\n",
    "data['Dow_Risk'] = data.dow.map(y_dow_smooth)"
   ]
  },
  {
   "cell_type": "code",
   "execution_count": 111,
   "id": "TzCSiT2SejMy",
   "metadata": {
    "id": "TzCSiT2SejMy"
   },
   "outputs": [],
   "source": [
    "y_dow=y_dow.reset_index()\n",
    "cats=['Monday','Tuesday','Wednesday','Thursday','Friday','Saturday','Sunday']\n",
    "y_dow['dow']=pd.Categorical(y_dow['dow'],categories=cats,ordered=True)\n",
    "y_dow=y_dow.sort_values('dow')\n",
    "y_dow=y_dow.set_index('dow')"
   ]
  },
  {
   "cell_type": "code",
   "execution_count": 112,
   "id": "EK5aJcLYejRQ",
   "metadata": {
    "colab": {
     "base_uri": "https://localhost:8080/",
     "height": 648
    },
    "id": "EK5aJcLYejRQ",
    "outputId": "9dd36723-600d-4772-8087-ee1c31081bf6"
   },
   "outputs": [
    {
     "data": {
      "image/png": "[encoded data removed]",
      "text/plain": [
       "<Figure size 2000x1000 with 1 Axes>"
      ]
     },
     "metadata": {},
     "output_type": "display_data"
    }
   ],
   "source": [
    "plt.style.use('ggplot')\n",
    "\n",
    "fig, ax = plt.subplots(figsize =(20,10))\n",
    "\n",
    "plt.bar(data = y_dow, x = y_dow.index, height = 'Fraud', color = 'darkblue' )\n",
    "\n",
    "# ax.set ylim(bottom= 0.013)\n",
    "\n",
    "ax.axhline(y = y_avg, ls = '--', lw = 2, label=\"Average Fraud Population\")\n",
    "\n",
    "for i, v in enumerate(y_dow.index): \n",
    "    ax.text(v, y_dow.loc[v, 'Fraud']+ 0.0001, round(y_dow.loc[v, 'Fraud'],5), horizontalalignment = \"center\", fontsize=15)\n",
    "\n",
    "plt.legend(['Average Fraud Population'], fontsize=15)\n",
    "\n",
    "plt.xlabel(\"Day of Week\", fontsize=20)\n",
    "\n",
    "plt.ylabel(\"Percentage\", fontsize=20) \n",
    "plt.xticks(fontsize=15)\n",
    "\n",
    "plt.yticks(fontsize=15) \n",
    "plt.title(\"Fraud Proportion of Each Weekday\", fontsize=30)\n",
    "plt.show()"
   ]
  },
  {
   "cell_type": "code",
   "execution_count": null,
   "id": "r13-m3HRejWc",
   "metadata": {
    "id": "r13-m3HRejWc"
   },
   "outputs": [],
   "source": []
  },
  {
   "cell_type": "code",
   "execution_count": 113,
   "id": "_5HiXavkSNWZ",
   "metadata": {
    "colab": {
     "base_uri": "https://localhost:8080/"
    },
    "id": "_5HiXavkSNWZ",
    "outputId": "40aebbad-2fff-4070-e6d9-ee8a98589b1b"
   },
   "outputs": [
    {
     "name": "stderr",
     "output_type": "stream",
     "text": [
      "/var/folders/ll/h_rnbgns62bcj0skpd2j0ktr0000gp/T/ipykernel_38628/770375944.py:1: SettingWithCopyWarning: \n",
      "A value is trying to be set on a copy of a slice from a DataFrame.\n",
      "Try using .loc[row_indexer,col_indexer] = value instead\n",
      "\n",
      "See the caveats in the documentation: https://pandas.pydata.org/pandas-docs/stable/user_guide/indexing.html#returning-a-view-versus-a-copy\n",
      "  data['Month']=data['Date'].dt.month\n"
     ]
    }
   ],
   "source": [
    "data['Month']=data['Date'].dt.month"
   ]
  },
  {
   "cell_type": "code",
   "execution_count": 114,
   "id": "-lD0HE2Eejao",
   "metadata": {
    "colab": {
     "base_uri": "https://localhost:8080/"
    },
    "id": "-lD0HE2Eejao",
    "outputId": "0427a4a1-baae-48a3-c29b-9eb6d3dd9c44"
   },
   "outputs": [
    {
     "name": "stderr",
     "output_type": "stream",
     "text": [
      "/var/folders/ll/h_rnbgns62bcj0skpd2j0ktr0000gp/T/ipykernel_38628/2136828861.py:2: SettingWithCopyWarning: \n",
      "A value is trying to be set on a copy of a slice from a DataFrame.\n",
      "Try using .loc[row_indexer,col_indexer] = value instead\n",
      "\n",
      "See the caveats in the documentation: https://pandas.pydata.org/pandas-docs/stable/user_guide/indexing.html#returning-a-view-versus-a-copy\n",
      "  data['Cardnum']=data['Cardnum'].astype(str)\n",
      "/var/folders/ll/h_rnbgns62bcj0skpd2j0ktr0000gp/T/ipykernel_38628/2136828861.py:3: SettingWithCopyWarning: \n",
      "A value is trying to be set on a copy of a slice from a DataFrame.\n",
      "Try using .loc[row_indexer,col_indexer] = value instead\n",
      "\n",
      "See the caveats in the documentation: https://pandas.pydata.org/pandas-docs/stable/user_guide/indexing.html#returning-a-view-versus-a-copy\n",
      "  data['Merch zip']=data['Merch zip'].astype(str)\n",
      "/var/folders/ll/h_rnbgns62bcj0skpd2j0ktr0000gp/T/ipykernel_38628/2136828861.py:4: SettingWithCopyWarning: \n",
      "A value is trying to be set on a copy of a slice from a DataFrame.\n",
      "Try using .loc[row_indexer,col_indexer] = value instead\n",
      "\n",
      "See the caveats in the documentation: https://pandas.pydata.org/pandas-docs/stable/user_guide/indexing.html#returning-a-view-versus-a-copy\n",
      "  data['Month']=data['Month'].astype(str)\n"
     ]
    }
   ],
   "source": [
    "### Convert card number to string to enable linkage\n",
    "data['Cardnum']=data['Cardnum'].astype(str)\n",
    "data['Merch zip']=data['Merch zip'].astype(str)\n",
    "data['Month']=data['Month'].astype(str)"
   ]
  },
  {
   "cell_type": "code",
   "execution_count": 115,
   "id": "526bdb8e",
   "metadata": {
    "colab": {
     "base_uri": "https://localhost:8080/"
    },
    "id": "526bdb8e",
    "outputId": "95c84b7d-acb5-4343-fff5-19352eac320f"
   },
   "outputs": [
    {
     "name": "stderr",
     "output_type": "stream",
     "text": [
      "/var/folders/ll/h_rnbgns62bcj0skpd2j0ktr0000gp/T/ipykernel_38628/3208698578.py:3: SettingWithCopyWarning: \n",
      "A value is trying to be set on a copy of a slice from a DataFrame.\n",
      "Try using .loc[row_indexer,col_indexer] = value instead\n",
      "\n",
      "See the caveats in the documentation: https://pandas.pydata.org/pandas-docs/stable/user_guide/indexing.html#returning-a-view-versus-a-copy\n",
      "  data['card_merchnum']=data.Cardnum+data.Merchnum\n",
      "/var/folders/ll/h_rnbgns62bcj0skpd2j0ktr0000gp/T/ipykernel_38628/3208698578.py:4: SettingWithCopyWarning: \n",
      "A value is trying to be set on a copy of a slice from a DataFrame.\n",
      "Try using .loc[row_indexer,col_indexer] = value instead\n",
      "\n",
      "See the caveats in the documentation: https://pandas.pydata.org/pandas-docs/stable/user_guide/indexing.html#returning-a-view-versus-a-copy\n",
      "  data['card_state']=data.Cardnum+data['Merch state']\n",
      "/var/folders/ll/h_rnbgns62bcj0skpd2j0ktr0000gp/T/ipykernel_38628/3208698578.py:5: SettingWithCopyWarning: \n",
      "A value is trying to be set on a copy of a slice from a DataFrame.\n",
      "Try using .loc[row_indexer,col_indexer] = value instead\n",
      "\n",
      "See the caveats in the documentation: https://pandas.pydata.org/pandas-docs/stable/user_guide/indexing.html#returning-a-view-versus-a-copy\n",
      "  data['card_month']=data.Cardnum+data.Month\n",
      "/var/folders/ll/h_rnbgns62bcj0skpd2j0ktr0000gp/T/ipykernel_38628/3208698578.py:6: SettingWithCopyWarning: \n",
      "A value is trying to be set on a copy of a slice from a DataFrame.\n",
      "Try using .loc[row_indexer,col_indexer] = value instead\n",
      "\n",
      "See the caveats in the documentation: https://pandas.pydata.org/pandas-docs/stable/user_guide/indexing.html#returning-a-view-versus-a-copy\n",
      "  data['merchnum_month']=data.Merchnum+data.Month\n",
      "/var/folders/ll/h_rnbgns62bcj0skpd2j0ktr0000gp/T/ipykernel_38628/3208698578.py:7: SettingWithCopyWarning: \n",
      "A value is trying to be set on a copy of a slice from a DataFrame.\n",
      "Try using .loc[row_indexer,col_indexer] = value instead\n",
      "\n",
      "See the caveats in the documentation: https://pandas.pydata.org/pandas-docs/stable/user_guide/indexing.html#returning-a-view-versus-a-copy\n",
      "  data['card_dow']=data.Cardnum+data['dow']\n",
      "/var/folders/ll/h_rnbgns62bcj0skpd2j0ktr0000gp/T/ipykernel_38628/3208698578.py:8: SettingWithCopyWarning: \n",
      "A value is trying to be set on a copy of a slice from a DataFrame.\n",
      "Try using .loc[row_indexer,col_indexer] = value instead\n",
      "\n",
      "See the caveats in the documentation: https://pandas.pydata.org/pandas-docs/stable/user_guide/indexing.html#returning-a-view-versus-a-copy\n",
      "  data['Merchnum_state']=data.Merchnum+data['Merch state']\n",
      "/var/folders/ll/h_rnbgns62bcj0skpd2j0ktr0000gp/T/ipykernel_38628/3208698578.py:9: SettingWithCopyWarning: \n",
      "A value is trying to be set on a copy of a slice from a DataFrame.\n",
      "Try using .loc[row_indexer,col_indexer] = value instead\n",
      "\n",
      "See the caveats in the documentation: https://pandas.pydata.org/pandas-docs/stable/user_guide/indexing.html#returning-a-view-versus-a-copy\n",
      "  data['Merchnum_dow']=data.Merchnum+data['dow']\n",
      "/var/folders/ll/h_rnbgns62bcj0skpd2j0ktr0000gp/T/ipykernel_38628/3208698578.py:10: SettingWithCopyWarning: \n",
      "A value is trying to be set on a copy of a slice from a DataFrame.\n",
      "Try using .loc[row_indexer,col_indexer] = value instead\n",
      "\n",
      "See the caveats in the documentation: https://pandas.pydata.org/pandas-docs/stable/user_guide/indexing.html#returning-a-view-versus-a-copy\n",
      "  data['Merchdesc_state']=data['Merch description']+data['Merch state']\n",
      "/var/folders/ll/h_rnbgns62bcj0skpd2j0ktr0000gp/T/ipykernel_38628/3208698578.py:11: SettingWithCopyWarning: \n",
      "A value is trying to be set on a copy of a slice from a DataFrame.\n",
      "Try using .loc[row_indexer,col_indexer] = value instead\n",
      "\n",
      "See the caveats in the documentation: https://pandas.pydata.org/pandas-docs/stable/user_guide/indexing.html#returning-a-view-versus-a-copy\n",
      "  data['Merchnum_desc']=data.Merchnum+data['Merch description']\n",
      "/var/folders/ll/h_rnbgns62bcj0skpd2j0ktr0000gp/T/ipykernel_38628/3208698578.py:12: SettingWithCopyWarning: \n",
      "A value is trying to be set on a copy of a slice from a DataFrame.\n",
      "Try using .loc[row_indexer,col_indexer] = value instead\n",
      "\n",
      "See the caveats in the documentation: https://pandas.pydata.org/pandas-docs/stable/user_guide/indexing.html#returning-a-view-versus-a-copy\n",
      "  data['Merchnum_desc_state']=data.Merchnum+data['Merch description']+data['Merch state']\n",
      "/var/folders/ll/h_rnbgns62bcj0skpd2j0ktr0000gp/T/ipykernel_38628/3208698578.py:13: SettingWithCopyWarning: \n",
      "A value is trying to be set on a copy of a slice from a DataFrame.\n",
      "Try using .loc[row_indexer,col_indexer] = value instead\n",
      "\n",
      "See the caveats in the documentation: https://pandas.pydata.org/pandas-docs/stable/user_guide/indexing.html#returning-a-view-versus-a-copy\n",
      "  data['card_merchnum_month']=data.Cardnum+data.Merchnum+data.Month\n",
      "/var/folders/ll/h_rnbgns62bcj0skpd2j0ktr0000gp/T/ipykernel_38628/3208698578.py:14: SettingWithCopyWarning: \n",
      "A value is trying to be set on a copy of a slice from a DataFrame.\n",
      "Try using .loc[row_indexer,col_indexer] = value instead\n",
      "\n",
      "See the caveats in the documentation: https://pandas.pydata.org/pandas-docs/stable/user_guide/indexing.html#returning-a-view-versus-a-copy\n",
      "  data['card_merchnum_state_month']=data.Cardnum+data.Merchnum+data['Merch state']+data.Month\n",
      "/var/folders/ll/h_rnbgns62bcj0skpd2j0ktr0000gp/T/ipykernel_38628/3208698578.py:15: SettingWithCopyWarning: \n",
      "A value is trying to be set on a copy of a slice from a DataFrame.\n",
      "Try using .loc[row_indexer,col_indexer] = value instead\n",
      "\n",
      "See the caveats in the documentation: https://pandas.pydata.org/pandas-docs/stable/user_guide/indexing.html#returning-a-view-versus-a-copy\n",
      "  data['card_merchnum_state']=data.Cardnum+data.Merchnum +data['Merch state']\n"
     ]
    }
   ],
   "source": [
    "# Make new entities for variables\n",
    "\n",
    "data['card_merchnum']=data.Cardnum+data.Merchnum\n",
    "data['card_state']=data.Cardnum+data['Merch state']\n",
    "data['card_month']=data.Cardnum+data.Month\n",
    "data['merchnum_month']=data.Merchnum+data.Month\n",
    "data['card_dow']=data.Cardnum+data['dow']\n",
    "data['Merchnum_state']=data.Merchnum+data['Merch state']\n",
    "data['Merchnum_dow']=data.Merchnum+data['dow']\n",
    "data['Merchdesc_state']=data['Merch description']+data['Merch state']\n",
    "data['Merchnum_desc']=data.Merchnum+data['Merch description']\n",
    "data['Merchnum_desc_state']=data.Merchnum+data['Merch description']+data['Merch state']\n",
    "data['card_merchnum_month']=data.Cardnum+data.Merchnum+data.Month\n",
    "data['card_merchnum_state_month']=data.Cardnum+data.Merchnum+data['Merch state']+data.Month\n",
    "data['card_merchnum_state']=data.Cardnum+data.Merchnum +data['Merch state']"
   ]
  },
  {
   "cell_type": "code",
   "execution_count": 116,
   "id": "dbb151fd",
   "metadata": {
    "colab": {
     "base_uri": "https://localhost:8080/"
    },
    "id": "dbb151fd",
    "outputId": "9ecf31a1-72dc-4bbd-df73-99c7eefbb149"
   },
   "outputs": [
    {
     "data": {
      "text/plain": [
       "Index(['Recnum', 'Cardnum', 'Date', 'Merchnum', 'Merch description',\n",
       "       'Merch state', 'Merch zip', 'Transtype', 'Amount', 'Fraud', 'dow',\n",
       "       'Dow_Risk', 'Month', 'card_merchnum', 'card_state', 'card_month',\n",
       "       'merchnum_month', 'card_dow', 'Merchnum_state', 'Merchnum_dow',\n",
       "       'Merchdesc_state', 'Merchnum_desc', 'Merchnum_desc_state',\n",
       "       'card_merchnum_month', 'card_merchnum_state_month',\n",
       "       'card_merchnum_state'],\n",
       "      dtype='object')"
      ]
     },
     "execution_count": 116,
     "metadata": {},
     "output_type": "execute_result"
    }
   ],
   "source": [
    "data.columns"
   ]
  },
  {
   "cell_type": "code",
   "execution_count": 117,
   "id": "wRpdnTUvrmnu",
   "metadata": {
    "colab": {
     "base_uri": "https://localhost:8080/",
     "height": 473
    },
    "id": "wRpdnTUvrmnu",
    "outputId": "850c9a1a-0f93-4fb9-bcac-73f4db28f9ab"
   },
   "outputs": [
    {
     "data": {
      "text/html": [
       "<div>\n",
       "<style scoped>\n",
       "    .dataframe tbody tr th:only-of-type {\n",
       "        vertical-align: middle;\n",
       "    }\n",
       "\n",
       "    .dataframe tbody tr th {\n",
       "        vertical-align: top;\n",
       "    }\n",
       "\n",
       "    .dataframe thead th {\n",
       "        text-align: right;\n",
       "    }\n",
       "</style>\n",
       "<table border=\"1\" class=\"dataframe\">\n",
       "  <thead>\n",
       "    <tr style=\"text-align: right;\">\n",
       "      <th></th>\n",
       "      <th>Recnum</th>\n",
       "      <th>Cardnum</th>\n",
       "      <th>Date</th>\n",
       "      <th>Merchnum</th>\n",
       "      <th>Merch description</th>\n",
       "      <th>Merch state</th>\n",
       "      <th>Merch zip</th>\n",
       "      <th>Transtype</th>\n",
       "      <th>Amount</th>\n",
       "      <th>Fraud</th>\n",
       "      <th>...</th>\n",
       "      <th>merchnum_month</th>\n",
       "      <th>card_dow</th>\n",
       "      <th>Merchnum_state</th>\n",
       "      <th>Merchnum_dow</th>\n",
       "      <th>Merchdesc_state</th>\n",
       "      <th>Merchnum_desc</th>\n",
       "      <th>Merchnum_desc_state</th>\n",
       "      <th>card_merchnum_month</th>\n",
       "      <th>card_merchnum_state_month</th>\n",
       "      <th>card_merchnum_state</th>\n",
       "    </tr>\n",
       "  </thead>\n",
       "  <tbody>\n",
       "    <tr>\n",
       "      <th>0</th>\n",
       "      <td>1</td>\n",
       "      <td>5142190439</td>\n",
       "      <td>2010-01-01</td>\n",
       "      <td>5509006296254</td>\n",
       "      <td>FEDEX SHP 12/23/09 AB#</td>\n",
       "      <td>foreign</td>\n",
       "      <td>38118.0</td>\n",
       "      <td>P</td>\n",
       "      <td>3.62</td>\n",
       "      <td>0</td>\n",
       "      <td>...</td>\n",
       "      <td>55090062962541</td>\n",
       "      <td>5142190439Friday</td>\n",
       "      <td>5509006296254foreign</td>\n",
       "      <td>5509006296254Friday</td>\n",
       "      <td>FEDEX SHP 12/23/09 AB#foreign</td>\n",
       "      <td>5509006296254FEDEX SHP 12/23/09 AB#</td>\n",
       "      <td>5509006296254FEDEX SHP 12/23/09 AB#foreign</td>\n",
       "      <td>514219043955090062962541</td>\n",
       "      <td>51421904395509006296254foreign1</td>\n",
       "      <td>51421904395509006296254foreign</td>\n",
       "    </tr>\n",
       "    <tr>\n",
       "      <th>1</th>\n",
       "      <td>2</td>\n",
       "      <td>5142183973</td>\n",
       "      <td>2010-01-01</td>\n",
       "      <td>61003026333</td>\n",
       "      <td>SERVICE MERCHANDISE #81</td>\n",
       "      <td>MA</td>\n",
       "      <td>1803.0</td>\n",
       "      <td>P</td>\n",
       "      <td>31.42</td>\n",
       "      <td>0</td>\n",
       "      <td>...</td>\n",
       "      <td>610030263331</td>\n",
       "      <td>5142183973Friday</td>\n",
       "      <td>61003026333MA</td>\n",
       "      <td>61003026333Friday</td>\n",
       "      <td>SERVICE MERCHANDISE #81MA</td>\n",
       "      <td>61003026333SERVICE MERCHANDISE #81</td>\n",
       "      <td>61003026333SERVICE MERCHANDISE #81MA</td>\n",
       "      <td>5142183973610030263331</td>\n",
       "      <td>514218397361003026333MA1</td>\n",
       "      <td>514218397361003026333MA</td>\n",
       "    </tr>\n",
       "    <tr>\n",
       "      <th>2</th>\n",
       "      <td>3</td>\n",
       "      <td>5142131721</td>\n",
       "      <td>2010-01-01</td>\n",
       "      <td>4503082993600</td>\n",
       "      <td>OFFICE DEPOT #191</td>\n",
       "      <td>MD</td>\n",
       "      <td>20706.0</td>\n",
       "      <td>P</td>\n",
       "      <td>178.49</td>\n",
       "      <td>0</td>\n",
       "      <td>...</td>\n",
       "      <td>45030829936001</td>\n",
       "      <td>5142131721Friday</td>\n",
       "      <td>4503082993600MD</td>\n",
       "      <td>4503082993600Friday</td>\n",
       "      <td>OFFICE DEPOT #191MD</td>\n",
       "      <td>4503082993600OFFICE DEPOT #191</td>\n",
       "      <td>4503082993600OFFICE DEPOT #191MD</td>\n",
       "      <td>514213172145030829936001</td>\n",
       "      <td>51421317214503082993600MD1</td>\n",
       "      <td>51421317214503082993600MD</td>\n",
       "    </tr>\n",
       "    <tr>\n",
       "      <th>3</th>\n",
       "      <td>4</td>\n",
       "      <td>5142148452</td>\n",
       "      <td>2010-01-01</td>\n",
       "      <td>5509006296254</td>\n",
       "      <td>FEDEX SHP 12/28/09 AB#</td>\n",
       "      <td>foreign</td>\n",
       "      <td>38118.0</td>\n",
       "      <td>P</td>\n",
       "      <td>3.62</td>\n",
       "      <td>0</td>\n",
       "      <td>...</td>\n",
       "      <td>55090062962541</td>\n",
       "      <td>5142148452Friday</td>\n",
       "      <td>5509006296254foreign</td>\n",
       "      <td>5509006296254Friday</td>\n",
       "      <td>FEDEX SHP 12/28/09 AB#foreign</td>\n",
       "      <td>5509006296254FEDEX SHP 12/28/09 AB#</td>\n",
       "      <td>5509006296254FEDEX SHP 12/28/09 AB#foreign</td>\n",
       "      <td>514214845255090062962541</td>\n",
       "      <td>51421484525509006296254foreign1</td>\n",
       "      <td>51421484525509006296254foreign</td>\n",
       "    </tr>\n",
       "    <tr>\n",
       "      <th>4</th>\n",
       "      <td>5</td>\n",
       "      <td>5142190439</td>\n",
       "      <td>2010-01-01</td>\n",
       "      <td>5509006296254</td>\n",
       "      <td>FEDEX SHP 12/23/09 AB#</td>\n",
       "      <td>foreign</td>\n",
       "      <td>38118.0</td>\n",
       "      <td>P</td>\n",
       "      <td>3.62</td>\n",
       "      <td>0</td>\n",
       "      <td>...</td>\n",
       "      <td>55090062962541</td>\n",
       "      <td>5142190439Friday</td>\n",
       "      <td>5509006296254foreign</td>\n",
       "      <td>5509006296254Friday</td>\n",
       "      <td>FEDEX SHP 12/23/09 AB#foreign</td>\n",
       "      <td>5509006296254FEDEX SHP 12/23/09 AB#</td>\n",
       "      <td>5509006296254FEDEX SHP 12/23/09 AB#foreign</td>\n",
       "      <td>514219043955090062962541</td>\n",
       "      <td>51421904395509006296254foreign1</td>\n",
       "      <td>51421904395509006296254foreign</td>\n",
       "    </tr>\n",
       "  </tbody>\n",
       "</table>\n",
       "<p>5 rows × 26 columns</p>\n",
       "</div>"
      ],
      "text/plain": [
       "   Recnum     Cardnum       Date       Merchnum        Merch description  \\\n",
       "0       1  5142190439 2010-01-01  5509006296254   FEDEX SHP 12/23/09 AB#   \n",
       "1       2  5142183973 2010-01-01    61003026333  SERVICE MERCHANDISE #81   \n",
       "2       3  5142131721 2010-01-01  4503082993600        OFFICE DEPOT #191   \n",
       "3       4  5142148452 2010-01-01  5509006296254   FEDEX SHP 12/28/09 AB#   \n",
       "4       5  5142190439 2010-01-01  5509006296254   FEDEX SHP 12/23/09 AB#   \n",
       "\n",
       "  Merch state Merch zip Transtype  Amount  Fraud  ...  merchnum_month  \\\n",
       "0     foreign   38118.0         P    3.62      0  ...  55090062962541   \n",
       "1          MA    1803.0         P   31.42      0  ...    610030263331   \n",
       "2          MD   20706.0         P  178.49      0  ...  45030829936001   \n",
       "3     foreign   38118.0         P    3.62      0  ...  55090062962541   \n",
       "4     foreign   38118.0         P    3.62      0  ...  55090062962541   \n",
       "\n",
       "           card_dow        Merchnum_state         Merchnum_dow  \\\n",
       "0  5142190439Friday  5509006296254foreign  5509006296254Friday   \n",
       "1  5142183973Friday         61003026333MA    61003026333Friday   \n",
       "2  5142131721Friday       4503082993600MD  4503082993600Friday   \n",
       "3  5142148452Friday  5509006296254foreign  5509006296254Friday   \n",
       "4  5142190439Friday  5509006296254foreign  5509006296254Friday   \n",
       "\n",
       "                 Merchdesc_state                        Merchnum_desc  \\\n",
       "0  FEDEX SHP 12/23/09 AB#foreign  5509006296254FEDEX SHP 12/23/09 AB#   \n",
       "1      SERVICE MERCHANDISE #81MA   61003026333SERVICE MERCHANDISE #81   \n",
       "2            OFFICE DEPOT #191MD       4503082993600OFFICE DEPOT #191   \n",
       "3  FEDEX SHP 12/28/09 AB#foreign  5509006296254FEDEX SHP 12/28/09 AB#   \n",
       "4  FEDEX SHP 12/23/09 AB#foreign  5509006296254FEDEX SHP 12/23/09 AB#   \n",
       "\n",
       "                          Merchnum_desc_state       card_merchnum_month  \\\n",
       "0  5509006296254FEDEX SHP 12/23/09 AB#foreign  514219043955090062962541   \n",
       "1        61003026333SERVICE MERCHANDISE #81MA    5142183973610030263331   \n",
       "2            4503082993600OFFICE DEPOT #191MD  514213172145030829936001   \n",
       "3  5509006296254FEDEX SHP 12/28/09 AB#foreign  514214845255090062962541   \n",
       "4  5509006296254FEDEX SHP 12/23/09 AB#foreign  514219043955090062962541   \n",
       "\n",
       "         card_merchnum_state_month             card_merchnum_state  \n",
       "0  51421904395509006296254foreign1  51421904395509006296254foreign  \n",
       "1         514218397361003026333MA1         514218397361003026333MA  \n",
       "2       51421317214503082993600MD1       51421317214503082993600MD  \n",
       "3  51421484525509006296254foreign1  51421484525509006296254foreign  \n",
       "4  51421904395509006296254foreign1  51421904395509006296254foreign  \n",
       "\n",
       "[5 rows x 26 columns]"
      ]
     },
     "execution_count": 117,
     "metadata": {},
     "output_type": "execute_result"
    }
   ],
   "source": [
    "data.head()"
   ]
  },
  {
   "cell_type": "code",
   "execution_count": 118,
   "id": "7JZBQyBEr20u",
   "metadata": {
    "id": "7JZBQyBEr20u"
   },
   "outputs": [],
   "source": [
    "entities=list(data.iloc[:,np.r_[1,3,4,5,12:26]].columns)"
   ]
  },
  {
   "cell_type": "code",
   "execution_count": 119,
   "id": "VZIkkhSwS1no",
   "metadata": {
    "colab": {
     "base_uri": "https://localhost:8080/"
    },
    "id": "VZIkkhSwS1no",
    "outputId": "67234582-3e4d-4025-8103-01047992e551"
   },
   "outputs": [
    {
     "data": {
      "text/plain": [
       "['Cardnum',\n",
       " 'Merchnum',\n",
       " 'Merch description',\n",
       " 'Merch state',\n",
       " 'Month',\n",
       " 'card_merchnum',\n",
       " 'card_state',\n",
       " 'card_month',\n",
       " 'merchnum_month',\n",
       " 'card_dow',\n",
       " 'Merchnum_state',\n",
       " 'Merchnum_dow',\n",
       " 'Merchdesc_state',\n",
       " 'Merchnum_desc',\n",
       " 'Merchnum_desc_state',\n",
       " 'card_merchnum_month',\n",
       " 'card_merchnum_state_month',\n",
       " 'card_merchnum_state']"
      ]
     },
     "execution_count": 119,
     "metadata": {},
     "output_type": "execute_result"
    }
   ],
   "source": [
    "entities"
   ]
  },
  {
   "cell_type": "markdown",
   "id": "c0cb13a1",
   "metadata": {
    "id": "c0cb13a1"
   },
   "source": [
    "# Creating Variables"
   ]
  },
  {
   "cell_type": "code",
   "execution_count": 120,
   "id": "461fdaeb",
   "metadata": {
    "colab": {
     "base_uri": "https://localhost:8080/"
    },
    "id": "461fdaeb",
    "outputId": "455decd7-3792-4ce2-a655-31e2129ec385",
    "scrolled": false
   },
   "outputs": [
    {
     "data": {
      "text/plain": [
       "(96397, 26)"
      ]
     },
     "execution_count": 120,
     "metadata": {},
     "output_type": "execute_result"
    }
   ],
   "source": [
    "data1=data.copy()\n",
    "final=data.copy()\n",
    "data1['check_date']=data1.Date\n",
    "data1['check_record']=data1.Recnum\n",
    "final.shape"
   ]
  },
  {
   "cell_type": "markdown",
   "id": "d46d486d",
   "metadata": {
    "id": "d46d486d"
   },
   "source": [
    "## Velocity/counts and days since"
   ]
  },
  {
   "cell_type": "code",
   "execution_count": 121,
   "id": "wTLj3vQfACib",
   "metadata": {
    "colab": {
     "base_uri": "https://localhost:8080/"
    },
    "id": "wTLj3vQfACib",
    "outputId": "b19a80aa-a71f-4aff-b6d5-c9d5e346576d"
   },
   "outputs": [],
   "source": [
    "# begin=time.time()\n",
    "# ds_cols = ['Cardnum','Merchnum','card_merch','card_state','card_zip','merchnum_merchstate','merchnum_zip']\n",
    "# for i in ds_cols:\n",
    "#     st=time.time()\n",
    "#     df_1=df[['Recnum','Date',i]]\n",
    "#     df_r=df[['check_record','check_date',i]]\n",
    "#     temp=pd.merge(df_1,df_r,left_on=i,right_on=i)\n",
    "    \n",
    "#     #day since\n",
    "#     day_since_df=temp[temp.Recnum>temp.check_record][['Recnum','Date','check_date']]\\\n",
    "#     .groupby('Recnum')[['Date','check_date']].last()\n",
    "#     mapper=(day_since_df.Date-day_since_df.check_date).dt.days\n",
    "#     vars[i+'_day_since']=vars.Recnum.map(mapper)\n",
    "#     vars[i+'_day_since'].fillna(365,inplace=True)\n",
    "#     print(f'\\n{i}_day_since --->Done')"
   ]
  },
  {
   "cell_type": "code",
   "execution_count": 122,
   "id": "rSKcUD4mTSC3",
   "metadata": {
    "id": "rSKcUD4mTSC3",
    "scrolled": false
   },
   "outputs": [
    {
     "name": "stdout",
     "output_type": "stream",
     "text": [
      "\n",
      "\n",
      "Cardnum_day_since ---> Done\n",
      "Cardnum_count_0 ---> Done\n",
      "Cardnum amount variables over past 0 ---> Done\n",
      "Cardnum_count_1 ---> Done\n",
      "Cardnum amount variables over past 1 ---> Done\n",
      "Cardnum_count_3 ---> Done\n",
      "Cardnum amount variables over past 3 ---> Done\n",
      "Cardnum_count_7 ---> Done\n",
      "Cardnum amount variables over past 7 ---> Done\n",
      "Cardnum_count_14 ---> Done\n",
      "Cardnum amount variables over past 14 ---> Done\n",
      "Cardnum_count_30 ---> Done\n",
      "Cardnum amount variables over past 30 ---> Done\n",
      "Run time for the last entity ----------------- 3.618323124999989s\n",
      "\n",
      "Merchnum_day_since ---> Done\n",
      "Merchnum_count_0 ---> Done\n",
      "Merchnum amount variables over past 0 ---> Done\n",
      "Merchnum_count_1 ---> Done\n",
      "Merchnum amount variables over past 1 ---> Done\n",
      "Merchnum_count_3 ---> Done\n",
      "Merchnum amount variables over past 3 ---> Done\n",
      "Merchnum_count_7 ---> Done\n",
      "Merchnum amount variables over past 7 ---> Done\n",
      "Merchnum_count_14 ---> Done\n"
     ]
    },
    {
     "name": "stderr",
     "output_type": "stream",
     "text": [
      "/var/folders/ll/h_rnbgns62bcj0skpd2j0ktr0000gp/T/ipykernel_38628/219860616.py:27: PerformanceWarning: DataFrame is highly fragmented.  This is usually the result of calling `frame.insert` many times, which has poor performance.  Consider joining all columns at once using pd.concat(axis=1) instead. To get a de-fragmented frame, use `newframe = frame.copy()`\n",
      "  final[entity + '_total_' + str(time)] = final.Recnum.map(temp2.groupby('Recnum')['Amount'].sum())\n",
      "/var/folders/ll/h_rnbgns62bcj0skpd2j0ktr0000gp/T/ipykernel_38628/219860616.py:28: PerformanceWarning: DataFrame is highly fragmented.  This is usually the result of calling `frame.insert` many times, which has poor performance.  Consider joining all columns at once using pd.concat(axis=1) instead. To get a de-fragmented frame, use `newframe = frame.copy()`\n",
      "  final[entity + '_actual/avg_' + str(time)] = final['Amount'] / final[entity + '_avg_' + str(time)]\n",
      "/var/folders/ll/h_rnbgns62bcj0skpd2j0ktr0000gp/T/ipykernel_38628/219860616.py:29: PerformanceWarning: DataFrame is highly fragmented.  This is usually the result of calling `frame.insert` many times, which has poor performance.  Consider joining all columns at once using pd.concat(axis=1) instead. To get a de-fragmented frame, use `newframe = frame.copy()`\n",
      "  final[entity + '_actual/max_' + str(time)] = final['Amount'] / final[entity + '_max_' + str(time)]\n",
      "/var/folders/ll/h_rnbgns62bcj0skpd2j0ktr0000gp/T/ipykernel_38628/219860616.py:30: PerformanceWarning: DataFrame is highly fragmented.  This is usually the result of calling `frame.insert` many times, which has poor performance.  Consider joining all columns at once using pd.concat(axis=1) instead. To get a de-fragmented frame, use `newframe = frame.copy()`\n",
      "  final[entity + '_actual/med_' + str(time)] = final['Amount'] / final[entity + '_med_' + str(time)]\n",
      "/var/folders/ll/h_rnbgns62bcj0skpd2j0ktr0000gp/T/ipykernel_38628/219860616.py:31: PerformanceWarning: DataFrame is highly fragmented.  This is usually the result of calling `frame.insert` many times, which has poor performance.  Consider joining all columns at once using pd.concat(axis=1) instead. To get a de-fragmented frame, use `newframe = frame.copy()`\n",
      "  final[entity + '_actual/toal_' + str(time)] = final['Amount'] / final[entity + '_total_' + str(time)]\n"
     ]
    },
    {
     "name": "stdout",
     "output_type": "stream",
     "text": [
      "Merchnum amount variables over past 14 ---> Done\n"
     ]
    },
    {
     "name": "stderr",
     "output_type": "stream",
     "text": [
      "/var/folders/ll/h_rnbgns62bcj0skpd2j0ktr0000gp/T/ipykernel_38628/219860616.py:22: PerformanceWarning: DataFrame is highly fragmented.  This is usually the result of calling `frame.insert` many times, which has poor performance.  Consider joining all columns at once using pd.concat(axis=1) instead. To get a de-fragmented frame, use `newframe = frame.copy()`\n",
      "  final[col_name] = final.Recnum.map(mapper2)\n",
      "/var/folders/ll/h_rnbgns62bcj0skpd2j0ktr0000gp/T/ipykernel_38628/219860616.py:24: PerformanceWarning: DataFrame is highly fragmented.  This is usually the result of calling `frame.insert` many times, which has poor performance.  Consider joining all columns at once using pd.concat(axis=1) instead. To get a de-fragmented frame, use `newframe = frame.copy()`\n",
      "  final[entity + '_avg_' + str(time)] = final.Recnum.map(temp2.groupby('Recnum')['Amount'].mean())\n"
     ]
    },
    {
     "name": "stdout",
     "output_type": "stream",
     "text": [
      "Merchnum_count_30 ---> Done\n"
     ]
    },
    {
     "name": "stderr",
     "output_type": "stream",
     "text": [
      "/var/folders/ll/h_rnbgns62bcj0skpd2j0ktr0000gp/T/ipykernel_38628/219860616.py:25: PerformanceWarning: DataFrame is highly fragmented.  This is usually the result of calling `frame.insert` many times, which has poor performance.  Consider joining all columns at once using pd.concat(axis=1) instead. To get a de-fragmented frame, use `newframe = frame.copy()`\n",
      "  final[entity + '_max_' + str(time)] = final.Recnum.map(temp2.groupby('Recnum')['Amount'].max())\n",
      "/var/folders/ll/h_rnbgns62bcj0skpd2j0ktr0000gp/T/ipykernel_38628/219860616.py:26: PerformanceWarning: DataFrame is highly fragmented.  This is usually the result of calling `frame.insert` many times, which has poor performance.  Consider joining all columns at once using pd.concat(axis=1) instead. To get a de-fragmented frame, use `newframe = frame.copy()`\n",
      "  final[entity + '_med_' + str(time)] = final.Recnum.map(temp2.groupby('Recnum')['Amount'].median())\n",
      "/var/folders/ll/h_rnbgns62bcj0skpd2j0ktr0000gp/T/ipykernel_38628/219860616.py:27: PerformanceWarning: DataFrame is highly fragmented.  This is usually the result of calling `frame.insert` many times, which has poor performance.  Consider joining all columns at once using pd.concat(axis=1) instead. To get a de-fragmented frame, use `newframe = frame.copy()`\n",
      "  final[entity + '_total_' + str(time)] = final.Recnum.map(temp2.groupby('Recnum')['Amount'].sum())\n",
      "/var/folders/ll/h_rnbgns62bcj0skpd2j0ktr0000gp/T/ipykernel_38628/219860616.py:28: PerformanceWarning: DataFrame is highly fragmented.  This is usually the result of calling `frame.insert` many times, which has poor performance.  Consider joining all columns at once using pd.concat(axis=1) instead. To get a de-fragmented frame, use `newframe = frame.copy()`\n",
      "  final[entity + '_actual/avg_' + str(time)] = final['Amount'] / final[entity + '_avg_' + str(time)]\n",
      "/var/folders/ll/h_rnbgns62bcj0skpd2j0ktr0000gp/T/ipykernel_38628/219860616.py:29: PerformanceWarning: DataFrame is highly fragmented.  This is usually the result of calling `frame.insert` many times, which has poor performance.  Consider joining all columns at once using pd.concat(axis=1) instead. To get a de-fragmented frame, use `newframe = frame.copy()`\n",
      "  final[entity + '_actual/max_' + str(time)] = final['Amount'] / final[entity + '_max_' + str(time)]\n",
      "/var/folders/ll/h_rnbgns62bcj0skpd2j0ktr0000gp/T/ipykernel_38628/219860616.py:30: PerformanceWarning: DataFrame is highly fragmented.  This is usually the result of calling `frame.insert` many times, which has poor performance.  Consider joining all columns at once using pd.concat(axis=1) instead. To get a de-fragmented frame, use `newframe = frame.copy()`\n",
      "  final[entity + '_actual/med_' + str(time)] = final['Amount'] / final[entity + '_med_' + str(time)]\n",
      "/var/folders/ll/h_rnbgns62bcj0skpd2j0ktr0000gp/T/ipykernel_38628/219860616.py:31: PerformanceWarning: DataFrame is highly fragmented.  This is usually the result of calling `frame.insert` many times, which has poor performance.  Consider joining all columns at once using pd.concat(axis=1) instead. To get a de-fragmented frame, use `newframe = frame.copy()`\n",
      "  final[entity + '_actual/toal_' + str(time)] = final['Amount'] / final[entity + '_total_' + str(time)]\n"
     ]
    },
    {
     "name": "stdout",
     "output_type": "stream",
     "text": [
      "Merchnum amount variables over past 30 ---> Done\n",
      "Run time for the last entity ----------------- 19.617855084000013s\n"
     ]
    },
    {
     "name": "stderr",
     "output_type": "stream",
     "text": [
      "/var/folders/ll/h_rnbgns62bcj0skpd2j0ktr0000gp/T/ipykernel_38628/219860616.py:13: PerformanceWarning: DataFrame is highly fragmented.  This is usually the result of calling `frame.insert` many times, which has poor performance.  Consider joining all columns at once using pd.concat(axis=1) instead. To get a de-fragmented frame, use `newframe = frame.copy()`\n",
      "  final[entity + '_day_since'] = final.Recnum.map(mapper)\n"
     ]
    },
    {
     "name": "stdout",
     "output_type": "stream",
     "text": [
      "\n",
      "Merch description_day_since ---> Done\n"
     ]
    },
    {
     "name": "stderr",
     "output_type": "stream",
     "text": [
      "/var/folders/ll/h_rnbgns62bcj0skpd2j0ktr0000gp/T/ipykernel_38628/219860616.py:22: PerformanceWarning: DataFrame is highly fragmented.  This is usually the result of calling `frame.insert` many times, which has poor performance.  Consider joining all columns at once using pd.concat(axis=1) instead. To get a de-fragmented frame, use `newframe = frame.copy()`\n",
      "  final[col_name] = final.Recnum.map(mapper2)\n",
      "/var/folders/ll/h_rnbgns62bcj0skpd2j0ktr0000gp/T/ipykernel_38628/219860616.py:24: PerformanceWarning: DataFrame is highly fragmented.  This is usually the result of calling `frame.insert` many times, which has poor performance.  Consider joining all columns at once using pd.concat(axis=1) instead. To get a de-fragmented frame, use `newframe = frame.copy()`\n",
      "  final[entity + '_avg_' + str(time)] = final.Recnum.map(temp2.groupby('Recnum')['Amount'].mean())\n",
      "/var/folders/ll/h_rnbgns62bcj0skpd2j0ktr0000gp/T/ipykernel_38628/219860616.py:25: PerformanceWarning: DataFrame is highly fragmented.  This is usually the result of calling `frame.insert` many times, which has poor performance.  Consider joining all columns at once using pd.concat(axis=1) instead. To get a de-fragmented frame, use `newframe = frame.copy()`\n",
      "  final[entity + '_max_' + str(time)] = final.Recnum.map(temp2.groupby('Recnum')['Amount'].max())\n",
      "/var/folders/ll/h_rnbgns62bcj0skpd2j0ktr0000gp/T/ipykernel_38628/219860616.py:26: PerformanceWarning: DataFrame is highly fragmented.  This is usually the result of calling `frame.insert` many times, which has poor performance.  Consider joining all columns at once using pd.concat(axis=1) instead. To get a de-fragmented frame, use `newframe = frame.copy()`\n",
      "  final[entity + '_med_' + str(time)] = final.Recnum.map(temp2.groupby('Recnum')['Amount'].median())\n",
      "/var/folders/ll/h_rnbgns62bcj0skpd2j0ktr0000gp/T/ipykernel_38628/219860616.py:27: PerformanceWarning: DataFrame is highly fragmented.  This is usually the result of calling `frame.insert` many times, which has poor performance.  Consider joining all columns at once using pd.concat(axis=1) instead. To get a de-fragmented frame, use `newframe = frame.copy()`\n",
      "  final[entity + '_total_' + str(time)] = final.Recnum.map(temp2.groupby('Recnum')['Amount'].sum())\n",
      "/var/folders/ll/h_rnbgns62bcj0skpd2j0ktr0000gp/T/ipykernel_38628/219860616.py:28: PerformanceWarning: DataFrame is highly fragmented.  This is usually the result of calling `frame.insert` many times, which has poor performance.  Consider joining all columns at once using pd.concat(axis=1) instead. To get a de-fragmented frame, use `newframe = frame.copy()`\n",
      "  final[entity + '_actual/avg_' + str(time)] = final['Amount'] / final[entity + '_avg_' + str(time)]\n",
      "/var/folders/ll/h_rnbgns62bcj0skpd2j0ktr0000gp/T/ipykernel_38628/219860616.py:29: PerformanceWarning: DataFrame is highly fragmented.  This is usually the result of calling `frame.insert` many times, which has poor performance.  Consider joining all columns at once using pd.concat(axis=1) instead. To get a de-fragmented frame, use `newframe = frame.copy()`\n",
      "  final[entity + '_actual/max_' + str(time)] = final['Amount'] / final[entity + '_max_' + str(time)]\n",
      "/var/folders/ll/h_rnbgns62bcj0skpd2j0ktr0000gp/T/ipykernel_38628/219860616.py:30: PerformanceWarning: DataFrame is highly fragmented.  This is usually the result of calling `frame.insert` many times, which has poor performance.  Consider joining all columns at once using pd.concat(axis=1) instead. To get a de-fragmented frame, use `newframe = frame.copy()`\n",
      "  final[entity + '_actual/med_' + str(time)] = final['Amount'] / final[entity + '_med_' + str(time)]\n",
      "/var/folders/ll/h_rnbgns62bcj0skpd2j0ktr0000gp/T/ipykernel_38628/219860616.py:31: PerformanceWarning: DataFrame is highly fragmented.  This is usually the result of calling `frame.insert` many times, which has poor performance.  Consider joining all columns at once using pd.concat(axis=1) instead. To get a de-fragmented frame, use `newframe = frame.copy()`\n",
      "  final[entity + '_actual/toal_' + str(time)] = final['Amount'] / final[entity + '_total_' + str(time)]\n"
     ]
    },
    {
     "name": "stdout",
     "output_type": "stream",
     "text": [
      "Merch description_count_0 ---> Done\n",
      "Merch description amount variables over past 0 ---> Done\n"
     ]
    },
    {
     "name": "stderr",
     "output_type": "stream",
     "text": [
      "/var/folders/ll/h_rnbgns62bcj0skpd2j0ktr0000gp/T/ipykernel_38628/219860616.py:22: PerformanceWarning: DataFrame is highly fragmented.  This is usually the result of calling `frame.insert` many times, which has poor performance.  Consider joining all columns at once using pd.concat(axis=1) instead. To get a de-fragmented frame, use `newframe = frame.copy()`\n",
      "  final[col_name] = final.Recnum.map(mapper2)\n",
      "/var/folders/ll/h_rnbgns62bcj0skpd2j0ktr0000gp/T/ipykernel_38628/219860616.py:24: PerformanceWarning: DataFrame is highly fragmented.  This is usually the result of calling `frame.insert` many times, which has poor performance.  Consider joining all columns at once using pd.concat(axis=1) instead. To get a de-fragmented frame, use `newframe = frame.copy()`\n",
      "  final[entity + '_avg_' + str(time)] = final.Recnum.map(temp2.groupby('Recnum')['Amount'].mean())\n",
      "/var/folders/ll/h_rnbgns62bcj0skpd2j0ktr0000gp/T/ipykernel_38628/219860616.py:25: PerformanceWarning: DataFrame is highly fragmented.  This is usually the result of calling `frame.insert` many times, which has poor performance.  Consider joining all columns at once using pd.concat(axis=1) instead. To get a de-fragmented frame, use `newframe = frame.copy()`\n",
      "  final[entity + '_max_' + str(time)] = final.Recnum.map(temp2.groupby('Recnum')['Amount'].max())\n",
      "/var/folders/ll/h_rnbgns62bcj0skpd2j0ktr0000gp/T/ipykernel_38628/219860616.py:26: PerformanceWarning: DataFrame is highly fragmented.  This is usually the result of calling `frame.insert` many times, which has poor performance.  Consider joining all columns at once using pd.concat(axis=1) instead. To get a de-fragmented frame, use `newframe = frame.copy()`\n",
      "  final[entity + '_med_' + str(time)] = final.Recnum.map(temp2.groupby('Recnum')['Amount'].median())\n",
      "/var/folders/ll/h_rnbgns62bcj0skpd2j0ktr0000gp/T/ipykernel_38628/219860616.py:27: PerformanceWarning: DataFrame is highly fragmented.  This is usually the result of calling `frame.insert` many times, which has poor performance.  Consider joining all columns at once using pd.concat(axis=1) instead. To get a de-fragmented frame, use `newframe = frame.copy()`\n",
      "  final[entity + '_total_' + str(time)] = final.Recnum.map(temp2.groupby('Recnum')['Amount'].sum())\n",
      "/var/folders/ll/h_rnbgns62bcj0skpd2j0ktr0000gp/T/ipykernel_38628/219860616.py:28: PerformanceWarning: DataFrame is highly fragmented.  This is usually the result of calling `frame.insert` many times, which has poor performance.  Consider joining all columns at once using pd.concat(axis=1) instead. To get a de-fragmented frame, use `newframe = frame.copy()`\n",
      "  final[entity + '_actual/avg_' + str(time)] = final['Amount'] / final[entity + '_avg_' + str(time)]\n",
      "/var/folders/ll/h_rnbgns62bcj0skpd2j0ktr0000gp/T/ipykernel_38628/219860616.py:29: PerformanceWarning: DataFrame is highly fragmented.  This is usually the result of calling `frame.insert` many times, which has poor performance.  Consider joining all columns at once using pd.concat(axis=1) instead. To get a de-fragmented frame, use `newframe = frame.copy()`\n",
      "  final[entity + '_actual/max_' + str(time)] = final['Amount'] / final[entity + '_max_' + str(time)]\n",
      "/var/folders/ll/h_rnbgns62bcj0skpd2j0ktr0000gp/T/ipykernel_38628/219860616.py:30: PerformanceWarning: DataFrame is highly fragmented.  This is usually the result of calling `frame.insert` many times, which has poor performance.  Consider joining all columns at once using pd.concat(axis=1) instead. To get a de-fragmented frame, use `newframe = frame.copy()`\n",
      "  final[entity + '_actual/med_' + str(time)] = final['Amount'] / final[entity + '_med_' + str(time)]\n",
      "/var/folders/ll/h_rnbgns62bcj0skpd2j0ktr0000gp/T/ipykernel_38628/219860616.py:31: PerformanceWarning: DataFrame is highly fragmented.  This is usually the result of calling `frame.insert` many times, which has poor performance.  Consider joining all columns at once using pd.concat(axis=1) instead. To get a de-fragmented frame, use `newframe = frame.copy()`\n",
      "  final[entity + '_actual/toal_' + str(time)] = final['Amount'] / final[entity + '_total_' + str(time)]\n"
     ]
    },
    {
     "name": "stdout",
     "output_type": "stream",
     "text": [
      "Merch description_count_1 ---> Done\n",
      "Merch description amount variables over past 1 ---> Done\n"
     ]
    },
    {
     "name": "stderr",
     "output_type": "stream",
     "text": [
      "/var/folders/ll/h_rnbgns62bcj0skpd2j0ktr0000gp/T/ipykernel_38628/219860616.py:22: PerformanceWarning: DataFrame is highly fragmented.  This is usually the result of calling `frame.insert` many times, which has poor performance.  Consider joining all columns at once using pd.concat(axis=1) instead. To get a de-fragmented frame, use `newframe = frame.copy()`\n",
      "  final[col_name] = final.Recnum.map(mapper2)\n",
      "/var/folders/ll/h_rnbgns62bcj0skpd2j0ktr0000gp/T/ipykernel_38628/219860616.py:24: PerformanceWarning: DataFrame is highly fragmented.  This is usually the result of calling `frame.insert` many times, which has poor performance.  Consider joining all columns at once using pd.concat(axis=1) instead. To get a de-fragmented frame, use `newframe = frame.copy()`\n",
      "  final[entity + '_avg_' + str(time)] = final.Recnum.map(temp2.groupby('Recnum')['Amount'].mean())\n",
      "/var/folders/ll/h_rnbgns62bcj0skpd2j0ktr0000gp/T/ipykernel_38628/219860616.py:25: PerformanceWarning: DataFrame is highly fragmented.  This is usually the result of calling `frame.insert` many times, which has poor performance.  Consider joining all columns at once using pd.concat(axis=1) instead. To get a de-fragmented frame, use `newframe = frame.copy()`\n",
      "  final[entity + '_max_' + str(time)] = final.Recnum.map(temp2.groupby('Recnum')['Amount'].max())\n",
      "/var/folders/ll/h_rnbgns62bcj0skpd2j0ktr0000gp/T/ipykernel_38628/219860616.py:26: PerformanceWarning: DataFrame is highly fragmented.  This is usually the result of calling `frame.insert` many times, which has poor performance.  Consider joining all columns at once using pd.concat(axis=1) instead. To get a de-fragmented frame, use `newframe = frame.copy()`\n",
      "  final[entity + '_med_' + str(time)] = final.Recnum.map(temp2.groupby('Recnum')['Amount'].median())\n",
      "/var/folders/ll/h_rnbgns62bcj0skpd2j0ktr0000gp/T/ipykernel_38628/219860616.py:27: PerformanceWarning: DataFrame is highly fragmented.  This is usually the result of calling `frame.insert` many times, which has poor performance.  Consider joining all columns at once using pd.concat(axis=1) instead. To get a de-fragmented frame, use `newframe = frame.copy()`\n",
      "  final[entity + '_total_' + str(time)] = final.Recnum.map(temp2.groupby('Recnum')['Amount'].sum())\n",
      "/var/folders/ll/h_rnbgns62bcj0skpd2j0ktr0000gp/T/ipykernel_38628/219860616.py:28: PerformanceWarning: DataFrame is highly fragmented.  This is usually the result of calling `frame.insert` many times, which has poor performance.  Consider joining all columns at once using pd.concat(axis=1) instead. To get a de-fragmented frame, use `newframe = frame.copy()`\n",
      "  final[entity + '_actual/avg_' + str(time)] = final['Amount'] / final[entity + '_avg_' + str(time)]\n",
      "/var/folders/ll/h_rnbgns62bcj0skpd2j0ktr0000gp/T/ipykernel_38628/219860616.py:29: PerformanceWarning: DataFrame is highly fragmented.  This is usually the result of calling `frame.insert` many times, which has poor performance.  Consider joining all columns at once using pd.concat(axis=1) instead. To get a de-fragmented frame, use `newframe = frame.copy()`\n",
      "  final[entity + '_actual/max_' + str(time)] = final['Amount'] / final[entity + '_max_' + str(time)]\n",
      "/var/folders/ll/h_rnbgns62bcj0skpd2j0ktr0000gp/T/ipykernel_38628/219860616.py:30: PerformanceWarning: DataFrame is highly fragmented.  This is usually the result of calling `frame.insert` many times, which has poor performance.  Consider joining all columns at once using pd.concat(axis=1) instead. To get a de-fragmented frame, use `newframe = frame.copy()`\n",
      "  final[entity + '_actual/med_' + str(time)] = final['Amount'] / final[entity + '_med_' + str(time)]\n",
      "/var/folders/ll/h_rnbgns62bcj0skpd2j0ktr0000gp/T/ipykernel_38628/219860616.py:31: PerformanceWarning: DataFrame is highly fragmented.  This is usually the result of calling `frame.insert` many times, which has poor performance.  Consider joining all columns at once using pd.concat(axis=1) instead. To get a de-fragmented frame, use `newframe = frame.copy()`\n",
      "  final[entity + '_actual/toal_' + str(time)] = final['Amount'] / final[entity + '_total_' + str(time)]\n"
     ]
    },
    {
     "name": "stdout",
     "output_type": "stream",
     "text": [
      "Merch description_count_3 ---> Done\n",
      "Merch description amount variables over past 3 ---> Done\n"
     ]
    },
    {
     "name": "stderr",
     "output_type": "stream",
     "text": [
      "/var/folders/ll/h_rnbgns62bcj0skpd2j0ktr0000gp/T/ipykernel_38628/219860616.py:22: PerformanceWarning: DataFrame is highly fragmented.  This is usually the result of calling `frame.insert` many times, which has poor performance.  Consider joining all columns at once using pd.concat(axis=1) instead. To get a de-fragmented frame, use `newframe = frame.copy()`\n",
      "  final[col_name] = final.Recnum.map(mapper2)\n",
      "/var/folders/ll/h_rnbgns62bcj0skpd2j0ktr0000gp/T/ipykernel_38628/219860616.py:24: PerformanceWarning: DataFrame is highly fragmented.  This is usually the result of calling `frame.insert` many times, which has poor performance.  Consider joining all columns at once using pd.concat(axis=1) instead. To get a de-fragmented frame, use `newframe = frame.copy()`\n",
      "  final[entity + '_avg_' + str(time)] = final.Recnum.map(temp2.groupby('Recnum')['Amount'].mean())\n",
      "/var/folders/ll/h_rnbgns62bcj0skpd2j0ktr0000gp/T/ipykernel_38628/219860616.py:25: PerformanceWarning: DataFrame is highly fragmented.  This is usually the result of calling `frame.insert` many times, which has poor performance.  Consider joining all columns at once using pd.concat(axis=1) instead. To get a de-fragmented frame, use `newframe = frame.copy()`\n",
      "  final[entity + '_max_' + str(time)] = final.Recnum.map(temp2.groupby('Recnum')['Amount'].max())\n",
      "/var/folders/ll/h_rnbgns62bcj0skpd2j0ktr0000gp/T/ipykernel_38628/219860616.py:26: PerformanceWarning: DataFrame is highly fragmented.  This is usually the result of calling `frame.insert` many times, which has poor performance.  Consider joining all columns at once using pd.concat(axis=1) instead. To get a de-fragmented frame, use `newframe = frame.copy()`\n",
      "  final[entity + '_med_' + str(time)] = final.Recnum.map(temp2.groupby('Recnum')['Amount'].median())\n",
      "/var/folders/ll/h_rnbgns62bcj0skpd2j0ktr0000gp/T/ipykernel_38628/219860616.py:27: PerformanceWarning: DataFrame is highly fragmented.  This is usually the result of calling `frame.insert` many times, which has poor performance.  Consider joining all columns at once using pd.concat(axis=1) instead. To get a de-fragmented frame, use `newframe = frame.copy()`\n",
      "  final[entity + '_total_' + str(time)] = final.Recnum.map(temp2.groupby('Recnum')['Amount'].sum())\n",
      "/var/folders/ll/h_rnbgns62bcj0skpd2j0ktr0000gp/T/ipykernel_38628/219860616.py:28: PerformanceWarning: DataFrame is highly fragmented.  This is usually the result of calling `frame.insert` many times, which has poor performance.  Consider joining all columns at once using pd.concat(axis=1) instead. To get a de-fragmented frame, use `newframe = frame.copy()`\n",
      "  final[entity + '_actual/avg_' + str(time)] = final['Amount'] / final[entity + '_avg_' + str(time)]\n",
      "/var/folders/ll/h_rnbgns62bcj0skpd2j0ktr0000gp/T/ipykernel_38628/219860616.py:29: PerformanceWarning: DataFrame is highly fragmented.  This is usually the result of calling `frame.insert` many times, which has poor performance.  Consider joining all columns at once using pd.concat(axis=1) instead. To get a de-fragmented frame, use `newframe = frame.copy()`\n",
      "  final[entity + '_actual/max_' + str(time)] = final['Amount'] / final[entity + '_max_' + str(time)]\n",
      "/var/folders/ll/h_rnbgns62bcj0skpd2j0ktr0000gp/T/ipykernel_38628/219860616.py:30: PerformanceWarning: DataFrame is highly fragmented.  This is usually the result of calling `frame.insert` many times, which has poor performance.  Consider joining all columns at once using pd.concat(axis=1) instead. To get a de-fragmented frame, use `newframe = frame.copy()`\n",
      "  final[entity + '_actual/med_' + str(time)] = final['Amount'] / final[entity + '_med_' + str(time)]\n",
      "/var/folders/ll/h_rnbgns62bcj0skpd2j0ktr0000gp/T/ipykernel_38628/219860616.py:31: PerformanceWarning: DataFrame is highly fragmented.  This is usually the result of calling `frame.insert` many times, which has poor performance.  Consider joining all columns at once using pd.concat(axis=1) instead. To get a de-fragmented frame, use `newframe = frame.copy()`\n",
      "  final[entity + '_actual/toal_' + str(time)] = final['Amount'] / final[entity + '_total_' + str(time)]\n"
     ]
    },
    {
     "name": "stdout",
     "output_type": "stream",
     "text": [
      "Merch description_count_7 ---> Done\n",
      "Merch description amount variables over past 7 ---> Done\n"
     ]
    },
    {
     "name": "stderr",
     "output_type": "stream",
     "text": [
      "/var/folders/ll/h_rnbgns62bcj0skpd2j0ktr0000gp/T/ipykernel_38628/219860616.py:22: PerformanceWarning: DataFrame is highly fragmented.  This is usually the result of calling `frame.insert` many times, which has poor performance.  Consider joining all columns at once using pd.concat(axis=1) instead. To get a de-fragmented frame, use `newframe = frame.copy()`\n",
      "  final[col_name] = final.Recnum.map(mapper2)\n",
      "/var/folders/ll/h_rnbgns62bcj0skpd2j0ktr0000gp/T/ipykernel_38628/219860616.py:24: PerformanceWarning: DataFrame is highly fragmented.  This is usually the result of calling `frame.insert` many times, which has poor performance.  Consider joining all columns at once using pd.concat(axis=1) instead. To get a de-fragmented frame, use `newframe = frame.copy()`\n",
      "  final[entity + '_avg_' + str(time)] = final.Recnum.map(temp2.groupby('Recnum')['Amount'].mean())\n",
      "/var/folders/ll/h_rnbgns62bcj0skpd2j0ktr0000gp/T/ipykernel_38628/219860616.py:25: PerformanceWarning: DataFrame is highly fragmented.  This is usually the result of calling `frame.insert` many times, which has poor performance.  Consider joining all columns at once using pd.concat(axis=1) instead. To get a de-fragmented frame, use `newframe = frame.copy()`\n",
      "  final[entity + '_max_' + str(time)] = final.Recnum.map(temp2.groupby('Recnum')['Amount'].max())\n",
      "/var/folders/ll/h_rnbgns62bcj0skpd2j0ktr0000gp/T/ipykernel_38628/219860616.py:26: PerformanceWarning: DataFrame is highly fragmented.  This is usually the result of calling `frame.insert` many times, which has poor performance.  Consider joining all columns at once using pd.concat(axis=1) instead. To get a de-fragmented frame, use `newframe = frame.copy()`\n",
      "  final[entity + '_med_' + str(time)] = final.Recnum.map(temp2.groupby('Recnum')['Amount'].median())\n",
      "/var/folders/ll/h_rnbgns62bcj0skpd2j0ktr0000gp/T/ipykernel_38628/219860616.py:27: PerformanceWarning: DataFrame is highly fragmented.  This is usually the result of calling `frame.insert` many times, which has poor performance.  Consider joining all columns at once using pd.concat(axis=1) instead. To get a de-fragmented frame, use `newframe = frame.copy()`\n",
      "  final[entity + '_total_' + str(time)] = final.Recnum.map(temp2.groupby('Recnum')['Amount'].sum())\n",
      "/var/folders/ll/h_rnbgns62bcj0skpd2j0ktr0000gp/T/ipykernel_38628/219860616.py:28: PerformanceWarning: DataFrame is highly fragmented.  This is usually the result of calling `frame.insert` many times, which has poor performance.  Consider joining all columns at once using pd.concat(axis=1) instead. To get a de-fragmented frame, use `newframe = frame.copy()`\n",
      "  final[entity + '_actual/avg_' + str(time)] = final['Amount'] / final[entity + '_avg_' + str(time)]\n",
      "/var/folders/ll/h_rnbgns62bcj0skpd2j0ktr0000gp/T/ipykernel_38628/219860616.py:29: PerformanceWarning: DataFrame is highly fragmented.  This is usually the result of calling `frame.insert` many times, which has poor performance.  Consider joining all columns at once using pd.concat(axis=1) instead. To get a de-fragmented frame, use `newframe = frame.copy()`\n",
      "  final[entity + '_actual/max_' + str(time)] = final['Amount'] / final[entity + '_max_' + str(time)]\n",
      "/var/folders/ll/h_rnbgns62bcj0skpd2j0ktr0000gp/T/ipykernel_38628/219860616.py:30: PerformanceWarning: DataFrame is highly fragmented.  This is usually the result of calling `frame.insert` many times, which has poor performance.  Consider joining all columns at once using pd.concat(axis=1) instead. To get a de-fragmented frame, use `newframe = frame.copy()`\n",
      "  final[entity + '_actual/med_' + str(time)] = final['Amount'] / final[entity + '_med_' + str(time)]\n",
      "/var/folders/ll/h_rnbgns62bcj0skpd2j0ktr0000gp/T/ipykernel_38628/219860616.py:31: PerformanceWarning: DataFrame is highly fragmented.  This is usually the result of calling `frame.insert` many times, which has poor performance.  Consider joining all columns at once using pd.concat(axis=1) instead. To get a de-fragmented frame, use `newframe = frame.copy()`\n",
      "  final[entity + '_actual/toal_' + str(time)] = final['Amount'] / final[entity + '_total_' + str(time)]\n"
     ]
    },
    {
     "name": "stdout",
     "output_type": "stream",
     "text": [
      "Merch description_count_14 ---> Done\n",
      "Merch description amount variables over past 14 ---> Done\n"
     ]
    },
    {
     "name": "stderr",
     "output_type": "stream",
     "text": [
      "/var/folders/ll/h_rnbgns62bcj0skpd2j0ktr0000gp/T/ipykernel_38628/219860616.py:22: PerformanceWarning: DataFrame is highly fragmented.  This is usually the result of calling `frame.insert` many times, which has poor performance.  Consider joining all columns at once using pd.concat(axis=1) instead. To get a de-fragmented frame, use `newframe = frame.copy()`\n",
      "  final[col_name] = final.Recnum.map(mapper2)\n",
      "/var/folders/ll/h_rnbgns62bcj0skpd2j0ktr0000gp/T/ipykernel_38628/219860616.py:24: PerformanceWarning: DataFrame is highly fragmented.  This is usually the result of calling `frame.insert` many times, which has poor performance.  Consider joining all columns at once using pd.concat(axis=1) instead. To get a de-fragmented frame, use `newframe = frame.copy()`\n",
      "  final[entity + '_avg_' + str(time)] = final.Recnum.map(temp2.groupby('Recnum')['Amount'].mean())\n",
      "/var/folders/ll/h_rnbgns62bcj0skpd2j0ktr0000gp/T/ipykernel_38628/219860616.py:25: PerformanceWarning: DataFrame is highly fragmented.  This is usually the result of calling `frame.insert` many times, which has poor performance.  Consider joining all columns at once using pd.concat(axis=1) instead. To get a de-fragmented frame, use `newframe = frame.copy()`\n",
      "  final[entity + '_max_' + str(time)] = final.Recnum.map(temp2.groupby('Recnum')['Amount'].max())\n",
      "/var/folders/ll/h_rnbgns62bcj0skpd2j0ktr0000gp/T/ipykernel_38628/219860616.py:26: PerformanceWarning: DataFrame is highly fragmented.  This is usually the result of calling `frame.insert` many times, which has poor performance.  Consider joining all columns at once using pd.concat(axis=1) instead. To get a de-fragmented frame, use `newframe = frame.copy()`\n",
      "  final[entity + '_med_' + str(time)] = final.Recnum.map(temp2.groupby('Recnum')['Amount'].median())\n",
      "/var/folders/ll/h_rnbgns62bcj0skpd2j0ktr0000gp/T/ipykernel_38628/219860616.py:27: PerformanceWarning: DataFrame is highly fragmented.  This is usually the result of calling `frame.insert` many times, which has poor performance.  Consider joining all columns at once using pd.concat(axis=1) instead. To get a de-fragmented frame, use `newframe = frame.copy()`\n",
      "  final[entity + '_total_' + str(time)] = final.Recnum.map(temp2.groupby('Recnum')['Amount'].sum())\n",
      "/var/folders/ll/h_rnbgns62bcj0skpd2j0ktr0000gp/T/ipykernel_38628/219860616.py:28: PerformanceWarning: DataFrame is highly fragmented.  This is usually the result of calling `frame.insert` many times, which has poor performance.  Consider joining all columns at once using pd.concat(axis=1) instead. To get a de-fragmented frame, use `newframe = frame.copy()`\n",
      "  final[entity + '_actual/avg_' + str(time)] = final['Amount'] / final[entity + '_avg_' + str(time)]\n",
      "/var/folders/ll/h_rnbgns62bcj0skpd2j0ktr0000gp/T/ipykernel_38628/219860616.py:29: PerformanceWarning: DataFrame is highly fragmented.  This is usually the result of calling `frame.insert` many times, which has poor performance.  Consider joining all columns at once using pd.concat(axis=1) instead. To get a de-fragmented frame, use `newframe = frame.copy()`\n",
      "  final[entity + '_actual/max_' + str(time)] = final['Amount'] / final[entity + '_max_' + str(time)]\n",
      "/var/folders/ll/h_rnbgns62bcj0skpd2j0ktr0000gp/T/ipykernel_38628/219860616.py:30: PerformanceWarning: DataFrame is highly fragmented.  This is usually the result of calling `frame.insert` many times, which has poor performance.  Consider joining all columns at once using pd.concat(axis=1) instead. To get a de-fragmented frame, use `newframe = frame.copy()`\n",
      "  final[entity + '_actual/med_' + str(time)] = final['Amount'] / final[entity + '_med_' + str(time)]\n",
      "/var/folders/ll/h_rnbgns62bcj0skpd2j0ktr0000gp/T/ipykernel_38628/219860616.py:31: PerformanceWarning: DataFrame is highly fragmented.  This is usually the result of calling `frame.insert` many times, which has poor performance.  Consider joining all columns at once using pd.concat(axis=1) instead. To get a de-fragmented frame, use `newframe = frame.copy()`\n",
      "  final[entity + '_actual/toal_' + str(time)] = final['Amount'] / final[entity + '_total_' + str(time)]\n"
     ]
    },
    {
     "name": "stdout",
     "output_type": "stream",
     "text": [
      "Merch description_count_30 ---> Done\n",
      "Merch description amount variables over past 30 ---> Done\n",
      "Run time for the last entity ----------------- 3.919712167s\n"
     ]
    },
    {
     "name": "stderr",
     "output_type": "stream",
     "text": [
      "/var/folders/ll/h_rnbgns62bcj0skpd2j0ktr0000gp/T/ipykernel_38628/219860616.py:13: PerformanceWarning: DataFrame is highly fragmented.  This is usually the result of calling `frame.insert` many times, which has poor performance.  Consider joining all columns at once using pd.concat(axis=1) instead. To get a de-fragmented frame, use `newframe = frame.copy()`\n",
      "  final[entity + '_day_since'] = final.Recnum.map(mapper)\n"
     ]
    },
    {
     "name": "stdout",
     "output_type": "stream",
     "text": [
      "\n",
      "Merch state_day_since ---> Done\n"
     ]
    },
    {
     "name": "stderr",
     "output_type": "stream",
     "text": [
      "/var/folders/ll/h_rnbgns62bcj0skpd2j0ktr0000gp/T/ipykernel_38628/219860616.py:22: PerformanceWarning: DataFrame is highly fragmented.  This is usually the result of calling `frame.insert` many times, which has poor performance.  Consider joining all columns at once using pd.concat(axis=1) instead. To get a de-fragmented frame, use `newframe = frame.copy()`\n",
      "  final[col_name] = final.Recnum.map(mapper2)\n",
      "/var/folders/ll/h_rnbgns62bcj0skpd2j0ktr0000gp/T/ipykernel_38628/219860616.py:24: PerformanceWarning: DataFrame is highly fragmented.  This is usually the result of calling `frame.insert` many times, which has poor performance.  Consider joining all columns at once using pd.concat(axis=1) instead. To get a de-fragmented frame, use `newframe = frame.copy()`\n",
      "  final[entity + '_avg_' + str(time)] = final.Recnum.map(temp2.groupby('Recnum')['Amount'].mean())\n",
      "/var/folders/ll/h_rnbgns62bcj0skpd2j0ktr0000gp/T/ipykernel_38628/219860616.py:25: PerformanceWarning: DataFrame is highly fragmented.  This is usually the result of calling `frame.insert` many times, which has poor performance.  Consider joining all columns at once using pd.concat(axis=1) instead. To get a de-fragmented frame, use `newframe = frame.copy()`\n",
      "  final[entity + '_max_' + str(time)] = final.Recnum.map(temp2.groupby('Recnum')['Amount'].max())\n",
      "/var/folders/ll/h_rnbgns62bcj0skpd2j0ktr0000gp/T/ipykernel_38628/219860616.py:26: PerformanceWarning: DataFrame is highly fragmented.  This is usually the result of calling `frame.insert` many times, which has poor performance.  Consider joining all columns at once using pd.concat(axis=1) instead. To get a de-fragmented frame, use `newframe = frame.copy()`\n",
      "  final[entity + '_med_' + str(time)] = final.Recnum.map(temp2.groupby('Recnum')['Amount'].median())\n",
      "/var/folders/ll/h_rnbgns62bcj0skpd2j0ktr0000gp/T/ipykernel_38628/219860616.py:27: PerformanceWarning: DataFrame is highly fragmented.  This is usually the result of calling `frame.insert` many times, which has poor performance.  Consider joining all columns at once using pd.concat(axis=1) instead. To get a de-fragmented frame, use `newframe = frame.copy()`\n",
      "  final[entity + '_total_' + str(time)] = final.Recnum.map(temp2.groupby('Recnum')['Amount'].sum())\n",
      "/var/folders/ll/h_rnbgns62bcj0skpd2j0ktr0000gp/T/ipykernel_38628/219860616.py:28: PerformanceWarning: DataFrame is highly fragmented.  This is usually the result of calling `frame.insert` many times, which has poor performance.  Consider joining all columns at once using pd.concat(axis=1) instead. To get a de-fragmented frame, use `newframe = frame.copy()`\n",
      "  final[entity + '_actual/avg_' + str(time)] = final['Amount'] / final[entity + '_avg_' + str(time)]\n",
      "/var/folders/ll/h_rnbgns62bcj0skpd2j0ktr0000gp/T/ipykernel_38628/219860616.py:29: PerformanceWarning: DataFrame is highly fragmented.  This is usually the result of calling `frame.insert` many times, which has poor performance.  Consider joining all columns at once using pd.concat(axis=1) instead. To get a de-fragmented frame, use `newframe = frame.copy()`\n",
      "  final[entity + '_actual/max_' + str(time)] = final['Amount'] / final[entity + '_max_' + str(time)]\n",
      "/var/folders/ll/h_rnbgns62bcj0skpd2j0ktr0000gp/T/ipykernel_38628/219860616.py:30: PerformanceWarning: DataFrame is highly fragmented.  This is usually the result of calling `frame.insert` many times, which has poor performance.  Consider joining all columns at once using pd.concat(axis=1) instead. To get a de-fragmented frame, use `newframe = frame.copy()`\n",
      "  final[entity + '_actual/med_' + str(time)] = final['Amount'] / final[entity + '_med_' + str(time)]\n",
      "/var/folders/ll/h_rnbgns62bcj0skpd2j0ktr0000gp/T/ipykernel_38628/219860616.py:31: PerformanceWarning: DataFrame is highly fragmented.  This is usually the result of calling `frame.insert` many times, which has poor performance.  Consider joining all columns at once using pd.concat(axis=1) instead. To get a de-fragmented frame, use `newframe = frame.copy()`\n",
      "  final[entity + '_actual/toal_' + str(time)] = final['Amount'] / final[entity + '_total_' + str(time)]\n"
     ]
    },
    {
     "name": "stdout",
     "output_type": "stream",
     "text": [
      "Merch state_count_0 ---> Done\n",
      "Merch state amount variables over past 0 ---> Done\n"
     ]
    },
    {
     "name": "stderr",
     "output_type": "stream",
     "text": [
      "/var/folders/ll/h_rnbgns62bcj0skpd2j0ktr0000gp/T/ipykernel_38628/219860616.py:22: PerformanceWarning: DataFrame is highly fragmented.  This is usually the result of calling `frame.insert` many times, which has poor performance.  Consider joining all columns at once using pd.concat(axis=1) instead. To get a de-fragmented frame, use `newframe = frame.copy()`\n",
      "  final[col_name] = final.Recnum.map(mapper2)\n",
      "/var/folders/ll/h_rnbgns62bcj0skpd2j0ktr0000gp/T/ipykernel_38628/219860616.py:24: PerformanceWarning: DataFrame is highly fragmented.  This is usually the result of calling `frame.insert` many times, which has poor performance.  Consider joining all columns at once using pd.concat(axis=1) instead. To get a de-fragmented frame, use `newframe = frame.copy()`\n",
      "  final[entity + '_avg_' + str(time)] = final.Recnum.map(temp2.groupby('Recnum')['Amount'].mean())\n",
      "/var/folders/ll/h_rnbgns62bcj0skpd2j0ktr0000gp/T/ipykernel_38628/219860616.py:25: PerformanceWarning: DataFrame is highly fragmented.  This is usually the result of calling `frame.insert` many times, which has poor performance.  Consider joining all columns at once using pd.concat(axis=1) instead. To get a de-fragmented frame, use `newframe = frame.copy()`\n",
      "  final[entity + '_max_' + str(time)] = final.Recnum.map(temp2.groupby('Recnum')['Amount'].max())\n",
      "/var/folders/ll/h_rnbgns62bcj0skpd2j0ktr0000gp/T/ipykernel_38628/219860616.py:26: PerformanceWarning: DataFrame is highly fragmented.  This is usually the result of calling `frame.insert` many times, which has poor performance.  Consider joining all columns at once using pd.concat(axis=1) instead. To get a de-fragmented frame, use `newframe = frame.copy()`\n",
      "  final[entity + '_med_' + str(time)] = final.Recnum.map(temp2.groupby('Recnum')['Amount'].median())\n"
     ]
    },
    {
     "name": "stdout",
     "output_type": "stream",
     "text": [
      "Merch state_count_1 ---> Done\n"
     ]
    },
    {
     "name": "stderr",
     "output_type": "stream",
     "text": [
      "/var/folders/ll/h_rnbgns62bcj0skpd2j0ktr0000gp/T/ipykernel_38628/219860616.py:27: PerformanceWarning: DataFrame is highly fragmented.  This is usually the result of calling `frame.insert` many times, which has poor performance.  Consider joining all columns at once using pd.concat(axis=1) instead. To get a de-fragmented frame, use `newframe = frame.copy()`\n",
      "  final[entity + '_total_' + str(time)] = final.Recnum.map(temp2.groupby('Recnum')['Amount'].sum())\n",
      "/var/folders/ll/h_rnbgns62bcj0skpd2j0ktr0000gp/T/ipykernel_38628/219860616.py:28: PerformanceWarning: DataFrame is highly fragmented.  This is usually the result of calling `frame.insert` many times, which has poor performance.  Consider joining all columns at once using pd.concat(axis=1) instead. To get a de-fragmented frame, use `newframe = frame.copy()`\n",
      "  final[entity + '_actual/avg_' + str(time)] = final['Amount'] / final[entity + '_avg_' + str(time)]\n",
      "/var/folders/ll/h_rnbgns62bcj0skpd2j0ktr0000gp/T/ipykernel_38628/219860616.py:29: PerformanceWarning: DataFrame is highly fragmented.  This is usually the result of calling `frame.insert` many times, which has poor performance.  Consider joining all columns at once using pd.concat(axis=1) instead. To get a de-fragmented frame, use `newframe = frame.copy()`\n",
      "  final[entity + '_actual/max_' + str(time)] = final['Amount'] / final[entity + '_max_' + str(time)]\n",
      "/var/folders/ll/h_rnbgns62bcj0skpd2j0ktr0000gp/T/ipykernel_38628/219860616.py:30: PerformanceWarning: DataFrame is highly fragmented.  This is usually the result of calling `frame.insert` many times, which has poor performance.  Consider joining all columns at once using pd.concat(axis=1) instead. To get a de-fragmented frame, use `newframe = frame.copy()`\n",
      "  final[entity + '_actual/med_' + str(time)] = final['Amount'] / final[entity + '_med_' + str(time)]\n",
      "/var/folders/ll/h_rnbgns62bcj0skpd2j0ktr0000gp/T/ipykernel_38628/219860616.py:31: PerformanceWarning: DataFrame is highly fragmented.  This is usually the result of calling `frame.insert` many times, which has poor performance.  Consider joining all columns at once using pd.concat(axis=1) instead. To get a de-fragmented frame, use `newframe = frame.copy()`\n",
      "  final[entity + '_actual/toal_' + str(time)] = final['Amount'] / final[entity + '_total_' + str(time)]\n"
     ]
    },
    {
     "name": "stdout",
     "output_type": "stream",
     "text": [
      "Merch state amount variables over past 1 ---> Done\n"
     ]
    },
    {
     "name": "stderr",
     "output_type": "stream",
     "text": [
      "/var/folders/ll/h_rnbgns62bcj0skpd2j0ktr0000gp/T/ipykernel_38628/219860616.py:22: PerformanceWarning: DataFrame is highly fragmented.  This is usually the result of calling `frame.insert` many times, which has poor performance.  Consider joining all columns at once using pd.concat(axis=1) instead. To get a de-fragmented frame, use `newframe = frame.copy()`\n",
      "  final[col_name] = final.Recnum.map(mapper2)\n",
      "/var/folders/ll/h_rnbgns62bcj0skpd2j0ktr0000gp/T/ipykernel_38628/219860616.py:24: PerformanceWarning: DataFrame is highly fragmented.  This is usually the result of calling `frame.insert` many times, which has poor performance.  Consider joining all columns at once using pd.concat(axis=1) instead. To get a de-fragmented frame, use `newframe = frame.copy()`\n",
      "  final[entity + '_avg_' + str(time)] = final.Recnum.map(temp2.groupby('Recnum')['Amount'].mean())\n",
      "/var/folders/ll/h_rnbgns62bcj0skpd2j0ktr0000gp/T/ipykernel_38628/219860616.py:25: PerformanceWarning: DataFrame is highly fragmented.  This is usually the result of calling `frame.insert` many times, which has poor performance.  Consider joining all columns at once using pd.concat(axis=1) instead. To get a de-fragmented frame, use `newframe = frame.copy()`\n",
      "  final[entity + '_max_' + str(time)] = final.Recnum.map(temp2.groupby('Recnum')['Amount'].max())\n"
     ]
    },
    {
     "name": "stdout",
     "output_type": "stream",
     "text": [
      "Merch state_count_3 ---> Done\n"
     ]
    },
    {
     "name": "stderr",
     "output_type": "stream",
     "text": [
      "/var/folders/ll/h_rnbgns62bcj0skpd2j0ktr0000gp/T/ipykernel_38628/219860616.py:26: PerformanceWarning: DataFrame is highly fragmented.  This is usually the result of calling `frame.insert` many times, which has poor performance.  Consider joining all columns at once using pd.concat(axis=1) instead. To get a de-fragmented frame, use `newframe = frame.copy()`\n",
      "  final[entity + '_med_' + str(time)] = final.Recnum.map(temp2.groupby('Recnum')['Amount'].median())\n",
      "/var/folders/ll/h_rnbgns62bcj0skpd2j0ktr0000gp/T/ipykernel_38628/219860616.py:27: PerformanceWarning: DataFrame is highly fragmented.  This is usually the result of calling `frame.insert` many times, which has poor performance.  Consider joining all columns at once using pd.concat(axis=1) instead. To get a de-fragmented frame, use `newframe = frame.copy()`\n",
      "  final[entity + '_total_' + str(time)] = final.Recnum.map(temp2.groupby('Recnum')['Amount'].sum())\n",
      "/var/folders/ll/h_rnbgns62bcj0skpd2j0ktr0000gp/T/ipykernel_38628/219860616.py:28: PerformanceWarning: DataFrame is highly fragmented.  This is usually the result of calling `frame.insert` many times, which has poor performance.  Consider joining all columns at once using pd.concat(axis=1) instead. To get a de-fragmented frame, use `newframe = frame.copy()`\n",
      "  final[entity + '_actual/avg_' + str(time)] = final['Amount'] / final[entity + '_avg_' + str(time)]\n",
      "/var/folders/ll/h_rnbgns62bcj0skpd2j0ktr0000gp/T/ipykernel_38628/219860616.py:29: PerformanceWarning: DataFrame is highly fragmented.  This is usually the result of calling `frame.insert` many times, which has poor performance.  Consider joining all columns at once using pd.concat(axis=1) instead. To get a de-fragmented frame, use `newframe = frame.copy()`\n",
      "  final[entity + '_actual/max_' + str(time)] = final['Amount'] / final[entity + '_max_' + str(time)]\n",
      "/var/folders/ll/h_rnbgns62bcj0skpd2j0ktr0000gp/T/ipykernel_38628/219860616.py:30: PerformanceWarning: DataFrame is highly fragmented.  This is usually the result of calling `frame.insert` many times, which has poor performance.  Consider joining all columns at once using pd.concat(axis=1) instead. To get a de-fragmented frame, use `newframe = frame.copy()`\n",
      "  final[entity + '_actual/med_' + str(time)] = final['Amount'] / final[entity + '_med_' + str(time)]\n",
      "/var/folders/ll/h_rnbgns62bcj0skpd2j0ktr0000gp/T/ipykernel_38628/219860616.py:31: PerformanceWarning: DataFrame is highly fragmented.  This is usually the result of calling `frame.insert` many times, which has poor performance.  Consider joining all columns at once using pd.concat(axis=1) instead. To get a de-fragmented frame, use `newframe = frame.copy()`\n",
      "  final[entity + '_actual/toal_' + str(time)] = final['Amount'] / final[entity + '_total_' + str(time)]\n"
     ]
    },
    {
     "name": "stdout",
     "output_type": "stream",
     "text": [
      "Merch state amount variables over past 3 ---> Done\n"
     ]
    },
    {
     "name": "stderr",
     "output_type": "stream",
     "text": [
      "/var/folders/ll/h_rnbgns62bcj0skpd2j0ktr0000gp/T/ipykernel_38628/219860616.py:22: PerformanceWarning: DataFrame is highly fragmented.  This is usually the result of calling `frame.insert` many times, which has poor performance.  Consider joining all columns at once using pd.concat(axis=1) instead. To get a de-fragmented frame, use `newframe = frame.copy()`\n",
      "  final[col_name] = final.Recnum.map(mapper2)\n",
      "/var/folders/ll/h_rnbgns62bcj0skpd2j0ktr0000gp/T/ipykernel_38628/219860616.py:24: PerformanceWarning: DataFrame is highly fragmented.  This is usually the result of calling `frame.insert` many times, which has poor performance.  Consider joining all columns at once using pd.concat(axis=1) instead. To get a de-fragmented frame, use `newframe = frame.copy()`\n",
      "  final[entity + '_avg_' + str(time)] = final.Recnum.map(temp2.groupby('Recnum')['Amount'].mean())\n"
     ]
    },
    {
     "name": "stdout",
     "output_type": "stream",
     "text": [
      "Merch state_count_7 ---> Done\n"
     ]
    },
    {
     "name": "stderr",
     "output_type": "stream",
     "text": [
      "/var/folders/ll/h_rnbgns62bcj0skpd2j0ktr0000gp/T/ipykernel_38628/219860616.py:25: PerformanceWarning: DataFrame is highly fragmented.  This is usually the result of calling `frame.insert` many times, which has poor performance.  Consider joining all columns at once using pd.concat(axis=1) instead. To get a de-fragmented frame, use `newframe = frame.copy()`\n",
      "  final[entity + '_max_' + str(time)] = final.Recnum.map(temp2.groupby('Recnum')['Amount'].max())\n",
      "/var/folders/ll/h_rnbgns62bcj0skpd2j0ktr0000gp/T/ipykernel_38628/219860616.py:26: PerformanceWarning: DataFrame is highly fragmented.  This is usually the result of calling `frame.insert` many times, which has poor performance.  Consider joining all columns at once using pd.concat(axis=1) instead. To get a de-fragmented frame, use `newframe = frame.copy()`\n",
      "  final[entity + '_med_' + str(time)] = final.Recnum.map(temp2.groupby('Recnum')['Amount'].median())\n",
      "/var/folders/ll/h_rnbgns62bcj0skpd2j0ktr0000gp/T/ipykernel_38628/219860616.py:27: PerformanceWarning: DataFrame is highly fragmented.  This is usually the result of calling `frame.insert` many times, which has poor performance.  Consider joining all columns at once using pd.concat(axis=1) instead. To get a de-fragmented frame, use `newframe = frame.copy()`\n",
      "  final[entity + '_total_' + str(time)] = final.Recnum.map(temp2.groupby('Recnum')['Amount'].sum())\n",
      "/var/folders/ll/h_rnbgns62bcj0skpd2j0ktr0000gp/T/ipykernel_38628/219860616.py:28: PerformanceWarning: DataFrame is highly fragmented.  This is usually the result of calling `frame.insert` many times, which has poor performance.  Consider joining all columns at once using pd.concat(axis=1) instead. To get a de-fragmented frame, use `newframe = frame.copy()`\n",
      "  final[entity + '_actual/avg_' + str(time)] = final['Amount'] / final[entity + '_avg_' + str(time)]\n",
      "/var/folders/ll/h_rnbgns62bcj0skpd2j0ktr0000gp/T/ipykernel_38628/219860616.py:29: PerformanceWarning: DataFrame is highly fragmented.  This is usually the result of calling `frame.insert` many times, which has poor performance.  Consider joining all columns at once using pd.concat(axis=1) instead. To get a de-fragmented frame, use `newframe = frame.copy()`\n",
      "  final[entity + '_actual/max_' + str(time)] = final['Amount'] / final[entity + '_max_' + str(time)]\n",
      "/var/folders/ll/h_rnbgns62bcj0skpd2j0ktr0000gp/T/ipykernel_38628/219860616.py:30: PerformanceWarning: DataFrame is highly fragmented.  This is usually the result of calling `frame.insert` many times, which has poor performance.  Consider joining all columns at once using pd.concat(axis=1) instead. To get a de-fragmented frame, use `newframe = frame.copy()`\n",
      "  final[entity + '_actual/med_' + str(time)] = final['Amount'] / final[entity + '_med_' + str(time)]\n",
      "/var/folders/ll/h_rnbgns62bcj0skpd2j0ktr0000gp/T/ipykernel_38628/219860616.py:31: PerformanceWarning: DataFrame is highly fragmented.  This is usually the result of calling `frame.insert` many times, which has poor performance.  Consider joining all columns at once using pd.concat(axis=1) instead. To get a de-fragmented frame, use `newframe = frame.copy()`\n",
      "  final[entity + '_actual/toal_' + str(time)] = final['Amount'] / final[entity + '_total_' + str(time)]\n"
     ]
    },
    {
     "name": "stdout",
     "output_type": "stream",
     "text": [
      "Merch state amount variables over past 7 ---> Done\n"
     ]
    },
    {
     "name": "stderr",
     "output_type": "stream",
     "text": [
      "/var/folders/ll/h_rnbgns62bcj0skpd2j0ktr0000gp/T/ipykernel_38628/219860616.py:22: PerformanceWarning: DataFrame is highly fragmented.  This is usually the result of calling `frame.insert` many times, which has poor performance.  Consider joining all columns at once using pd.concat(axis=1) instead. To get a de-fragmented frame, use `newframe = frame.copy()`\n",
      "  final[col_name] = final.Recnum.map(mapper2)\n"
     ]
    },
    {
     "name": "stdout",
     "output_type": "stream",
     "text": [
      "Merch state_count_14 ---> Done\n"
     ]
    },
    {
     "name": "stderr",
     "output_type": "stream",
     "text": [
      "/var/folders/ll/h_rnbgns62bcj0skpd2j0ktr0000gp/T/ipykernel_38628/219860616.py:24: PerformanceWarning: DataFrame is highly fragmented.  This is usually the result of calling `frame.insert` many times, which has poor performance.  Consider joining all columns at once using pd.concat(axis=1) instead. To get a de-fragmented frame, use `newframe = frame.copy()`\n",
      "  final[entity + '_avg_' + str(time)] = final.Recnum.map(temp2.groupby('Recnum')['Amount'].mean())\n",
      "/var/folders/ll/h_rnbgns62bcj0skpd2j0ktr0000gp/T/ipykernel_38628/219860616.py:25: PerformanceWarning: DataFrame is highly fragmented.  This is usually the result of calling `frame.insert` many times, which has poor performance.  Consider joining all columns at once using pd.concat(axis=1) instead. To get a de-fragmented frame, use `newframe = frame.copy()`\n",
      "  final[entity + '_max_' + str(time)] = final.Recnum.map(temp2.groupby('Recnum')['Amount'].max())\n",
      "/var/folders/ll/h_rnbgns62bcj0skpd2j0ktr0000gp/T/ipykernel_38628/219860616.py:26: PerformanceWarning: DataFrame is highly fragmented.  This is usually the result of calling `frame.insert` many times, which has poor performance.  Consider joining all columns at once using pd.concat(axis=1) instead. To get a de-fragmented frame, use `newframe = frame.copy()`\n",
      "  final[entity + '_med_' + str(time)] = final.Recnum.map(temp2.groupby('Recnum')['Amount'].median())\n",
      "/var/folders/ll/h_rnbgns62bcj0skpd2j0ktr0000gp/T/ipykernel_38628/219860616.py:27: PerformanceWarning: DataFrame is highly fragmented.  This is usually the result of calling `frame.insert` many times, which has poor performance.  Consider joining all columns at once using pd.concat(axis=1) instead. To get a de-fragmented frame, use `newframe = frame.copy()`\n",
      "  final[entity + '_total_' + str(time)] = final.Recnum.map(temp2.groupby('Recnum')['Amount'].sum())\n",
      "/var/folders/ll/h_rnbgns62bcj0skpd2j0ktr0000gp/T/ipykernel_38628/219860616.py:28: PerformanceWarning: DataFrame is highly fragmented.  This is usually the result of calling `frame.insert` many times, which has poor performance.  Consider joining all columns at once using pd.concat(axis=1) instead. To get a de-fragmented frame, use `newframe = frame.copy()`\n",
      "  final[entity + '_actual/avg_' + str(time)] = final['Amount'] / final[entity + '_avg_' + str(time)]\n",
      "/var/folders/ll/h_rnbgns62bcj0skpd2j0ktr0000gp/T/ipykernel_38628/219860616.py:29: PerformanceWarning: DataFrame is highly fragmented.  This is usually the result of calling `frame.insert` many times, which has poor performance.  Consider joining all columns at once using pd.concat(axis=1) instead. To get a de-fragmented frame, use `newframe = frame.copy()`\n",
      "  final[entity + '_actual/max_' + str(time)] = final['Amount'] / final[entity + '_max_' + str(time)]\n",
      "/var/folders/ll/h_rnbgns62bcj0skpd2j0ktr0000gp/T/ipykernel_38628/219860616.py:30: PerformanceWarning: DataFrame is highly fragmented.  This is usually the result of calling `frame.insert` many times, which has poor performance.  Consider joining all columns at once using pd.concat(axis=1) instead. To get a de-fragmented frame, use `newframe = frame.copy()`\n",
      "  final[entity + '_actual/med_' + str(time)] = final['Amount'] / final[entity + '_med_' + str(time)]\n",
      "/var/folders/ll/h_rnbgns62bcj0skpd2j0ktr0000gp/T/ipykernel_38628/219860616.py:31: PerformanceWarning: DataFrame is highly fragmented.  This is usually the result of calling `frame.insert` many times, which has poor performance.  Consider joining all columns at once using pd.concat(axis=1) instead. To get a de-fragmented frame, use `newframe = frame.copy()`\n",
      "  final[entity + '_actual/toal_' + str(time)] = final['Amount'] / final[entity + '_total_' + str(time)]\n"
     ]
    },
    {
     "name": "stdout",
     "output_type": "stream",
     "text": [
      "Merch state amount variables over past 14 ---> Done\n"
     ]
    },
    {
     "name": "stderr",
     "output_type": "stream",
     "text": [
      "/var/folders/ll/h_rnbgns62bcj0skpd2j0ktr0000gp/T/ipykernel_38628/219860616.py:22: PerformanceWarning: DataFrame is highly fragmented.  This is usually the result of calling `frame.insert` many times, which has poor performance.  Consider joining all columns at once using pd.concat(axis=1) instead. To get a de-fragmented frame, use `newframe = frame.copy()`\n",
      "  final[col_name] = final.Recnum.map(mapper2)\n"
     ]
    },
    {
     "name": "stdout",
     "output_type": "stream",
     "text": [
      "Merch state_count_30 ---> Done\n"
     ]
    },
    {
     "name": "stderr",
     "output_type": "stream",
     "text": [
      "/var/folders/ll/h_rnbgns62bcj0skpd2j0ktr0000gp/T/ipykernel_38628/219860616.py:24: PerformanceWarning: DataFrame is highly fragmented.  This is usually the result of calling `frame.insert` many times, which has poor performance.  Consider joining all columns at once using pd.concat(axis=1) instead. To get a de-fragmented frame, use `newframe = frame.copy()`\n",
      "  final[entity + '_avg_' + str(time)] = final.Recnum.map(temp2.groupby('Recnum')['Amount'].mean())\n",
      "/var/folders/ll/h_rnbgns62bcj0skpd2j0ktr0000gp/T/ipykernel_38628/219860616.py:25: PerformanceWarning: DataFrame is highly fragmented.  This is usually the result of calling `frame.insert` many times, which has poor performance.  Consider joining all columns at once using pd.concat(axis=1) instead. To get a de-fragmented frame, use `newframe = frame.copy()`\n",
      "  final[entity + '_max_' + str(time)] = final.Recnum.map(temp2.groupby('Recnum')['Amount'].max())\n",
      "/var/folders/ll/h_rnbgns62bcj0skpd2j0ktr0000gp/T/ipykernel_38628/219860616.py:26: PerformanceWarning: DataFrame is highly fragmented.  This is usually the result of calling `frame.insert` many times, which has poor performance.  Consider joining all columns at once using pd.concat(axis=1) instead. To get a de-fragmented frame, use `newframe = frame.copy()`\n",
      "  final[entity + '_med_' + str(time)] = final.Recnum.map(temp2.groupby('Recnum')['Amount'].median())\n",
      "/var/folders/ll/h_rnbgns62bcj0skpd2j0ktr0000gp/T/ipykernel_38628/219860616.py:27: PerformanceWarning: DataFrame is highly fragmented.  This is usually the result of calling `frame.insert` many times, which has poor performance.  Consider joining all columns at once using pd.concat(axis=1) instead. To get a de-fragmented frame, use `newframe = frame.copy()`\n",
      "  final[entity + '_total_' + str(time)] = final.Recnum.map(temp2.groupby('Recnum')['Amount'].sum())\n",
      "/var/folders/ll/h_rnbgns62bcj0skpd2j0ktr0000gp/T/ipykernel_38628/219860616.py:28: PerformanceWarning: DataFrame is highly fragmented.  This is usually the result of calling `frame.insert` many times, which has poor performance.  Consider joining all columns at once using pd.concat(axis=1) instead. To get a de-fragmented frame, use `newframe = frame.copy()`\n",
      "  final[entity + '_actual/avg_' + str(time)] = final['Amount'] / final[entity + '_avg_' + str(time)]\n",
      "/var/folders/ll/h_rnbgns62bcj0skpd2j0ktr0000gp/T/ipykernel_38628/219860616.py:29: PerformanceWarning: DataFrame is highly fragmented.  This is usually the result of calling `frame.insert` many times, which has poor performance.  Consider joining all columns at once using pd.concat(axis=1) instead. To get a de-fragmented frame, use `newframe = frame.copy()`\n",
      "  final[entity + '_actual/max_' + str(time)] = final['Amount'] / final[entity + '_max_' + str(time)]\n",
      "/var/folders/ll/h_rnbgns62bcj0skpd2j0ktr0000gp/T/ipykernel_38628/219860616.py:30: PerformanceWarning: DataFrame is highly fragmented.  This is usually the result of calling `frame.insert` many times, which has poor performance.  Consider joining all columns at once using pd.concat(axis=1) instead. To get a de-fragmented frame, use `newframe = frame.copy()`\n",
      "  final[entity + '_actual/med_' + str(time)] = final['Amount'] / final[entity + '_med_' + str(time)]\n",
      "/var/folders/ll/h_rnbgns62bcj0skpd2j0ktr0000gp/T/ipykernel_38628/219860616.py:31: PerformanceWarning: DataFrame is highly fragmented.  This is usually the result of calling `frame.insert` many times, which has poor performance.  Consider joining all columns at once using pd.concat(axis=1) instead. To get a de-fragmented frame, use `newframe = frame.copy()`\n",
      "  final[entity + '_actual/toal_' + str(time)] = final['Amount'] / final[entity + '_total_' + str(time)]\n"
     ]
    },
    {
     "name": "stdout",
     "output_type": "stream",
     "text": [
      "Merch state amount variables over past 30 ---> Done\n",
      "Run time for the last entity ----------------- 210.66733487499997s\n"
     ]
    },
    {
     "name": "stderr",
     "output_type": "stream",
     "text": [
      "/var/folders/ll/h_rnbgns62bcj0skpd2j0ktr0000gp/T/ipykernel_38628/219860616.py:13: PerformanceWarning: DataFrame is highly fragmented.  This is usually the result of calling `frame.insert` many times, which has poor performance.  Consider joining all columns at once using pd.concat(axis=1) instead. To get a de-fragmented frame, use `newframe = frame.copy()`\n",
      "  final[entity + '_day_since'] = final.Recnum.map(mapper)\n"
     ]
    },
    {
     "name": "stdout",
     "output_type": "stream",
     "text": [
      "\n",
      "Month_day_since ---> Done\n"
     ]
    },
    {
     "name": "stderr",
     "output_type": "stream",
     "text": [
      "/var/folders/ll/h_rnbgns62bcj0skpd2j0ktr0000gp/T/ipykernel_38628/219860616.py:22: PerformanceWarning: DataFrame is highly fragmented.  This is usually the result of calling `frame.insert` many times, which has poor performance.  Consider joining all columns at once using pd.concat(axis=1) instead. To get a de-fragmented frame, use `newframe = frame.copy()`\n",
      "  final[col_name] = final.Recnum.map(mapper2)\n",
      "/var/folders/ll/h_rnbgns62bcj0skpd2j0ktr0000gp/T/ipykernel_38628/219860616.py:24: PerformanceWarning: DataFrame is highly fragmented.  This is usually the result of calling `frame.insert` many times, which has poor performance.  Consider joining all columns at once using pd.concat(axis=1) instead. To get a de-fragmented frame, use `newframe = frame.copy()`\n",
      "  final[entity + '_avg_' + str(time)] = final.Recnum.map(temp2.groupby('Recnum')['Amount'].mean())\n"
     ]
    },
    {
     "name": "stdout",
     "output_type": "stream",
     "text": [
      "Month_count_0 ---> Done\n"
     ]
    },
    {
     "name": "stderr",
     "output_type": "stream",
     "text": [
      "/var/folders/ll/h_rnbgns62bcj0skpd2j0ktr0000gp/T/ipykernel_38628/219860616.py:25: PerformanceWarning: DataFrame is highly fragmented.  This is usually the result of calling `frame.insert` many times, which has poor performance.  Consider joining all columns at once using pd.concat(axis=1) instead. To get a de-fragmented frame, use `newframe = frame.copy()`\n",
      "  final[entity + '_max_' + str(time)] = final.Recnum.map(temp2.groupby('Recnum')['Amount'].max())\n",
      "/var/folders/ll/h_rnbgns62bcj0skpd2j0ktr0000gp/T/ipykernel_38628/219860616.py:26: PerformanceWarning: DataFrame is highly fragmented.  This is usually the result of calling `frame.insert` many times, which has poor performance.  Consider joining all columns at once using pd.concat(axis=1) instead. To get a de-fragmented frame, use `newframe = frame.copy()`\n",
      "  final[entity + '_med_' + str(time)] = final.Recnum.map(temp2.groupby('Recnum')['Amount'].median())\n",
      "/var/folders/ll/h_rnbgns62bcj0skpd2j0ktr0000gp/T/ipykernel_38628/219860616.py:27: PerformanceWarning: DataFrame is highly fragmented.  This is usually the result of calling `frame.insert` many times, which has poor performance.  Consider joining all columns at once using pd.concat(axis=1) instead. To get a de-fragmented frame, use `newframe = frame.copy()`\n",
      "  final[entity + '_total_' + str(time)] = final.Recnum.map(temp2.groupby('Recnum')['Amount'].sum())\n",
      "/var/folders/ll/h_rnbgns62bcj0skpd2j0ktr0000gp/T/ipykernel_38628/219860616.py:28: PerformanceWarning: DataFrame is highly fragmented.  This is usually the result of calling `frame.insert` many times, which has poor performance.  Consider joining all columns at once using pd.concat(axis=1) instead. To get a de-fragmented frame, use `newframe = frame.copy()`\n",
      "  final[entity + '_actual/avg_' + str(time)] = final['Amount'] / final[entity + '_avg_' + str(time)]\n",
      "/var/folders/ll/h_rnbgns62bcj0skpd2j0ktr0000gp/T/ipykernel_38628/219860616.py:29: PerformanceWarning: DataFrame is highly fragmented.  This is usually the result of calling `frame.insert` many times, which has poor performance.  Consider joining all columns at once using pd.concat(axis=1) instead. To get a de-fragmented frame, use `newframe = frame.copy()`\n",
      "  final[entity + '_actual/max_' + str(time)] = final['Amount'] / final[entity + '_max_' + str(time)]\n",
      "/var/folders/ll/h_rnbgns62bcj0skpd2j0ktr0000gp/T/ipykernel_38628/219860616.py:30: PerformanceWarning: DataFrame is highly fragmented.  This is usually the result of calling `frame.insert` many times, which has poor performance.  Consider joining all columns at once using pd.concat(axis=1) instead. To get a de-fragmented frame, use `newframe = frame.copy()`\n",
      "  final[entity + '_actual/med_' + str(time)] = final['Amount'] / final[entity + '_med_' + str(time)]\n",
      "/var/folders/ll/h_rnbgns62bcj0skpd2j0ktr0000gp/T/ipykernel_38628/219860616.py:31: PerformanceWarning: DataFrame is highly fragmented.  This is usually the result of calling `frame.insert` many times, which has poor performance.  Consider joining all columns at once using pd.concat(axis=1) instead. To get a de-fragmented frame, use `newframe = frame.copy()`\n",
      "  final[entity + '_actual/toal_' + str(time)] = final['Amount'] / final[entity + '_total_' + str(time)]\n"
     ]
    },
    {
     "name": "stdout",
     "output_type": "stream",
     "text": [
      "Month amount variables over past 0 ---> Done\n"
     ]
    },
    {
     "name": "stderr",
     "output_type": "stream",
     "text": [
      "/var/folders/ll/h_rnbgns62bcj0skpd2j0ktr0000gp/T/ipykernel_38628/219860616.py:22: PerformanceWarning: DataFrame is highly fragmented.  This is usually the result of calling `frame.insert` many times, which has poor performance.  Consider joining all columns at once using pd.concat(axis=1) instead. To get a de-fragmented frame, use `newframe = frame.copy()`\n",
      "  final[col_name] = final.Recnum.map(mapper2)\n"
     ]
    },
    {
     "name": "stdout",
     "output_type": "stream",
     "text": [
      "Month_count_1 ---> Done\n"
     ]
    },
    {
     "name": "stderr",
     "output_type": "stream",
     "text": [
      "/var/folders/ll/h_rnbgns62bcj0skpd2j0ktr0000gp/T/ipykernel_38628/219860616.py:24: PerformanceWarning: DataFrame is highly fragmented.  This is usually the result of calling `frame.insert` many times, which has poor performance.  Consider joining all columns at once using pd.concat(axis=1) instead. To get a de-fragmented frame, use `newframe = frame.copy()`\n",
      "  final[entity + '_avg_' + str(time)] = final.Recnum.map(temp2.groupby('Recnum')['Amount'].mean())\n",
      "/var/folders/ll/h_rnbgns62bcj0skpd2j0ktr0000gp/T/ipykernel_38628/219860616.py:25: PerformanceWarning: DataFrame is highly fragmented.  This is usually the result of calling `frame.insert` many times, which has poor performance.  Consider joining all columns at once using pd.concat(axis=1) instead. To get a de-fragmented frame, use `newframe = frame.copy()`\n",
      "  final[entity + '_max_' + str(time)] = final.Recnum.map(temp2.groupby('Recnum')['Amount'].max())\n",
      "/var/folders/ll/h_rnbgns62bcj0skpd2j0ktr0000gp/T/ipykernel_38628/219860616.py:26: PerformanceWarning: DataFrame is highly fragmented.  This is usually the result of calling `frame.insert` many times, which has poor performance.  Consider joining all columns at once using pd.concat(axis=1) instead. To get a de-fragmented frame, use `newframe = frame.copy()`\n",
      "  final[entity + '_med_' + str(time)] = final.Recnum.map(temp2.groupby('Recnum')['Amount'].median())\n",
      "/var/folders/ll/h_rnbgns62bcj0skpd2j0ktr0000gp/T/ipykernel_38628/219860616.py:27: PerformanceWarning: DataFrame is highly fragmented.  This is usually the result of calling `frame.insert` many times, which has poor performance.  Consider joining all columns at once using pd.concat(axis=1) instead. To get a de-fragmented frame, use `newframe = frame.copy()`\n",
      "  final[entity + '_total_' + str(time)] = final.Recnum.map(temp2.groupby('Recnum')['Amount'].sum())\n",
      "/var/folders/ll/h_rnbgns62bcj0skpd2j0ktr0000gp/T/ipykernel_38628/219860616.py:28: PerformanceWarning: DataFrame is highly fragmented.  This is usually the result of calling `frame.insert` many times, which has poor performance.  Consider joining all columns at once using pd.concat(axis=1) instead. To get a de-fragmented frame, use `newframe = frame.copy()`\n",
      "  final[entity + '_actual/avg_' + str(time)] = final['Amount'] / final[entity + '_avg_' + str(time)]\n",
      "/var/folders/ll/h_rnbgns62bcj0skpd2j0ktr0000gp/T/ipykernel_38628/219860616.py:29: PerformanceWarning: DataFrame is highly fragmented.  This is usually the result of calling `frame.insert` many times, which has poor performance.  Consider joining all columns at once using pd.concat(axis=1) instead. To get a de-fragmented frame, use `newframe = frame.copy()`\n",
      "  final[entity + '_actual/max_' + str(time)] = final['Amount'] / final[entity + '_max_' + str(time)]\n",
      "/var/folders/ll/h_rnbgns62bcj0skpd2j0ktr0000gp/T/ipykernel_38628/219860616.py:30: PerformanceWarning: DataFrame is highly fragmented.  This is usually the result of calling `frame.insert` many times, which has poor performance.  Consider joining all columns at once using pd.concat(axis=1) instead. To get a de-fragmented frame, use `newframe = frame.copy()`\n",
      "  final[entity + '_actual/med_' + str(time)] = final['Amount'] / final[entity + '_med_' + str(time)]\n",
      "/var/folders/ll/h_rnbgns62bcj0skpd2j0ktr0000gp/T/ipykernel_38628/219860616.py:31: PerformanceWarning: DataFrame is highly fragmented.  This is usually the result of calling `frame.insert` many times, which has poor performance.  Consider joining all columns at once using pd.concat(axis=1) instead. To get a de-fragmented frame, use `newframe = frame.copy()`\n",
      "  final[entity + '_actual/toal_' + str(time)] = final['Amount'] / final[entity + '_total_' + str(time)]\n"
     ]
    },
    {
     "name": "stdout",
     "output_type": "stream",
     "text": [
      "Month amount variables over past 1 ---> Done\n"
     ]
    },
    {
     "name": "stderr",
     "output_type": "stream",
     "text": [
      "/var/folders/ll/h_rnbgns62bcj0skpd2j0ktr0000gp/T/ipykernel_38628/219860616.py:22: PerformanceWarning: DataFrame is highly fragmented.  This is usually the result of calling `frame.insert` many times, which has poor performance.  Consider joining all columns at once using pd.concat(axis=1) instead. To get a de-fragmented frame, use `newframe = frame.copy()`\n",
      "  final[col_name] = final.Recnum.map(mapper2)\n"
     ]
    },
    {
     "name": "stdout",
     "output_type": "stream",
     "text": [
      "Month_count_3 ---> Done\n"
     ]
    },
    {
     "name": "stderr",
     "output_type": "stream",
     "text": [
      "/var/folders/ll/h_rnbgns62bcj0skpd2j0ktr0000gp/T/ipykernel_38628/219860616.py:24: PerformanceWarning: DataFrame is highly fragmented.  This is usually the result of calling `frame.insert` many times, which has poor performance.  Consider joining all columns at once using pd.concat(axis=1) instead. To get a de-fragmented frame, use `newframe = frame.copy()`\n",
      "  final[entity + '_avg_' + str(time)] = final.Recnum.map(temp2.groupby('Recnum')['Amount'].mean())\n",
      "/var/folders/ll/h_rnbgns62bcj0skpd2j0ktr0000gp/T/ipykernel_38628/219860616.py:25: PerformanceWarning: DataFrame is highly fragmented.  This is usually the result of calling `frame.insert` many times, which has poor performance.  Consider joining all columns at once using pd.concat(axis=1) instead. To get a de-fragmented frame, use `newframe = frame.copy()`\n",
      "  final[entity + '_max_' + str(time)] = final.Recnum.map(temp2.groupby('Recnum')['Amount'].max())\n",
      "/var/folders/ll/h_rnbgns62bcj0skpd2j0ktr0000gp/T/ipykernel_38628/219860616.py:26: PerformanceWarning: DataFrame is highly fragmented.  This is usually the result of calling `frame.insert` many times, which has poor performance.  Consider joining all columns at once using pd.concat(axis=1) instead. To get a de-fragmented frame, use `newframe = frame.copy()`\n",
      "  final[entity + '_med_' + str(time)] = final.Recnum.map(temp2.groupby('Recnum')['Amount'].median())\n",
      "/var/folders/ll/h_rnbgns62bcj0skpd2j0ktr0000gp/T/ipykernel_38628/219860616.py:27: PerformanceWarning: DataFrame is highly fragmented.  This is usually the result of calling `frame.insert` many times, which has poor performance.  Consider joining all columns at once using pd.concat(axis=1) instead. To get a de-fragmented frame, use `newframe = frame.copy()`\n",
      "  final[entity + '_total_' + str(time)] = final.Recnum.map(temp2.groupby('Recnum')['Amount'].sum())\n",
      "/var/folders/ll/h_rnbgns62bcj0skpd2j0ktr0000gp/T/ipykernel_38628/219860616.py:28: PerformanceWarning: DataFrame is highly fragmented.  This is usually the result of calling `frame.insert` many times, which has poor performance.  Consider joining all columns at once using pd.concat(axis=1) instead. To get a de-fragmented frame, use `newframe = frame.copy()`\n",
      "  final[entity + '_actual/avg_' + str(time)] = final['Amount'] / final[entity + '_avg_' + str(time)]\n",
      "/var/folders/ll/h_rnbgns62bcj0skpd2j0ktr0000gp/T/ipykernel_38628/219860616.py:29: PerformanceWarning: DataFrame is highly fragmented.  This is usually the result of calling `frame.insert` many times, which has poor performance.  Consider joining all columns at once using pd.concat(axis=1) instead. To get a de-fragmented frame, use `newframe = frame.copy()`\n",
      "  final[entity + '_actual/max_' + str(time)] = final['Amount'] / final[entity + '_max_' + str(time)]\n",
      "/var/folders/ll/h_rnbgns62bcj0skpd2j0ktr0000gp/T/ipykernel_38628/219860616.py:30: PerformanceWarning: DataFrame is highly fragmented.  This is usually the result of calling `frame.insert` many times, which has poor performance.  Consider joining all columns at once using pd.concat(axis=1) instead. To get a de-fragmented frame, use `newframe = frame.copy()`\n",
      "  final[entity + '_actual/med_' + str(time)] = final['Amount'] / final[entity + '_med_' + str(time)]\n",
      "/var/folders/ll/h_rnbgns62bcj0skpd2j0ktr0000gp/T/ipykernel_38628/219860616.py:31: PerformanceWarning: DataFrame is highly fragmented.  This is usually the result of calling `frame.insert` many times, which has poor performance.  Consider joining all columns at once using pd.concat(axis=1) instead. To get a de-fragmented frame, use `newframe = frame.copy()`\n",
      "  final[entity + '_actual/toal_' + str(time)] = final['Amount'] / final[entity + '_total_' + str(time)]\n"
     ]
    },
    {
     "name": "stdout",
     "output_type": "stream",
     "text": [
      "Month amount variables over past 3 ---> Done\n"
     ]
    },
    {
     "name": "stderr",
     "output_type": "stream",
     "text": [
      "/var/folders/ll/h_rnbgns62bcj0skpd2j0ktr0000gp/T/ipykernel_38628/219860616.py:22: PerformanceWarning: DataFrame is highly fragmented.  This is usually the result of calling `frame.insert` many times, which has poor performance.  Consider joining all columns at once using pd.concat(axis=1) instead. To get a de-fragmented frame, use `newframe = frame.copy()`\n",
      "  final[col_name] = final.Recnum.map(mapper2)\n"
     ]
    },
    {
     "name": "stdout",
     "output_type": "stream",
     "text": [
      "Month_count_7 ---> Done\n"
     ]
    },
    {
     "name": "stderr",
     "output_type": "stream",
     "text": [
      "/var/folders/ll/h_rnbgns62bcj0skpd2j0ktr0000gp/T/ipykernel_38628/219860616.py:24: PerformanceWarning: DataFrame is highly fragmented.  This is usually the result of calling `frame.insert` many times, which has poor performance.  Consider joining all columns at once using pd.concat(axis=1) instead. To get a de-fragmented frame, use `newframe = frame.copy()`\n",
      "  final[entity + '_avg_' + str(time)] = final.Recnum.map(temp2.groupby('Recnum')['Amount'].mean())\n",
      "/var/folders/ll/h_rnbgns62bcj0skpd2j0ktr0000gp/T/ipykernel_38628/219860616.py:25: PerformanceWarning: DataFrame is highly fragmented.  This is usually the result of calling `frame.insert` many times, which has poor performance.  Consider joining all columns at once using pd.concat(axis=1) instead. To get a de-fragmented frame, use `newframe = frame.copy()`\n",
      "  final[entity + '_max_' + str(time)] = final.Recnum.map(temp2.groupby('Recnum')['Amount'].max())\n",
      "/var/folders/ll/h_rnbgns62bcj0skpd2j0ktr0000gp/T/ipykernel_38628/219860616.py:26: PerformanceWarning: DataFrame is highly fragmented.  This is usually the result of calling `frame.insert` many times, which has poor performance.  Consider joining all columns at once using pd.concat(axis=1) instead. To get a de-fragmented frame, use `newframe = frame.copy()`\n",
      "  final[entity + '_med_' + str(time)] = final.Recnum.map(temp2.groupby('Recnum')['Amount'].median())\n",
      "/var/folders/ll/h_rnbgns62bcj0skpd2j0ktr0000gp/T/ipykernel_38628/219860616.py:27: PerformanceWarning: DataFrame is highly fragmented.  This is usually the result of calling `frame.insert` many times, which has poor performance.  Consider joining all columns at once using pd.concat(axis=1) instead. To get a de-fragmented frame, use `newframe = frame.copy()`\n",
      "  final[entity + '_total_' + str(time)] = final.Recnum.map(temp2.groupby('Recnum')['Amount'].sum())\n",
      "/var/folders/ll/h_rnbgns62bcj0skpd2j0ktr0000gp/T/ipykernel_38628/219860616.py:28: PerformanceWarning: DataFrame is highly fragmented.  This is usually the result of calling `frame.insert` many times, which has poor performance.  Consider joining all columns at once using pd.concat(axis=1) instead. To get a de-fragmented frame, use `newframe = frame.copy()`\n",
      "  final[entity + '_actual/avg_' + str(time)] = final['Amount'] / final[entity + '_avg_' + str(time)]\n",
      "/var/folders/ll/h_rnbgns62bcj0skpd2j0ktr0000gp/T/ipykernel_38628/219860616.py:29: PerformanceWarning: DataFrame is highly fragmented.  This is usually the result of calling `frame.insert` many times, which has poor performance.  Consider joining all columns at once using pd.concat(axis=1) instead. To get a de-fragmented frame, use `newframe = frame.copy()`\n",
      "  final[entity + '_actual/max_' + str(time)] = final['Amount'] / final[entity + '_max_' + str(time)]\n",
      "/var/folders/ll/h_rnbgns62bcj0skpd2j0ktr0000gp/T/ipykernel_38628/219860616.py:30: PerformanceWarning: DataFrame is highly fragmented.  This is usually the result of calling `frame.insert` many times, which has poor performance.  Consider joining all columns at once using pd.concat(axis=1) instead. To get a de-fragmented frame, use `newframe = frame.copy()`\n",
      "  final[entity + '_actual/med_' + str(time)] = final['Amount'] / final[entity + '_med_' + str(time)]\n",
      "/var/folders/ll/h_rnbgns62bcj0skpd2j0ktr0000gp/T/ipykernel_38628/219860616.py:31: PerformanceWarning: DataFrame is highly fragmented.  This is usually the result of calling `frame.insert` many times, which has poor performance.  Consider joining all columns at once using pd.concat(axis=1) instead. To get a de-fragmented frame, use `newframe = frame.copy()`\n",
      "  final[entity + '_actual/toal_' + str(time)] = final['Amount'] / final[entity + '_total_' + str(time)]\n"
     ]
    },
    {
     "name": "stdout",
     "output_type": "stream",
     "text": [
      "Month amount variables over past 7 ---> Done\n"
     ]
    },
    {
     "name": "stderr",
     "output_type": "stream",
     "text": [
      "/var/folders/ll/h_rnbgns62bcj0skpd2j0ktr0000gp/T/ipykernel_38628/219860616.py:22: PerformanceWarning: DataFrame is highly fragmented.  This is usually the result of calling `frame.insert` many times, which has poor performance.  Consider joining all columns at once using pd.concat(axis=1) instead. To get a de-fragmented frame, use `newframe = frame.copy()`\n",
      "  final[col_name] = final.Recnum.map(mapper2)\n"
     ]
    },
    {
     "name": "stdout",
     "output_type": "stream",
     "text": [
      "Month_count_14 ---> Done\n"
     ]
    },
    {
     "name": "stderr",
     "output_type": "stream",
     "text": [
      "/var/folders/ll/h_rnbgns62bcj0skpd2j0ktr0000gp/T/ipykernel_38628/219860616.py:24: PerformanceWarning: DataFrame is highly fragmented.  This is usually the result of calling `frame.insert` many times, which has poor performance.  Consider joining all columns at once using pd.concat(axis=1) instead. To get a de-fragmented frame, use `newframe = frame.copy()`\n",
      "  final[entity + '_avg_' + str(time)] = final.Recnum.map(temp2.groupby('Recnum')['Amount'].mean())\n",
      "/var/folders/ll/h_rnbgns62bcj0skpd2j0ktr0000gp/T/ipykernel_38628/219860616.py:25: PerformanceWarning: DataFrame is highly fragmented.  This is usually the result of calling `frame.insert` many times, which has poor performance.  Consider joining all columns at once using pd.concat(axis=1) instead. To get a de-fragmented frame, use `newframe = frame.copy()`\n",
      "  final[entity + '_max_' + str(time)] = final.Recnum.map(temp2.groupby('Recnum')['Amount'].max())\n",
      "/var/folders/ll/h_rnbgns62bcj0skpd2j0ktr0000gp/T/ipykernel_38628/219860616.py:26: PerformanceWarning: DataFrame is highly fragmented.  This is usually the result of calling `frame.insert` many times, which has poor performance.  Consider joining all columns at once using pd.concat(axis=1) instead. To get a de-fragmented frame, use `newframe = frame.copy()`\n",
      "  final[entity + '_med_' + str(time)] = final.Recnum.map(temp2.groupby('Recnum')['Amount'].median())\n",
      "/var/folders/ll/h_rnbgns62bcj0skpd2j0ktr0000gp/T/ipykernel_38628/219860616.py:27: PerformanceWarning: DataFrame is highly fragmented.  This is usually the result of calling `frame.insert` many times, which has poor performance.  Consider joining all columns at once using pd.concat(axis=1) instead. To get a de-fragmented frame, use `newframe = frame.copy()`\n",
      "  final[entity + '_total_' + str(time)] = final.Recnum.map(temp2.groupby('Recnum')['Amount'].sum())\n",
      "/var/folders/ll/h_rnbgns62bcj0skpd2j0ktr0000gp/T/ipykernel_38628/219860616.py:28: PerformanceWarning: DataFrame is highly fragmented.  This is usually the result of calling `frame.insert` many times, which has poor performance.  Consider joining all columns at once using pd.concat(axis=1) instead. To get a de-fragmented frame, use `newframe = frame.copy()`\n",
      "  final[entity + '_actual/avg_' + str(time)] = final['Amount'] / final[entity + '_avg_' + str(time)]\n",
      "/var/folders/ll/h_rnbgns62bcj0skpd2j0ktr0000gp/T/ipykernel_38628/219860616.py:29: PerformanceWarning: DataFrame is highly fragmented.  This is usually the result of calling `frame.insert` many times, which has poor performance.  Consider joining all columns at once using pd.concat(axis=1) instead. To get a de-fragmented frame, use `newframe = frame.copy()`\n",
      "  final[entity + '_actual/max_' + str(time)] = final['Amount'] / final[entity + '_max_' + str(time)]\n",
      "/var/folders/ll/h_rnbgns62bcj0skpd2j0ktr0000gp/T/ipykernel_38628/219860616.py:30: PerformanceWarning: DataFrame is highly fragmented.  This is usually the result of calling `frame.insert` many times, which has poor performance.  Consider joining all columns at once using pd.concat(axis=1) instead. To get a de-fragmented frame, use `newframe = frame.copy()`\n",
      "  final[entity + '_actual/med_' + str(time)] = final['Amount'] / final[entity + '_med_' + str(time)]\n",
      "/var/folders/ll/h_rnbgns62bcj0skpd2j0ktr0000gp/T/ipykernel_38628/219860616.py:31: PerformanceWarning: DataFrame is highly fragmented.  This is usually the result of calling `frame.insert` many times, which has poor performance.  Consider joining all columns at once using pd.concat(axis=1) instead. To get a de-fragmented frame, use `newframe = frame.copy()`\n",
      "  final[entity + '_actual/toal_' + str(time)] = final['Amount'] / final[entity + '_total_' + str(time)]\n"
     ]
    },
    {
     "name": "stdout",
     "output_type": "stream",
     "text": [
      "Month amount variables over past 14 ---> Done\n"
     ]
    },
    {
     "name": "stderr",
     "output_type": "stream",
     "text": [
      "/var/folders/ll/h_rnbgns62bcj0skpd2j0ktr0000gp/T/ipykernel_38628/219860616.py:22: PerformanceWarning: DataFrame is highly fragmented.  This is usually the result of calling `frame.insert` many times, which has poor performance.  Consider joining all columns at once using pd.concat(axis=1) instead. To get a de-fragmented frame, use `newframe = frame.copy()`\n",
      "  final[col_name] = final.Recnum.map(mapper2)\n"
     ]
    },
    {
     "name": "stdout",
     "output_type": "stream",
     "text": [
      "Month_count_30 ---> Done\n"
     ]
    },
    {
     "name": "stderr",
     "output_type": "stream",
     "text": [
      "/var/folders/ll/h_rnbgns62bcj0skpd2j0ktr0000gp/T/ipykernel_38628/219860616.py:24: PerformanceWarning: DataFrame is highly fragmented.  This is usually the result of calling `frame.insert` many times, which has poor performance.  Consider joining all columns at once using pd.concat(axis=1) instead. To get a de-fragmented frame, use `newframe = frame.copy()`\n",
      "  final[entity + '_avg_' + str(time)] = final.Recnum.map(temp2.groupby('Recnum')['Amount'].mean())\n",
      "/var/folders/ll/h_rnbgns62bcj0skpd2j0ktr0000gp/T/ipykernel_38628/219860616.py:25: PerformanceWarning: DataFrame is highly fragmented.  This is usually the result of calling `frame.insert` many times, which has poor performance.  Consider joining all columns at once using pd.concat(axis=1) instead. To get a de-fragmented frame, use `newframe = frame.copy()`\n",
      "  final[entity + '_max_' + str(time)] = final.Recnum.map(temp2.groupby('Recnum')['Amount'].max())\n",
      "/var/folders/ll/h_rnbgns62bcj0skpd2j0ktr0000gp/T/ipykernel_38628/219860616.py:26: PerformanceWarning: DataFrame is highly fragmented.  This is usually the result of calling `frame.insert` many times, which has poor performance.  Consider joining all columns at once using pd.concat(axis=1) instead. To get a de-fragmented frame, use `newframe = frame.copy()`\n",
      "  final[entity + '_med_' + str(time)] = final.Recnum.map(temp2.groupby('Recnum')['Amount'].median())\n",
      "/var/folders/ll/h_rnbgns62bcj0skpd2j0ktr0000gp/T/ipykernel_38628/219860616.py:27: PerformanceWarning: DataFrame is highly fragmented.  This is usually the result of calling `frame.insert` many times, which has poor performance.  Consider joining all columns at once using pd.concat(axis=1) instead. To get a de-fragmented frame, use `newframe = frame.copy()`\n",
      "  final[entity + '_total_' + str(time)] = final.Recnum.map(temp2.groupby('Recnum')['Amount'].sum())\n",
      "/var/folders/ll/h_rnbgns62bcj0skpd2j0ktr0000gp/T/ipykernel_38628/219860616.py:28: PerformanceWarning: DataFrame is highly fragmented.  This is usually the result of calling `frame.insert` many times, which has poor performance.  Consider joining all columns at once using pd.concat(axis=1) instead. To get a de-fragmented frame, use `newframe = frame.copy()`\n",
      "  final[entity + '_actual/avg_' + str(time)] = final['Amount'] / final[entity + '_avg_' + str(time)]\n",
      "/var/folders/ll/h_rnbgns62bcj0skpd2j0ktr0000gp/T/ipykernel_38628/219860616.py:29: PerformanceWarning: DataFrame is highly fragmented.  This is usually the result of calling `frame.insert` many times, which has poor performance.  Consider joining all columns at once using pd.concat(axis=1) instead. To get a de-fragmented frame, use `newframe = frame.copy()`\n",
      "  final[entity + '_actual/max_' + str(time)] = final['Amount'] / final[entity + '_max_' + str(time)]\n",
      "/var/folders/ll/h_rnbgns62bcj0skpd2j0ktr0000gp/T/ipykernel_38628/219860616.py:30: PerformanceWarning: DataFrame is highly fragmented.  This is usually the result of calling `frame.insert` many times, which has poor performance.  Consider joining all columns at once using pd.concat(axis=1) instead. To get a de-fragmented frame, use `newframe = frame.copy()`\n",
      "  final[entity + '_actual/med_' + str(time)] = final['Amount'] / final[entity + '_med_' + str(time)]\n",
      "/var/folders/ll/h_rnbgns62bcj0skpd2j0ktr0000gp/T/ipykernel_38628/219860616.py:31: PerformanceWarning: DataFrame is highly fragmented.  This is usually the result of calling `frame.insert` many times, which has poor performance.  Consider joining all columns at once using pd.concat(axis=1) instead. To get a de-fragmented frame, use `newframe = frame.copy()`\n",
      "  final[entity + '_actual/toal_' + str(time)] = final['Amount'] / final[entity + '_total_' + str(time)]\n"
     ]
    },
    {
     "name": "stdout",
     "output_type": "stream",
     "text": [
      "Month amount variables over past 30 ---> Done\n",
      "Run time for the last entity ----------------- 619.603758958s\n"
     ]
    },
    {
     "name": "stderr",
     "output_type": "stream",
     "text": [
      "/var/folders/ll/h_rnbgns62bcj0skpd2j0ktr0000gp/T/ipykernel_38628/219860616.py:13: PerformanceWarning: DataFrame is highly fragmented.  This is usually the result of calling `frame.insert` many times, which has poor performance.  Consider joining all columns at once using pd.concat(axis=1) instead. To get a de-fragmented frame, use `newframe = frame.copy()`\n",
      "  final[entity + '_day_since'] = final.Recnum.map(mapper)\n"
     ]
    },
    {
     "name": "stdout",
     "output_type": "stream",
     "text": [
      "\n",
      "card_merchnum_day_since ---> Done\n"
     ]
    },
    {
     "name": "stderr",
     "output_type": "stream",
     "text": [
      "/var/folders/ll/h_rnbgns62bcj0skpd2j0ktr0000gp/T/ipykernel_38628/219860616.py:22: PerformanceWarning: DataFrame is highly fragmented.  This is usually the result of calling `frame.insert` many times, which has poor performance.  Consider joining all columns at once using pd.concat(axis=1) instead. To get a de-fragmented frame, use `newframe = frame.copy()`\n",
      "  final[col_name] = final.Recnum.map(mapper2)\n",
      "/var/folders/ll/h_rnbgns62bcj0skpd2j0ktr0000gp/T/ipykernel_38628/219860616.py:24: PerformanceWarning: DataFrame is highly fragmented.  This is usually the result of calling `frame.insert` many times, which has poor performance.  Consider joining all columns at once using pd.concat(axis=1) instead. To get a de-fragmented frame, use `newframe = frame.copy()`\n",
      "  final[entity + '_avg_' + str(time)] = final.Recnum.map(temp2.groupby('Recnum')['Amount'].mean())\n",
      "/var/folders/ll/h_rnbgns62bcj0skpd2j0ktr0000gp/T/ipykernel_38628/219860616.py:25: PerformanceWarning: DataFrame is highly fragmented.  This is usually the result of calling `frame.insert` many times, which has poor performance.  Consider joining all columns at once using pd.concat(axis=1) instead. To get a de-fragmented frame, use `newframe = frame.copy()`\n",
      "  final[entity + '_max_' + str(time)] = final.Recnum.map(temp2.groupby('Recnum')['Amount'].max())\n",
      "/var/folders/ll/h_rnbgns62bcj0skpd2j0ktr0000gp/T/ipykernel_38628/219860616.py:26: PerformanceWarning: DataFrame is highly fragmented.  This is usually the result of calling `frame.insert` many times, which has poor performance.  Consider joining all columns at once using pd.concat(axis=1) instead. To get a de-fragmented frame, use `newframe = frame.copy()`\n",
      "  final[entity + '_med_' + str(time)] = final.Recnum.map(temp2.groupby('Recnum')['Amount'].median())\n",
      "/var/folders/ll/h_rnbgns62bcj0skpd2j0ktr0000gp/T/ipykernel_38628/219860616.py:27: PerformanceWarning: DataFrame is highly fragmented.  This is usually the result of calling `frame.insert` many times, which has poor performance.  Consider joining all columns at once using pd.concat(axis=1) instead. To get a de-fragmented frame, use `newframe = frame.copy()`\n",
      "  final[entity + '_total_' + str(time)] = final.Recnum.map(temp2.groupby('Recnum')['Amount'].sum())\n",
      "/var/folders/ll/h_rnbgns62bcj0skpd2j0ktr0000gp/T/ipykernel_38628/219860616.py:28: PerformanceWarning: DataFrame is highly fragmented.  This is usually the result of calling `frame.insert` many times, which has poor performance.  Consider joining all columns at once using pd.concat(axis=1) instead. To get a de-fragmented frame, use `newframe = frame.copy()`\n",
      "  final[entity + '_actual/avg_' + str(time)] = final['Amount'] / final[entity + '_avg_' + str(time)]\n",
      "/var/folders/ll/h_rnbgns62bcj0skpd2j0ktr0000gp/T/ipykernel_38628/219860616.py:29: PerformanceWarning: DataFrame is highly fragmented.  This is usually the result of calling `frame.insert` many times, which has poor performance.  Consider joining all columns at once using pd.concat(axis=1) instead. To get a de-fragmented frame, use `newframe = frame.copy()`\n",
      "  final[entity + '_actual/max_' + str(time)] = final['Amount'] / final[entity + '_max_' + str(time)]\n",
      "/var/folders/ll/h_rnbgns62bcj0skpd2j0ktr0000gp/T/ipykernel_38628/219860616.py:30: PerformanceWarning: DataFrame is highly fragmented.  This is usually the result of calling `frame.insert` many times, which has poor performance.  Consider joining all columns at once using pd.concat(axis=1) instead. To get a de-fragmented frame, use `newframe = frame.copy()`\n",
      "  final[entity + '_actual/med_' + str(time)] = final['Amount'] / final[entity + '_med_' + str(time)]\n",
      "/var/folders/ll/h_rnbgns62bcj0skpd2j0ktr0000gp/T/ipykernel_38628/219860616.py:31: PerformanceWarning: DataFrame is highly fragmented.  This is usually the result of calling `frame.insert` many times, which has poor performance.  Consider joining all columns at once using pd.concat(axis=1) instead. To get a de-fragmented frame, use `newframe = frame.copy()`\n",
      "  final[entity + '_actual/toal_' + str(time)] = final['Amount'] / final[entity + '_total_' + str(time)]\n",
      "/var/folders/ll/h_rnbgns62bcj0skpd2j0ktr0000gp/T/ipykernel_38628/219860616.py:22: PerformanceWarning: DataFrame is highly fragmented.  This is usually the result of calling `frame.insert` many times, which has poor performance.  Consider joining all columns at once using pd.concat(axis=1) instead. To get a de-fragmented frame, use `newframe = frame.copy()`\n",
      "  final[col_name] = final.Recnum.map(mapper2)\n",
      "/var/folders/ll/h_rnbgns62bcj0skpd2j0ktr0000gp/T/ipykernel_38628/219860616.py:24: PerformanceWarning: DataFrame is highly fragmented.  This is usually the result of calling `frame.insert` many times, which has poor performance.  Consider joining all columns at once using pd.concat(axis=1) instead. To get a de-fragmented frame, use `newframe = frame.copy()`\n",
      "  final[entity + '_avg_' + str(time)] = final.Recnum.map(temp2.groupby('Recnum')['Amount'].mean())\n",
      "/var/folders/ll/h_rnbgns62bcj0skpd2j0ktr0000gp/T/ipykernel_38628/219860616.py:25: PerformanceWarning: DataFrame is highly fragmented.  This is usually the result of calling `frame.insert` many times, which has poor performance.  Consider joining all columns at once using pd.concat(axis=1) instead. To get a de-fragmented frame, use `newframe = frame.copy()`\n",
      "  final[entity + '_max_' + str(time)] = final.Recnum.map(temp2.groupby('Recnum')['Amount'].max())\n",
      "/var/folders/ll/h_rnbgns62bcj0skpd2j0ktr0000gp/T/ipykernel_38628/219860616.py:26: PerformanceWarning: DataFrame is highly fragmented.  This is usually the result of calling `frame.insert` many times, which has poor performance.  Consider joining all columns at once using pd.concat(axis=1) instead. To get a de-fragmented frame, use `newframe = frame.copy()`\n",
      "  final[entity + '_med_' + str(time)] = final.Recnum.map(temp2.groupby('Recnum')['Amount'].median())\n"
     ]
    },
    {
     "name": "stdout",
     "output_type": "stream",
     "text": [
      "card_merchnum_count_0 ---> Done\n",
      "card_merchnum amount variables over past 0 ---> Done\n",
      "card_merchnum_count_1 ---> Done\n"
     ]
    },
    {
     "name": "stderr",
     "output_type": "stream",
     "text": [
      "/var/folders/ll/h_rnbgns62bcj0skpd2j0ktr0000gp/T/ipykernel_38628/219860616.py:27: PerformanceWarning: DataFrame is highly fragmented.  This is usually the result of calling `frame.insert` many times, which has poor performance.  Consider joining all columns at once using pd.concat(axis=1) instead. To get a de-fragmented frame, use `newframe = frame.copy()`\n",
      "  final[entity + '_total_' + str(time)] = final.Recnum.map(temp2.groupby('Recnum')['Amount'].sum())\n",
      "/var/folders/ll/h_rnbgns62bcj0skpd2j0ktr0000gp/T/ipykernel_38628/219860616.py:28: PerformanceWarning: DataFrame is highly fragmented.  This is usually the result of calling `frame.insert` many times, which has poor performance.  Consider joining all columns at once using pd.concat(axis=1) instead. To get a de-fragmented frame, use `newframe = frame.copy()`\n",
      "  final[entity + '_actual/avg_' + str(time)] = final['Amount'] / final[entity + '_avg_' + str(time)]\n",
      "/var/folders/ll/h_rnbgns62bcj0skpd2j0ktr0000gp/T/ipykernel_38628/219860616.py:29: PerformanceWarning: DataFrame is highly fragmented.  This is usually the result of calling `frame.insert` many times, which has poor performance.  Consider joining all columns at once using pd.concat(axis=1) instead. To get a de-fragmented frame, use `newframe = frame.copy()`\n",
      "  final[entity + '_actual/max_' + str(time)] = final['Amount'] / final[entity + '_max_' + str(time)]\n",
      "/var/folders/ll/h_rnbgns62bcj0skpd2j0ktr0000gp/T/ipykernel_38628/219860616.py:30: PerformanceWarning: DataFrame is highly fragmented.  This is usually the result of calling `frame.insert` many times, which has poor performance.  Consider joining all columns at once using pd.concat(axis=1) instead. To get a de-fragmented frame, use `newframe = frame.copy()`\n",
      "  final[entity + '_actual/med_' + str(time)] = final['Amount'] / final[entity + '_med_' + str(time)]\n",
      "/var/folders/ll/h_rnbgns62bcj0skpd2j0ktr0000gp/T/ipykernel_38628/219860616.py:31: PerformanceWarning: DataFrame is highly fragmented.  This is usually the result of calling `frame.insert` many times, which has poor performance.  Consider joining all columns at once using pd.concat(axis=1) instead. To get a de-fragmented frame, use `newframe = frame.copy()`\n",
      "  final[entity + '_actual/toal_' + str(time)] = final['Amount'] / final[entity + '_total_' + str(time)]\n",
      "/var/folders/ll/h_rnbgns62bcj0skpd2j0ktr0000gp/T/ipykernel_38628/219860616.py:22: PerformanceWarning: DataFrame is highly fragmented.  This is usually the result of calling `frame.insert` many times, which has poor performance.  Consider joining all columns at once using pd.concat(axis=1) instead. To get a de-fragmented frame, use `newframe = frame.copy()`\n",
      "  final[col_name] = final.Recnum.map(mapper2)\n",
      "/var/folders/ll/h_rnbgns62bcj0skpd2j0ktr0000gp/T/ipykernel_38628/219860616.py:24: PerformanceWarning: DataFrame is highly fragmented.  This is usually the result of calling `frame.insert` many times, which has poor performance.  Consider joining all columns at once using pd.concat(axis=1) instead. To get a de-fragmented frame, use `newframe = frame.copy()`\n",
      "  final[entity + '_avg_' + str(time)] = final.Recnum.map(temp2.groupby('Recnum')['Amount'].mean())\n",
      "/var/folders/ll/h_rnbgns62bcj0skpd2j0ktr0000gp/T/ipykernel_38628/219860616.py:25: PerformanceWarning: DataFrame is highly fragmented.  This is usually the result of calling `frame.insert` many times, which has poor performance.  Consider joining all columns at once using pd.concat(axis=1) instead. To get a de-fragmented frame, use `newframe = frame.copy()`\n",
      "  final[entity + '_max_' + str(time)] = final.Recnum.map(temp2.groupby('Recnum')['Amount'].max())\n",
      "/var/folders/ll/h_rnbgns62bcj0skpd2j0ktr0000gp/T/ipykernel_38628/219860616.py:26: PerformanceWarning: DataFrame is highly fragmented.  This is usually the result of calling `frame.insert` many times, which has poor performance.  Consider joining all columns at once using pd.concat(axis=1) instead. To get a de-fragmented frame, use `newframe = frame.copy()`\n",
      "  final[entity + '_med_' + str(time)] = final.Recnum.map(temp2.groupby('Recnum')['Amount'].median())\n",
      "/var/folders/ll/h_rnbgns62bcj0skpd2j0ktr0000gp/T/ipykernel_38628/219860616.py:27: PerformanceWarning: DataFrame is highly fragmented.  This is usually the result of calling `frame.insert` many times, which has poor performance.  Consider joining all columns at once using pd.concat(axis=1) instead. To get a de-fragmented frame, use `newframe = frame.copy()`\n",
      "  final[entity + '_total_' + str(time)] = final.Recnum.map(temp2.groupby('Recnum')['Amount'].sum())\n",
      "/var/folders/ll/h_rnbgns62bcj0skpd2j0ktr0000gp/T/ipykernel_38628/219860616.py:28: PerformanceWarning: DataFrame is highly fragmented.  This is usually the result of calling `frame.insert` many times, which has poor performance.  Consider joining all columns at once using pd.concat(axis=1) instead. To get a de-fragmented frame, use `newframe = frame.copy()`\n",
      "  final[entity + '_actual/avg_' + str(time)] = final['Amount'] / final[entity + '_avg_' + str(time)]\n",
      "/var/folders/ll/h_rnbgns62bcj0skpd2j0ktr0000gp/T/ipykernel_38628/219860616.py:29: PerformanceWarning: DataFrame is highly fragmented.  This is usually the result of calling `frame.insert` many times, which has poor performance.  Consider joining all columns at once using pd.concat(axis=1) instead. To get a de-fragmented frame, use `newframe = frame.copy()`\n",
      "  final[entity + '_actual/max_' + str(time)] = final['Amount'] / final[entity + '_max_' + str(time)]\n",
      "/var/folders/ll/h_rnbgns62bcj0skpd2j0ktr0000gp/T/ipykernel_38628/219860616.py:30: PerformanceWarning: DataFrame is highly fragmented.  This is usually the result of calling `frame.insert` many times, which has poor performance.  Consider joining all columns at once using pd.concat(axis=1) instead. To get a de-fragmented frame, use `newframe = frame.copy()`\n",
      "  final[entity + '_actual/med_' + str(time)] = final['Amount'] / final[entity + '_med_' + str(time)]\n",
      "/var/folders/ll/h_rnbgns62bcj0skpd2j0ktr0000gp/T/ipykernel_38628/219860616.py:31: PerformanceWarning: DataFrame is highly fragmented.  This is usually the result of calling `frame.insert` many times, which has poor performance.  Consider joining all columns at once using pd.concat(axis=1) instead. To get a de-fragmented frame, use `newframe = frame.copy()`\n",
      "  final[entity + '_actual/toal_' + str(time)] = final['Amount'] / final[entity + '_total_' + str(time)]\n"
     ]
    },
    {
     "name": "stdout",
     "output_type": "stream",
     "text": [
      "card_merchnum amount variables over past 1 ---> Done\n",
      "card_merchnum_count_3 ---> Done\n",
      "card_merchnum amount variables over past 3 ---> Done\n"
     ]
    },
    {
     "name": "stderr",
     "output_type": "stream",
     "text": [
      "/var/folders/ll/h_rnbgns62bcj0skpd2j0ktr0000gp/T/ipykernel_38628/219860616.py:22: PerformanceWarning: DataFrame is highly fragmented.  This is usually the result of calling `frame.insert` many times, which has poor performance.  Consider joining all columns at once using pd.concat(axis=1) instead. To get a de-fragmented frame, use `newframe = frame.copy()`\n",
      "  final[col_name] = final.Recnum.map(mapper2)\n",
      "/var/folders/ll/h_rnbgns62bcj0skpd2j0ktr0000gp/T/ipykernel_38628/219860616.py:24: PerformanceWarning: DataFrame is highly fragmented.  This is usually the result of calling `frame.insert` many times, which has poor performance.  Consider joining all columns at once using pd.concat(axis=1) instead. To get a de-fragmented frame, use `newframe = frame.copy()`\n",
      "  final[entity + '_avg_' + str(time)] = final.Recnum.map(temp2.groupby('Recnum')['Amount'].mean())\n",
      "/var/folders/ll/h_rnbgns62bcj0skpd2j0ktr0000gp/T/ipykernel_38628/219860616.py:25: PerformanceWarning: DataFrame is highly fragmented.  This is usually the result of calling `frame.insert` many times, which has poor performance.  Consider joining all columns at once using pd.concat(axis=1) instead. To get a de-fragmented frame, use `newframe = frame.copy()`\n",
      "  final[entity + '_max_' + str(time)] = final.Recnum.map(temp2.groupby('Recnum')['Amount'].max())\n",
      "/var/folders/ll/h_rnbgns62bcj0skpd2j0ktr0000gp/T/ipykernel_38628/219860616.py:26: PerformanceWarning: DataFrame is highly fragmented.  This is usually the result of calling `frame.insert` many times, which has poor performance.  Consider joining all columns at once using pd.concat(axis=1) instead. To get a de-fragmented frame, use `newframe = frame.copy()`\n",
      "  final[entity + '_med_' + str(time)] = final.Recnum.map(temp2.groupby('Recnum')['Amount'].median())\n",
      "/var/folders/ll/h_rnbgns62bcj0skpd2j0ktr0000gp/T/ipykernel_38628/219860616.py:27: PerformanceWarning: DataFrame is highly fragmented.  This is usually the result of calling `frame.insert` many times, which has poor performance.  Consider joining all columns at once using pd.concat(axis=1) instead. To get a de-fragmented frame, use `newframe = frame.copy()`\n",
      "  final[entity + '_total_' + str(time)] = final.Recnum.map(temp2.groupby('Recnum')['Amount'].sum())\n",
      "/var/folders/ll/h_rnbgns62bcj0skpd2j0ktr0000gp/T/ipykernel_38628/219860616.py:28: PerformanceWarning: DataFrame is highly fragmented.  This is usually the result of calling `frame.insert` many times, which has poor performance.  Consider joining all columns at once using pd.concat(axis=1) instead. To get a de-fragmented frame, use `newframe = frame.copy()`\n",
      "  final[entity + '_actual/avg_' + str(time)] = final['Amount'] / final[entity + '_avg_' + str(time)]\n",
      "/var/folders/ll/h_rnbgns62bcj0skpd2j0ktr0000gp/T/ipykernel_38628/219860616.py:29: PerformanceWarning: DataFrame is highly fragmented.  This is usually the result of calling `frame.insert` many times, which has poor performance.  Consider joining all columns at once using pd.concat(axis=1) instead. To get a de-fragmented frame, use `newframe = frame.copy()`\n",
      "  final[entity + '_actual/max_' + str(time)] = final['Amount'] / final[entity + '_max_' + str(time)]\n",
      "/var/folders/ll/h_rnbgns62bcj0skpd2j0ktr0000gp/T/ipykernel_38628/219860616.py:30: PerformanceWarning: DataFrame is highly fragmented.  This is usually the result of calling `frame.insert` many times, which has poor performance.  Consider joining all columns at once using pd.concat(axis=1) instead. To get a de-fragmented frame, use `newframe = frame.copy()`\n",
      "  final[entity + '_actual/med_' + str(time)] = final['Amount'] / final[entity + '_med_' + str(time)]\n",
      "/var/folders/ll/h_rnbgns62bcj0skpd2j0ktr0000gp/T/ipykernel_38628/219860616.py:31: PerformanceWarning: DataFrame is highly fragmented.  This is usually the result of calling `frame.insert` many times, which has poor performance.  Consider joining all columns at once using pd.concat(axis=1) instead. To get a de-fragmented frame, use `newframe = frame.copy()`\n",
      "  final[entity + '_actual/toal_' + str(time)] = final['Amount'] / final[entity + '_total_' + str(time)]\n",
      "/var/folders/ll/h_rnbgns62bcj0skpd2j0ktr0000gp/T/ipykernel_38628/219860616.py:22: PerformanceWarning: DataFrame is highly fragmented.  This is usually the result of calling `frame.insert` many times, which has poor performance.  Consider joining all columns at once using pd.concat(axis=1) instead. To get a de-fragmented frame, use `newframe = frame.copy()`\n",
      "  final[col_name] = final.Recnum.map(mapper2)\n",
      "/var/folders/ll/h_rnbgns62bcj0skpd2j0ktr0000gp/T/ipykernel_38628/219860616.py:24: PerformanceWarning: DataFrame is highly fragmented.  This is usually the result of calling `frame.insert` many times, which has poor performance.  Consider joining all columns at once using pd.concat(axis=1) instead. To get a de-fragmented frame, use `newframe = frame.copy()`\n",
      "  final[entity + '_avg_' + str(time)] = final.Recnum.map(temp2.groupby('Recnum')['Amount'].mean())\n"
     ]
    },
    {
     "name": "stdout",
     "output_type": "stream",
     "text": [
      "card_merchnum_count_7 ---> Done\n",
      "card_merchnum amount variables over past 7 ---> Done\n",
      "card_merchnum_count_14 ---> Done\n"
     ]
    },
    {
     "name": "stderr",
     "output_type": "stream",
     "text": [
      "/var/folders/ll/h_rnbgns62bcj0skpd2j0ktr0000gp/T/ipykernel_38628/219860616.py:25: PerformanceWarning: DataFrame is highly fragmented.  This is usually the result of calling `frame.insert` many times, which has poor performance.  Consider joining all columns at once using pd.concat(axis=1) instead. To get a de-fragmented frame, use `newframe = frame.copy()`\n",
      "  final[entity + '_max_' + str(time)] = final.Recnum.map(temp2.groupby('Recnum')['Amount'].max())\n",
      "/var/folders/ll/h_rnbgns62bcj0skpd2j0ktr0000gp/T/ipykernel_38628/219860616.py:26: PerformanceWarning: DataFrame is highly fragmented.  This is usually the result of calling `frame.insert` many times, which has poor performance.  Consider joining all columns at once using pd.concat(axis=1) instead. To get a de-fragmented frame, use `newframe = frame.copy()`\n",
      "  final[entity + '_med_' + str(time)] = final.Recnum.map(temp2.groupby('Recnum')['Amount'].median())\n",
      "/var/folders/ll/h_rnbgns62bcj0skpd2j0ktr0000gp/T/ipykernel_38628/219860616.py:27: PerformanceWarning: DataFrame is highly fragmented.  This is usually the result of calling `frame.insert` many times, which has poor performance.  Consider joining all columns at once using pd.concat(axis=1) instead. To get a de-fragmented frame, use `newframe = frame.copy()`\n",
      "  final[entity + '_total_' + str(time)] = final.Recnum.map(temp2.groupby('Recnum')['Amount'].sum())\n",
      "/var/folders/ll/h_rnbgns62bcj0skpd2j0ktr0000gp/T/ipykernel_38628/219860616.py:28: PerformanceWarning: DataFrame is highly fragmented.  This is usually the result of calling `frame.insert` many times, which has poor performance.  Consider joining all columns at once using pd.concat(axis=1) instead. To get a de-fragmented frame, use `newframe = frame.copy()`\n",
      "  final[entity + '_actual/avg_' + str(time)] = final['Amount'] / final[entity + '_avg_' + str(time)]\n",
      "/var/folders/ll/h_rnbgns62bcj0skpd2j0ktr0000gp/T/ipykernel_38628/219860616.py:29: PerformanceWarning: DataFrame is highly fragmented.  This is usually the result of calling `frame.insert` many times, which has poor performance.  Consider joining all columns at once using pd.concat(axis=1) instead. To get a de-fragmented frame, use `newframe = frame.copy()`\n",
      "  final[entity + '_actual/max_' + str(time)] = final['Amount'] / final[entity + '_max_' + str(time)]\n",
      "/var/folders/ll/h_rnbgns62bcj0skpd2j0ktr0000gp/T/ipykernel_38628/219860616.py:30: PerformanceWarning: DataFrame is highly fragmented.  This is usually the result of calling `frame.insert` many times, which has poor performance.  Consider joining all columns at once using pd.concat(axis=1) instead. To get a de-fragmented frame, use `newframe = frame.copy()`\n",
      "  final[entity + '_actual/med_' + str(time)] = final['Amount'] / final[entity + '_med_' + str(time)]\n",
      "/var/folders/ll/h_rnbgns62bcj0skpd2j0ktr0000gp/T/ipykernel_38628/219860616.py:31: PerformanceWarning: DataFrame is highly fragmented.  This is usually the result of calling `frame.insert` many times, which has poor performance.  Consider joining all columns at once using pd.concat(axis=1) instead. To get a de-fragmented frame, use `newframe = frame.copy()`\n",
      "  final[entity + '_actual/toal_' + str(time)] = final['Amount'] / final[entity + '_total_' + str(time)]\n"
     ]
    },
    {
     "name": "stdout",
     "output_type": "stream",
     "text": [
      "card_merchnum amount variables over past 14 ---> Done\n"
     ]
    },
    {
     "name": "stderr",
     "output_type": "stream",
     "text": [
      "/var/folders/ll/h_rnbgns62bcj0skpd2j0ktr0000gp/T/ipykernel_38628/219860616.py:22: PerformanceWarning: DataFrame is highly fragmented.  This is usually the result of calling `frame.insert` many times, which has poor performance.  Consider joining all columns at once using pd.concat(axis=1) instead. To get a de-fragmented frame, use `newframe = frame.copy()`\n",
      "  final[col_name] = final.Recnum.map(mapper2)\n",
      "/var/folders/ll/h_rnbgns62bcj0skpd2j0ktr0000gp/T/ipykernel_38628/219860616.py:24: PerformanceWarning: DataFrame is highly fragmented.  This is usually the result of calling `frame.insert` many times, which has poor performance.  Consider joining all columns at once using pd.concat(axis=1) instead. To get a de-fragmented frame, use `newframe = frame.copy()`\n",
      "  final[entity + '_avg_' + str(time)] = final.Recnum.map(temp2.groupby('Recnum')['Amount'].mean())\n",
      "/var/folders/ll/h_rnbgns62bcj0skpd2j0ktr0000gp/T/ipykernel_38628/219860616.py:25: PerformanceWarning: DataFrame is highly fragmented.  This is usually the result of calling `frame.insert` many times, which has poor performance.  Consider joining all columns at once using pd.concat(axis=1) instead. To get a de-fragmented frame, use `newframe = frame.copy()`\n",
      "  final[entity + '_max_' + str(time)] = final.Recnum.map(temp2.groupby('Recnum')['Amount'].max())\n",
      "/var/folders/ll/h_rnbgns62bcj0skpd2j0ktr0000gp/T/ipykernel_38628/219860616.py:26: PerformanceWarning: DataFrame is highly fragmented.  This is usually the result of calling `frame.insert` many times, which has poor performance.  Consider joining all columns at once using pd.concat(axis=1) instead. To get a de-fragmented frame, use `newframe = frame.copy()`\n",
      "  final[entity + '_med_' + str(time)] = final.Recnum.map(temp2.groupby('Recnum')['Amount'].median())\n",
      "/var/folders/ll/h_rnbgns62bcj0skpd2j0ktr0000gp/T/ipykernel_38628/219860616.py:27: PerformanceWarning: DataFrame is highly fragmented.  This is usually the result of calling `frame.insert` many times, which has poor performance.  Consider joining all columns at once using pd.concat(axis=1) instead. To get a de-fragmented frame, use `newframe = frame.copy()`\n",
      "  final[entity + '_total_' + str(time)] = final.Recnum.map(temp2.groupby('Recnum')['Amount'].sum())\n",
      "/var/folders/ll/h_rnbgns62bcj0skpd2j0ktr0000gp/T/ipykernel_38628/219860616.py:28: PerformanceWarning: DataFrame is highly fragmented.  This is usually the result of calling `frame.insert` many times, which has poor performance.  Consider joining all columns at once using pd.concat(axis=1) instead. To get a de-fragmented frame, use `newframe = frame.copy()`\n",
      "  final[entity + '_actual/avg_' + str(time)] = final['Amount'] / final[entity + '_avg_' + str(time)]\n",
      "/var/folders/ll/h_rnbgns62bcj0skpd2j0ktr0000gp/T/ipykernel_38628/219860616.py:29: PerformanceWarning: DataFrame is highly fragmented.  This is usually the result of calling `frame.insert` many times, which has poor performance.  Consider joining all columns at once using pd.concat(axis=1) instead. To get a de-fragmented frame, use `newframe = frame.copy()`\n",
      "  final[entity + '_actual/max_' + str(time)] = final['Amount'] / final[entity + '_max_' + str(time)]\n",
      "/var/folders/ll/h_rnbgns62bcj0skpd2j0ktr0000gp/T/ipykernel_38628/219860616.py:30: PerformanceWarning: DataFrame is highly fragmented.  This is usually the result of calling `frame.insert` many times, which has poor performance.  Consider joining all columns at once using pd.concat(axis=1) instead. To get a de-fragmented frame, use `newframe = frame.copy()`\n",
      "  final[entity + '_actual/med_' + str(time)] = final['Amount'] / final[entity + '_med_' + str(time)]\n",
      "/var/folders/ll/h_rnbgns62bcj0skpd2j0ktr0000gp/T/ipykernel_38628/219860616.py:31: PerformanceWarning: DataFrame is highly fragmented.  This is usually the result of calling `frame.insert` many times, which has poor performance.  Consider joining all columns at once using pd.concat(axis=1) instead. To get a de-fragmented frame, use `newframe = frame.copy()`\n",
      "  final[entity + '_actual/toal_' + str(time)] = final['Amount'] / final[entity + '_total_' + str(time)]\n"
     ]
    },
    {
     "name": "stdout",
     "output_type": "stream",
     "text": [
      "card_merchnum_count_30 ---> Done\n",
      "card_merchnum amount variables over past 30 ---> Done\n",
      "Run time for the last entity ----------------- 8.63876970800004s\n"
     ]
    },
    {
     "name": "stderr",
     "output_type": "stream",
     "text": [
      "/var/folders/ll/h_rnbgns62bcj0skpd2j0ktr0000gp/T/ipykernel_38628/219860616.py:13: PerformanceWarning: DataFrame is highly fragmented.  This is usually the result of calling `frame.insert` many times, which has poor performance.  Consider joining all columns at once using pd.concat(axis=1) instead. To get a de-fragmented frame, use `newframe = frame.copy()`\n",
      "  final[entity + '_day_since'] = final.Recnum.map(mapper)\n",
      "/var/folders/ll/h_rnbgns62bcj0skpd2j0ktr0000gp/T/ipykernel_38628/219860616.py:22: PerformanceWarning: DataFrame is highly fragmented.  This is usually the result of calling `frame.insert` many times, which has poor performance.  Consider joining all columns at once using pd.concat(axis=1) instead. To get a de-fragmented frame, use `newframe = frame.copy()`\n",
      "  final[col_name] = final.Recnum.map(mapper2)\n",
      "/var/folders/ll/h_rnbgns62bcj0skpd2j0ktr0000gp/T/ipykernel_38628/219860616.py:24: PerformanceWarning: DataFrame is highly fragmented.  This is usually the result of calling `frame.insert` many times, which has poor performance.  Consider joining all columns at once using pd.concat(axis=1) instead. To get a de-fragmented frame, use `newframe = frame.copy()`\n",
      "  final[entity + '_avg_' + str(time)] = final.Recnum.map(temp2.groupby('Recnum')['Amount'].mean())\n",
      "/var/folders/ll/h_rnbgns62bcj0skpd2j0ktr0000gp/T/ipykernel_38628/219860616.py:25: PerformanceWarning: DataFrame is highly fragmented.  This is usually the result of calling `frame.insert` many times, which has poor performance.  Consider joining all columns at once using pd.concat(axis=1) instead. To get a de-fragmented frame, use `newframe = frame.copy()`\n",
      "  final[entity + '_max_' + str(time)] = final.Recnum.map(temp2.groupby('Recnum')['Amount'].max())\n",
      "/var/folders/ll/h_rnbgns62bcj0skpd2j0ktr0000gp/T/ipykernel_38628/219860616.py:26: PerformanceWarning: DataFrame is highly fragmented.  This is usually the result of calling `frame.insert` many times, which has poor performance.  Consider joining all columns at once using pd.concat(axis=1) instead. To get a de-fragmented frame, use `newframe = frame.copy()`\n",
      "  final[entity + '_med_' + str(time)] = final.Recnum.map(temp2.groupby('Recnum')['Amount'].median())\n",
      "/var/folders/ll/h_rnbgns62bcj0skpd2j0ktr0000gp/T/ipykernel_38628/219860616.py:27: PerformanceWarning: DataFrame is highly fragmented.  This is usually the result of calling `frame.insert` many times, which has poor performance.  Consider joining all columns at once using pd.concat(axis=1) instead. To get a de-fragmented frame, use `newframe = frame.copy()`\n",
      "  final[entity + '_total_' + str(time)] = final.Recnum.map(temp2.groupby('Recnum')['Amount'].sum())\n",
      "/var/folders/ll/h_rnbgns62bcj0skpd2j0ktr0000gp/T/ipykernel_38628/219860616.py:28: PerformanceWarning: DataFrame is highly fragmented.  This is usually the result of calling `frame.insert` many times, which has poor performance.  Consider joining all columns at once using pd.concat(axis=1) instead. To get a de-fragmented frame, use `newframe = frame.copy()`\n",
      "  final[entity + '_actual/avg_' + str(time)] = final['Amount'] / final[entity + '_avg_' + str(time)]\n",
      "/var/folders/ll/h_rnbgns62bcj0skpd2j0ktr0000gp/T/ipykernel_38628/219860616.py:29: PerformanceWarning: DataFrame is highly fragmented.  This is usually the result of calling `frame.insert` many times, which has poor performance.  Consider joining all columns at once using pd.concat(axis=1) instead. To get a de-fragmented frame, use `newframe = frame.copy()`\n",
      "  final[entity + '_actual/max_' + str(time)] = final['Amount'] / final[entity + '_max_' + str(time)]\n",
      "/var/folders/ll/h_rnbgns62bcj0skpd2j0ktr0000gp/T/ipykernel_38628/219860616.py:30: PerformanceWarning: DataFrame is highly fragmented.  This is usually the result of calling `frame.insert` many times, which has poor performance.  Consider joining all columns at once using pd.concat(axis=1) instead. To get a de-fragmented frame, use `newframe = frame.copy()`\n",
      "  final[entity + '_actual/med_' + str(time)] = final['Amount'] / final[entity + '_med_' + str(time)]\n",
      "/var/folders/ll/h_rnbgns62bcj0skpd2j0ktr0000gp/T/ipykernel_38628/219860616.py:31: PerformanceWarning: DataFrame is highly fragmented.  This is usually the result of calling `frame.insert` many times, which has poor performance.  Consider joining all columns at once using pd.concat(axis=1) instead. To get a de-fragmented frame, use `newframe = frame.copy()`\n",
      "  final[entity + '_actual/toal_' + str(time)] = final['Amount'] / final[entity + '_total_' + str(time)]\n"
     ]
    },
    {
     "name": "stdout",
     "output_type": "stream",
     "text": [
      "\n",
      "card_state_day_since ---> Done\n",
      "card_state_count_0 ---> Done\n",
      "card_state amount variables over past 0 ---> Done\n"
     ]
    },
    {
     "name": "stderr",
     "output_type": "stream",
     "text": [
      "/var/folders/ll/h_rnbgns62bcj0skpd2j0ktr0000gp/T/ipykernel_38628/219860616.py:22: PerformanceWarning: DataFrame is highly fragmented.  This is usually the result of calling `frame.insert` many times, which has poor performance.  Consider joining all columns at once using pd.concat(axis=1) instead. To get a de-fragmented frame, use `newframe = frame.copy()`\n",
      "  final[col_name] = final.Recnum.map(mapper2)\n",
      "/var/folders/ll/h_rnbgns62bcj0skpd2j0ktr0000gp/T/ipykernel_38628/219860616.py:24: PerformanceWarning: DataFrame is highly fragmented.  This is usually the result of calling `frame.insert` many times, which has poor performance.  Consider joining all columns at once using pd.concat(axis=1) instead. To get a de-fragmented frame, use `newframe = frame.copy()`\n",
      "  final[entity + '_avg_' + str(time)] = final.Recnum.map(temp2.groupby('Recnum')['Amount'].mean())\n",
      "/var/folders/ll/h_rnbgns62bcj0skpd2j0ktr0000gp/T/ipykernel_38628/219860616.py:25: PerformanceWarning: DataFrame is highly fragmented.  This is usually the result of calling `frame.insert` many times, which has poor performance.  Consider joining all columns at once using pd.concat(axis=1) instead. To get a de-fragmented frame, use `newframe = frame.copy()`\n",
      "  final[entity + '_max_' + str(time)] = final.Recnum.map(temp2.groupby('Recnum')['Amount'].max())\n",
      "/var/folders/ll/h_rnbgns62bcj0skpd2j0ktr0000gp/T/ipykernel_38628/219860616.py:26: PerformanceWarning: DataFrame is highly fragmented.  This is usually the result of calling `frame.insert` many times, which has poor performance.  Consider joining all columns at once using pd.concat(axis=1) instead. To get a de-fragmented frame, use `newframe = frame.copy()`\n",
      "  final[entity + '_med_' + str(time)] = final.Recnum.map(temp2.groupby('Recnum')['Amount'].median())\n",
      "/var/folders/ll/h_rnbgns62bcj0skpd2j0ktr0000gp/T/ipykernel_38628/219860616.py:27: PerformanceWarning: DataFrame is highly fragmented.  This is usually the result of calling `frame.insert` many times, which has poor performance.  Consider joining all columns at once using pd.concat(axis=1) instead. To get a de-fragmented frame, use `newframe = frame.copy()`\n",
      "  final[entity + '_total_' + str(time)] = final.Recnum.map(temp2.groupby('Recnum')['Amount'].sum())\n",
      "/var/folders/ll/h_rnbgns62bcj0skpd2j0ktr0000gp/T/ipykernel_38628/219860616.py:28: PerformanceWarning: DataFrame is highly fragmented.  This is usually the result of calling `frame.insert` many times, which has poor performance.  Consider joining all columns at once using pd.concat(axis=1) instead. To get a de-fragmented frame, use `newframe = frame.copy()`\n",
      "  final[entity + '_actual/avg_' + str(time)] = final['Amount'] / final[entity + '_avg_' + str(time)]\n",
      "/var/folders/ll/h_rnbgns62bcj0skpd2j0ktr0000gp/T/ipykernel_38628/219860616.py:29: PerformanceWarning: DataFrame is highly fragmented.  This is usually the result of calling `frame.insert` many times, which has poor performance.  Consider joining all columns at once using pd.concat(axis=1) instead. To get a de-fragmented frame, use `newframe = frame.copy()`\n",
      "  final[entity + '_actual/max_' + str(time)] = final['Amount'] / final[entity + '_max_' + str(time)]\n",
      "/var/folders/ll/h_rnbgns62bcj0skpd2j0ktr0000gp/T/ipykernel_38628/219860616.py:30: PerformanceWarning: DataFrame is highly fragmented.  This is usually the result of calling `frame.insert` many times, which has poor performance.  Consider joining all columns at once using pd.concat(axis=1) instead. To get a de-fragmented frame, use `newframe = frame.copy()`\n",
      "  final[entity + '_actual/med_' + str(time)] = final['Amount'] / final[entity + '_med_' + str(time)]\n",
      "/var/folders/ll/h_rnbgns62bcj0skpd2j0ktr0000gp/T/ipykernel_38628/219860616.py:31: PerformanceWarning: DataFrame is highly fragmented.  This is usually the result of calling `frame.insert` many times, which has poor performance.  Consider joining all columns at once using pd.concat(axis=1) instead. To get a de-fragmented frame, use `newframe = frame.copy()`\n",
      "  final[entity + '_actual/toal_' + str(time)] = final['Amount'] / final[entity + '_total_' + str(time)]\n",
      "/var/folders/ll/h_rnbgns62bcj0skpd2j0ktr0000gp/T/ipykernel_38628/219860616.py:22: PerformanceWarning: DataFrame is highly fragmented.  This is usually the result of calling `frame.insert` many times, which has poor performance.  Consider joining all columns at once using pd.concat(axis=1) instead. To get a de-fragmented frame, use `newframe = frame.copy()`\n",
      "  final[col_name] = final.Recnum.map(mapper2)\n",
      "/var/folders/ll/h_rnbgns62bcj0skpd2j0ktr0000gp/T/ipykernel_38628/219860616.py:24: PerformanceWarning: DataFrame is highly fragmented.  This is usually the result of calling `frame.insert` many times, which has poor performance.  Consider joining all columns at once using pd.concat(axis=1) instead. To get a de-fragmented frame, use `newframe = frame.copy()`\n",
      "  final[entity + '_avg_' + str(time)] = final.Recnum.map(temp2.groupby('Recnum')['Amount'].mean())\n",
      "/var/folders/ll/h_rnbgns62bcj0skpd2j0ktr0000gp/T/ipykernel_38628/219860616.py:25: PerformanceWarning: DataFrame is highly fragmented.  This is usually the result of calling `frame.insert` many times, which has poor performance.  Consider joining all columns at once using pd.concat(axis=1) instead. To get a de-fragmented frame, use `newframe = frame.copy()`\n",
      "  final[entity + '_max_' + str(time)] = final.Recnum.map(temp2.groupby('Recnum')['Amount'].max())\n"
     ]
    },
    {
     "name": "stdout",
     "output_type": "stream",
     "text": [
      "card_state_count_1 ---> Done\n",
      "card_state amount variables over past 1 ---> Done\n",
      "card_state_count_3 ---> Done\n"
     ]
    },
    {
     "name": "stderr",
     "output_type": "stream",
     "text": [
      "/var/folders/ll/h_rnbgns62bcj0skpd2j0ktr0000gp/T/ipykernel_38628/219860616.py:26: PerformanceWarning: DataFrame is highly fragmented.  This is usually the result of calling `frame.insert` many times, which has poor performance.  Consider joining all columns at once using pd.concat(axis=1) instead. To get a de-fragmented frame, use `newframe = frame.copy()`\n",
      "  final[entity + '_med_' + str(time)] = final.Recnum.map(temp2.groupby('Recnum')['Amount'].median())\n",
      "/var/folders/ll/h_rnbgns62bcj0skpd2j0ktr0000gp/T/ipykernel_38628/219860616.py:27: PerformanceWarning: DataFrame is highly fragmented.  This is usually the result of calling `frame.insert` many times, which has poor performance.  Consider joining all columns at once using pd.concat(axis=1) instead. To get a de-fragmented frame, use `newframe = frame.copy()`\n",
      "  final[entity + '_total_' + str(time)] = final.Recnum.map(temp2.groupby('Recnum')['Amount'].sum())\n",
      "/var/folders/ll/h_rnbgns62bcj0skpd2j0ktr0000gp/T/ipykernel_38628/219860616.py:28: PerformanceWarning: DataFrame is highly fragmented.  This is usually the result of calling `frame.insert` many times, which has poor performance.  Consider joining all columns at once using pd.concat(axis=1) instead. To get a de-fragmented frame, use `newframe = frame.copy()`\n",
      "  final[entity + '_actual/avg_' + str(time)] = final['Amount'] / final[entity + '_avg_' + str(time)]\n",
      "/var/folders/ll/h_rnbgns62bcj0skpd2j0ktr0000gp/T/ipykernel_38628/219860616.py:29: PerformanceWarning: DataFrame is highly fragmented.  This is usually the result of calling `frame.insert` many times, which has poor performance.  Consider joining all columns at once using pd.concat(axis=1) instead. To get a de-fragmented frame, use `newframe = frame.copy()`\n",
      "  final[entity + '_actual/max_' + str(time)] = final['Amount'] / final[entity + '_max_' + str(time)]\n",
      "/var/folders/ll/h_rnbgns62bcj0skpd2j0ktr0000gp/T/ipykernel_38628/219860616.py:30: PerformanceWarning: DataFrame is highly fragmented.  This is usually the result of calling `frame.insert` many times, which has poor performance.  Consider joining all columns at once using pd.concat(axis=1) instead. To get a de-fragmented frame, use `newframe = frame.copy()`\n",
      "  final[entity + '_actual/med_' + str(time)] = final['Amount'] / final[entity + '_med_' + str(time)]\n",
      "/var/folders/ll/h_rnbgns62bcj0skpd2j0ktr0000gp/T/ipykernel_38628/219860616.py:31: PerformanceWarning: DataFrame is highly fragmented.  This is usually the result of calling `frame.insert` many times, which has poor performance.  Consider joining all columns at once using pd.concat(axis=1) instead. To get a de-fragmented frame, use `newframe = frame.copy()`\n",
      "  final[entity + '_actual/toal_' + str(time)] = final['Amount'] / final[entity + '_total_' + str(time)]\n",
      "/var/folders/ll/h_rnbgns62bcj0skpd2j0ktr0000gp/T/ipykernel_38628/219860616.py:22: PerformanceWarning: DataFrame is highly fragmented.  This is usually the result of calling `frame.insert` many times, which has poor performance.  Consider joining all columns at once using pd.concat(axis=1) instead. To get a de-fragmented frame, use `newframe = frame.copy()`\n",
      "  final[col_name] = final.Recnum.map(mapper2)\n",
      "/var/folders/ll/h_rnbgns62bcj0skpd2j0ktr0000gp/T/ipykernel_38628/219860616.py:24: PerformanceWarning: DataFrame is highly fragmented.  This is usually the result of calling `frame.insert` many times, which has poor performance.  Consider joining all columns at once using pd.concat(axis=1) instead. To get a de-fragmented frame, use `newframe = frame.copy()`\n",
      "  final[entity + '_avg_' + str(time)] = final.Recnum.map(temp2.groupby('Recnum')['Amount'].mean())\n",
      "/var/folders/ll/h_rnbgns62bcj0skpd2j0ktr0000gp/T/ipykernel_38628/219860616.py:25: PerformanceWarning: DataFrame is highly fragmented.  This is usually the result of calling `frame.insert` many times, which has poor performance.  Consider joining all columns at once using pd.concat(axis=1) instead. To get a de-fragmented frame, use `newframe = frame.copy()`\n",
      "  final[entity + '_max_' + str(time)] = final.Recnum.map(temp2.groupby('Recnum')['Amount'].max())\n",
      "/var/folders/ll/h_rnbgns62bcj0skpd2j0ktr0000gp/T/ipykernel_38628/219860616.py:26: PerformanceWarning: DataFrame is highly fragmented.  This is usually the result of calling `frame.insert` many times, which has poor performance.  Consider joining all columns at once using pd.concat(axis=1) instead. To get a de-fragmented frame, use `newframe = frame.copy()`\n",
      "  final[entity + '_med_' + str(time)] = final.Recnum.map(temp2.groupby('Recnum')['Amount'].median())\n",
      "/var/folders/ll/h_rnbgns62bcj0skpd2j0ktr0000gp/T/ipykernel_38628/219860616.py:27: PerformanceWarning: DataFrame is highly fragmented.  This is usually the result of calling `frame.insert` many times, which has poor performance.  Consider joining all columns at once using pd.concat(axis=1) instead. To get a de-fragmented frame, use `newframe = frame.copy()`\n",
      "  final[entity + '_total_' + str(time)] = final.Recnum.map(temp2.groupby('Recnum')['Amount'].sum())\n",
      "/var/folders/ll/h_rnbgns62bcj0skpd2j0ktr0000gp/T/ipykernel_38628/219860616.py:28: PerformanceWarning: DataFrame is highly fragmented.  This is usually the result of calling `frame.insert` many times, which has poor performance.  Consider joining all columns at once using pd.concat(axis=1) instead. To get a de-fragmented frame, use `newframe = frame.copy()`\n",
      "  final[entity + '_actual/avg_' + str(time)] = final['Amount'] / final[entity + '_avg_' + str(time)]\n",
      "/var/folders/ll/h_rnbgns62bcj0skpd2j0ktr0000gp/T/ipykernel_38628/219860616.py:29: PerformanceWarning: DataFrame is highly fragmented.  This is usually the result of calling `frame.insert` many times, which has poor performance.  Consider joining all columns at once using pd.concat(axis=1) instead. To get a de-fragmented frame, use `newframe = frame.copy()`\n",
      "  final[entity + '_actual/max_' + str(time)] = final['Amount'] / final[entity + '_max_' + str(time)]\n",
      "/var/folders/ll/h_rnbgns62bcj0skpd2j0ktr0000gp/T/ipykernel_38628/219860616.py:30: PerformanceWarning: DataFrame is highly fragmented.  This is usually the result of calling `frame.insert` many times, which has poor performance.  Consider joining all columns at once using pd.concat(axis=1) instead. To get a de-fragmented frame, use `newframe = frame.copy()`\n",
      "  final[entity + '_actual/med_' + str(time)] = final['Amount'] / final[entity + '_med_' + str(time)]\n",
      "/var/folders/ll/h_rnbgns62bcj0skpd2j0ktr0000gp/T/ipykernel_38628/219860616.py:31: PerformanceWarning: DataFrame is highly fragmented.  This is usually the result of calling `frame.insert` many times, which has poor performance.  Consider joining all columns at once using pd.concat(axis=1) instead. To get a de-fragmented frame, use `newframe = frame.copy()`\n",
      "  final[entity + '_actual/toal_' + str(time)] = final['Amount'] / final[entity + '_total_' + str(time)]\n"
     ]
    },
    {
     "name": "stdout",
     "output_type": "stream",
     "text": [
      "card_state amount variables over past 3 ---> Done\n",
      "card_state_count_7 ---> Done\n",
      "card_state amount variables over past 7 ---> Done\n"
     ]
    },
    {
     "name": "stderr",
     "output_type": "stream",
     "text": [
      "/var/folders/ll/h_rnbgns62bcj0skpd2j0ktr0000gp/T/ipykernel_38628/219860616.py:22: PerformanceWarning: DataFrame is highly fragmented.  This is usually the result of calling `frame.insert` many times, which has poor performance.  Consider joining all columns at once using pd.concat(axis=1) instead. To get a de-fragmented frame, use `newframe = frame.copy()`\n",
      "  final[col_name] = final.Recnum.map(mapper2)\n",
      "/var/folders/ll/h_rnbgns62bcj0skpd2j0ktr0000gp/T/ipykernel_38628/219860616.py:24: PerformanceWarning: DataFrame is highly fragmented.  This is usually the result of calling `frame.insert` many times, which has poor performance.  Consider joining all columns at once using pd.concat(axis=1) instead. To get a de-fragmented frame, use `newframe = frame.copy()`\n",
      "  final[entity + '_avg_' + str(time)] = final.Recnum.map(temp2.groupby('Recnum')['Amount'].mean())\n",
      "/var/folders/ll/h_rnbgns62bcj0skpd2j0ktr0000gp/T/ipykernel_38628/219860616.py:25: PerformanceWarning: DataFrame is highly fragmented.  This is usually the result of calling `frame.insert` many times, which has poor performance.  Consider joining all columns at once using pd.concat(axis=1) instead. To get a de-fragmented frame, use `newframe = frame.copy()`\n",
      "  final[entity + '_max_' + str(time)] = final.Recnum.map(temp2.groupby('Recnum')['Amount'].max())\n",
      "/var/folders/ll/h_rnbgns62bcj0skpd2j0ktr0000gp/T/ipykernel_38628/219860616.py:26: PerformanceWarning: DataFrame is highly fragmented.  This is usually the result of calling `frame.insert` many times, which has poor performance.  Consider joining all columns at once using pd.concat(axis=1) instead. To get a de-fragmented frame, use `newframe = frame.copy()`\n",
      "  final[entity + '_med_' + str(time)] = final.Recnum.map(temp2.groupby('Recnum')['Amount'].median())\n",
      "/var/folders/ll/h_rnbgns62bcj0skpd2j0ktr0000gp/T/ipykernel_38628/219860616.py:27: PerformanceWarning: DataFrame is highly fragmented.  This is usually the result of calling `frame.insert` many times, which has poor performance.  Consider joining all columns at once using pd.concat(axis=1) instead. To get a de-fragmented frame, use `newframe = frame.copy()`\n",
      "  final[entity + '_total_' + str(time)] = final.Recnum.map(temp2.groupby('Recnum')['Amount'].sum())\n",
      "/var/folders/ll/h_rnbgns62bcj0skpd2j0ktr0000gp/T/ipykernel_38628/219860616.py:28: PerformanceWarning: DataFrame is highly fragmented.  This is usually the result of calling `frame.insert` many times, which has poor performance.  Consider joining all columns at once using pd.concat(axis=1) instead. To get a de-fragmented frame, use `newframe = frame.copy()`\n",
      "  final[entity + '_actual/avg_' + str(time)] = final['Amount'] / final[entity + '_avg_' + str(time)]\n",
      "/var/folders/ll/h_rnbgns62bcj0skpd2j0ktr0000gp/T/ipykernel_38628/219860616.py:29: PerformanceWarning: DataFrame is highly fragmented.  This is usually the result of calling `frame.insert` many times, which has poor performance.  Consider joining all columns at once using pd.concat(axis=1) instead. To get a de-fragmented frame, use `newframe = frame.copy()`\n",
      "  final[entity + '_actual/max_' + str(time)] = final['Amount'] / final[entity + '_max_' + str(time)]\n",
      "/var/folders/ll/h_rnbgns62bcj0skpd2j0ktr0000gp/T/ipykernel_38628/219860616.py:30: PerformanceWarning: DataFrame is highly fragmented.  This is usually the result of calling `frame.insert` many times, which has poor performance.  Consider joining all columns at once using pd.concat(axis=1) instead. To get a de-fragmented frame, use `newframe = frame.copy()`\n",
      "  final[entity + '_actual/med_' + str(time)] = final['Amount'] / final[entity + '_med_' + str(time)]\n",
      "/var/folders/ll/h_rnbgns62bcj0skpd2j0ktr0000gp/T/ipykernel_38628/219860616.py:31: PerformanceWarning: DataFrame is highly fragmented.  This is usually the result of calling `frame.insert` many times, which has poor performance.  Consider joining all columns at once using pd.concat(axis=1) instead. To get a de-fragmented frame, use `newframe = frame.copy()`\n",
      "  final[entity + '_actual/toal_' + str(time)] = final['Amount'] / final[entity + '_total_' + str(time)]\n"
     ]
    },
    {
     "name": "stdout",
     "output_type": "stream",
     "text": [
      "card_state_count_14 ---> Done\n",
      "card_state amount variables over past 14 ---> Done\n"
     ]
    },
    {
     "name": "stderr",
     "output_type": "stream",
     "text": [
      "/var/folders/ll/h_rnbgns62bcj0skpd2j0ktr0000gp/T/ipykernel_38628/219860616.py:22: PerformanceWarning: DataFrame is highly fragmented.  This is usually the result of calling `frame.insert` many times, which has poor performance.  Consider joining all columns at once using pd.concat(axis=1) instead. To get a de-fragmented frame, use `newframe = frame.copy()`\n",
      "  final[col_name] = final.Recnum.map(mapper2)\n",
      "/var/folders/ll/h_rnbgns62bcj0skpd2j0ktr0000gp/T/ipykernel_38628/219860616.py:24: PerformanceWarning: DataFrame is highly fragmented.  This is usually the result of calling `frame.insert` many times, which has poor performance.  Consider joining all columns at once using pd.concat(axis=1) instead. To get a de-fragmented frame, use `newframe = frame.copy()`\n",
      "  final[entity + '_avg_' + str(time)] = final.Recnum.map(temp2.groupby('Recnum')['Amount'].mean())\n",
      "/var/folders/ll/h_rnbgns62bcj0skpd2j0ktr0000gp/T/ipykernel_38628/219860616.py:25: PerformanceWarning: DataFrame is highly fragmented.  This is usually the result of calling `frame.insert` many times, which has poor performance.  Consider joining all columns at once using pd.concat(axis=1) instead. To get a de-fragmented frame, use `newframe = frame.copy()`\n",
      "  final[entity + '_max_' + str(time)] = final.Recnum.map(temp2.groupby('Recnum')['Amount'].max())\n",
      "/var/folders/ll/h_rnbgns62bcj0skpd2j0ktr0000gp/T/ipykernel_38628/219860616.py:26: PerformanceWarning: DataFrame is highly fragmented.  This is usually the result of calling `frame.insert` many times, which has poor performance.  Consider joining all columns at once using pd.concat(axis=1) instead. To get a de-fragmented frame, use `newframe = frame.copy()`\n",
      "  final[entity + '_med_' + str(time)] = final.Recnum.map(temp2.groupby('Recnum')['Amount'].median())\n",
      "/var/folders/ll/h_rnbgns62bcj0skpd2j0ktr0000gp/T/ipykernel_38628/219860616.py:27: PerformanceWarning: DataFrame is highly fragmented.  This is usually the result of calling `frame.insert` many times, which has poor performance.  Consider joining all columns at once using pd.concat(axis=1) instead. To get a de-fragmented frame, use `newframe = frame.copy()`\n",
      "  final[entity + '_total_' + str(time)] = final.Recnum.map(temp2.groupby('Recnum')['Amount'].sum())\n",
      "/var/folders/ll/h_rnbgns62bcj0skpd2j0ktr0000gp/T/ipykernel_38628/219860616.py:28: PerformanceWarning: DataFrame is highly fragmented.  This is usually the result of calling `frame.insert` many times, which has poor performance.  Consider joining all columns at once using pd.concat(axis=1) instead. To get a de-fragmented frame, use `newframe = frame.copy()`\n",
      "  final[entity + '_actual/avg_' + str(time)] = final['Amount'] / final[entity + '_avg_' + str(time)]\n",
      "/var/folders/ll/h_rnbgns62bcj0skpd2j0ktr0000gp/T/ipykernel_38628/219860616.py:29: PerformanceWarning: DataFrame is highly fragmented.  This is usually the result of calling `frame.insert` many times, which has poor performance.  Consider joining all columns at once using pd.concat(axis=1) instead. To get a de-fragmented frame, use `newframe = frame.copy()`\n",
      "  final[entity + '_actual/max_' + str(time)] = final['Amount'] / final[entity + '_max_' + str(time)]\n",
      "/var/folders/ll/h_rnbgns62bcj0skpd2j0ktr0000gp/T/ipykernel_38628/219860616.py:30: PerformanceWarning: DataFrame is highly fragmented.  This is usually the result of calling `frame.insert` many times, which has poor performance.  Consider joining all columns at once using pd.concat(axis=1) instead. To get a de-fragmented frame, use `newframe = frame.copy()`\n",
      "  final[entity + '_actual/med_' + str(time)] = final['Amount'] / final[entity + '_med_' + str(time)]\n",
      "/var/folders/ll/h_rnbgns62bcj0skpd2j0ktr0000gp/T/ipykernel_38628/219860616.py:31: PerformanceWarning: DataFrame is highly fragmented.  This is usually the result of calling `frame.insert` many times, which has poor performance.  Consider joining all columns at once using pd.concat(axis=1) instead. To get a de-fragmented frame, use `newframe = frame.copy()`\n",
      "  final[entity + '_actual/toal_' + str(time)] = final['Amount'] / final[entity + '_total_' + str(time)]\n"
     ]
    },
    {
     "name": "stdout",
     "output_type": "stream",
     "text": [
      "card_state_count_30 ---> Done\n",
      "card_state amount variables over past 30 ---> Done\n",
      "Run time for the last entity ----------------- 1.6400346249999984s\n"
     ]
    },
    {
     "name": "stderr",
     "output_type": "stream",
     "text": [
      "/var/folders/ll/h_rnbgns62bcj0skpd2j0ktr0000gp/T/ipykernel_38628/219860616.py:13: PerformanceWarning: DataFrame is highly fragmented.  This is usually the result of calling `frame.insert` many times, which has poor performance.  Consider joining all columns at once using pd.concat(axis=1) instead. To get a de-fragmented frame, use `newframe = frame.copy()`\n",
      "  final[entity + '_day_since'] = final.Recnum.map(mapper)\n",
      "/var/folders/ll/h_rnbgns62bcj0skpd2j0ktr0000gp/T/ipykernel_38628/219860616.py:22: PerformanceWarning: DataFrame is highly fragmented.  This is usually the result of calling `frame.insert` many times, which has poor performance.  Consider joining all columns at once using pd.concat(axis=1) instead. To get a de-fragmented frame, use `newframe = frame.copy()`\n",
      "  final[col_name] = final.Recnum.map(mapper2)\n",
      "/var/folders/ll/h_rnbgns62bcj0skpd2j0ktr0000gp/T/ipykernel_38628/219860616.py:24: PerformanceWarning: DataFrame is highly fragmented.  This is usually the result of calling `frame.insert` many times, which has poor performance.  Consider joining all columns at once using pd.concat(axis=1) instead. To get a de-fragmented frame, use `newframe = frame.copy()`\n",
      "  final[entity + '_avg_' + str(time)] = final.Recnum.map(temp2.groupby('Recnum')['Amount'].mean())\n",
      "/var/folders/ll/h_rnbgns62bcj0skpd2j0ktr0000gp/T/ipykernel_38628/219860616.py:25: PerformanceWarning: DataFrame is highly fragmented.  This is usually the result of calling `frame.insert` many times, which has poor performance.  Consider joining all columns at once using pd.concat(axis=1) instead. To get a de-fragmented frame, use `newframe = frame.copy()`\n",
      "  final[entity + '_max_' + str(time)] = final.Recnum.map(temp2.groupby('Recnum')['Amount'].max())\n",
      "/var/folders/ll/h_rnbgns62bcj0skpd2j0ktr0000gp/T/ipykernel_38628/219860616.py:26: PerformanceWarning: DataFrame is highly fragmented.  This is usually the result of calling `frame.insert` many times, which has poor performance.  Consider joining all columns at once using pd.concat(axis=1) instead. To get a de-fragmented frame, use `newframe = frame.copy()`\n",
      "  final[entity + '_med_' + str(time)] = final.Recnum.map(temp2.groupby('Recnum')['Amount'].median())\n",
      "/var/folders/ll/h_rnbgns62bcj0skpd2j0ktr0000gp/T/ipykernel_38628/219860616.py:27: PerformanceWarning: DataFrame is highly fragmented.  This is usually the result of calling `frame.insert` many times, which has poor performance.  Consider joining all columns at once using pd.concat(axis=1) instead. To get a de-fragmented frame, use `newframe = frame.copy()`\n",
      "  final[entity + '_total_' + str(time)] = final.Recnum.map(temp2.groupby('Recnum')['Amount'].sum())\n",
      "/var/folders/ll/h_rnbgns62bcj0skpd2j0ktr0000gp/T/ipykernel_38628/219860616.py:28: PerformanceWarning: DataFrame is highly fragmented.  This is usually the result of calling `frame.insert` many times, which has poor performance.  Consider joining all columns at once using pd.concat(axis=1) instead. To get a de-fragmented frame, use `newframe = frame.copy()`\n",
      "  final[entity + '_actual/avg_' + str(time)] = final['Amount'] / final[entity + '_avg_' + str(time)]\n",
      "/var/folders/ll/h_rnbgns62bcj0skpd2j0ktr0000gp/T/ipykernel_38628/219860616.py:29: PerformanceWarning: DataFrame is highly fragmented.  This is usually the result of calling `frame.insert` many times, which has poor performance.  Consider joining all columns at once using pd.concat(axis=1) instead. To get a de-fragmented frame, use `newframe = frame.copy()`\n",
      "  final[entity + '_actual/max_' + str(time)] = final['Amount'] / final[entity + '_max_' + str(time)]\n",
      "/var/folders/ll/h_rnbgns62bcj0skpd2j0ktr0000gp/T/ipykernel_38628/219860616.py:30: PerformanceWarning: DataFrame is highly fragmented.  This is usually the result of calling `frame.insert` many times, which has poor performance.  Consider joining all columns at once using pd.concat(axis=1) instead. To get a de-fragmented frame, use `newframe = frame.copy()`\n",
      "  final[entity + '_actual/med_' + str(time)] = final['Amount'] / final[entity + '_med_' + str(time)]\n",
      "/var/folders/ll/h_rnbgns62bcj0skpd2j0ktr0000gp/T/ipykernel_38628/219860616.py:31: PerformanceWarning: DataFrame is highly fragmented.  This is usually the result of calling `frame.insert` many times, which has poor performance.  Consider joining all columns at once using pd.concat(axis=1) instead. To get a de-fragmented frame, use `newframe = frame.copy()`\n",
      "  final[entity + '_actual/toal_' + str(time)] = final['Amount'] / final[entity + '_total_' + str(time)]\n",
      "/var/folders/ll/h_rnbgns62bcj0skpd2j0ktr0000gp/T/ipykernel_38628/219860616.py:22: PerformanceWarning: DataFrame is highly fragmented.  This is usually the result of calling `frame.insert` many times, which has poor performance.  Consider joining all columns at once using pd.concat(axis=1) instead. To get a de-fragmented frame, use `newframe = frame.copy()`\n",
      "  final[col_name] = final.Recnum.map(mapper2)\n",
      "/var/folders/ll/h_rnbgns62bcj0skpd2j0ktr0000gp/T/ipykernel_38628/219860616.py:24: PerformanceWarning: DataFrame is highly fragmented.  This is usually the result of calling `frame.insert` many times, which has poor performance.  Consider joining all columns at once using pd.concat(axis=1) instead. To get a de-fragmented frame, use `newframe = frame.copy()`\n",
      "  final[entity + '_avg_' + str(time)] = final.Recnum.map(temp2.groupby('Recnum')['Amount'].mean())\n",
      "/var/folders/ll/h_rnbgns62bcj0skpd2j0ktr0000gp/T/ipykernel_38628/219860616.py:25: PerformanceWarning: DataFrame is highly fragmented.  This is usually the result of calling `frame.insert` many times, which has poor performance.  Consider joining all columns at once using pd.concat(axis=1) instead. To get a de-fragmented frame, use `newframe = frame.copy()`\n",
      "  final[entity + '_max_' + str(time)] = final.Recnum.map(temp2.groupby('Recnum')['Amount'].max())\n",
      "/var/folders/ll/h_rnbgns62bcj0skpd2j0ktr0000gp/T/ipykernel_38628/219860616.py:26: PerformanceWarning: DataFrame is highly fragmented.  This is usually the result of calling `frame.insert` many times, which has poor performance.  Consider joining all columns at once using pd.concat(axis=1) instead. To get a de-fragmented frame, use `newframe = frame.copy()`\n",
      "  final[entity + '_med_' + str(time)] = final.Recnum.map(temp2.groupby('Recnum')['Amount'].median())\n"
     ]
    },
    {
     "name": "stdout",
     "output_type": "stream",
     "text": [
      "\n",
      "card_month_day_since ---> Done\n",
      "card_month_count_0 ---> Done\n",
      "card_month amount variables over past 0 ---> Done\n",
      "card_month_count_1 ---> Done\n"
     ]
    },
    {
     "name": "stderr",
     "output_type": "stream",
     "text": [
      "/var/folders/ll/h_rnbgns62bcj0skpd2j0ktr0000gp/T/ipykernel_38628/219860616.py:27: PerformanceWarning: DataFrame is highly fragmented.  This is usually the result of calling `frame.insert` many times, which has poor performance.  Consider joining all columns at once using pd.concat(axis=1) instead. To get a de-fragmented frame, use `newframe = frame.copy()`\n",
      "  final[entity + '_total_' + str(time)] = final.Recnum.map(temp2.groupby('Recnum')['Amount'].sum())\n",
      "/var/folders/ll/h_rnbgns62bcj0skpd2j0ktr0000gp/T/ipykernel_38628/219860616.py:28: PerformanceWarning: DataFrame is highly fragmented.  This is usually the result of calling `frame.insert` many times, which has poor performance.  Consider joining all columns at once using pd.concat(axis=1) instead. To get a de-fragmented frame, use `newframe = frame.copy()`\n",
      "  final[entity + '_actual/avg_' + str(time)] = final['Amount'] / final[entity + '_avg_' + str(time)]\n",
      "/var/folders/ll/h_rnbgns62bcj0skpd2j0ktr0000gp/T/ipykernel_38628/219860616.py:29: PerformanceWarning: DataFrame is highly fragmented.  This is usually the result of calling `frame.insert` many times, which has poor performance.  Consider joining all columns at once using pd.concat(axis=1) instead. To get a de-fragmented frame, use `newframe = frame.copy()`\n",
      "  final[entity + '_actual/max_' + str(time)] = final['Amount'] / final[entity + '_max_' + str(time)]\n",
      "/var/folders/ll/h_rnbgns62bcj0skpd2j0ktr0000gp/T/ipykernel_38628/219860616.py:30: PerformanceWarning: DataFrame is highly fragmented.  This is usually the result of calling `frame.insert` many times, which has poor performance.  Consider joining all columns at once using pd.concat(axis=1) instead. To get a de-fragmented frame, use `newframe = frame.copy()`\n",
      "  final[entity + '_actual/med_' + str(time)] = final['Amount'] / final[entity + '_med_' + str(time)]\n",
      "/var/folders/ll/h_rnbgns62bcj0skpd2j0ktr0000gp/T/ipykernel_38628/219860616.py:31: PerformanceWarning: DataFrame is highly fragmented.  This is usually the result of calling `frame.insert` many times, which has poor performance.  Consider joining all columns at once using pd.concat(axis=1) instead. To get a de-fragmented frame, use `newframe = frame.copy()`\n",
      "  final[entity + '_actual/toal_' + str(time)] = final['Amount'] / final[entity + '_total_' + str(time)]\n",
      "/var/folders/ll/h_rnbgns62bcj0skpd2j0ktr0000gp/T/ipykernel_38628/219860616.py:22: PerformanceWarning: DataFrame is highly fragmented.  This is usually the result of calling `frame.insert` many times, which has poor performance.  Consider joining all columns at once using pd.concat(axis=1) instead. To get a de-fragmented frame, use `newframe = frame.copy()`\n",
      "  final[col_name] = final.Recnum.map(mapper2)\n",
      "/var/folders/ll/h_rnbgns62bcj0skpd2j0ktr0000gp/T/ipykernel_38628/219860616.py:24: PerformanceWarning: DataFrame is highly fragmented.  This is usually the result of calling `frame.insert` many times, which has poor performance.  Consider joining all columns at once using pd.concat(axis=1) instead. To get a de-fragmented frame, use `newframe = frame.copy()`\n",
      "  final[entity + '_avg_' + str(time)] = final.Recnum.map(temp2.groupby('Recnum')['Amount'].mean())\n",
      "/var/folders/ll/h_rnbgns62bcj0skpd2j0ktr0000gp/T/ipykernel_38628/219860616.py:25: PerformanceWarning: DataFrame is highly fragmented.  This is usually the result of calling `frame.insert` many times, which has poor performance.  Consider joining all columns at once using pd.concat(axis=1) instead. To get a de-fragmented frame, use `newframe = frame.copy()`\n",
      "  final[entity + '_max_' + str(time)] = final.Recnum.map(temp2.groupby('Recnum')['Amount'].max())\n",
      "/var/folders/ll/h_rnbgns62bcj0skpd2j0ktr0000gp/T/ipykernel_38628/219860616.py:26: PerformanceWarning: DataFrame is highly fragmented.  This is usually the result of calling `frame.insert` many times, which has poor performance.  Consider joining all columns at once using pd.concat(axis=1) instead. To get a de-fragmented frame, use `newframe = frame.copy()`\n",
      "  final[entity + '_med_' + str(time)] = final.Recnum.map(temp2.groupby('Recnum')['Amount'].median())\n",
      "/var/folders/ll/h_rnbgns62bcj0skpd2j0ktr0000gp/T/ipykernel_38628/219860616.py:27: PerformanceWarning: DataFrame is highly fragmented.  This is usually the result of calling `frame.insert` many times, which has poor performance.  Consider joining all columns at once using pd.concat(axis=1) instead. To get a de-fragmented frame, use `newframe = frame.copy()`\n",
      "  final[entity + '_total_' + str(time)] = final.Recnum.map(temp2.groupby('Recnum')['Amount'].sum())\n",
      "/var/folders/ll/h_rnbgns62bcj0skpd2j0ktr0000gp/T/ipykernel_38628/219860616.py:28: PerformanceWarning: DataFrame is highly fragmented.  This is usually the result of calling `frame.insert` many times, which has poor performance.  Consider joining all columns at once using pd.concat(axis=1) instead. To get a de-fragmented frame, use `newframe = frame.copy()`\n",
      "  final[entity + '_actual/avg_' + str(time)] = final['Amount'] / final[entity + '_avg_' + str(time)]\n",
      "/var/folders/ll/h_rnbgns62bcj0skpd2j0ktr0000gp/T/ipykernel_38628/219860616.py:29: PerformanceWarning: DataFrame is highly fragmented.  This is usually the result of calling `frame.insert` many times, which has poor performance.  Consider joining all columns at once using pd.concat(axis=1) instead. To get a de-fragmented frame, use `newframe = frame.copy()`\n",
      "  final[entity + '_actual/max_' + str(time)] = final['Amount'] / final[entity + '_max_' + str(time)]\n",
      "/var/folders/ll/h_rnbgns62bcj0skpd2j0ktr0000gp/T/ipykernel_38628/219860616.py:30: PerformanceWarning: DataFrame is highly fragmented.  This is usually the result of calling `frame.insert` many times, which has poor performance.  Consider joining all columns at once using pd.concat(axis=1) instead. To get a de-fragmented frame, use `newframe = frame.copy()`\n",
      "  final[entity + '_actual/med_' + str(time)] = final['Amount'] / final[entity + '_med_' + str(time)]\n",
      "/var/folders/ll/h_rnbgns62bcj0skpd2j0ktr0000gp/T/ipykernel_38628/219860616.py:31: PerformanceWarning: DataFrame is highly fragmented.  This is usually the result of calling `frame.insert` many times, which has poor performance.  Consider joining all columns at once using pd.concat(axis=1) instead. To get a de-fragmented frame, use `newframe = frame.copy()`\n",
      "  final[entity + '_actual/toal_' + str(time)] = final['Amount'] / final[entity + '_total_' + str(time)]\n",
      "/var/folders/ll/h_rnbgns62bcj0skpd2j0ktr0000gp/T/ipykernel_38628/219860616.py:22: PerformanceWarning: DataFrame is highly fragmented.  This is usually the result of calling `frame.insert` many times, which has poor performance.  Consider joining all columns at once using pd.concat(axis=1) instead. To get a de-fragmented frame, use `newframe = frame.copy()`\n",
      "  final[col_name] = final.Recnum.map(mapper2)\n"
     ]
    },
    {
     "name": "stdout",
     "output_type": "stream",
     "text": [
      "card_month amount variables over past 1 ---> Done\n",
      "card_month_count_3 ---> Done\n",
      "card_month amount variables over past 3 ---> Done\n",
      "card_month_count_7 ---> Done\n"
     ]
    },
    {
     "name": "stderr",
     "output_type": "stream",
     "text": [
      "/var/folders/ll/h_rnbgns62bcj0skpd2j0ktr0000gp/T/ipykernel_38628/219860616.py:24: PerformanceWarning: DataFrame is highly fragmented.  This is usually the result of calling `frame.insert` many times, which has poor performance.  Consider joining all columns at once using pd.concat(axis=1) instead. To get a de-fragmented frame, use `newframe = frame.copy()`\n",
      "  final[entity + '_avg_' + str(time)] = final.Recnum.map(temp2.groupby('Recnum')['Amount'].mean())\n",
      "/var/folders/ll/h_rnbgns62bcj0skpd2j0ktr0000gp/T/ipykernel_38628/219860616.py:25: PerformanceWarning: DataFrame is highly fragmented.  This is usually the result of calling `frame.insert` many times, which has poor performance.  Consider joining all columns at once using pd.concat(axis=1) instead. To get a de-fragmented frame, use `newframe = frame.copy()`\n",
      "  final[entity + '_max_' + str(time)] = final.Recnum.map(temp2.groupby('Recnum')['Amount'].max())\n",
      "/var/folders/ll/h_rnbgns62bcj0skpd2j0ktr0000gp/T/ipykernel_38628/219860616.py:26: PerformanceWarning: DataFrame is highly fragmented.  This is usually the result of calling `frame.insert` many times, which has poor performance.  Consider joining all columns at once using pd.concat(axis=1) instead. To get a de-fragmented frame, use `newframe = frame.copy()`\n",
      "  final[entity + '_med_' + str(time)] = final.Recnum.map(temp2.groupby('Recnum')['Amount'].median())\n",
      "/var/folders/ll/h_rnbgns62bcj0skpd2j0ktr0000gp/T/ipykernel_38628/219860616.py:27: PerformanceWarning: DataFrame is highly fragmented.  This is usually the result of calling `frame.insert` many times, which has poor performance.  Consider joining all columns at once using pd.concat(axis=1) instead. To get a de-fragmented frame, use `newframe = frame.copy()`\n",
      "  final[entity + '_total_' + str(time)] = final.Recnum.map(temp2.groupby('Recnum')['Amount'].sum())\n",
      "/var/folders/ll/h_rnbgns62bcj0skpd2j0ktr0000gp/T/ipykernel_38628/219860616.py:28: PerformanceWarning: DataFrame is highly fragmented.  This is usually the result of calling `frame.insert` many times, which has poor performance.  Consider joining all columns at once using pd.concat(axis=1) instead. To get a de-fragmented frame, use `newframe = frame.copy()`\n",
      "  final[entity + '_actual/avg_' + str(time)] = final['Amount'] / final[entity + '_avg_' + str(time)]\n",
      "/var/folders/ll/h_rnbgns62bcj0skpd2j0ktr0000gp/T/ipykernel_38628/219860616.py:29: PerformanceWarning: DataFrame is highly fragmented.  This is usually the result of calling `frame.insert` many times, which has poor performance.  Consider joining all columns at once using pd.concat(axis=1) instead. To get a de-fragmented frame, use `newframe = frame.copy()`\n",
      "  final[entity + '_actual/max_' + str(time)] = final['Amount'] / final[entity + '_max_' + str(time)]\n",
      "/var/folders/ll/h_rnbgns62bcj0skpd2j0ktr0000gp/T/ipykernel_38628/219860616.py:30: PerformanceWarning: DataFrame is highly fragmented.  This is usually the result of calling `frame.insert` many times, which has poor performance.  Consider joining all columns at once using pd.concat(axis=1) instead. To get a de-fragmented frame, use `newframe = frame.copy()`\n",
      "  final[entity + '_actual/med_' + str(time)] = final['Amount'] / final[entity + '_med_' + str(time)]\n",
      "/var/folders/ll/h_rnbgns62bcj0skpd2j0ktr0000gp/T/ipykernel_38628/219860616.py:31: PerformanceWarning: DataFrame is highly fragmented.  This is usually the result of calling `frame.insert` many times, which has poor performance.  Consider joining all columns at once using pd.concat(axis=1) instead. To get a de-fragmented frame, use `newframe = frame.copy()`\n",
      "  final[entity + '_actual/toal_' + str(time)] = final['Amount'] / final[entity + '_total_' + str(time)]\n",
      "/var/folders/ll/h_rnbgns62bcj0skpd2j0ktr0000gp/T/ipykernel_38628/219860616.py:22: PerformanceWarning: DataFrame is highly fragmented.  This is usually the result of calling `frame.insert` many times, which has poor performance.  Consider joining all columns at once using pd.concat(axis=1) instead. To get a de-fragmented frame, use `newframe = frame.copy()`\n",
      "  final[col_name] = final.Recnum.map(mapper2)\n",
      "/var/folders/ll/h_rnbgns62bcj0skpd2j0ktr0000gp/T/ipykernel_38628/219860616.py:24: PerformanceWarning: DataFrame is highly fragmented.  This is usually the result of calling `frame.insert` many times, which has poor performance.  Consider joining all columns at once using pd.concat(axis=1) instead. To get a de-fragmented frame, use `newframe = frame.copy()`\n",
      "  final[entity + '_avg_' + str(time)] = final.Recnum.map(temp2.groupby('Recnum')['Amount'].mean())\n",
      "/var/folders/ll/h_rnbgns62bcj0skpd2j0ktr0000gp/T/ipykernel_38628/219860616.py:25: PerformanceWarning: DataFrame is highly fragmented.  This is usually the result of calling `frame.insert` many times, which has poor performance.  Consider joining all columns at once using pd.concat(axis=1) instead. To get a de-fragmented frame, use `newframe = frame.copy()`\n",
      "  final[entity + '_max_' + str(time)] = final.Recnum.map(temp2.groupby('Recnum')['Amount'].max())\n"
     ]
    },
    {
     "name": "stdout",
     "output_type": "stream",
     "text": [
      "card_month amount variables over past 7 ---> Done\n",
      "card_month_count_14 ---> Done\n",
      "card_month amount variables over past 14 ---> Done\n"
     ]
    },
    {
     "name": "stderr",
     "output_type": "stream",
     "text": [
      "/var/folders/ll/h_rnbgns62bcj0skpd2j0ktr0000gp/T/ipykernel_38628/219860616.py:26: PerformanceWarning: DataFrame is highly fragmented.  This is usually the result of calling `frame.insert` many times, which has poor performance.  Consider joining all columns at once using pd.concat(axis=1) instead. To get a de-fragmented frame, use `newframe = frame.copy()`\n",
      "  final[entity + '_med_' + str(time)] = final.Recnum.map(temp2.groupby('Recnum')['Amount'].median())\n",
      "/var/folders/ll/h_rnbgns62bcj0skpd2j0ktr0000gp/T/ipykernel_38628/219860616.py:27: PerformanceWarning: DataFrame is highly fragmented.  This is usually the result of calling `frame.insert` many times, which has poor performance.  Consider joining all columns at once using pd.concat(axis=1) instead. To get a de-fragmented frame, use `newframe = frame.copy()`\n",
      "  final[entity + '_total_' + str(time)] = final.Recnum.map(temp2.groupby('Recnum')['Amount'].sum())\n",
      "/var/folders/ll/h_rnbgns62bcj0skpd2j0ktr0000gp/T/ipykernel_38628/219860616.py:28: PerformanceWarning: DataFrame is highly fragmented.  This is usually the result of calling `frame.insert` many times, which has poor performance.  Consider joining all columns at once using pd.concat(axis=1) instead. To get a de-fragmented frame, use `newframe = frame.copy()`\n",
      "  final[entity + '_actual/avg_' + str(time)] = final['Amount'] / final[entity + '_avg_' + str(time)]\n",
      "/var/folders/ll/h_rnbgns62bcj0skpd2j0ktr0000gp/T/ipykernel_38628/219860616.py:29: PerformanceWarning: DataFrame is highly fragmented.  This is usually the result of calling `frame.insert` many times, which has poor performance.  Consider joining all columns at once using pd.concat(axis=1) instead. To get a de-fragmented frame, use `newframe = frame.copy()`\n",
      "  final[entity + '_actual/max_' + str(time)] = final['Amount'] / final[entity + '_max_' + str(time)]\n",
      "/var/folders/ll/h_rnbgns62bcj0skpd2j0ktr0000gp/T/ipykernel_38628/219860616.py:30: PerformanceWarning: DataFrame is highly fragmented.  This is usually the result of calling `frame.insert` many times, which has poor performance.  Consider joining all columns at once using pd.concat(axis=1) instead. To get a de-fragmented frame, use `newframe = frame.copy()`\n",
      "  final[entity + '_actual/med_' + str(time)] = final['Amount'] / final[entity + '_med_' + str(time)]\n",
      "/var/folders/ll/h_rnbgns62bcj0skpd2j0ktr0000gp/T/ipykernel_38628/219860616.py:31: PerformanceWarning: DataFrame is highly fragmented.  This is usually the result of calling `frame.insert` many times, which has poor performance.  Consider joining all columns at once using pd.concat(axis=1) instead. To get a de-fragmented frame, use `newframe = frame.copy()`\n",
      "  final[entity + '_actual/toal_' + str(time)] = final['Amount'] / final[entity + '_total_' + str(time)]\n",
      "/var/folders/ll/h_rnbgns62bcj0skpd2j0ktr0000gp/T/ipykernel_38628/219860616.py:22: PerformanceWarning: DataFrame is highly fragmented.  This is usually the result of calling `frame.insert` many times, which has poor performance.  Consider joining all columns at once using pd.concat(axis=1) instead. To get a de-fragmented frame, use `newframe = frame.copy()`\n",
      "  final[col_name] = final.Recnum.map(mapper2)\n",
      "/var/folders/ll/h_rnbgns62bcj0skpd2j0ktr0000gp/T/ipykernel_38628/219860616.py:24: PerformanceWarning: DataFrame is highly fragmented.  This is usually the result of calling `frame.insert` many times, which has poor performance.  Consider joining all columns at once using pd.concat(axis=1) instead. To get a de-fragmented frame, use `newframe = frame.copy()`\n",
      "  final[entity + '_avg_' + str(time)] = final.Recnum.map(temp2.groupby('Recnum')['Amount'].mean())\n",
      "/var/folders/ll/h_rnbgns62bcj0skpd2j0ktr0000gp/T/ipykernel_38628/219860616.py:25: PerformanceWarning: DataFrame is highly fragmented.  This is usually the result of calling `frame.insert` many times, which has poor performance.  Consider joining all columns at once using pd.concat(axis=1) instead. To get a de-fragmented frame, use `newframe = frame.copy()`\n",
      "  final[entity + '_max_' + str(time)] = final.Recnum.map(temp2.groupby('Recnum')['Amount'].max())\n"
     ]
    },
    {
     "name": "stdout",
     "output_type": "stream",
     "text": [
      "card_month_count_30 ---> Done\n",
      "card_month amount variables over past 30 ---> Done\n",
      "Run time for the last entity ----------------- 1.0922731670000303s\n"
     ]
    },
    {
     "name": "stderr",
     "output_type": "stream",
     "text": [
      "/var/folders/ll/h_rnbgns62bcj0skpd2j0ktr0000gp/T/ipykernel_38628/219860616.py:26: PerformanceWarning: DataFrame is highly fragmented.  This is usually the result of calling `frame.insert` many times, which has poor performance.  Consider joining all columns at once using pd.concat(axis=1) instead. To get a de-fragmented frame, use `newframe = frame.copy()`\n",
      "  final[entity + '_med_' + str(time)] = final.Recnum.map(temp2.groupby('Recnum')['Amount'].median())\n",
      "/var/folders/ll/h_rnbgns62bcj0skpd2j0ktr0000gp/T/ipykernel_38628/219860616.py:27: PerformanceWarning: DataFrame is highly fragmented.  This is usually the result of calling `frame.insert` many times, which has poor performance.  Consider joining all columns at once using pd.concat(axis=1) instead. To get a de-fragmented frame, use `newframe = frame.copy()`\n",
      "  final[entity + '_total_' + str(time)] = final.Recnum.map(temp2.groupby('Recnum')['Amount'].sum())\n",
      "/var/folders/ll/h_rnbgns62bcj0skpd2j0ktr0000gp/T/ipykernel_38628/219860616.py:28: PerformanceWarning: DataFrame is highly fragmented.  This is usually the result of calling `frame.insert` many times, which has poor performance.  Consider joining all columns at once using pd.concat(axis=1) instead. To get a de-fragmented frame, use `newframe = frame.copy()`\n",
      "  final[entity + '_actual/avg_' + str(time)] = final['Amount'] / final[entity + '_avg_' + str(time)]\n",
      "/var/folders/ll/h_rnbgns62bcj0skpd2j0ktr0000gp/T/ipykernel_38628/219860616.py:29: PerformanceWarning: DataFrame is highly fragmented.  This is usually the result of calling `frame.insert` many times, which has poor performance.  Consider joining all columns at once using pd.concat(axis=1) instead. To get a de-fragmented frame, use `newframe = frame.copy()`\n",
      "  final[entity + '_actual/max_' + str(time)] = final['Amount'] / final[entity + '_max_' + str(time)]\n",
      "/var/folders/ll/h_rnbgns62bcj0skpd2j0ktr0000gp/T/ipykernel_38628/219860616.py:30: PerformanceWarning: DataFrame is highly fragmented.  This is usually the result of calling `frame.insert` many times, which has poor performance.  Consider joining all columns at once using pd.concat(axis=1) instead. To get a de-fragmented frame, use `newframe = frame.copy()`\n",
      "  final[entity + '_actual/med_' + str(time)] = final['Amount'] / final[entity + '_med_' + str(time)]\n",
      "/var/folders/ll/h_rnbgns62bcj0skpd2j0ktr0000gp/T/ipykernel_38628/219860616.py:31: PerformanceWarning: DataFrame is highly fragmented.  This is usually the result of calling `frame.insert` many times, which has poor performance.  Consider joining all columns at once using pd.concat(axis=1) instead. To get a de-fragmented frame, use `newframe = frame.copy()`\n",
      "  final[entity + '_actual/toal_' + str(time)] = final['Amount'] / final[entity + '_total_' + str(time)]\n",
      "/var/folders/ll/h_rnbgns62bcj0skpd2j0ktr0000gp/T/ipykernel_38628/219860616.py:13: PerformanceWarning: DataFrame is highly fragmented.  This is usually the result of calling `frame.insert` many times, which has poor performance.  Consider joining all columns at once using pd.concat(axis=1) instead. To get a de-fragmented frame, use `newframe = frame.copy()`\n",
      "  final[entity + '_day_since'] = final.Recnum.map(mapper)\n",
      "/var/folders/ll/h_rnbgns62bcj0skpd2j0ktr0000gp/T/ipykernel_38628/219860616.py:22: PerformanceWarning: DataFrame is highly fragmented.  This is usually the result of calling `frame.insert` many times, which has poor performance.  Consider joining all columns at once using pd.concat(axis=1) instead. To get a de-fragmented frame, use `newframe = frame.copy()`\n",
      "  final[col_name] = final.Recnum.map(mapper2)\n",
      "/var/folders/ll/h_rnbgns62bcj0skpd2j0ktr0000gp/T/ipykernel_38628/219860616.py:24: PerformanceWarning: DataFrame is highly fragmented.  This is usually the result of calling `frame.insert` many times, which has poor performance.  Consider joining all columns at once using pd.concat(axis=1) instead. To get a de-fragmented frame, use `newframe = frame.copy()`\n",
      "  final[entity + '_avg_' + str(time)] = final.Recnum.map(temp2.groupby('Recnum')['Amount'].mean())\n"
     ]
    },
    {
     "name": "stdout",
     "output_type": "stream",
     "text": [
      "\n",
      "merchnum_month_day_since ---> Done\n",
      "merchnum_month_count_0 ---> Done\n"
     ]
    },
    {
     "name": "stderr",
     "output_type": "stream",
     "text": [
      "/var/folders/ll/h_rnbgns62bcj0skpd2j0ktr0000gp/T/ipykernel_38628/219860616.py:25: PerformanceWarning: DataFrame is highly fragmented.  This is usually the result of calling `frame.insert` many times, which has poor performance.  Consider joining all columns at once using pd.concat(axis=1) instead. To get a de-fragmented frame, use `newframe = frame.copy()`\n",
      "  final[entity + '_max_' + str(time)] = final.Recnum.map(temp2.groupby('Recnum')['Amount'].max())\n",
      "/var/folders/ll/h_rnbgns62bcj0skpd2j0ktr0000gp/T/ipykernel_38628/219860616.py:26: PerformanceWarning: DataFrame is highly fragmented.  This is usually the result of calling `frame.insert` many times, which has poor performance.  Consider joining all columns at once using pd.concat(axis=1) instead. To get a de-fragmented frame, use `newframe = frame.copy()`\n",
      "  final[entity + '_med_' + str(time)] = final.Recnum.map(temp2.groupby('Recnum')['Amount'].median())\n",
      "/var/folders/ll/h_rnbgns62bcj0skpd2j0ktr0000gp/T/ipykernel_38628/219860616.py:27: PerformanceWarning: DataFrame is highly fragmented.  This is usually the result of calling `frame.insert` many times, which has poor performance.  Consider joining all columns at once using pd.concat(axis=1) instead. To get a de-fragmented frame, use `newframe = frame.copy()`\n",
      "  final[entity + '_total_' + str(time)] = final.Recnum.map(temp2.groupby('Recnum')['Amount'].sum())\n",
      "/var/folders/ll/h_rnbgns62bcj0skpd2j0ktr0000gp/T/ipykernel_38628/219860616.py:28: PerformanceWarning: DataFrame is highly fragmented.  This is usually the result of calling `frame.insert` many times, which has poor performance.  Consider joining all columns at once using pd.concat(axis=1) instead. To get a de-fragmented frame, use `newframe = frame.copy()`\n",
      "  final[entity + '_actual/avg_' + str(time)] = final['Amount'] / final[entity + '_avg_' + str(time)]\n",
      "/var/folders/ll/h_rnbgns62bcj0skpd2j0ktr0000gp/T/ipykernel_38628/219860616.py:29: PerformanceWarning: DataFrame is highly fragmented.  This is usually the result of calling `frame.insert` many times, which has poor performance.  Consider joining all columns at once using pd.concat(axis=1) instead. To get a de-fragmented frame, use `newframe = frame.copy()`\n",
      "  final[entity + '_actual/max_' + str(time)] = final['Amount'] / final[entity + '_max_' + str(time)]\n",
      "/var/folders/ll/h_rnbgns62bcj0skpd2j0ktr0000gp/T/ipykernel_38628/219860616.py:30: PerformanceWarning: DataFrame is highly fragmented.  This is usually the result of calling `frame.insert` many times, which has poor performance.  Consider joining all columns at once using pd.concat(axis=1) instead. To get a de-fragmented frame, use `newframe = frame.copy()`\n",
      "  final[entity + '_actual/med_' + str(time)] = final['Amount'] / final[entity + '_med_' + str(time)]\n",
      "/var/folders/ll/h_rnbgns62bcj0skpd2j0ktr0000gp/T/ipykernel_38628/219860616.py:31: PerformanceWarning: DataFrame is highly fragmented.  This is usually the result of calling `frame.insert` many times, which has poor performance.  Consider joining all columns at once using pd.concat(axis=1) instead. To get a de-fragmented frame, use `newframe = frame.copy()`\n",
      "  final[entity + '_actual/toal_' + str(time)] = final['Amount'] / final[entity + '_total_' + str(time)]\n"
     ]
    },
    {
     "name": "stdout",
     "output_type": "stream",
     "text": [
      "merchnum_month amount variables over past 0 ---> Done\n"
     ]
    },
    {
     "name": "stderr",
     "output_type": "stream",
     "text": [
      "/var/folders/ll/h_rnbgns62bcj0skpd2j0ktr0000gp/T/ipykernel_38628/219860616.py:22: PerformanceWarning: DataFrame is highly fragmented.  This is usually the result of calling `frame.insert` many times, which has poor performance.  Consider joining all columns at once using pd.concat(axis=1) instead. To get a de-fragmented frame, use `newframe = frame.copy()`\n",
      "  final[col_name] = final.Recnum.map(mapper2)\n",
      "/var/folders/ll/h_rnbgns62bcj0skpd2j0ktr0000gp/T/ipykernel_38628/219860616.py:24: PerformanceWarning: DataFrame is highly fragmented.  This is usually the result of calling `frame.insert` many times, which has poor performance.  Consider joining all columns at once using pd.concat(axis=1) instead. To get a de-fragmented frame, use `newframe = frame.copy()`\n",
      "  final[entity + '_avg_' + str(time)] = final.Recnum.map(temp2.groupby('Recnum')['Amount'].mean())\n",
      "/var/folders/ll/h_rnbgns62bcj0skpd2j0ktr0000gp/T/ipykernel_38628/219860616.py:25: PerformanceWarning: DataFrame is highly fragmented.  This is usually the result of calling `frame.insert` many times, which has poor performance.  Consider joining all columns at once using pd.concat(axis=1) instead. To get a de-fragmented frame, use `newframe = frame.copy()`\n",
      "  final[entity + '_max_' + str(time)] = final.Recnum.map(temp2.groupby('Recnum')['Amount'].max())\n",
      "/var/folders/ll/h_rnbgns62bcj0skpd2j0ktr0000gp/T/ipykernel_38628/219860616.py:26: PerformanceWarning: DataFrame is highly fragmented.  This is usually the result of calling `frame.insert` many times, which has poor performance.  Consider joining all columns at once using pd.concat(axis=1) instead. To get a de-fragmented frame, use `newframe = frame.copy()`\n",
      "  final[entity + '_med_' + str(time)] = final.Recnum.map(temp2.groupby('Recnum')['Amount'].median())\n",
      "/var/folders/ll/h_rnbgns62bcj0skpd2j0ktr0000gp/T/ipykernel_38628/219860616.py:27: PerformanceWarning: DataFrame is highly fragmented.  This is usually the result of calling `frame.insert` many times, which has poor performance.  Consider joining all columns at once using pd.concat(axis=1) instead. To get a de-fragmented frame, use `newframe = frame.copy()`\n",
      "  final[entity + '_total_' + str(time)] = final.Recnum.map(temp2.groupby('Recnum')['Amount'].sum())\n",
      "/var/folders/ll/h_rnbgns62bcj0skpd2j0ktr0000gp/T/ipykernel_38628/219860616.py:28: PerformanceWarning: DataFrame is highly fragmented.  This is usually the result of calling `frame.insert` many times, which has poor performance.  Consider joining all columns at once using pd.concat(axis=1) instead. To get a de-fragmented frame, use `newframe = frame.copy()`\n",
      "  final[entity + '_actual/avg_' + str(time)] = final['Amount'] / final[entity + '_avg_' + str(time)]\n",
      "/var/folders/ll/h_rnbgns62bcj0skpd2j0ktr0000gp/T/ipykernel_38628/219860616.py:29: PerformanceWarning: DataFrame is highly fragmented.  This is usually the result of calling `frame.insert` many times, which has poor performance.  Consider joining all columns at once using pd.concat(axis=1) instead. To get a de-fragmented frame, use `newframe = frame.copy()`\n",
      "  final[entity + '_actual/max_' + str(time)] = final['Amount'] / final[entity + '_max_' + str(time)]\n",
      "/var/folders/ll/h_rnbgns62bcj0skpd2j0ktr0000gp/T/ipykernel_38628/219860616.py:30: PerformanceWarning: DataFrame is highly fragmented.  This is usually the result of calling `frame.insert` many times, which has poor performance.  Consider joining all columns at once using pd.concat(axis=1) instead. To get a de-fragmented frame, use `newframe = frame.copy()`\n",
      "  final[entity + '_actual/med_' + str(time)] = final['Amount'] / final[entity + '_med_' + str(time)]\n",
      "/var/folders/ll/h_rnbgns62bcj0skpd2j0ktr0000gp/T/ipykernel_38628/219860616.py:31: PerformanceWarning: DataFrame is highly fragmented.  This is usually the result of calling `frame.insert` many times, which has poor performance.  Consider joining all columns at once using pd.concat(axis=1) instead. To get a de-fragmented frame, use `newframe = frame.copy()`\n",
      "  final[entity + '_actual/toal_' + str(time)] = final['Amount'] / final[entity + '_total_' + str(time)]\n"
     ]
    },
    {
     "name": "stdout",
     "output_type": "stream",
     "text": [
      "merchnum_month_count_1 ---> Done\n",
      "merchnum_month amount variables over past 1 ---> Done\n"
     ]
    },
    {
     "name": "stderr",
     "output_type": "stream",
     "text": [
      "/var/folders/ll/h_rnbgns62bcj0skpd2j0ktr0000gp/T/ipykernel_38628/219860616.py:22: PerformanceWarning: DataFrame is highly fragmented.  This is usually the result of calling `frame.insert` many times, which has poor performance.  Consider joining all columns at once using pd.concat(axis=1) instead. To get a de-fragmented frame, use `newframe = frame.copy()`\n",
      "  final[col_name] = final.Recnum.map(mapper2)\n",
      "/var/folders/ll/h_rnbgns62bcj0skpd2j0ktr0000gp/T/ipykernel_38628/219860616.py:24: PerformanceWarning: DataFrame is highly fragmented.  This is usually the result of calling `frame.insert` many times, which has poor performance.  Consider joining all columns at once using pd.concat(axis=1) instead. To get a de-fragmented frame, use `newframe = frame.copy()`\n",
      "  final[entity + '_avg_' + str(time)] = final.Recnum.map(temp2.groupby('Recnum')['Amount'].mean())\n",
      "/var/folders/ll/h_rnbgns62bcj0skpd2j0ktr0000gp/T/ipykernel_38628/219860616.py:25: PerformanceWarning: DataFrame is highly fragmented.  This is usually the result of calling `frame.insert` many times, which has poor performance.  Consider joining all columns at once using pd.concat(axis=1) instead. To get a de-fragmented frame, use `newframe = frame.copy()`\n",
      "  final[entity + '_max_' + str(time)] = final.Recnum.map(temp2.groupby('Recnum')['Amount'].max())\n",
      "/var/folders/ll/h_rnbgns62bcj0skpd2j0ktr0000gp/T/ipykernel_38628/219860616.py:26: PerformanceWarning: DataFrame is highly fragmented.  This is usually the result of calling `frame.insert` many times, which has poor performance.  Consider joining all columns at once using pd.concat(axis=1) instead. To get a de-fragmented frame, use `newframe = frame.copy()`\n",
      "  final[entity + '_med_' + str(time)] = final.Recnum.map(temp2.groupby('Recnum')['Amount'].median())\n",
      "/var/folders/ll/h_rnbgns62bcj0skpd2j0ktr0000gp/T/ipykernel_38628/219860616.py:27: PerformanceWarning: DataFrame is highly fragmented.  This is usually the result of calling `frame.insert` many times, which has poor performance.  Consider joining all columns at once using pd.concat(axis=1) instead. To get a de-fragmented frame, use `newframe = frame.copy()`\n",
      "  final[entity + '_total_' + str(time)] = final.Recnum.map(temp2.groupby('Recnum')['Amount'].sum())\n",
      "/var/folders/ll/h_rnbgns62bcj0skpd2j0ktr0000gp/T/ipykernel_38628/219860616.py:28: PerformanceWarning: DataFrame is highly fragmented.  This is usually the result of calling `frame.insert` many times, which has poor performance.  Consider joining all columns at once using pd.concat(axis=1) instead. To get a de-fragmented frame, use `newframe = frame.copy()`\n",
      "  final[entity + '_actual/avg_' + str(time)] = final['Amount'] / final[entity + '_avg_' + str(time)]\n",
      "/var/folders/ll/h_rnbgns62bcj0skpd2j0ktr0000gp/T/ipykernel_38628/219860616.py:29: PerformanceWarning: DataFrame is highly fragmented.  This is usually the result of calling `frame.insert` many times, which has poor performance.  Consider joining all columns at once using pd.concat(axis=1) instead. To get a de-fragmented frame, use `newframe = frame.copy()`\n",
      "  final[entity + '_actual/max_' + str(time)] = final['Amount'] / final[entity + '_max_' + str(time)]\n",
      "/var/folders/ll/h_rnbgns62bcj0skpd2j0ktr0000gp/T/ipykernel_38628/219860616.py:30: PerformanceWarning: DataFrame is highly fragmented.  This is usually the result of calling `frame.insert` many times, which has poor performance.  Consider joining all columns at once using pd.concat(axis=1) instead. To get a de-fragmented frame, use `newframe = frame.copy()`\n",
      "  final[entity + '_actual/med_' + str(time)] = final['Amount'] / final[entity + '_med_' + str(time)]\n",
      "/var/folders/ll/h_rnbgns62bcj0skpd2j0ktr0000gp/T/ipykernel_38628/219860616.py:31: PerformanceWarning: DataFrame is highly fragmented.  This is usually the result of calling `frame.insert` many times, which has poor performance.  Consider joining all columns at once using pd.concat(axis=1) instead. To get a de-fragmented frame, use `newframe = frame.copy()`\n",
      "  final[entity + '_actual/toal_' + str(time)] = final['Amount'] / final[entity + '_total_' + str(time)]\n"
     ]
    },
    {
     "name": "stdout",
     "output_type": "stream",
     "text": [
      "merchnum_month_count_3 ---> Done\n",
      "merchnum_month amount variables over past 3 ---> Done\n"
     ]
    },
    {
     "name": "stderr",
     "output_type": "stream",
     "text": [
      "/var/folders/ll/h_rnbgns62bcj0skpd2j0ktr0000gp/T/ipykernel_38628/219860616.py:22: PerformanceWarning: DataFrame is highly fragmented.  This is usually the result of calling `frame.insert` many times, which has poor performance.  Consider joining all columns at once using pd.concat(axis=1) instead. To get a de-fragmented frame, use `newframe = frame.copy()`\n",
      "  final[col_name] = final.Recnum.map(mapper2)\n",
      "/var/folders/ll/h_rnbgns62bcj0skpd2j0ktr0000gp/T/ipykernel_38628/219860616.py:24: PerformanceWarning: DataFrame is highly fragmented.  This is usually the result of calling `frame.insert` many times, which has poor performance.  Consider joining all columns at once using pd.concat(axis=1) instead. To get a de-fragmented frame, use `newframe = frame.copy()`\n",
      "  final[entity + '_avg_' + str(time)] = final.Recnum.map(temp2.groupby('Recnum')['Amount'].mean())\n",
      "/var/folders/ll/h_rnbgns62bcj0skpd2j0ktr0000gp/T/ipykernel_38628/219860616.py:25: PerformanceWarning: DataFrame is highly fragmented.  This is usually the result of calling `frame.insert` many times, which has poor performance.  Consider joining all columns at once using pd.concat(axis=1) instead. To get a de-fragmented frame, use `newframe = frame.copy()`\n",
      "  final[entity + '_max_' + str(time)] = final.Recnum.map(temp2.groupby('Recnum')['Amount'].max())\n",
      "/var/folders/ll/h_rnbgns62bcj0skpd2j0ktr0000gp/T/ipykernel_38628/219860616.py:26: PerformanceWarning: DataFrame is highly fragmented.  This is usually the result of calling `frame.insert` many times, which has poor performance.  Consider joining all columns at once using pd.concat(axis=1) instead. To get a de-fragmented frame, use `newframe = frame.copy()`\n",
      "  final[entity + '_med_' + str(time)] = final.Recnum.map(temp2.groupby('Recnum')['Amount'].median())\n"
     ]
    },
    {
     "name": "stdout",
     "output_type": "stream",
     "text": [
      "merchnum_month_count_7 ---> Done\n"
     ]
    },
    {
     "name": "stderr",
     "output_type": "stream",
     "text": [
      "/var/folders/ll/h_rnbgns62bcj0skpd2j0ktr0000gp/T/ipykernel_38628/219860616.py:27: PerformanceWarning: DataFrame is highly fragmented.  This is usually the result of calling `frame.insert` many times, which has poor performance.  Consider joining all columns at once using pd.concat(axis=1) instead. To get a de-fragmented frame, use `newframe = frame.copy()`\n",
      "  final[entity + '_total_' + str(time)] = final.Recnum.map(temp2.groupby('Recnum')['Amount'].sum())\n",
      "/var/folders/ll/h_rnbgns62bcj0skpd2j0ktr0000gp/T/ipykernel_38628/219860616.py:28: PerformanceWarning: DataFrame is highly fragmented.  This is usually the result of calling `frame.insert` many times, which has poor performance.  Consider joining all columns at once using pd.concat(axis=1) instead. To get a de-fragmented frame, use `newframe = frame.copy()`\n",
      "  final[entity + '_actual/avg_' + str(time)] = final['Amount'] / final[entity + '_avg_' + str(time)]\n",
      "/var/folders/ll/h_rnbgns62bcj0skpd2j0ktr0000gp/T/ipykernel_38628/219860616.py:29: PerformanceWarning: DataFrame is highly fragmented.  This is usually the result of calling `frame.insert` many times, which has poor performance.  Consider joining all columns at once using pd.concat(axis=1) instead. To get a de-fragmented frame, use `newframe = frame.copy()`\n",
      "  final[entity + '_actual/max_' + str(time)] = final['Amount'] / final[entity + '_max_' + str(time)]\n",
      "/var/folders/ll/h_rnbgns62bcj0skpd2j0ktr0000gp/T/ipykernel_38628/219860616.py:30: PerformanceWarning: DataFrame is highly fragmented.  This is usually the result of calling `frame.insert` many times, which has poor performance.  Consider joining all columns at once using pd.concat(axis=1) instead. To get a de-fragmented frame, use `newframe = frame.copy()`\n",
      "  final[entity + '_actual/med_' + str(time)] = final['Amount'] / final[entity + '_med_' + str(time)]\n",
      "/var/folders/ll/h_rnbgns62bcj0skpd2j0ktr0000gp/T/ipykernel_38628/219860616.py:31: PerformanceWarning: DataFrame is highly fragmented.  This is usually the result of calling `frame.insert` many times, which has poor performance.  Consider joining all columns at once using pd.concat(axis=1) instead. To get a de-fragmented frame, use `newframe = frame.copy()`\n",
      "  final[entity + '_actual/toal_' + str(time)] = final['Amount'] / final[entity + '_total_' + str(time)]\n"
     ]
    },
    {
     "name": "stdout",
     "output_type": "stream",
     "text": [
      "merchnum_month amount variables over past 7 ---> Done\n"
     ]
    },
    {
     "name": "stderr",
     "output_type": "stream",
     "text": [
      "/var/folders/ll/h_rnbgns62bcj0skpd2j0ktr0000gp/T/ipykernel_38628/219860616.py:22: PerformanceWarning: DataFrame is highly fragmented.  This is usually the result of calling `frame.insert` many times, which has poor performance.  Consider joining all columns at once using pd.concat(axis=1) instead. To get a de-fragmented frame, use `newframe = frame.copy()`\n",
      "  final[col_name] = final.Recnum.map(mapper2)\n",
      "/var/folders/ll/h_rnbgns62bcj0skpd2j0ktr0000gp/T/ipykernel_38628/219860616.py:24: PerformanceWarning: DataFrame is highly fragmented.  This is usually the result of calling `frame.insert` many times, which has poor performance.  Consider joining all columns at once using pd.concat(axis=1) instead. To get a de-fragmented frame, use `newframe = frame.copy()`\n",
      "  final[entity + '_avg_' + str(time)] = final.Recnum.map(temp2.groupby('Recnum')['Amount'].mean())\n",
      "/var/folders/ll/h_rnbgns62bcj0skpd2j0ktr0000gp/T/ipykernel_38628/219860616.py:25: PerformanceWarning: DataFrame is highly fragmented.  This is usually the result of calling `frame.insert` many times, which has poor performance.  Consider joining all columns at once using pd.concat(axis=1) instead. To get a de-fragmented frame, use `newframe = frame.copy()`\n",
      "  final[entity + '_max_' + str(time)] = final.Recnum.map(temp2.groupby('Recnum')['Amount'].max())\n"
     ]
    },
    {
     "name": "stdout",
     "output_type": "stream",
     "text": [
      "merchnum_month_count_14 ---> Done\n"
     ]
    },
    {
     "name": "stderr",
     "output_type": "stream",
     "text": [
      "/var/folders/ll/h_rnbgns62bcj0skpd2j0ktr0000gp/T/ipykernel_38628/219860616.py:26: PerformanceWarning: DataFrame is highly fragmented.  This is usually the result of calling `frame.insert` many times, which has poor performance.  Consider joining all columns at once using pd.concat(axis=1) instead. To get a de-fragmented frame, use `newframe = frame.copy()`\n",
      "  final[entity + '_med_' + str(time)] = final.Recnum.map(temp2.groupby('Recnum')['Amount'].median())\n",
      "/var/folders/ll/h_rnbgns62bcj0skpd2j0ktr0000gp/T/ipykernel_38628/219860616.py:27: PerformanceWarning: DataFrame is highly fragmented.  This is usually the result of calling `frame.insert` many times, which has poor performance.  Consider joining all columns at once using pd.concat(axis=1) instead. To get a de-fragmented frame, use `newframe = frame.copy()`\n",
      "  final[entity + '_total_' + str(time)] = final.Recnum.map(temp2.groupby('Recnum')['Amount'].sum())\n",
      "/var/folders/ll/h_rnbgns62bcj0skpd2j0ktr0000gp/T/ipykernel_38628/219860616.py:28: PerformanceWarning: DataFrame is highly fragmented.  This is usually the result of calling `frame.insert` many times, which has poor performance.  Consider joining all columns at once using pd.concat(axis=1) instead. To get a de-fragmented frame, use `newframe = frame.copy()`\n",
      "  final[entity + '_actual/avg_' + str(time)] = final['Amount'] / final[entity + '_avg_' + str(time)]\n",
      "/var/folders/ll/h_rnbgns62bcj0skpd2j0ktr0000gp/T/ipykernel_38628/219860616.py:29: PerformanceWarning: DataFrame is highly fragmented.  This is usually the result of calling `frame.insert` many times, which has poor performance.  Consider joining all columns at once using pd.concat(axis=1) instead. To get a de-fragmented frame, use `newframe = frame.copy()`\n",
      "  final[entity + '_actual/max_' + str(time)] = final['Amount'] / final[entity + '_max_' + str(time)]\n",
      "/var/folders/ll/h_rnbgns62bcj0skpd2j0ktr0000gp/T/ipykernel_38628/219860616.py:30: PerformanceWarning: DataFrame is highly fragmented.  This is usually the result of calling `frame.insert` many times, which has poor performance.  Consider joining all columns at once using pd.concat(axis=1) instead. To get a de-fragmented frame, use `newframe = frame.copy()`\n",
      "  final[entity + '_actual/med_' + str(time)] = final['Amount'] / final[entity + '_med_' + str(time)]\n",
      "/var/folders/ll/h_rnbgns62bcj0skpd2j0ktr0000gp/T/ipykernel_38628/219860616.py:31: PerformanceWarning: DataFrame is highly fragmented.  This is usually the result of calling `frame.insert` many times, which has poor performance.  Consider joining all columns at once using pd.concat(axis=1) instead. To get a de-fragmented frame, use `newframe = frame.copy()`\n",
      "  final[entity + '_actual/toal_' + str(time)] = final['Amount'] / final[entity + '_total_' + str(time)]\n"
     ]
    },
    {
     "name": "stdout",
     "output_type": "stream",
     "text": [
      "merchnum_month amount variables over past 14 ---> Done\n"
     ]
    },
    {
     "name": "stderr",
     "output_type": "stream",
     "text": [
      "/var/folders/ll/h_rnbgns62bcj0skpd2j0ktr0000gp/T/ipykernel_38628/219860616.py:22: PerformanceWarning: DataFrame is highly fragmented.  This is usually the result of calling `frame.insert` many times, which has poor performance.  Consider joining all columns at once using pd.concat(axis=1) instead. To get a de-fragmented frame, use `newframe = frame.copy()`\n",
      "  final[col_name] = final.Recnum.map(mapper2)\n",
      "/var/folders/ll/h_rnbgns62bcj0skpd2j0ktr0000gp/T/ipykernel_38628/219860616.py:24: PerformanceWarning: DataFrame is highly fragmented.  This is usually the result of calling `frame.insert` many times, which has poor performance.  Consider joining all columns at once using pd.concat(axis=1) instead. To get a de-fragmented frame, use `newframe = frame.copy()`\n",
      "  final[entity + '_avg_' + str(time)] = final.Recnum.map(temp2.groupby('Recnum')['Amount'].mean())\n",
      "/var/folders/ll/h_rnbgns62bcj0skpd2j0ktr0000gp/T/ipykernel_38628/219860616.py:25: PerformanceWarning: DataFrame is highly fragmented.  This is usually the result of calling `frame.insert` many times, which has poor performance.  Consider joining all columns at once using pd.concat(axis=1) instead. To get a de-fragmented frame, use `newframe = frame.copy()`\n",
      "  final[entity + '_max_' + str(time)] = final.Recnum.map(temp2.groupby('Recnum')['Amount'].max())\n"
     ]
    },
    {
     "name": "stdout",
     "output_type": "stream",
     "text": [
      "merchnum_month_count_30 ---> Done\n"
     ]
    },
    {
     "name": "stderr",
     "output_type": "stream",
     "text": [
      "/var/folders/ll/h_rnbgns62bcj0skpd2j0ktr0000gp/T/ipykernel_38628/219860616.py:26: PerformanceWarning: DataFrame is highly fragmented.  This is usually the result of calling `frame.insert` many times, which has poor performance.  Consider joining all columns at once using pd.concat(axis=1) instead. To get a de-fragmented frame, use `newframe = frame.copy()`\n",
      "  final[entity + '_med_' + str(time)] = final.Recnum.map(temp2.groupby('Recnum')['Amount'].median())\n",
      "/var/folders/ll/h_rnbgns62bcj0skpd2j0ktr0000gp/T/ipykernel_38628/219860616.py:27: PerformanceWarning: DataFrame is highly fragmented.  This is usually the result of calling `frame.insert` many times, which has poor performance.  Consider joining all columns at once using pd.concat(axis=1) instead. To get a de-fragmented frame, use `newframe = frame.copy()`\n",
      "  final[entity + '_total_' + str(time)] = final.Recnum.map(temp2.groupby('Recnum')['Amount'].sum())\n",
      "/var/folders/ll/h_rnbgns62bcj0skpd2j0ktr0000gp/T/ipykernel_38628/219860616.py:28: PerformanceWarning: DataFrame is highly fragmented.  This is usually the result of calling `frame.insert` many times, which has poor performance.  Consider joining all columns at once using pd.concat(axis=1) instead. To get a de-fragmented frame, use `newframe = frame.copy()`\n",
      "  final[entity + '_actual/avg_' + str(time)] = final['Amount'] / final[entity + '_avg_' + str(time)]\n",
      "/var/folders/ll/h_rnbgns62bcj0skpd2j0ktr0000gp/T/ipykernel_38628/219860616.py:29: PerformanceWarning: DataFrame is highly fragmented.  This is usually the result of calling `frame.insert` many times, which has poor performance.  Consider joining all columns at once using pd.concat(axis=1) instead. To get a de-fragmented frame, use `newframe = frame.copy()`\n",
      "  final[entity + '_actual/max_' + str(time)] = final['Amount'] / final[entity + '_max_' + str(time)]\n",
      "/var/folders/ll/h_rnbgns62bcj0skpd2j0ktr0000gp/T/ipykernel_38628/219860616.py:30: PerformanceWarning: DataFrame is highly fragmented.  This is usually the result of calling `frame.insert` many times, which has poor performance.  Consider joining all columns at once using pd.concat(axis=1) instead. To get a de-fragmented frame, use `newframe = frame.copy()`\n",
      "  final[entity + '_actual/med_' + str(time)] = final['Amount'] / final[entity + '_med_' + str(time)]\n",
      "/var/folders/ll/h_rnbgns62bcj0skpd2j0ktr0000gp/T/ipykernel_38628/219860616.py:31: PerformanceWarning: DataFrame is highly fragmented.  This is usually the result of calling `frame.insert` many times, which has poor performance.  Consider joining all columns at once using pd.concat(axis=1) instead. To get a de-fragmented frame, use `newframe = frame.copy()`\n",
      "  final[entity + '_actual/toal_' + str(time)] = final['Amount'] / final[entity + '_total_' + str(time)]\n"
     ]
    },
    {
     "name": "stdout",
     "output_type": "stream",
     "text": [
      "merchnum_month amount variables over past 30 ---> Done\n",
      "Run time for the last entity ----------------- 4.435916792000057s\n"
     ]
    },
    {
     "name": "stderr",
     "output_type": "stream",
     "text": [
      "/var/folders/ll/h_rnbgns62bcj0skpd2j0ktr0000gp/T/ipykernel_38628/219860616.py:13: PerformanceWarning: DataFrame is highly fragmented.  This is usually the result of calling `frame.insert` many times, which has poor performance.  Consider joining all columns at once using pd.concat(axis=1) instead. To get a de-fragmented frame, use `newframe = frame.copy()`\n",
      "  final[entity + '_day_since'] = final.Recnum.map(mapper)\n",
      "/var/folders/ll/h_rnbgns62bcj0skpd2j0ktr0000gp/T/ipykernel_38628/219860616.py:22: PerformanceWarning: DataFrame is highly fragmented.  This is usually the result of calling `frame.insert` many times, which has poor performance.  Consider joining all columns at once using pd.concat(axis=1) instead. To get a de-fragmented frame, use `newframe = frame.copy()`\n",
      "  final[col_name] = final.Recnum.map(mapper2)\n",
      "/var/folders/ll/h_rnbgns62bcj0skpd2j0ktr0000gp/T/ipykernel_38628/219860616.py:24: PerformanceWarning: DataFrame is highly fragmented.  This is usually the result of calling `frame.insert` many times, which has poor performance.  Consider joining all columns at once using pd.concat(axis=1) instead. To get a de-fragmented frame, use `newframe = frame.copy()`\n",
      "  final[entity + '_avg_' + str(time)] = final.Recnum.map(temp2.groupby('Recnum')['Amount'].mean())\n",
      "/var/folders/ll/h_rnbgns62bcj0skpd2j0ktr0000gp/T/ipykernel_38628/219860616.py:25: PerformanceWarning: DataFrame is highly fragmented.  This is usually the result of calling `frame.insert` many times, which has poor performance.  Consider joining all columns at once using pd.concat(axis=1) instead. To get a de-fragmented frame, use `newframe = frame.copy()`\n",
      "  final[entity + '_max_' + str(time)] = final.Recnum.map(temp2.groupby('Recnum')['Amount'].max())\n",
      "/var/folders/ll/h_rnbgns62bcj0skpd2j0ktr0000gp/T/ipykernel_38628/219860616.py:26: PerformanceWarning: DataFrame is highly fragmented.  This is usually the result of calling `frame.insert` many times, which has poor performance.  Consider joining all columns at once using pd.concat(axis=1) instead. To get a de-fragmented frame, use `newframe = frame.copy()`\n",
      "  final[entity + '_med_' + str(time)] = final.Recnum.map(temp2.groupby('Recnum')['Amount'].median())\n",
      "/var/folders/ll/h_rnbgns62bcj0skpd2j0ktr0000gp/T/ipykernel_38628/219860616.py:27: PerformanceWarning: DataFrame is highly fragmented.  This is usually the result of calling `frame.insert` many times, which has poor performance.  Consider joining all columns at once using pd.concat(axis=1) instead. To get a de-fragmented frame, use `newframe = frame.copy()`\n",
      "  final[entity + '_total_' + str(time)] = final.Recnum.map(temp2.groupby('Recnum')['Amount'].sum())\n",
      "/var/folders/ll/h_rnbgns62bcj0skpd2j0ktr0000gp/T/ipykernel_38628/219860616.py:28: PerformanceWarning: DataFrame is highly fragmented.  This is usually the result of calling `frame.insert` many times, which has poor performance.  Consider joining all columns at once using pd.concat(axis=1) instead. To get a de-fragmented frame, use `newframe = frame.copy()`\n",
      "  final[entity + '_actual/avg_' + str(time)] = final['Amount'] / final[entity + '_avg_' + str(time)]\n",
      "/var/folders/ll/h_rnbgns62bcj0skpd2j0ktr0000gp/T/ipykernel_38628/219860616.py:29: PerformanceWarning: DataFrame is highly fragmented.  This is usually the result of calling `frame.insert` many times, which has poor performance.  Consider joining all columns at once using pd.concat(axis=1) instead. To get a de-fragmented frame, use `newframe = frame.copy()`\n",
      "  final[entity + '_actual/max_' + str(time)] = final['Amount'] / final[entity + '_max_' + str(time)]\n",
      "/var/folders/ll/h_rnbgns62bcj0skpd2j0ktr0000gp/T/ipykernel_38628/219860616.py:30: PerformanceWarning: DataFrame is highly fragmented.  This is usually the result of calling `frame.insert` many times, which has poor performance.  Consider joining all columns at once using pd.concat(axis=1) instead. To get a de-fragmented frame, use `newframe = frame.copy()`\n",
      "  final[entity + '_actual/med_' + str(time)] = final['Amount'] / final[entity + '_med_' + str(time)]\n",
      "/var/folders/ll/h_rnbgns62bcj0skpd2j0ktr0000gp/T/ipykernel_38628/219860616.py:31: PerformanceWarning: DataFrame is highly fragmented.  This is usually the result of calling `frame.insert` many times, which has poor performance.  Consider joining all columns at once using pd.concat(axis=1) instead. To get a de-fragmented frame, use `newframe = frame.copy()`\n",
      "  final[entity + '_actual/toal_' + str(time)] = final['Amount'] / final[entity + '_total_' + str(time)]\n"
     ]
    },
    {
     "name": "stdout",
     "output_type": "stream",
     "text": [
      "\n",
      "card_dow_day_since ---> Done\n",
      "card_dow_count_0 ---> Done\n",
      "card_dow amount variables over past 0 ---> Done\n"
     ]
    },
    {
     "name": "stderr",
     "output_type": "stream",
     "text": [
      "/var/folders/ll/h_rnbgns62bcj0skpd2j0ktr0000gp/T/ipykernel_38628/219860616.py:22: PerformanceWarning: DataFrame is highly fragmented.  This is usually the result of calling `frame.insert` many times, which has poor performance.  Consider joining all columns at once using pd.concat(axis=1) instead. To get a de-fragmented frame, use `newframe = frame.copy()`\n",
      "  final[col_name] = final.Recnum.map(mapper2)\n",
      "/var/folders/ll/h_rnbgns62bcj0skpd2j0ktr0000gp/T/ipykernel_38628/219860616.py:24: PerformanceWarning: DataFrame is highly fragmented.  This is usually the result of calling `frame.insert` many times, which has poor performance.  Consider joining all columns at once using pd.concat(axis=1) instead. To get a de-fragmented frame, use `newframe = frame.copy()`\n",
      "  final[entity + '_avg_' + str(time)] = final.Recnum.map(temp2.groupby('Recnum')['Amount'].mean())\n",
      "/var/folders/ll/h_rnbgns62bcj0skpd2j0ktr0000gp/T/ipykernel_38628/219860616.py:25: PerformanceWarning: DataFrame is highly fragmented.  This is usually the result of calling `frame.insert` many times, which has poor performance.  Consider joining all columns at once using pd.concat(axis=1) instead. To get a de-fragmented frame, use `newframe = frame.copy()`\n",
      "  final[entity + '_max_' + str(time)] = final.Recnum.map(temp2.groupby('Recnum')['Amount'].max())\n",
      "/var/folders/ll/h_rnbgns62bcj0skpd2j0ktr0000gp/T/ipykernel_38628/219860616.py:26: PerformanceWarning: DataFrame is highly fragmented.  This is usually the result of calling `frame.insert` many times, which has poor performance.  Consider joining all columns at once using pd.concat(axis=1) instead. To get a de-fragmented frame, use `newframe = frame.copy()`\n",
      "  final[entity + '_med_' + str(time)] = final.Recnum.map(temp2.groupby('Recnum')['Amount'].median())\n",
      "/var/folders/ll/h_rnbgns62bcj0skpd2j0ktr0000gp/T/ipykernel_38628/219860616.py:27: PerformanceWarning: DataFrame is highly fragmented.  This is usually the result of calling `frame.insert` many times, which has poor performance.  Consider joining all columns at once using pd.concat(axis=1) instead. To get a de-fragmented frame, use `newframe = frame.copy()`\n",
      "  final[entity + '_total_' + str(time)] = final.Recnum.map(temp2.groupby('Recnum')['Amount'].sum())\n",
      "/var/folders/ll/h_rnbgns62bcj0skpd2j0ktr0000gp/T/ipykernel_38628/219860616.py:28: PerformanceWarning: DataFrame is highly fragmented.  This is usually the result of calling `frame.insert` many times, which has poor performance.  Consider joining all columns at once using pd.concat(axis=1) instead. To get a de-fragmented frame, use `newframe = frame.copy()`\n",
      "  final[entity + '_actual/avg_' + str(time)] = final['Amount'] / final[entity + '_avg_' + str(time)]\n",
      "/var/folders/ll/h_rnbgns62bcj0skpd2j0ktr0000gp/T/ipykernel_38628/219860616.py:29: PerformanceWarning: DataFrame is highly fragmented.  This is usually the result of calling `frame.insert` many times, which has poor performance.  Consider joining all columns at once using pd.concat(axis=1) instead. To get a de-fragmented frame, use `newframe = frame.copy()`\n",
      "  final[entity + '_actual/max_' + str(time)] = final['Amount'] / final[entity + '_max_' + str(time)]\n",
      "/var/folders/ll/h_rnbgns62bcj0skpd2j0ktr0000gp/T/ipykernel_38628/219860616.py:30: PerformanceWarning: DataFrame is highly fragmented.  This is usually the result of calling `frame.insert` many times, which has poor performance.  Consider joining all columns at once using pd.concat(axis=1) instead. To get a de-fragmented frame, use `newframe = frame.copy()`\n",
      "  final[entity + '_actual/med_' + str(time)] = final['Amount'] / final[entity + '_med_' + str(time)]\n",
      "/var/folders/ll/h_rnbgns62bcj0skpd2j0ktr0000gp/T/ipykernel_38628/219860616.py:31: PerformanceWarning: DataFrame is highly fragmented.  This is usually the result of calling `frame.insert` many times, which has poor performance.  Consider joining all columns at once using pd.concat(axis=1) instead. To get a de-fragmented frame, use `newframe = frame.copy()`\n",
      "  final[entity + '_actual/toal_' + str(time)] = final['Amount'] / final[entity + '_total_' + str(time)]\n",
      "/var/folders/ll/h_rnbgns62bcj0skpd2j0ktr0000gp/T/ipykernel_38628/219860616.py:22: PerformanceWarning: DataFrame is highly fragmented.  This is usually the result of calling `frame.insert` many times, which has poor performance.  Consider joining all columns at once using pd.concat(axis=1) instead. To get a de-fragmented frame, use `newframe = frame.copy()`\n",
      "  final[col_name] = final.Recnum.map(mapper2)\n",
      "/var/folders/ll/h_rnbgns62bcj0skpd2j0ktr0000gp/T/ipykernel_38628/219860616.py:24: PerformanceWarning: DataFrame is highly fragmented.  This is usually the result of calling `frame.insert` many times, which has poor performance.  Consider joining all columns at once using pd.concat(axis=1) instead. To get a de-fragmented frame, use `newframe = frame.copy()`\n",
      "  final[entity + '_avg_' + str(time)] = final.Recnum.map(temp2.groupby('Recnum')['Amount'].mean())\n",
      "/var/folders/ll/h_rnbgns62bcj0skpd2j0ktr0000gp/T/ipykernel_38628/219860616.py:25: PerformanceWarning: DataFrame is highly fragmented.  This is usually the result of calling `frame.insert` many times, which has poor performance.  Consider joining all columns at once using pd.concat(axis=1) instead. To get a de-fragmented frame, use `newframe = frame.copy()`\n",
      "  final[entity + '_max_' + str(time)] = final.Recnum.map(temp2.groupby('Recnum')['Amount'].max())\n",
      "/var/folders/ll/h_rnbgns62bcj0skpd2j0ktr0000gp/T/ipykernel_38628/219860616.py:26: PerformanceWarning: DataFrame is highly fragmented.  This is usually the result of calling `frame.insert` many times, which has poor performance.  Consider joining all columns at once using pd.concat(axis=1) instead. To get a de-fragmented frame, use `newframe = frame.copy()`\n",
      "  final[entity + '_med_' + str(time)] = final.Recnum.map(temp2.groupby('Recnum')['Amount'].median())\n",
      "/var/folders/ll/h_rnbgns62bcj0skpd2j0ktr0000gp/T/ipykernel_38628/219860616.py:27: PerformanceWarning: DataFrame is highly fragmented.  This is usually the result of calling `frame.insert` many times, which has poor performance.  Consider joining all columns at once using pd.concat(axis=1) instead. To get a de-fragmented frame, use `newframe = frame.copy()`\n",
      "  final[entity + '_total_' + str(time)] = final.Recnum.map(temp2.groupby('Recnum')['Amount'].sum())\n",
      "/var/folders/ll/h_rnbgns62bcj0skpd2j0ktr0000gp/T/ipykernel_38628/219860616.py:28: PerformanceWarning: DataFrame is highly fragmented.  This is usually the result of calling `frame.insert` many times, which has poor performance.  Consider joining all columns at once using pd.concat(axis=1) instead. To get a de-fragmented frame, use `newframe = frame.copy()`\n",
      "  final[entity + '_actual/avg_' + str(time)] = final['Amount'] / final[entity + '_avg_' + str(time)]\n",
      "/var/folders/ll/h_rnbgns62bcj0skpd2j0ktr0000gp/T/ipykernel_38628/219860616.py:29: PerformanceWarning: DataFrame is highly fragmented.  This is usually the result of calling `frame.insert` many times, which has poor performance.  Consider joining all columns at once using pd.concat(axis=1) instead. To get a de-fragmented frame, use `newframe = frame.copy()`\n",
      "  final[entity + '_actual/max_' + str(time)] = final['Amount'] / final[entity + '_max_' + str(time)]\n",
      "/var/folders/ll/h_rnbgns62bcj0skpd2j0ktr0000gp/T/ipykernel_38628/219860616.py:30: PerformanceWarning: DataFrame is highly fragmented.  This is usually the result of calling `frame.insert` many times, which has poor performance.  Consider joining all columns at once using pd.concat(axis=1) instead. To get a de-fragmented frame, use `newframe = frame.copy()`\n",
      "  final[entity + '_actual/med_' + str(time)] = final['Amount'] / final[entity + '_med_' + str(time)]\n",
      "/var/folders/ll/h_rnbgns62bcj0skpd2j0ktr0000gp/T/ipykernel_38628/219860616.py:31: PerformanceWarning: DataFrame is highly fragmented.  This is usually the result of calling `frame.insert` many times, which has poor performance.  Consider joining all columns at once using pd.concat(axis=1) instead. To get a de-fragmented frame, use `newframe = frame.copy()`\n",
      "  final[entity + '_actual/toal_' + str(time)] = final['Amount'] / final[entity + '_total_' + str(time)]\n"
     ]
    },
    {
     "name": "stdout",
     "output_type": "stream",
     "text": [
      "card_dow_count_1 ---> Done\n",
      "card_dow amount variables over past 1 ---> Done\n",
      "card_dow_count_3 ---> Done\n",
      "card_dow amount variables over past 3 ---> Done\n"
     ]
    },
    {
     "name": "stderr",
     "output_type": "stream",
     "text": [
      "/var/folders/ll/h_rnbgns62bcj0skpd2j0ktr0000gp/T/ipykernel_38628/219860616.py:22: PerformanceWarning: DataFrame is highly fragmented.  This is usually the result of calling `frame.insert` many times, which has poor performance.  Consider joining all columns at once using pd.concat(axis=1) instead. To get a de-fragmented frame, use `newframe = frame.copy()`\n",
      "  final[col_name] = final.Recnum.map(mapper2)\n",
      "/var/folders/ll/h_rnbgns62bcj0skpd2j0ktr0000gp/T/ipykernel_38628/219860616.py:24: PerformanceWarning: DataFrame is highly fragmented.  This is usually the result of calling `frame.insert` many times, which has poor performance.  Consider joining all columns at once using pd.concat(axis=1) instead. To get a de-fragmented frame, use `newframe = frame.copy()`\n",
      "  final[entity + '_avg_' + str(time)] = final.Recnum.map(temp2.groupby('Recnum')['Amount'].mean())\n",
      "/var/folders/ll/h_rnbgns62bcj0skpd2j0ktr0000gp/T/ipykernel_38628/219860616.py:25: PerformanceWarning: DataFrame is highly fragmented.  This is usually the result of calling `frame.insert` many times, which has poor performance.  Consider joining all columns at once using pd.concat(axis=1) instead. To get a de-fragmented frame, use `newframe = frame.copy()`\n",
      "  final[entity + '_max_' + str(time)] = final.Recnum.map(temp2.groupby('Recnum')['Amount'].max())\n",
      "/var/folders/ll/h_rnbgns62bcj0skpd2j0ktr0000gp/T/ipykernel_38628/219860616.py:26: PerformanceWarning: DataFrame is highly fragmented.  This is usually the result of calling `frame.insert` many times, which has poor performance.  Consider joining all columns at once using pd.concat(axis=1) instead. To get a de-fragmented frame, use `newframe = frame.copy()`\n",
      "  final[entity + '_med_' + str(time)] = final.Recnum.map(temp2.groupby('Recnum')['Amount'].median())\n",
      "/var/folders/ll/h_rnbgns62bcj0skpd2j0ktr0000gp/T/ipykernel_38628/219860616.py:27: PerformanceWarning: DataFrame is highly fragmented.  This is usually the result of calling `frame.insert` many times, which has poor performance.  Consider joining all columns at once using pd.concat(axis=1) instead. To get a de-fragmented frame, use `newframe = frame.copy()`\n",
      "  final[entity + '_total_' + str(time)] = final.Recnum.map(temp2.groupby('Recnum')['Amount'].sum())\n",
      "/var/folders/ll/h_rnbgns62bcj0skpd2j0ktr0000gp/T/ipykernel_38628/219860616.py:28: PerformanceWarning: DataFrame is highly fragmented.  This is usually the result of calling `frame.insert` many times, which has poor performance.  Consider joining all columns at once using pd.concat(axis=1) instead. To get a de-fragmented frame, use `newframe = frame.copy()`\n",
      "  final[entity + '_actual/avg_' + str(time)] = final['Amount'] / final[entity + '_avg_' + str(time)]\n",
      "/var/folders/ll/h_rnbgns62bcj0skpd2j0ktr0000gp/T/ipykernel_38628/219860616.py:29: PerformanceWarning: DataFrame is highly fragmented.  This is usually the result of calling `frame.insert` many times, which has poor performance.  Consider joining all columns at once using pd.concat(axis=1) instead. To get a de-fragmented frame, use `newframe = frame.copy()`\n",
      "  final[entity + '_actual/max_' + str(time)] = final['Amount'] / final[entity + '_max_' + str(time)]\n",
      "/var/folders/ll/h_rnbgns62bcj0skpd2j0ktr0000gp/T/ipykernel_38628/219860616.py:30: PerformanceWarning: DataFrame is highly fragmented.  This is usually the result of calling `frame.insert` many times, which has poor performance.  Consider joining all columns at once using pd.concat(axis=1) instead. To get a de-fragmented frame, use `newframe = frame.copy()`\n",
      "  final[entity + '_actual/med_' + str(time)] = final['Amount'] / final[entity + '_med_' + str(time)]\n",
      "/var/folders/ll/h_rnbgns62bcj0skpd2j0ktr0000gp/T/ipykernel_38628/219860616.py:31: PerformanceWarning: DataFrame is highly fragmented.  This is usually the result of calling `frame.insert` many times, which has poor performance.  Consider joining all columns at once using pd.concat(axis=1) instead. To get a de-fragmented frame, use `newframe = frame.copy()`\n",
      "  final[entity + '_actual/toal_' + str(time)] = final['Amount'] / final[entity + '_total_' + str(time)]\n",
      "/var/folders/ll/h_rnbgns62bcj0skpd2j0ktr0000gp/T/ipykernel_38628/219860616.py:22: PerformanceWarning: DataFrame is highly fragmented.  This is usually the result of calling `frame.insert` many times, which has poor performance.  Consider joining all columns at once using pd.concat(axis=1) instead. To get a de-fragmented frame, use `newframe = frame.copy()`\n",
      "  final[col_name] = final.Recnum.map(mapper2)\n",
      "/var/folders/ll/h_rnbgns62bcj0skpd2j0ktr0000gp/T/ipykernel_38628/219860616.py:24: PerformanceWarning: DataFrame is highly fragmented.  This is usually the result of calling `frame.insert` many times, which has poor performance.  Consider joining all columns at once using pd.concat(axis=1) instead. To get a de-fragmented frame, use `newframe = frame.copy()`\n",
      "  final[entity + '_avg_' + str(time)] = final.Recnum.map(temp2.groupby('Recnum')['Amount'].mean())\n",
      "/var/folders/ll/h_rnbgns62bcj0skpd2j0ktr0000gp/T/ipykernel_38628/219860616.py:25: PerformanceWarning: DataFrame is highly fragmented.  This is usually the result of calling `frame.insert` many times, which has poor performance.  Consider joining all columns at once using pd.concat(axis=1) instead. To get a de-fragmented frame, use `newframe = frame.copy()`\n",
      "  final[entity + '_max_' + str(time)] = final.Recnum.map(temp2.groupby('Recnum')['Amount'].max())\n"
     ]
    },
    {
     "name": "stdout",
     "output_type": "stream",
     "text": [
      "card_dow_count_7 ---> Done\n",
      "card_dow amount variables over past 7 ---> Done\n",
      "card_dow_count_14 ---> Done\n"
     ]
    },
    {
     "name": "stderr",
     "output_type": "stream",
     "text": [
      "/var/folders/ll/h_rnbgns62bcj0skpd2j0ktr0000gp/T/ipykernel_38628/219860616.py:26: PerformanceWarning: DataFrame is highly fragmented.  This is usually the result of calling `frame.insert` many times, which has poor performance.  Consider joining all columns at once using pd.concat(axis=1) instead. To get a de-fragmented frame, use `newframe = frame.copy()`\n",
      "  final[entity + '_med_' + str(time)] = final.Recnum.map(temp2.groupby('Recnum')['Amount'].median())\n",
      "/var/folders/ll/h_rnbgns62bcj0skpd2j0ktr0000gp/T/ipykernel_38628/219860616.py:27: PerformanceWarning: DataFrame is highly fragmented.  This is usually the result of calling `frame.insert` many times, which has poor performance.  Consider joining all columns at once using pd.concat(axis=1) instead. To get a de-fragmented frame, use `newframe = frame.copy()`\n",
      "  final[entity + '_total_' + str(time)] = final.Recnum.map(temp2.groupby('Recnum')['Amount'].sum())\n",
      "/var/folders/ll/h_rnbgns62bcj0skpd2j0ktr0000gp/T/ipykernel_38628/219860616.py:28: PerformanceWarning: DataFrame is highly fragmented.  This is usually the result of calling `frame.insert` many times, which has poor performance.  Consider joining all columns at once using pd.concat(axis=1) instead. To get a de-fragmented frame, use `newframe = frame.copy()`\n",
      "  final[entity + '_actual/avg_' + str(time)] = final['Amount'] / final[entity + '_avg_' + str(time)]\n",
      "/var/folders/ll/h_rnbgns62bcj0skpd2j0ktr0000gp/T/ipykernel_38628/219860616.py:29: PerformanceWarning: DataFrame is highly fragmented.  This is usually the result of calling `frame.insert` many times, which has poor performance.  Consider joining all columns at once using pd.concat(axis=1) instead. To get a de-fragmented frame, use `newframe = frame.copy()`\n",
      "  final[entity + '_actual/max_' + str(time)] = final['Amount'] / final[entity + '_max_' + str(time)]\n",
      "/var/folders/ll/h_rnbgns62bcj0skpd2j0ktr0000gp/T/ipykernel_38628/219860616.py:30: PerformanceWarning: DataFrame is highly fragmented.  This is usually the result of calling `frame.insert` many times, which has poor performance.  Consider joining all columns at once using pd.concat(axis=1) instead. To get a de-fragmented frame, use `newframe = frame.copy()`\n",
      "  final[entity + '_actual/med_' + str(time)] = final['Amount'] / final[entity + '_med_' + str(time)]\n",
      "/var/folders/ll/h_rnbgns62bcj0skpd2j0ktr0000gp/T/ipykernel_38628/219860616.py:31: PerformanceWarning: DataFrame is highly fragmented.  This is usually the result of calling `frame.insert` many times, which has poor performance.  Consider joining all columns at once using pd.concat(axis=1) instead. To get a de-fragmented frame, use `newframe = frame.copy()`\n",
      "  final[entity + '_actual/toal_' + str(time)] = final['Amount'] / final[entity + '_total_' + str(time)]\n",
      "/var/folders/ll/h_rnbgns62bcj0skpd2j0ktr0000gp/T/ipykernel_38628/219860616.py:22: PerformanceWarning: DataFrame is highly fragmented.  This is usually the result of calling `frame.insert` many times, which has poor performance.  Consider joining all columns at once using pd.concat(axis=1) instead. To get a de-fragmented frame, use `newframe = frame.copy()`\n",
      "  final[col_name] = final.Recnum.map(mapper2)\n",
      "/var/folders/ll/h_rnbgns62bcj0skpd2j0ktr0000gp/T/ipykernel_38628/219860616.py:24: PerformanceWarning: DataFrame is highly fragmented.  This is usually the result of calling `frame.insert` many times, which has poor performance.  Consider joining all columns at once using pd.concat(axis=1) instead. To get a de-fragmented frame, use `newframe = frame.copy()`\n",
      "  final[entity + '_avg_' + str(time)] = final.Recnum.map(temp2.groupby('Recnum')['Amount'].mean())\n",
      "/var/folders/ll/h_rnbgns62bcj0skpd2j0ktr0000gp/T/ipykernel_38628/219860616.py:25: PerformanceWarning: DataFrame is highly fragmented.  This is usually the result of calling `frame.insert` many times, which has poor performance.  Consider joining all columns at once using pd.concat(axis=1) instead. To get a de-fragmented frame, use `newframe = frame.copy()`\n",
      "  final[entity + '_max_' + str(time)] = final.Recnum.map(temp2.groupby('Recnum')['Amount'].max())\n",
      "/var/folders/ll/h_rnbgns62bcj0skpd2j0ktr0000gp/T/ipykernel_38628/219860616.py:26: PerformanceWarning: DataFrame is highly fragmented.  This is usually the result of calling `frame.insert` many times, which has poor performance.  Consider joining all columns at once using pd.concat(axis=1) instead. To get a de-fragmented frame, use `newframe = frame.copy()`\n",
      "  final[entity + '_med_' + str(time)] = final.Recnum.map(temp2.groupby('Recnum')['Amount'].median())\n",
      "/var/folders/ll/h_rnbgns62bcj0skpd2j0ktr0000gp/T/ipykernel_38628/219860616.py:27: PerformanceWarning: DataFrame is highly fragmented.  This is usually the result of calling `frame.insert` many times, which has poor performance.  Consider joining all columns at once using pd.concat(axis=1) instead. To get a de-fragmented frame, use `newframe = frame.copy()`\n",
      "  final[entity + '_total_' + str(time)] = final.Recnum.map(temp2.groupby('Recnum')['Amount'].sum())\n",
      "/var/folders/ll/h_rnbgns62bcj0skpd2j0ktr0000gp/T/ipykernel_38628/219860616.py:28: PerformanceWarning: DataFrame is highly fragmented.  This is usually the result of calling `frame.insert` many times, which has poor performance.  Consider joining all columns at once using pd.concat(axis=1) instead. To get a de-fragmented frame, use `newframe = frame.copy()`\n",
      "  final[entity + '_actual/avg_' + str(time)] = final['Amount'] / final[entity + '_avg_' + str(time)]\n",
      "/var/folders/ll/h_rnbgns62bcj0skpd2j0ktr0000gp/T/ipykernel_38628/219860616.py:29: PerformanceWarning: DataFrame is highly fragmented.  This is usually the result of calling `frame.insert` many times, which has poor performance.  Consider joining all columns at once using pd.concat(axis=1) instead. To get a de-fragmented frame, use `newframe = frame.copy()`\n",
      "  final[entity + '_actual/max_' + str(time)] = final['Amount'] / final[entity + '_max_' + str(time)]\n",
      "/var/folders/ll/h_rnbgns62bcj0skpd2j0ktr0000gp/T/ipykernel_38628/219860616.py:30: PerformanceWarning: DataFrame is highly fragmented.  This is usually the result of calling `frame.insert` many times, which has poor performance.  Consider joining all columns at once using pd.concat(axis=1) instead. To get a de-fragmented frame, use `newframe = frame.copy()`\n",
      "  final[entity + '_actual/med_' + str(time)] = final['Amount'] / final[entity + '_med_' + str(time)]\n",
      "/var/folders/ll/h_rnbgns62bcj0skpd2j0ktr0000gp/T/ipykernel_38628/219860616.py:31: PerformanceWarning: DataFrame is highly fragmented.  This is usually the result of calling `frame.insert` many times, which has poor performance.  Consider joining all columns at once using pd.concat(axis=1) instead. To get a de-fragmented frame, use `newframe = frame.copy()`\n",
      "  final[entity + '_actual/toal_' + str(time)] = final['Amount'] / final[entity + '_total_' + str(time)]\n"
     ]
    },
    {
     "name": "stdout",
     "output_type": "stream",
     "text": [
      "card_dow amount variables over past 14 ---> Done\n",
      "card_dow_count_30 ---> Done\n",
      "card_dow amount variables over past 30 ---> Done\n",
      "Run time for the last entity ----------------- 1.1513587090000783s\n"
     ]
    },
    {
     "name": "stderr",
     "output_type": "stream",
     "text": [
      "/var/folders/ll/h_rnbgns62bcj0skpd2j0ktr0000gp/T/ipykernel_38628/219860616.py:13: PerformanceWarning: DataFrame is highly fragmented.  This is usually the result of calling `frame.insert` many times, which has poor performance.  Consider joining all columns at once using pd.concat(axis=1) instead. To get a de-fragmented frame, use `newframe = frame.copy()`\n",
      "  final[entity + '_day_since'] = final.Recnum.map(mapper)\n"
     ]
    },
    {
     "name": "stdout",
     "output_type": "stream",
     "text": [
      "\n",
      "Merchnum_state_day_since ---> Done\n"
     ]
    },
    {
     "name": "stderr",
     "output_type": "stream",
     "text": [
      "/var/folders/ll/h_rnbgns62bcj0skpd2j0ktr0000gp/T/ipykernel_38628/219860616.py:22: PerformanceWarning: DataFrame is highly fragmented.  This is usually the result of calling `frame.insert` many times, which has poor performance.  Consider joining all columns at once using pd.concat(axis=1) instead. To get a de-fragmented frame, use `newframe = frame.copy()`\n",
      "  final[col_name] = final.Recnum.map(mapper2)\n",
      "/var/folders/ll/h_rnbgns62bcj0skpd2j0ktr0000gp/T/ipykernel_38628/219860616.py:24: PerformanceWarning: DataFrame is highly fragmented.  This is usually the result of calling `frame.insert` many times, which has poor performance.  Consider joining all columns at once using pd.concat(axis=1) instead. To get a de-fragmented frame, use `newframe = frame.copy()`\n",
      "  final[entity + '_avg_' + str(time)] = final.Recnum.map(temp2.groupby('Recnum')['Amount'].mean())\n",
      "/var/folders/ll/h_rnbgns62bcj0skpd2j0ktr0000gp/T/ipykernel_38628/219860616.py:25: PerformanceWarning: DataFrame is highly fragmented.  This is usually the result of calling `frame.insert` many times, which has poor performance.  Consider joining all columns at once using pd.concat(axis=1) instead. To get a de-fragmented frame, use `newframe = frame.copy()`\n",
      "  final[entity + '_max_' + str(time)] = final.Recnum.map(temp2.groupby('Recnum')['Amount'].max())\n",
      "/var/folders/ll/h_rnbgns62bcj0skpd2j0ktr0000gp/T/ipykernel_38628/219860616.py:26: PerformanceWarning: DataFrame is highly fragmented.  This is usually the result of calling `frame.insert` many times, which has poor performance.  Consider joining all columns at once using pd.concat(axis=1) instead. To get a de-fragmented frame, use `newframe = frame.copy()`\n",
      "  final[entity + '_med_' + str(time)] = final.Recnum.map(temp2.groupby('Recnum')['Amount'].median())\n",
      "/var/folders/ll/h_rnbgns62bcj0skpd2j0ktr0000gp/T/ipykernel_38628/219860616.py:27: PerformanceWarning: DataFrame is highly fragmented.  This is usually the result of calling `frame.insert` many times, which has poor performance.  Consider joining all columns at once using pd.concat(axis=1) instead. To get a de-fragmented frame, use `newframe = frame.copy()`\n",
      "  final[entity + '_total_' + str(time)] = final.Recnum.map(temp2.groupby('Recnum')['Amount'].sum())\n",
      "/var/folders/ll/h_rnbgns62bcj0skpd2j0ktr0000gp/T/ipykernel_38628/219860616.py:28: PerformanceWarning: DataFrame is highly fragmented.  This is usually the result of calling `frame.insert` many times, which has poor performance.  Consider joining all columns at once using pd.concat(axis=1) instead. To get a de-fragmented frame, use `newframe = frame.copy()`\n",
      "  final[entity + '_actual/avg_' + str(time)] = final['Amount'] / final[entity + '_avg_' + str(time)]\n",
      "/var/folders/ll/h_rnbgns62bcj0skpd2j0ktr0000gp/T/ipykernel_38628/219860616.py:29: PerformanceWarning: DataFrame is highly fragmented.  This is usually the result of calling `frame.insert` many times, which has poor performance.  Consider joining all columns at once using pd.concat(axis=1) instead. To get a de-fragmented frame, use `newframe = frame.copy()`\n",
      "  final[entity + '_actual/max_' + str(time)] = final['Amount'] / final[entity + '_max_' + str(time)]\n",
      "/var/folders/ll/h_rnbgns62bcj0skpd2j0ktr0000gp/T/ipykernel_38628/219860616.py:30: PerformanceWarning: DataFrame is highly fragmented.  This is usually the result of calling `frame.insert` many times, which has poor performance.  Consider joining all columns at once using pd.concat(axis=1) instead. To get a de-fragmented frame, use `newframe = frame.copy()`\n",
      "  final[entity + '_actual/med_' + str(time)] = final['Amount'] / final[entity + '_med_' + str(time)]\n",
      "/var/folders/ll/h_rnbgns62bcj0skpd2j0ktr0000gp/T/ipykernel_38628/219860616.py:31: PerformanceWarning: DataFrame is highly fragmented.  This is usually the result of calling `frame.insert` many times, which has poor performance.  Consider joining all columns at once using pd.concat(axis=1) instead. To get a de-fragmented frame, use `newframe = frame.copy()`\n",
      "  final[entity + '_actual/toal_' + str(time)] = final['Amount'] / final[entity + '_total_' + str(time)]\n"
     ]
    },
    {
     "name": "stdout",
     "output_type": "stream",
     "text": [
      "Merchnum_state_count_0 ---> Done\n",
      "Merchnum_state amount variables over past 0 ---> Done\n"
     ]
    },
    {
     "name": "stderr",
     "output_type": "stream",
     "text": [
      "/var/folders/ll/h_rnbgns62bcj0skpd2j0ktr0000gp/T/ipykernel_38628/219860616.py:22: PerformanceWarning: DataFrame is highly fragmented.  This is usually the result of calling `frame.insert` many times, which has poor performance.  Consider joining all columns at once using pd.concat(axis=1) instead. To get a de-fragmented frame, use `newframe = frame.copy()`\n",
      "  final[col_name] = final.Recnum.map(mapper2)\n",
      "/var/folders/ll/h_rnbgns62bcj0skpd2j0ktr0000gp/T/ipykernel_38628/219860616.py:24: PerformanceWarning: DataFrame is highly fragmented.  This is usually the result of calling `frame.insert` many times, which has poor performance.  Consider joining all columns at once using pd.concat(axis=1) instead. To get a de-fragmented frame, use `newframe = frame.copy()`\n",
      "  final[entity + '_avg_' + str(time)] = final.Recnum.map(temp2.groupby('Recnum')['Amount'].mean())\n",
      "/var/folders/ll/h_rnbgns62bcj0skpd2j0ktr0000gp/T/ipykernel_38628/219860616.py:25: PerformanceWarning: DataFrame is highly fragmented.  This is usually the result of calling `frame.insert` many times, which has poor performance.  Consider joining all columns at once using pd.concat(axis=1) instead. To get a de-fragmented frame, use `newframe = frame.copy()`\n",
      "  final[entity + '_max_' + str(time)] = final.Recnum.map(temp2.groupby('Recnum')['Amount'].max())\n",
      "/var/folders/ll/h_rnbgns62bcj0skpd2j0ktr0000gp/T/ipykernel_38628/219860616.py:26: PerformanceWarning: DataFrame is highly fragmented.  This is usually the result of calling `frame.insert` many times, which has poor performance.  Consider joining all columns at once using pd.concat(axis=1) instead. To get a de-fragmented frame, use `newframe = frame.copy()`\n",
      "  final[entity + '_med_' + str(time)] = final.Recnum.map(temp2.groupby('Recnum')['Amount'].median())\n",
      "/var/folders/ll/h_rnbgns62bcj0skpd2j0ktr0000gp/T/ipykernel_38628/219860616.py:27: PerformanceWarning: DataFrame is highly fragmented.  This is usually the result of calling `frame.insert` many times, which has poor performance.  Consider joining all columns at once using pd.concat(axis=1) instead. To get a de-fragmented frame, use `newframe = frame.copy()`\n",
      "  final[entity + '_total_' + str(time)] = final.Recnum.map(temp2.groupby('Recnum')['Amount'].sum())\n",
      "/var/folders/ll/h_rnbgns62bcj0skpd2j0ktr0000gp/T/ipykernel_38628/219860616.py:28: PerformanceWarning: DataFrame is highly fragmented.  This is usually the result of calling `frame.insert` many times, which has poor performance.  Consider joining all columns at once using pd.concat(axis=1) instead. To get a de-fragmented frame, use `newframe = frame.copy()`\n",
      "  final[entity + '_actual/avg_' + str(time)] = final['Amount'] / final[entity + '_avg_' + str(time)]\n",
      "/var/folders/ll/h_rnbgns62bcj0skpd2j0ktr0000gp/T/ipykernel_38628/219860616.py:29: PerformanceWarning: DataFrame is highly fragmented.  This is usually the result of calling `frame.insert` many times, which has poor performance.  Consider joining all columns at once using pd.concat(axis=1) instead. To get a de-fragmented frame, use `newframe = frame.copy()`\n",
      "  final[entity + '_actual/max_' + str(time)] = final['Amount'] / final[entity + '_max_' + str(time)]\n",
      "/var/folders/ll/h_rnbgns62bcj0skpd2j0ktr0000gp/T/ipykernel_38628/219860616.py:30: PerformanceWarning: DataFrame is highly fragmented.  This is usually the result of calling `frame.insert` many times, which has poor performance.  Consider joining all columns at once using pd.concat(axis=1) instead. To get a de-fragmented frame, use `newframe = frame.copy()`\n",
      "  final[entity + '_actual/med_' + str(time)] = final['Amount'] / final[entity + '_med_' + str(time)]\n",
      "/var/folders/ll/h_rnbgns62bcj0skpd2j0ktr0000gp/T/ipykernel_38628/219860616.py:31: PerformanceWarning: DataFrame is highly fragmented.  This is usually the result of calling `frame.insert` many times, which has poor performance.  Consider joining all columns at once using pd.concat(axis=1) instead. To get a de-fragmented frame, use `newframe = frame.copy()`\n",
      "  final[entity + '_actual/toal_' + str(time)] = final['Amount'] / final[entity + '_total_' + str(time)]\n"
     ]
    },
    {
     "name": "stdout",
     "output_type": "stream",
     "text": [
      "Merchnum_state_count_1 ---> Done\n",
      "Merchnum_state amount variables over past 1 ---> Done\n"
     ]
    },
    {
     "name": "stderr",
     "output_type": "stream",
     "text": [
      "/var/folders/ll/h_rnbgns62bcj0skpd2j0ktr0000gp/T/ipykernel_38628/219860616.py:22: PerformanceWarning: DataFrame is highly fragmented.  This is usually the result of calling `frame.insert` many times, which has poor performance.  Consider joining all columns at once using pd.concat(axis=1) instead. To get a de-fragmented frame, use `newframe = frame.copy()`\n",
      "  final[col_name] = final.Recnum.map(mapper2)\n",
      "/var/folders/ll/h_rnbgns62bcj0skpd2j0ktr0000gp/T/ipykernel_38628/219860616.py:24: PerformanceWarning: DataFrame is highly fragmented.  This is usually the result of calling `frame.insert` many times, which has poor performance.  Consider joining all columns at once using pd.concat(axis=1) instead. To get a de-fragmented frame, use `newframe = frame.copy()`\n",
      "  final[entity + '_avg_' + str(time)] = final.Recnum.map(temp2.groupby('Recnum')['Amount'].mean())\n",
      "/var/folders/ll/h_rnbgns62bcj0skpd2j0ktr0000gp/T/ipykernel_38628/219860616.py:25: PerformanceWarning: DataFrame is highly fragmented.  This is usually the result of calling `frame.insert` many times, which has poor performance.  Consider joining all columns at once using pd.concat(axis=1) instead. To get a de-fragmented frame, use `newframe = frame.copy()`\n",
      "  final[entity + '_max_' + str(time)] = final.Recnum.map(temp2.groupby('Recnum')['Amount'].max())\n",
      "/var/folders/ll/h_rnbgns62bcj0skpd2j0ktr0000gp/T/ipykernel_38628/219860616.py:26: PerformanceWarning: DataFrame is highly fragmented.  This is usually the result of calling `frame.insert` many times, which has poor performance.  Consider joining all columns at once using pd.concat(axis=1) instead. To get a de-fragmented frame, use `newframe = frame.copy()`\n",
      "  final[entity + '_med_' + str(time)] = final.Recnum.map(temp2.groupby('Recnum')['Amount'].median())\n",
      "/var/folders/ll/h_rnbgns62bcj0skpd2j0ktr0000gp/T/ipykernel_38628/219860616.py:27: PerformanceWarning: DataFrame is highly fragmented.  This is usually the result of calling `frame.insert` many times, which has poor performance.  Consider joining all columns at once using pd.concat(axis=1) instead. To get a de-fragmented frame, use `newframe = frame.copy()`\n",
      "  final[entity + '_total_' + str(time)] = final.Recnum.map(temp2.groupby('Recnum')['Amount'].sum())\n",
      "/var/folders/ll/h_rnbgns62bcj0skpd2j0ktr0000gp/T/ipykernel_38628/219860616.py:28: PerformanceWarning: DataFrame is highly fragmented.  This is usually the result of calling `frame.insert` many times, which has poor performance.  Consider joining all columns at once using pd.concat(axis=1) instead. To get a de-fragmented frame, use `newframe = frame.copy()`\n",
      "  final[entity + '_actual/avg_' + str(time)] = final['Amount'] / final[entity + '_avg_' + str(time)]\n",
      "/var/folders/ll/h_rnbgns62bcj0skpd2j0ktr0000gp/T/ipykernel_38628/219860616.py:29: PerformanceWarning: DataFrame is highly fragmented.  This is usually the result of calling `frame.insert` many times, which has poor performance.  Consider joining all columns at once using pd.concat(axis=1) instead. To get a de-fragmented frame, use `newframe = frame.copy()`\n",
      "  final[entity + '_actual/max_' + str(time)] = final['Amount'] / final[entity + '_max_' + str(time)]\n",
      "/var/folders/ll/h_rnbgns62bcj0skpd2j0ktr0000gp/T/ipykernel_38628/219860616.py:30: PerformanceWarning: DataFrame is highly fragmented.  This is usually the result of calling `frame.insert` many times, which has poor performance.  Consider joining all columns at once using pd.concat(axis=1) instead. To get a de-fragmented frame, use `newframe = frame.copy()`\n",
      "  final[entity + '_actual/med_' + str(time)] = final['Amount'] / final[entity + '_med_' + str(time)]\n",
      "/var/folders/ll/h_rnbgns62bcj0skpd2j0ktr0000gp/T/ipykernel_38628/219860616.py:31: PerformanceWarning: DataFrame is highly fragmented.  This is usually the result of calling `frame.insert` many times, which has poor performance.  Consider joining all columns at once using pd.concat(axis=1) instead. To get a de-fragmented frame, use `newframe = frame.copy()`\n",
      "  final[entity + '_actual/toal_' + str(time)] = final['Amount'] / final[entity + '_total_' + str(time)]\n"
     ]
    },
    {
     "name": "stdout",
     "output_type": "stream",
     "text": [
      "Merchnum_state_count_3 ---> Done\n",
      "Merchnum_state amount variables over past 3 ---> Done\n"
     ]
    },
    {
     "name": "stderr",
     "output_type": "stream",
     "text": [
      "/var/folders/ll/h_rnbgns62bcj0skpd2j0ktr0000gp/T/ipykernel_38628/219860616.py:22: PerformanceWarning: DataFrame is highly fragmented.  This is usually the result of calling `frame.insert` many times, which has poor performance.  Consider joining all columns at once using pd.concat(axis=1) instead. To get a de-fragmented frame, use `newframe = frame.copy()`\n",
      "  final[col_name] = final.Recnum.map(mapper2)\n",
      "/var/folders/ll/h_rnbgns62bcj0skpd2j0ktr0000gp/T/ipykernel_38628/219860616.py:24: PerformanceWarning: DataFrame is highly fragmented.  This is usually the result of calling `frame.insert` many times, which has poor performance.  Consider joining all columns at once using pd.concat(axis=1) instead. To get a de-fragmented frame, use `newframe = frame.copy()`\n",
      "  final[entity + '_avg_' + str(time)] = final.Recnum.map(temp2.groupby('Recnum')['Amount'].mean())\n",
      "/var/folders/ll/h_rnbgns62bcj0skpd2j0ktr0000gp/T/ipykernel_38628/219860616.py:25: PerformanceWarning: DataFrame is highly fragmented.  This is usually the result of calling `frame.insert` many times, which has poor performance.  Consider joining all columns at once using pd.concat(axis=1) instead. To get a de-fragmented frame, use `newframe = frame.copy()`\n",
      "  final[entity + '_max_' + str(time)] = final.Recnum.map(temp2.groupby('Recnum')['Amount'].max())\n"
     ]
    },
    {
     "name": "stdout",
     "output_type": "stream",
     "text": [
      "Merchnum_state_count_7 ---> Done\n"
     ]
    },
    {
     "name": "stderr",
     "output_type": "stream",
     "text": [
      "/var/folders/ll/h_rnbgns62bcj0skpd2j0ktr0000gp/T/ipykernel_38628/219860616.py:26: PerformanceWarning: DataFrame is highly fragmented.  This is usually the result of calling `frame.insert` many times, which has poor performance.  Consider joining all columns at once using pd.concat(axis=1) instead. To get a de-fragmented frame, use `newframe = frame.copy()`\n",
      "  final[entity + '_med_' + str(time)] = final.Recnum.map(temp2.groupby('Recnum')['Amount'].median())\n",
      "/var/folders/ll/h_rnbgns62bcj0skpd2j0ktr0000gp/T/ipykernel_38628/219860616.py:27: PerformanceWarning: DataFrame is highly fragmented.  This is usually the result of calling `frame.insert` many times, which has poor performance.  Consider joining all columns at once using pd.concat(axis=1) instead. To get a de-fragmented frame, use `newframe = frame.copy()`\n",
      "  final[entity + '_total_' + str(time)] = final.Recnum.map(temp2.groupby('Recnum')['Amount'].sum())\n",
      "/var/folders/ll/h_rnbgns62bcj0skpd2j0ktr0000gp/T/ipykernel_38628/219860616.py:28: PerformanceWarning: DataFrame is highly fragmented.  This is usually the result of calling `frame.insert` many times, which has poor performance.  Consider joining all columns at once using pd.concat(axis=1) instead. To get a de-fragmented frame, use `newframe = frame.copy()`\n",
      "  final[entity + '_actual/avg_' + str(time)] = final['Amount'] / final[entity + '_avg_' + str(time)]\n",
      "/var/folders/ll/h_rnbgns62bcj0skpd2j0ktr0000gp/T/ipykernel_38628/219860616.py:29: PerformanceWarning: DataFrame is highly fragmented.  This is usually the result of calling `frame.insert` many times, which has poor performance.  Consider joining all columns at once using pd.concat(axis=1) instead. To get a de-fragmented frame, use `newframe = frame.copy()`\n",
      "  final[entity + '_actual/max_' + str(time)] = final['Amount'] / final[entity + '_max_' + str(time)]\n",
      "/var/folders/ll/h_rnbgns62bcj0skpd2j0ktr0000gp/T/ipykernel_38628/219860616.py:30: PerformanceWarning: DataFrame is highly fragmented.  This is usually the result of calling `frame.insert` many times, which has poor performance.  Consider joining all columns at once using pd.concat(axis=1) instead. To get a de-fragmented frame, use `newframe = frame.copy()`\n",
      "  final[entity + '_actual/med_' + str(time)] = final['Amount'] / final[entity + '_med_' + str(time)]\n",
      "/var/folders/ll/h_rnbgns62bcj0skpd2j0ktr0000gp/T/ipykernel_38628/219860616.py:31: PerformanceWarning: DataFrame is highly fragmented.  This is usually the result of calling `frame.insert` many times, which has poor performance.  Consider joining all columns at once using pd.concat(axis=1) instead. To get a de-fragmented frame, use `newframe = frame.copy()`\n",
      "  final[entity + '_actual/toal_' + str(time)] = final['Amount'] / final[entity + '_total_' + str(time)]\n"
     ]
    },
    {
     "name": "stdout",
     "output_type": "stream",
     "text": [
      "Merchnum_state amount variables over past 7 ---> Done\n"
     ]
    },
    {
     "name": "stderr",
     "output_type": "stream",
     "text": [
      "/var/folders/ll/h_rnbgns62bcj0skpd2j0ktr0000gp/T/ipykernel_38628/219860616.py:22: PerformanceWarning: DataFrame is highly fragmented.  This is usually the result of calling `frame.insert` many times, which has poor performance.  Consider joining all columns at once using pd.concat(axis=1) instead. To get a de-fragmented frame, use `newframe = frame.copy()`\n",
      "  final[col_name] = final.Recnum.map(mapper2)\n",
      "/var/folders/ll/h_rnbgns62bcj0skpd2j0ktr0000gp/T/ipykernel_38628/219860616.py:24: PerformanceWarning: DataFrame is highly fragmented.  This is usually the result of calling `frame.insert` many times, which has poor performance.  Consider joining all columns at once using pd.concat(axis=1) instead. To get a de-fragmented frame, use `newframe = frame.copy()`\n",
      "  final[entity + '_avg_' + str(time)] = final.Recnum.map(temp2.groupby('Recnum')['Amount'].mean())\n",
      "/var/folders/ll/h_rnbgns62bcj0skpd2j0ktr0000gp/T/ipykernel_38628/219860616.py:25: PerformanceWarning: DataFrame is highly fragmented.  This is usually the result of calling `frame.insert` many times, which has poor performance.  Consider joining all columns at once using pd.concat(axis=1) instead. To get a de-fragmented frame, use `newframe = frame.copy()`\n",
      "  final[entity + '_max_' + str(time)] = final.Recnum.map(temp2.groupby('Recnum')['Amount'].max())\n"
     ]
    },
    {
     "name": "stdout",
     "output_type": "stream",
     "text": [
      "Merchnum_state_count_14 ---> Done\n"
     ]
    },
    {
     "name": "stderr",
     "output_type": "stream",
     "text": [
      "/var/folders/ll/h_rnbgns62bcj0skpd2j0ktr0000gp/T/ipykernel_38628/219860616.py:26: PerformanceWarning: DataFrame is highly fragmented.  This is usually the result of calling `frame.insert` many times, which has poor performance.  Consider joining all columns at once using pd.concat(axis=1) instead. To get a de-fragmented frame, use `newframe = frame.copy()`\n",
      "  final[entity + '_med_' + str(time)] = final.Recnum.map(temp2.groupby('Recnum')['Amount'].median())\n",
      "/var/folders/ll/h_rnbgns62bcj0skpd2j0ktr0000gp/T/ipykernel_38628/219860616.py:27: PerformanceWarning: DataFrame is highly fragmented.  This is usually the result of calling `frame.insert` many times, which has poor performance.  Consider joining all columns at once using pd.concat(axis=1) instead. To get a de-fragmented frame, use `newframe = frame.copy()`\n",
      "  final[entity + '_total_' + str(time)] = final.Recnum.map(temp2.groupby('Recnum')['Amount'].sum())\n",
      "/var/folders/ll/h_rnbgns62bcj0skpd2j0ktr0000gp/T/ipykernel_38628/219860616.py:28: PerformanceWarning: DataFrame is highly fragmented.  This is usually the result of calling `frame.insert` many times, which has poor performance.  Consider joining all columns at once using pd.concat(axis=1) instead. To get a de-fragmented frame, use `newframe = frame.copy()`\n",
      "  final[entity + '_actual/avg_' + str(time)] = final['Amount'] / final[entity + '_avg_' + str(time)]\n",
      "/var/folders/ll/h_rnbgns62bcj0skpd2j0ktr0000gp/T/ipykernel_38628/219860616.py:29: PerformanceWarning: DataFrame is highly fragmented.  This is usually the result of calling `frame.insert` many times, which has poor performance.  Consider joining all columns at once using pd.concat(axis=1) instead. To get a de-fragmented frame, use `newframe = frame.copy()`\n",
      "  final[entity + '_actual/max_' + str(time)] = final['Amount'] / final[entity + '_max_' + str(time)]\n",
      "/var/folders/ll/h_rnbgns62bcj0skpd2j0ktr0000gp/T/ipykernel_38628/219860616.py:30: PerformanceWarning: DataFrame is highly fragmented.  This is usually the result of calling `frame.insert` many times, which has poor performance.  Consider joining all columns at once using pd.concat(axis=1) instead. To get a de-fragmented frame, use `newframe = frame.copy()`\n",
      "  final[entity + '_actual/med_' + str(time)] = final['Amount'] / final[entity + '_med_' + str(time)]\n",
      "/var/folders/ll/h_rnbgns62bcj0skpd2j0ktr0000gp/T/ipykernel_38628/219860616.py:31: PerformanceWarning: DataFrame is highly fragmented.  This is usually the result of calling `frame.insert` many times, which has poor performance.  Consider joining all columns at once using pd.concat(axis=1) instead. To get a de-fragmented frame, use `newframe = frame.copy()`\n",
      "  final[entity + '_actual/toal_' + str(time)] = final['Amount'] / final[entity + '_total_' + str(time)]\n"
     ]
    },
    {
     "name": "stdout",
     "output_type": "stream",
     "text": [
      "Merchnum_state amount variables over past 14 ---> Done\n"
     ]
    },
    {
     "name": "stderr",
     "output_type": "stream",
     "text": [
      "/var/folders/ll/h_rnbgns62bcj0skpd2j0ktr0000gp/T/ipykernel_38628/219860616.py:22: PerformanceWarning: DataFrame is highly fragmented.  This is usually the result of calling `frame.insert` many times, which has poor performance.  Consider joining all columns at once using pd.concat(axis=1) instead. To get a de-fragmented frame, use `newframe = frame.copy()`\n",
      "  final[col_name] = final.Recnum.map(mapper2)\n",
      "/var/folders/ll/h_rnbgns62bcj0skpd2j0ktr0000gp/T/ipykernel_38628/219860616.py:24: PerformanceWarning: DataFrame is highly fragmented.  This is usually the result of calling `frame.insert` many times, which has poor performance.  Consider joining all columns at once using pd.concat(axis=1) instead. To get a de-fragmented frame, use `newframe = frame.copy()`\n",
      "  final[entity + '_avg_' + str(time)] = final.Recnum.map(temp2.groupby('Recnum')['Amount'].mean())\n"
     ]
    },
    {
     "name": "stdout",
     "output_type": "stream",
     "text": [
      "Merchnum_state_count_30 ---> Done\n"
     ]
    },
    {
     "name": "stderr",
     "output_type": "stream",
     "text": [
      "/var/folders/ll/h_rnbgns62bcj0skpd2j0ktr0000gp/T/ipykernel_38628/219860616.py:25: PerformanceWarning: DataFrame is highly fragmented.  This is usually the result of calling `frame.insert` many times, which has poor performance.  Consider joining all columns at once using pd.concat(axis=1) instead. To get a de-fragmented frame, use `newframe = frame.copy()`\n",
      "  final[entity + '_max_' + str(time)] = final.Recnum.map(temp2.groupby('Recnum')['Amount'].max())\n",
      "/var/folders/ll/h_rnbgns62bcj0skpd2j0ktr0000gp/T/ipykernel_38628/219860616.py:26: PerformanceWarning: DataFrame is highly fragmented.  This is usually the result of calling `frame.insert` many times, which has poor performance.  Consider joining all columns at once using pd.concat(axis=1) instead. To get a de-fragmented frame, use `newframe = frame.copy()`\n",
      "  final[entity + '_med_' + str(time)] = final.Recnum.map(temp2.groupby('Recnum')['Amount'].median())\n",
      "/var/folders/ll/h_rnbgns62bcj0skpd2j0ktr0000gp/T/ipykernel_38628/219860616.py:27: PerformanceWarning: DataFrame is highly fragmented.  This is usually the result of calling `frame.insert` many times, which has poor performance.  Consider joining all columns at once using pd.concat(axis=1) instead. To get a de-fragmented frame, use `newframe = frame.copy()`\n",
      "  final[entity + '_total_' + str(time)] = final.Recnum.map(temp2.groupby('Recnum')['Amount'].sum())\n",
      "/var/folders/ll/h_rnbgns62bcj0skpd2j0ktr0000gp/T/ipykernel_38628/219860616.py:28: PerformanceWarning: DataFrame is highly fragmented.  This is usually the result of calling `frame.insert` many times, which has poor performance.  Consider joining all columns at once using pd.concat(axis=1) instead. To get a de-fragmented frame, use `newframe = frame.copy()`\n",
      "  final[entity + '_actual/avg_' + str(time)] = final['Amount'] / final[entity + '_avg_' + str(time)]\n",
      "/var/folders/ll/h_rnbgns62bcj0skpd2j0ktr0000gp/T/ipykernel_38628/219860616.py:29: PerformanceWarning: DataFrame is highly fragmented.  This is usually the result of calling `frame.insert` many times, which has poor performance.  Consider joining all columns at once using pd.concat(axis=1) instead. To get a de-fragmented frame, use `newframe = frame.copy()`\n",
      "  final[entity + '_actual/max_' + str(time)] = final['Amount'] / final[entity + '_max_' + str(time)]\n",
      "/var/folders/ll/h_rnbgns62bcj0skpd2j0ktr0000gp/T/ipykernel_38628/219860616.py:30: PerformanceWarning: DataFrame is highly fragmented.  This is usually the result of calling `frame.insert` many times, which has poor performance.  Consider joining all columns at once using pd.concat(axis=1) instead. To get a de-fragmented frame, use `newframe = frame.copy()`\n",
      "  final[entity + '_actual/med_' + str(time)] = final['Amount'] / final[entity + '_med_' + str(time)]\n",
      "/var/folders/ll/h_rnbgns62bcj0skpd2j0ktr0000gp/T/ipykernel_38628/219860616.py:31: PerformanceWarning: DataFrame is highly fragmented.  This is usually the result of calling `frame.insert` many times, which has poor performance.  Consider joining all columns at once using pd.concat(axis=1) instead. To get a de-fragmented frame, use `newframe = frame.copy()`\n",
      "  final[entity + '_actual/toal_' + str(time)] = final['Amount'] / final[entity + '_total_' + str(time)]\n"
     ]
    },
    {
     "name": "stdout",
     "output_type": "stream",
     "text": [
      "Merchnum_state amount variables over past 30 ---> Done\n",
      "Run time for the last entity ----------------- 16.919613292000008s\n"
     ]
    },
    {
     "name": "stderr",
     "output_type": "stream",
     "text": [
      "/var/folders/ll/h_rnbgns62bcj0skpd2j0ktr0000gp/T/ipykernel_38628/219860616.py:13: PerformanceWarning: DataFrame is highly fragmented.  This is usually the result of calling `frame.insert` many times, which has poor performance.  Consider joining all columns at once using pd.concat(axis=1) instead. To get a de-fragmented frame, use `newframe = frame.copy()`\n",
      "  final[entity + '_day_since'] = final.Recnum.map(mapper)\n"
     ]
    },
    {
     "name": "stdout",
     "output_type": "stream",
     "text": [
      "\n",
      "Merchnum_dow_day_since ---> Done\n"
     ]
    },
    {
     "name": "stderr",
     "output_type": "stream",
     "text": [
      "/var/folders/ll/h_rnbgns62bcj0skpd2j0ktr0000gp/T/ipykernel_38628/219860616.py:22: PerformanceWarning: DataFrame is highly fragmented.  This is usually the result of calling `frame.insert` many times, which has poor performance.  Consider joining all columns at once using pd.concat(axis=1) instead. To get a de-fragmented frame, use `newframe = frame.copy()`\n",
      "  final[col_name] = final.Recnum.map(mapper2)\n",
      "/var/folders/ll/h_rnbgns62bcj0skpd2j0ktr0000gp/T/ipykernel_38628/219860616.py:24: PerformanceWarning: DataFrame is highly fragmented.  This is usually the result of calling `frame.insert` many times, which has poor performance.  Consider joining all columns at once using pd.concat(axis=1) instead. To get a de-fragmented frame, use `newframe = frame.copy()`\n",
      "  final[entity + '_avg_' + str(time)] = final.Recnum.map(temp2.groupby('Recnum')['Amount'].mean())\n",
      "/var/folders/ll/h_rnbgns62bcj0skpd2j0ktr0000gp/T/ipykernel_38628/219860616.py:25: PerformanceWarning: DataFrame is highly fragmented.  This is usually the result of calling `frame.insert` many times, which has poor performance.  Consider joining all columns at once using pd.concat(axis=1) instead. To get a de-fragmented frame, use `newframe = frame.copy()`\n",
      "  final[entity + '_max_' + str(time)] = final.Recnum.map(temp2.groupby('Recnum')['Amount'].max())\n",
      "/var/folders/ll/h_rnbgns62bcj0skpd2j0ktr0000gp/T/ipykernel_38628/219860616.py:26: PerformanceWarning: DataFrame is highly fragmented.  This is usually the result of calling `frame.insert` many times, which has poor performance.  Consider joining all columns at once using pd.concat(axis=1) instead. To get a de-fragmented frame, use `newframe = frame.copy()`\n",
      "  final[entity + '_med_' + str(time)] = final.Recnum.map(temp2.groupby('Recnum')['Amount'].median())\n",
      "/var/folders/ll/h_rnbgns62bcj0skpd2j0ktr0000gp/T/ipykernel_38628/219860616.py:27: PerformanceWarning: DataFrame is highly fragmented.  This is usually the result of calling `frame.insert` many times, which has poor performance.  Consider joining all columns at once using pd.concat(axis=1) instead. To get a de-fragmented frame, use `newframe = frame.copy()`\n",
      "  final[entity + '_total_' + str(time)] = final.Recnum.map(temp2.groupby('Recnum')['Amount'].sum())\n",
      "/var/folders/ll/h_rnbgns62bcj0skpd2j0ktr0000gp/T/ipykernel_38628/219860616.py:28: PerformanceWarning: DataFrame is highly fragmented.  This is usually the result of calling `frame.insert` many times, which has poor performance.  Consider joining all columns at once using pd.concat(axis=1) instead. To get a de-fragmented frame, use `newframe = frame.copy()`\n",
      "  final[entity + '_actual/avg_' + str(time)] = final['Amount'] / final[entity + '_avg_' + str(time)]\n",
      "/var/folders/ll/h_rnbgns62bcj0skpd2j0ktr0000gp/T/ipykernel_38628/219860616.py:29: PerformanceWarning: DataFrame is highly fragmented.  This is usually the result of calling `frame.insert` many times, which has poor performance.  Consider joining all columns at once using pd.concat(axis=1) instead. To get a de-fragmented frame, use `newframe = frame.copy()`\n",
      "  final[entity + '_actual/max_' + str(time)] = final['Amount'] / final[entity + '_max_' + str(time)]\n",
      "/var/folders/ll/h_rnbgns62bcj0skpd2j0ktr0000gp/T/ipykernel_38628/219860616.py:30: PerformanceWarning: DataFrame is highly fragmented.  This is usually the result of calling `frame.insert` many times, which has poor performance.  Consider joining all columns at once using pd.concat(axis=1) instead. To get a de-fragmented frame, use `newframe = frame.copy()`\n",
      "  final[entity + '_actual/med_' + str(time)] = final['Amount'] / final[entity + '_med_' + str(time)]\n",
      "/var/folders/ll/h_rnbgns62bcj0skpd2j0ktr0000gp/T/ipykernel_38628/219860616.py:31: PerformanceWarning: DataFrame is highly fragmented.  This is usually the result of calling `frame.insert` many times, which has poor performance.  Consider joining all columns at once using pd.concat(axis=1) instead. To get a de-fragmented frame, use `newframe = frame.copy()`\n",
      "  final[entity + '_actual/toal_' + str(time)] = final['Amount'] / final[entity + '_total_' + str(time)]\n"
     ]
    },
    {
     "name": "stdout",
     "output_type": "stream",
     "text": [
      "Merchnum_dow_count_0 ---> Done\n",
      "Merchnum_dow amount variables over past 0 ---> Done\n"
     ]
    },
    {
     "name": "stderr",
     "output_type": "stream",
     "text": [
      "/var/folders/ll/h_rnbgns62bcj0skpd2j0ktr0000gp/T/ipykernel_38628/219860616.py:22: PerformanceWarning: DataFrame is highly fragmented.  This is usually the result of calling `frame.insert` many times, which has poor performance.  Consider joining all columns at once using pd.concat(axis=1) instead. To get a de-fragmented frame, use `newframe = frame.copy()`\n",
      "  final[col_name] = final.Recnum.map(mapper2)\n",
      "/var/folders/ll/h_rnbgns62bcj0skpd2j0ktr0000gp/T/ipykernel_38628/219860616.py:24: PerformanceWarning: DataFrame is highly fragmented.  This is usually the result of calling `frame.insert` many times, which has poor performance.  Consider joining all columns at once using pd.concat(axis=1) instead. To get a de-fragmented frame, use `newframe = frame.copy()`\n",
      "  final[entity + '_avg_' + str(time)] = final.Recnum.map(temp2.groupby('Recnum')['Amount'].mean())\n",
      "/var/folders/ll/h_rnbgns62bcj0skpd2j0ktr0000gp/T/ipykernel_38628/219860616.py:25: PerformanceWarning: DataFrame is highly fragmented.  This is usually the result of calling `frame.insert` many times, which has poor performance.  Consider joining all columns at once using pd.concat(axis=1) instead. To get a de-fragmented frame, use `newframe = frame.copy()`\n",
      "  final[entity + '_max_' + str(time)] = final.Recnum.map(temp2.groupby('Recnum')['Amount'].max())\n",
      "/var/folders/ll/h_rnbgns62bcj0skpd2j0ktr0000gp/T/ipykernel_38628/219860616.py:26: PerformanceWarning: DataFrame is highly fragmented.  This is usually the result of calling `frame.insert` many times, which has poor performance.  Consider joining all columns at once using pd.concat(axis=1) instead. To get a de-fragmented frame, use `newframe = frame.copy()`\n",
      "  final[entity + '_med_' + str(time)] = final.Recnum.map(temp2.groupby('Recnum')['Amount'].median())\n",
      "/var/folders/ll/h_rnbgns62bcj0skpd2j0ktr0000gp/T/ipykernel_38628/219860616.py:27: PerformanceWarning: DataFrame is highly fragmented.  This is usually the result of calling `frame.insert` many times, which has poor performance.  Consider joining all columns at once using pd.concat(axis=1) instead. To get a de-fragmented frame, use `newframe = frame.copy()`\n",
      "  final[entity + '_total_' + str(time)] = final.Recnum.map(temp2.groupby('Recnum')['Amount'].sum())\n",
      "/var/folders/ll/h_rnbgns62bcj0skpd2j0ktr0000gp/T/ipykernel_38628/219860616.py:28: PerformanceWarning: DataFrame is highly fragmented.  This is usually the result of calling `frame.insert` many times, which has poor performance.  Consider joining all columns at once using pd.concat(axis=1) instead. To get a de-fragmented frame, use `newframe = frame.copy()`\n",
      "  final[entity + '_actual/avg_' + str(time)] = final['Amount'] / final[entity + '_avg_' + str(time)]\n",
      "/var/folders/ll/h_rnbgns62bcj0skpd2j0ktr0000gp/T/ipykernel_38628/219860616.py:29: PerformanceWarning: DataFrame is highly fragmented.  This is usually the result of calling `frame.insert` many times, which has poor performance.  Consider joining all columns at once using pd.concat(axis=1) instead. To get a de-fragmented frame, use `newframe = frame.copy()`\n",
      "  final[entity + '_actual/max_' + str(time)] = final['Amount'] / final[entity + '_max_' + str(time)]\n",
      "/var/folders/ll/h_rnbgns62bcj0skpd2j0ktr0000gp/T/ipykernel_38628/219860616.py:30: PerformanceWarning: DataFrame is highly fragmented.  This is usually the result of calling `frame.insert` many times, which has poor performance.  Consider joining all columns at once using pd.concat(axis=1) instead. To get a de-fragmented frame, use `newframe = frame.copy()`\n",
      "  final[entity + '_actual/med_' + str(time)] = final['Amount'] / final[entity + '_med_' + str(time)]\n",
      "/var/folders/ll/h_rnbgns62bcj0skpd2j0ktr0000gp/T/ipykernel_38628/219860616.py:31: PerformanceWarning: DataFrame is highly fragmented.  This is usually the result of calling `frame.insert` many times, which has poor performance.  Consider joining all columns at once using pd.concat(axis=1) instead. To get a de-fragmented frame, use `newframe = frame.copy()`\n",
      "  final[entity + '_actual/toal_' + str(time)] = final['Amount'] / final[entity + '_total_' + str(time)]\n"
     ]
    },
    {
     "name": "stdout",
     "output_type": "stream",
     "text": [
      "Merchnum_dow_count_1 ---> Done\n",
      "Merchnum_dow amount variables over past 1 ---> Done\n"
     ]
    },
    {
     "name": "stderr",
     "output_type": "stream",
     "text": [
      "/var/folders/ll/h_rnbgns62bcj0skpd2j0ktr0000gp/T/ipykernel_38628/219860616.py:22: PerformanceWarning: DataFrame is highly fragmented.  This is usually the result of calling `frame.insert` many times, which has poor performance.  Consider joining all columns at once using pd.concat(axis=1) instead. To get a de-fragmented frame, use `newframe = frame.copy()`\n",
      "  final[col_name] = final.Recnum.map(mapper2)\n",
      "/var/folders/ll/h_rnbgns62bcj0skpd2j0ktr0000gp/T/ipykernel_38628/219860616.py:24: PerformanceWarning: DataFrame is highly fragmented.  This is usually the result of calling `frame.insert` many times, which has poor performance.  Consider joining all columns at once using pd.concat(axis=1) instead. To get a de-fragmented frame, use `newframe = frame.copy()`\n",
      "  final[entity + '_avg_' + str(time)] = final.Recnum.map(temp2.groupby('Recnum')['Amount'].mean())\n",
      "/var/folders/ll/h_rnbgns62bcj0skpd2j0ktr0000gp/T/ipykernel_38628/219860616.py:25: PerformanceWarning: DataFrame is highly fragmented.  This is usually the result of calling `frame.insert` many times, which has poor performance.  Consider joining all columns at once using pd.concat(axis=1) instead. To get a de-fragmented frame, use `newframe = frame.copy()`\n",
      "  final[entity + '_max_' + str(time)] = final.Recnum.map(temp2.groupby('Recnum')['Amount'].max())\n",
      "/var/folders/ll/h_rnbgns62bcj0skpd2j0ktr0000gp/T/ipykernel_38628/219860616.py:26: PerformanceWarning: DataFrame is highly fragmented.  This is usually the result of calling `frame.insert` many times, which has poor performance.  Consider joining all columns at once using pd.concat(axis=1) instead. To get a de-fragmented frame, use `newframe = frame.copy()`\n",
      "  final[entity + '_med_' + str(time)] = final.Recnum.map(temp2.groupby('Recnum')['Amount'].median())\n",
      "/var/folders/ll/h_rnbgns62bcj0skpd2j0ktr0000gp/T/ipykernel_38628/219860616.py:27: PerformanceWarning: DataFrame is highly fragmented.  This is usually the result of calling `frame.insert` many times, which has poor performance.  Consider joining all columns at once using pd.concat(axis=1) instead. To get a de-fragmented frame, use `newframe = frame.copy()`\n",
      "  final[entity + '_total_' + str(time)] = final.Recnum.map(temp2.groupby('Recnum')['Amount'].sum())\n",
      "/var/folders/ll/h_rnbgns62bcj0skpd2j0ktr0000gp/T/ipykernel_38628/219860616.py:28: PerformanceWarning: DataFrame is highly fragmented.  This is usually the result of calling `frame.insert` many times, which has poor performance.  Consider joining all columns at once using pd.concat(axis=1) instead. To get a de-fragmented frame, use `newframe = frame.copy()`\n",
      "  final[entity + '_actual/avg_' + str(time)] = final['Amount'] / final[entity + '_avg_' + str(time)]\n",
      "/var/folders/ll/h_rnbgns62bcj0skpd2j0ktr0000gp/T/ipykernel_38628/219860616.py:29: PerformanceWarning: DataFrame is highly fragmented.  This is usually the result of calling `frame.insert` many times, which has poor performance.  Consider joining all columns at once using pd.concat(axis=1) instead. To get a de-fragmented frame, use `newframe = frame.copy()`\n",
      "  final[entity + '_actual/max_' + str(time)] = final['Amount'] / final[entity + '_max_' + str(time)]\n",
      "/var/folders/ll/h_rnbgns62bcj0skpd2j0ktr0000gp/T/ipykernel_38628/219860616.py:30: PerformanceWarning: DataFrame is highly fragmented.  This is usually the result of calling `frame.insert` many times, which has poor performance.  Consider joining all columns at once using pd.concat(axis=1) instead. To get a de-fragmented frame, use `newframe = frame.copy()`\n",
      "  final[entity + '_actual/med_' + str(time)] = final['Amount'] / final[entity + '_med_' + str(time)]\n",
      "/var/folders/ll/h_rnbgns62bcj0skpd2j0ktr0000gp/T/ipykernel_38628/219860616.py:31: PerformanceWarning: DataFrame is highly fragmented.  This is usually the result of calling `frame.insert` many times, which has poor performance.  Consider joining all columns at once using pd.concat(axis=1) instead. To get a de-fragmented frame, use `newframe = frame.copy()`\n",
      "  final[entity + '_actual/toal_' + str(time)] = final['Amount'] / final[entity + '_total_' + str(time)]\n"
     ]
    },
    {
     "name": "stdout",
     "output_type": "stream",
     "text": [
      "Merchnum_dow_count_3 ---> Done\n",
      "Merchnum_dow amount variables over past 3 ---> Done\n"
     ]
    },
    {
     "name": "stderr",
     "output_type": "stream",
     "text": [
      "/var/folders/ll/h_rnbgns62bcj0skpd2j0ktr0000gp/T/ipykernel_38628/219860616.py:22: PerformanceWarning: DataFrame is highly fragmented.  This is usually the result of calling `frame.insert` many times, which has poor performance.  Consider joining all columns at once using pd.concat(axis=1) instead. To get a de-fragmented frame, use `newframe = frame.copy()`\n",
      "  final[col_name] = final.Recnum.map(mapper2)\n",
      "/var/folders/ll/h_rnbgns62bcj0skpd2j0ktr0000gp/T/ipykernel_38628/219860616.py:24: PerformanceWarning: DataFrame is highly fragmented.  This is usually the result of calling `frame.insert` many times, which has poor performance.  Consider joining all columns at once using pd.concat(axis=1) instead. To get a de-fragmented frame, use `newframe = frame.copy()`\n",
      "  final[entity + '_avg_' + str(time)] = final.Recnum.map(temp2.groupby('Recnum')['Amount'].mean())\n",
      "/var/folders/ll/h_rnbgns62bcj0skpd2j0ktr0000gp/T/ipykernel_38628/219860616.py:25: PerformanceWarning: DataFrame is highly fragmented.  This is usually the result of calling `frame.insert` many times, which has poor performance.  Consider joining all columns at once using pd.concat(axis=1) instead. To get a de-fragmented frame, use `newframe = frame.copy()`\n",
      "  final[entity + '_max_' + str(time)] = final.Recnum.map(temp2.groupby('Recnum')['Amount'].max())\n",
      "/var/folders/ll/h_rnbgns62bcj0skpd2j0ktr0000gp/T/ipykernel_38628/219860616.py:26: PerformanceWarning: DataFrame is highly fragmented.  This is usually the result of calling `frame.insert` many times, which has poor performance.  Consider joining all columns at once using pd.concat(axis=1) instead. To get a de-fragmented frame, use `newframe = frame.copy()`\n",
      "  final[entity + '_med_' + str(time)] = final.Recnum.map(temp2.groupby('Recnum')['Amount'].median())\n",
      "/var/folders/ll/h_rnbgns62bcj0skpd2j0ktr0000gp/T/ipykernel_38628/219860616.py:27: PerformanceWarning: DataFrame is highly fragmented.  This is usually the result of calling `frame.insert` many times, which has poor performance.  Consider joining all columns at once using pd.concat(axis=1) instead. To get a de-fragmented frame, use `newframe = frame.copy()`\n",
      "  final[entity + '_total_' + str(time)] = final.Recnum.map(temp2.groupby('Recnum')['Amount'].sum())\n",
      "/var/folders/ll/h_rnbgns62bcj0skpd2j0ktr0000gp/T/ipykernel_38628/219860616.py:28: PerformanceWarning: DataFrame is highly fragmented.  This is usually the result of calling `frame.insert` many times, which has poor performance.  Consider joining all columns at once using pd.concat(axis=1) instead. To get a de-fragmented frame, use `newframe = frame.copy()`\n",
      "  final[entity + '_actual/avg_' + str(time)] = final['Amount'] / final[entity + '_avg_' + str(time)]\n",
      "/var/folders/ll/h_rnbgns62bcj0skpd2j0ktr0000gp/T/ipykernel_38628/219860616.py:29: PerformanceWarning: DataFrame is highly fragmented.  This is usually the result of calling `frame.insert` many times, which has poor performance.  Consider joining all columns at once using pd.concat(axis=1) instead. To get a de-fragmented frame, use `newframe = frame.copy()`\n",
      "  final[entity + '_actual/max_' + str(time)] = final['Amount'] / final[entity + '_max_' + str(time)]\n",
      "/var/folders/ll/h_rnbgns62bcj0skpd2j0ktr0000gp/T/ipykernel_38628/219860616.py:30: PerformanceWarning: DataFrame is highly fragmented.  This is usually the result of calling `frame.insert` many times, which has poor performance.  Consider joining all columns at once using pd.concat(axis=1) instead. To get a de-fragmented frame, use `newframe = frame.copy()`\n",
      "  final[entity + '_actual/med_' + str(time)] = final['Amount'] / final[entity + '_med_' + str(time)]\n",
      "/var/folders/ll/h_rnbgns62bcj0skpd2j0ktr0000gp/T/ipykernel_38628/219860616.py:31: PerformanceWarning: DataFrame is highly fragmented.  This is usually the result of calling `frame.insert` many times, which has poor performance.  Consider joining all columns at once using pd.concat(axis=1) instead. To get a de-fragmented frame, use `newframe = frame.copy()`\n",
      "  final[entity + '_actual/toal_' + str(time)] = final['Amount'] / final[entity + '_total_' + str(time)]\n"
     ]
    },
    {
     "name": "stdout",
     "output_type": "stream",
     "text": [
      "Merchnum_dow_count_7 ---> Done\n",
      "Merchnum_dow amount variables over past 7 ---> Done\n"
     ]
    },
    {
     "name": "stderr",
     "output_type": "stream",
     "text": [
      "/var/folders/ll/h_rnbgns62bcj0skpd2j0ktr0000gp/T/ipykernel_38628/219860616.py:22: PerformanceWarning: DataFrame is highly fragmented.  This is usually the result of calling `frame.insert` many times, which has poor performance.  Consider joining all columns at once using pd.concat(axis=1) instead. To get a de-fragmented frame, use `newframe = frame.copy()`\n",
      "  final[col_name] = final.Recnum.map(mapper2)\n",
      "/var/folders/ll/h_rnbgns62bcj0skpd2j0ktr0000gp/T/ipykernel_38628/219860616.py:24: PerformanceWarning: DataFrame is highly fragmented.  This is usually the result of calling `frame.insert` many times, which has poor performance.  Consider joining all columns at once using pd.concat(axis=1) instead. To get a de-fragmented frame, use `newframe = frame.copy()`\n",
      "  final[entity + '_avg_' + str(time)] = final.Recnum.map(temp2.groupby('Recnum')['Amount'].mean())\n",
      "/var/folders/ll/h_rnbgns62bcj0skpd2j0ktr0000gp/T/ipykernel_38628/219860616.py:25: PerformanceWarning: DataFrame is highly fragmented.  This is usually the result of calling `frame.insert` many times, which has poor performance.  Consider joining all columns at once using pd.concat(axis=1) instead. To get a de-fragmented frame, use `newframe = frame.copy()`\n",
      "  final[entity + '_max_' + str(time)] = final.Recnum.map(temp2.groupby('Recnum')['Amount'].max())\n",
      "/var/folders/ll/h_rnbgns62bcj0skpd2j0ktr0000gp/T/ipykernel_38628/219860616.py:26: PerformanceWarning: DataFrame is highly fragmented.  This is usually the result of calling `frame.insert` many times, which has poor performance.  Consider joining all columns at once using pd.concat(axis=1) instead. To get a de-fragmented frame, use `newframe = frame.copy()`\n",
      "  final[entity + '_med_' + str(time)] = final.Recnum.map(temp2.groupby('Recnum')['Amount'].median())\n",
      "/var/folders/ll/h_rnbgns62bcj0skpd2j0ktr0000gp/T/ipykernel_38628/219860616.py:27: PerformanceWarning: DataFrame is highly fragmented.  This is usually the result of calling `frame.insert` many times, which has poor performance.  Consider joining all columns at once using pd.concat(axis=1) instead. To get a de-fragmented frame, use `newframe = frame.copy()`\n",
      "  final[entity + '_total_' + str(time)] = final.Recnum.map(temp2.groupby('Recnum')['Amount'].sum())\n",
      "/var/folders/ll/h_rnbgns62bcj0skpd2j0ktr0000gp/T/ipykernel_38628/219860616.py:28: PerformanceWarning: DataFrame is highly fragmented.  This is usually the result of calling `frame.insert` many times, which has poor performance.  Consider joining all columns at once using pd.concat(axis=1) instead. To get a de-fragmented frame, use `newframe = frame.copy()`\n",
      "  final[entity + '_actual/avg_' + str(time)] = final['Amount'] / final[entity + '_avg_' + str(time)]\n",
      "/var/folders/ll/h_rnbgns62bcj0skpd2j0ktr0000gp/T/ipykernel_38628/219860616.py:29: PerformanceWarning: DataFrame is highly fragmented.  This is usually the result of calling `frame.insert` many times, which has poor performance.  Consider joining all columns at once using pd.concat(axis=1) instead. To get a de-fragmented frame, use `newframe = frame.copy()`\n",
      "  final[entity + '_actual/max_' + str(time)] = final['Amount'] / final[entity + '_max_' + str(time)]\n",
      "/var/folders/ll/h_rnbgns62bcj0skpd2j0ktr0000gp/T/ipykernel_38628/219860616.py:30: PerformanceWarning: DataFrame is highly fragmented.  This is usually the result of calling `frame.insert` many times, which has poor performance.  Consider joining all columns at once using pd.concat(axis=1) instead. To get a de-fragmented frame, use `newframe = frame.copy()`\n",
      "  final[entity + '_actual/med_' + str(time)] = final['Amount'] / final[entity + '_med_' + str(time)]\n",
      "/var/folders/ll/h_rnbgns62bcj0skpd2j0ktr0000gp/T/ipykernel_38628/219860616.py:31: PerformanceWarning: DataFrame is highly fragmented.  This is usually the result of calling `frame.insert` many times, which has poor performance.  Consider joining all columns at once using pd.concat(axis=1) instead. To get a de-fragmented frame, use `newframe = frame.copy()`\n",
      "  final[entity + '_actual/toal_' + str(time)] = final['Amount'] / final[entity + '_total_' + str(time)]\n"
     ]
    },
    {
     "name": "stdout",
     "output_type": "stream",
     "text": [
      "Merchnum_dow_count_14 ---> Done\n",
      "Merchnum_dow amount variables over past 14 ---> Done\n"
     ]
    },
    {
     "name": "stderr",
     "output_type": "stream",
     "text": [
      "/var/folders/ll/h_rnbgns62bcj0skpd2j0ktr0000gp/T/ipykernel_38628/219860616.py:22: PerformanceWarning: DataFrame is highly fragmented.  This is usually the result of calling `frame.insert` many times, which has poor performance.  Consider joining all columns at once using pd.concat(axis=1) instead. To get a de-fragmented frame, use `newframe = frame.copy()`\n",
      "  final[col_name] = final.Recnum.map(mapper2)\n",
      "/var/folders/ll/h_rnbgns62bcj0skpd2j0ktr0000gp/T/ipykernel_38628/219860616.py:24: PerformanceWarning: DataFrame is highly fragmented.  This is usually the result of calling `frame.insert` many times, which has poor performance.  Consider joining all columns at once using pd.concat(axis=1) instead. To get a de-fragmented frame, use `newframe = frame.copy()`\n",
      "  final[entity + '_avg_' + str(time)] = final.Recnum.map(temp2.groupby('Recnum')['Amount'].mean())\n",
      "/var/folders/ll/h_rnbgns62bcj0skpd2j0ktr0000gp/T/ipykernel_38628/219860616.py:25: PerformanceWarning: DataFrame is highly fragmented.  This is usually the result of calling `frame.insert` many times, which has poor performance.  Consider joining all columns at once using pd.concat(axis=1) instead. To get a de-fragmented frame, use `newframe = frame.copy()`\n",
      "  final[entity + '_max_' + str(time)] = final.Recnum.map(temp2.groupby('Recnum')['Amount'].max())\n",
      "/var/folders/ll/h_rnbgns62bcj0skpd2j0ktr0000gp/T/ipykernel_38628/219860616.py:26: PerformanceWarning: DataFrame is highly fragmented.  This is usually the result of calling `frame.insert` many times, which has poor performance.  Consider joining all columns at once using pd.concat(axis=1) instead. To get a de-fragmented frame, use `newframe = frame.copy()`\n",
      "  final[entity + '_med_' + str(time)] = final.Recnum.map(temp2.groupby('Recnum')['Amount'].median())\n"
     ]
    },
    {
     "name": "stdout",
     "output_type": "stream",
     "text": [
      "Merchnum_dow_count_30 ---> Done\n"
     ]
    },
    {
     "name": "stderr",
     "output_type": "stream",
     "text": [
      "/var/folders/ll/h_rnbgns62bcj0skpd2j0ktr0000gp/T/ipykernel_38628/219860616.py:27: PerformanceWarning: DataFrame is highly fragmented.  This is usually the result of calling `frame.insert` many times, which has poor performance.  Consider joining all columns at once using pd.concat(axis=1) instead. To get a de-fragmented frame, use `newframe = frame.copy()`\n",
      "  final[entity + '_total_' + str(time)] = final.Recnum.map(temp2.groupby('Recnum')['Amount'].sum())\n",
      "/var/folders/ll/h_rnbgns62bcj0skpd2j0ktr0000gp/T/ipykernel_38628/219860616.py:28: PerformanceWarning: DataFrame is highly fragmented.  This is usually the result of calling `frame.insert` many times, which has poor performance.  Consider joining all columns at once using pd.concat(axis=1) instead. To get a de-fragmented frame, use `newframe = frame.copy()`\n",
      "  final[entity + '_actual/avg_' + str(time)] = final['Amount'] / final[entity + '_avg_' + str(time)]\n",
      "/var/folders/ll/h_rnbgns62bcj0skpd2j0ktr0000gp/T/ipykernel_38628/219860616.py:29: PerformanceWarning: DataFrame is highly fragmented.  This is usually the result of calling `frame.insert` many times, which has poor performance.  Consider joining all columns at once using pd.concat(axis=1) instead. To get a de-fragmented frame, use `newframe = frame.copy()`\n",
      "  final[entity + '_actual/max_' + str(time)] = final['Amount'] / final[entity + '_max_' + str(time)]\n",
      "/var/folders/ll/h_rnbgns62bcj0skpd2j0ktr0000gp/T/ipykernel_38628/219860616.py:30: PerformanceWarning: DataFrame is highly fragmented.  This is usually the result of calling `frame.insert` many times, which has poor performance.  Consider joining all columns at once using pd.concat(axis=1) instead. To get a de-fragmented frame, use `newframe = frame.copy()`\n",
      "  final[entity + '_actual/med_' + str(time)] = final['Amount'] / final[entity + '_med_' + str(time)]\n",
      "/var/folders/ll/h_rnbgns62bcj0skpd2j0ktr0000gp/T/ipykernel_38628/219860616.py:31: PerformanceWarning: DataFrame is highly fragmented.  This is usually the result of calling `frame.insert` many times, which has poor performance.  Consider joining all columns at once using pd.concat(axis=1) instead. To get a de-fragmented frame, use `newframe = frame.copy()`\n",
      "  final[entity + '_actual/toal_' + str(time)] = final['Amount'] / final[entity + '_total_' + str(time)]\n"
     ]
    },
    {
     "name": "stdout",
     "output_type": "stream",
     "text": [
      "Merchnum_dow amount variables over past 30 ---> Done\n",
      "Run time for the last entity ----------------- 4.097287625000035s\n"
     ]
    },
    {
     "name": "stderr",
     "output_type": "stream",
     "text": [
      "/var/folders/ll/h_rnbgns62bcj0skpd2j0ktr0000gp/T/ipykernel_38628/219860616.py:13: PerformanceWarning: DataFrame is highly fragmented.  This is usually the result of calling `frame.insert` many times, which has poor performance.  Consider joining all columns at once using pd.concat(axis=1) instead. To get a de-fragmented frame, use `newframe = frame.copy()`\n",
      "  final[entity + '_day_since'] = final.Recnum.map(mapper)\n"
     ]
    },
    {
     "name": "stdout",
     "output_type": "stream",
     "text": [
      "\n",
      "Merchdesc_state_day_since ---> Done\n"
     ]
    },
    {
     "name": "stderr",
     "output_type": "stream",
     "text": [
      "/var/folders/ll/h_rnbgns62bcj0skpd2j0ktr0000gp/T/ipykernel_38628/219860616.py:22: PerformanceWarning: DataFrame is highly fragmented.  This is usually the result of calling `frame.insert` many times, which has poor performance.  Consider joining all columns at once using pd.concat(axis=1) instead. To get a de-fragmented frame, use `newframe = frame.copy()`\n",
      "  final[col_name] = final.Recnum.map(mapper2)\n",
      "/var/folders/ll/h_rnbgns62bcj0skpd2j0ktr0000gp/T/ipykernel_38628/219860616.py:24: PerformanceWarning: DataFrame is highly fragmented.  This is usually the result of calling `frame.insert` many times, which has poor performance.  Consider joining all columns at once using pd.concat(axis=1) instead. To get a de-fragmented frame, use `newframe = frame.copy()`\n",
      "  final[entity + '_avg_' + str(time)] = final.Recnum.map(temp2.groupby('Recnum')['Amount'].mean())\n",
      "/var/folders/ll/h_rnbgns62bcj0skpd2j0ktr0000gp/T/ipykernel_38628/219860616.py:25: PerformanceWarning: DataFrame is highly fragmented.  This is usually the result of calling `frame.insert` many times, which has poor performance.  Consider joining all columns at once using pd.concat(axis=1) instead. To get a de-fragmented frame, use `newframe = frame.copy()`\n",
      "  final[entity + '_max_' + str(time)] = final.Recnum.map(temp2.groupby('Recnum')['Amount'].max())\n",
      "/var/folders/ll/h_rnbgns62bcj0skpd2j0ktr0000gp/T/ipykernel_38628/219860616.py:26: PerformanceWarning: DataFrame is highly fragmented.  This is usually the result of calling `frame.insert` many times, which has poor performance.  Consider joining all columns at once using pd.concat(axis=1) instead. To get a de-fragmented frame, use `newframe = frame.copy()`\n",
      "  final[entity + '_med_' + str(time)] = final.Recnum.map(temp2.groupby('Recnum')['Amount'].median())\n",
      "/var/folders/ll/h_rnbgns62bcj0skpd2j0ktr0000gp/T/ipykernel_38628/219860616.py:27: PerformanceWarning: DataFrame is highly fragmented.  This is usually the result of calling `frame.insert` many times, which has poor performance.  Consider joining all columns at once using pd.concat(axis=1) instead. To get a de-fragmented frame, use `newframe = frame.copy()`\n",
      "  final[entity + '_total_' + str(time)] = final.Recnum.map(temp2.groupby('Recnum')['Amount'].sum())\n",
      "/var/folders/ll/h_rnbgns62bcj0skpd2j0ktr0000gp/T/ipykernel_38628/219860616.py:28: PerformanceWarning: DataFrame is highly fragmented.  This is usually the result of calling `frame.insert` many times, which has poor performance.  Consider joining all columns at once using pd.concat(axis=1) instead. To get a de-fragmented frame, use `newframe = frame.copy()`\n",
      "  final[entity + '_actual/avg_' + str(time)] = final['Amount'] / final[entity + '_avg_' + str(time)]\n",
      "/var/folders/ll/h_rnbgns62bcj0skpd2j0ktr0000gp/T/ipykernel_38628/219860616.py:29: PerformanceWarning: DataFrame is highly fragmented.  This is usually the result of calling `frame.insert` many times, which has poor performance.  Consider joining all columns at once using pd.concat(axis=1) instead. To get a de-fragmented frame, use `newframe = frame.copy()`\n",
      "  final[entity + '_actual/max_' + str(time)] = final['Amount'] / final[entity + '_max_' + str(time)]\n",
      "/var/folders/ll/h_rnbgns62bcj0skpd2j0ktr0000gp/T/ipykernel_38628/219860616.py:30: PerformanceWarning: DataFrame is highly fragmented.  This is usually the result of calling `frame.insert` many times, which has poor performance.  Consider joining all columns at once using pd.concat(axis=1) instead. To get a de-fragmented frame, use `newframe = frame.copy()`\n",
      "  final[entity + '_actual/med_' + str(time)] = final['Amount'] / final[entity + '_med_' + str(time)]\n",
      "/var/folders/ll/h_rnbgns62bcj0skpd2j0ktr0000gp/T/ipykernel_38628/219860616.py:31: PerformanceWarning: DataFrame is highly fragmented.  This is usually the result of calling `frame.insert` many times, which has poor performance.  Consider joining all columns at once using pd.concat(axis=1) instead. To get a de-fragmented frame, use `newframe = frame.copy()`\n",
      "  final[entity + '_actual/toal_' + str(time)] = final['Amount'] / final[entity + '_total_' + str(time)]\n"
     ]
    },
    {
     "name": "stdout",
     "output_type": "stream",
     "text": [
      "Merchdesc_state_count_0 ---> Done\n",
      "Merchdesc_state amount variables over past 0 ---> Done\n"
     ]
    },
    {
     "name": "stderr",
     "output_type": "stream",
     "text": [
      "/var/folders/ll/h_rnbgns62bcj0skpd2j0ktr0000gp/T/ipykernel_38628/219860616.py:22: PerformanceWarning: DataFrame is highly fragmented.  This is usually the result of calling `frame.insert` many times, which has poor performance.  Consider joining all columns at once using pd.concat(axis=1) instead. To get a de-fragmented frame, use `newframe = frame.copy()`\n",
      "  final[col_name] = final.Recnum.map(mapper2)\n",
      "/var/folders/ll/h_rnbgns62bcj0skpd2j0ktr0000gp/T/ipykernel_38628/219860616.py:24: PerformanceWarning: DataFrame is highly fragmented.  This is usually the result of calling `frame.insert` many times, which has poor performance.  Consider joining all columns at once using pd.concat(axis=1) instead. To get a de-fragmented frame, use `newframe = frame.copy()`\n",
      "  final[entity + '_avg_' + str(time)] = final.Recnum.map(temp2.groupby('Recnum')['Amount'].mean())\n",
      "/var/folders/ll/h_rnbgns62bcj0skpd2j0ktr0000gp/T/ipykernel_38628/219860616.py:25: PerformanceWarning: DataFrame is highly fragmented.  This is usually the result of calling `frame.insert` many times, which has poor performance.  Consider joining all columns at once using pd.concat(axis=1) instead. To get a de-fragmented frame, use `newframe = frame.copy()`\n",
      "  final[entity + '_max_' + str(time)] = final.Recnum.map(temp2.groupby('Recnum')['Amount'].max())\n",
      "/var/folders/ll/h_rnbgns62bcj0skpd2j0ktr0000gp/T/ipykernel_38628/219860616.py:26: PerformanceWarning: DataFrame is highly fragmented.  This is usually the result of calling `frame.insert` many times, which has poor performance.  Consider joining all columns at once using pd.concat(axis=1) instead. To get a de-fragmented frame, use `newframe = frame.copy()`\n",
      "  final[entity + '_med_' + str(time)] = final.Recnum.map(temp2.groupby('Recnum')['Amount'].median())\n",
      "/var/folders/ll/h_rnbgns62bcj0skpd2j0ktr0000gp/T/ipykernel_38628/219860616.py:27: PerformanceWarning: DataFrame is highly fragmented.  This is usually the result of calling `frame.insert` many times, which has poor performance.  Consider joining all columns at once using pd.concat(axis=1) instead. To get a de-fragmented frame, use `newframe = frame.copy()`\n",
      "  final[entity + '_total_' + str(time)] = final.Recnum.map(temp2.groupby('Recnum')['Amount'].sum())\n",
      "/var/folders/ll/h_rnbgns62bcj0skpd2j0ktr0000gp/T/ipykernel_38628/219860616.py:28: PerformanceWarning: DataFrame is highly fragmented.  This is usually the result of calling `frame.insert` many times, which has poor performance.  Consider joining all columns at once using pd.concat(axis=1) instead. To get a de-fragmented frame, use `newframe = frame.copy()`\n",
      "  final[entity + '_actual/avg_' + str(time)] = final['Amount'] / final[entity + '_avg_' + str(time)]\n",
      "/var/folders/ll/h_rnbgns62bcj0skpd2j0ktr0000gp/T/ipykernel_38628/219860616.py:29: PerformanceWarning: DataFrame is highly fragmented.  This is usually the result of calling `frame.insert` many times, which has poor performance.  Consider joining all columns at once using pd.concat(axis=1) instead. To get a de-fragmented frame, use `newframe = frame.copy()`\n",
      "  final[entity + '_actual/max_' + str(time)] = final['Amount'] / final[entity + '_max_' + str(time)]\n",
      "/var/folders/ll/h_rnbgns62bcj0skpd2j0ktr0000gp/T/ipykernel_38628/219860616.py:30: PerformanceWarning: DataFrame is highly fragmented.  This is usually the result of calling `frame.insert` many times, which has poor performance.  Consider joining all columns at once using pd.concat(axis=1) instead. To get a de-fragmented frame, use `newframe = frame.copy()`\n",
      "  final[entity + '_actual/med_' + str(time)] = final['Amount'] / final[entity + '_med_' + str(time)]\n",
      "/var/folders/ll/h_rnbgns62bcj0skpd2j0ktr0000gp/T/ipykernel_38628/219860616.py:31: PerformanceWarning: DataFrame is highly fragmented.  This is usually the result of calling `frame.insert` many times, which has poor performance.  Consider joining all columns at once using pd.concat(axis=1) instead. To get a de-fragmented frame, use `newframe = frame.copy()`\n",
      "  final[entity + '_actual/toal_' + str(time)] = final['Amount'] / final[entity + '_total_' + str(time)]\n"
     ]
    },
    {
     "name": "stdout",
     "output_type": "stream",
     "text": [
      "Merchdesc_state_count_1 ---> Done\n",
      "Merchdesc_state amount variables over past 1 ---> Done\n"
     ]
    },
    {
     "name": "stderr",
     "output_type": "stream",
     "text": [
      "/var/folders/ll/h_rnbgns62bcj0skpd2j0ktr0000gp/T/ipykernel_38628/219860616.py:22: PerformanceWarning: DataFrame is highly fragmented.  This is usually the result of calling `frame.insert` many times, which has poor performance.  Consider joining all columns at once using pd.concat(axis=1) instead. To get a de-fragmented frame, use `newframe = frame.copy()`\n",
      "  final[col_name] = final.Recnum.map(mapper2)\n",
      "/var/folders/ll/h_rnbgns62bcj0skpd2j0ktr0000gp/T/ipykernel_38628/219860616.py:24: PerformanceWarning: DataFrame is highly fragmented.  This is usually the result of calling `frame.insert` many times, which has poor performance.  Consider joining all columns at once using pd.concat(axis=1) instead. To get a de-fragmented frame, use `newframe = frame.copy()`\n",
      "  final[entity + '_avg_' + str(time)] = final.Recnum.map(temp2.groupby('Recnum')['Amount'].mean())\n",
      "/var/folders/ll/h_rnbgns62bcj0skpd2j0ktr0000gp/T/ipykernel_38628/219860616.py:25: PerformanceWarning: DataFrame is highly fragmented.  This is usually the result of calling `frame.insert` many times, which has poor performance.  Consider joining all columns at once using pd.concat(axis=1) instead. To get a de-fragmented frame, use `newframe = frame.copy()`\n",
      "  final[entity + '_max_' + str(time)] = final.Recnum.map(temp2.groupby('Recnum')['Amount'].max())\n",
      "/var/folders/ll/h_rnbgns62bcj0skpd2j0ktr0000gp/T/ipykernel_38628/219860616.py:26: PerformanceWarning: DataFrame is highly fragmented.  This is usually the result of calling `frame.insert` many times, which has poor performance.  Consider joining all columns at once using pd.concat(axis=1) instead. To get a de-fragmented frame, use `newframe = frame.copy()`\n",
      "  final[entity + '_med_' + str(time)] = final.Recnum.map(temp2.groupby('Recnum')['Amount'].median())\n",
      "/var/folders/ll/h_rnbgns62bcj0skpd2j0ktr0000gp/T/ipykernel_38628/219860616.py:27: PerformanceWarning: DataFrame is highly fragmented.  This is usually the result of calling `frame.insert` many times, which has poor performance.  Consider joining all columns at once using pd.concat(axis=1) instead. To get a de-fragmented frame, use `newframe = frame.copy()`\n",
      "  final[entity + '_total_' + str(time)] = final.Recnum.map(temp2.groupby('Recnum')['Amount'].sum())\n",
      "/var/folders/ll/h_rnbgns62bcj0skpd2j0ktr0000gp/T/ipykernel_38628/219860616.py:28: PerformanceWarning: DataFrame is highly fragmented.  This is usually the result of calling `frame.insert` many times, which has poor performance.  Consider joining all columns at once using pd.concat(axis=1) instead. To get a de-fragmented frame, use `newframe = frame.copy()`\n",
      "  final[entity + '_actual/avg_' + str(time)] = final['Amount'] / final[entity + '_avg_' + str(time)]\n",
      "/var/folders/ll/h_rnbgns62bcj0skpd2j0ktr0000gp/T/ipykernel_38628/219860616.py:29: PerformanceWarning: DataFrame is highly fragmented.  This is usually the result of calling `frame.insert` many times, which has poor performance.  Consider joining all columns at once using pd.concat(axis=1) instead. To get a de-fragmented frame, use `newframe = frame.copy()`\n",
      "  final[entity + '_actual/max_' + str(time)] = final['Amount'] / final[entity + '_max_' + str(time)]\n",
      "/var/folders/ll/h_rnbgns62bcj0skpd2j0ktr0000gp/T/ipykernel_38628/219860616.py:30: PerformanceWarning: DataFrame is highly fragmented.  This is usually the result of calling `frame.insert` many times, which has poor performance.  Consider joining all columns at once using pd.concat(axis=1) instead. To get a de-fragmented frame, use `newframe = frame.copy()`\n",
      "  final[entity + '_actual/med_' + str(time)] = final['Amount'] / final[entity + '_med_' + str(time)]\n",
      "/var/folders/ll/h_rnbgns62bcj0skpd2j0ktr0000gp/T/ipykernel_38628/219860616.py:31: PerformanceWarning: DataFrame is highly fragmented.  This is usually the result of calling `frame.insert` many times, which has poor performance.  Consider joining all columns at once using pd.concat(axis=1) instead. To get a de-fragmented frame, use `newframe = frame.copy()`\n",
      "  final[entity + '_actual/toal_' + str(time)] = final['Amount'] / final[entity + '_total_' + str(time)]\n"
     ]
    },
    {
     "name": "stdout",
     "output_type": "stream",
     "text": [
      "Merchdesc_state_count_3 ---> Done\n",
      "Merchdesc_state amount variables over past 3 ---> Done\n"
     ]
    },
    {
     "name": "stderr",
     "output_type": "stream",
     "text": [
      "/var/folders/ll/h_rnbgns62bcj0skpd2j0ktr0000gp/T/ipykernel_38628/219860616.py:22: PerformanceWarning: DataFrame is highly fragmented.  This is usually the result of calling `frame.insert` many times, which has poor performance.  Consider joining all columns at once using pd.concat(axis=1) instead. To get a de-fragmented frame, use `newframe = frame.copy()`\n",
      "  final[col_name] = final.Recnum.map(mapper2)\n",
      "/var/folders/ll/h_rnbgns62bcj0skpd2j0ktr0000gp/T/ipykernel_38628/219860616.py:24: PerformanceWarning: DataFrame is highly fragmented.  This is usually the result of calling `frame.insert` many times, which has poor performance.  Consider joining all columns at once using pd.concat(axis=1) instead. To get a de-fragmented frame, use `newframe = frame.copy()`\n",
      "  final[entity + '_avg_' + str(time)] = final.Recnum.map(temp2.groupby('Recnum')['Amount'].mean())\n",
      "/var/folders/ll/h_rnbgns62bcj0skpd2j0ktr0000gp/T/ipykernel_38628/219860616.py:25: PerformanceWarning: DataFrame is highly fragmented.  This is usually the result of calling `frame.insert` many times, which has poor performance.  Consider joining all columns at once using pd.concat(axis=1) instead. To get a de-fragmented frame, use `newframe = frame.copy()`\n",
      "  final[entity + '_max_' + str(time)] = final.Recnum.map(temp2.groupby('Recnum')['Amount'].max())\n",
      "/var/folders/ll/h_rnbgns62bcj0skpd2j0ktr0000gp/T/ipykernel_38628/219860616.py:26: PerformanceWarning: DataFrame is highly fragmented.  This is usually the result of calling `frame.insert` many times, which has poor performance.  Consider joining all columns at once using pd.concat(axis=1) instead. To get a de-fragmented frame, use `newframe = frame.copy()`\n",
      "  final[entity + '_med_' + str(time)] = final.Recnum.map(temp2.groupby('Recnum')['Amount'].median())\n",
      "/var/folders/ll/h_rnbgns62bcj0skpd2j0ktr0000gp/T/ipykernel_38628/219860616.py:27: PerformanceWarning: DataFrame is highly fragmented.  This is usually the result of calling `frame.insert` many times, which has poor performance.  Consider joining all columns at once using pd.concat(axis=1) instead. To get a de-fragmented frame, use `newframe = frame.copy()`\n",
      "  final[entity + '_total_' + str(time)] = final.Recnum.map(temp2.groupby('Recnum')['Amount'].sum())\n",
      "/var/folders/ll/h_rnbgns62bcj0skpd2j0ktr0000gp/T/ipykernel_38628/219860616.py:28: PerformanceWarning: DataFrame is highly fragmented.  This is usually the result of calling `frame.insert` many times, which has poor performance.  Consider joining all columns at once using pd.concat(axis=1) instead. To get a de-fragmented frame, use `newframe = frame.copy()`\n",
      "  final[entity + '_actual/avg_' + str(time)] = final['Amount'] / final[entity + '_avg_' + str(time)]\n",
      "/var/folders/ll/h_rnbgns62bcj0skpd2j0ktr0000gp/T/ipykernel_38628/219860616.py:29: PerformanceWarning: DataFrame is highly fragmented.  This is usually the result of calling `frame.insert` many times, which has poor performance.  Consider joining all columns at once using pd.concat(axis=1) instead. To get a de-fragmented frame, use `newframe = frame.copy()`\n",
      "  final[entity + '_actual/max_' + str(time)] = final['Amount'] / final[entity + '_max_' + str(time)]\n",
      "/var/folders/ll/h_rnbgns62bcj0skpd2j0ktr0000gp/T/ipykernel_38628/219860616.py:30: PerformanceWarning: DataFrame is highly fragmented.  This is usually the result of calling `frame.insert` many times, which has poor performance.  Consider joining all columns at once using pd.concat(axis=1) instead. To get a de-fragmented frame, use `newframe = frame.copy()`\n",
      "  final[entity + '_actual/med_' + str(time)] = final['Amount'] / final[entity + '_med_' + str(time)]\n",
      "/var/folders/ll/h_rnbgns62bcj0skpd2j0ktr0000gp/T/ipykernel_38628/219860616.py:31: PerformanceWarning: DataFrame is highly fragmented.  This is usually the result of calling `frame.insert` many times, which has poor performance.  Consider joining all columns at once using pd.concat(axis=1) instead. To get a de-fragmented frame, use `newframe = frame.copy()`\n",
      "  final[entity + '_actual/toal_' + str(time)] = final['Amount'] / final[entity + '_total_' + str(time)]\n"
     ]
    },
    {
     "name": "stdout",
     "output_type": "stream",
     "text": [
      "Merchdesc_state_count_7 ---> Done\n",
      "Merchdesc_state amount variables over past 7 ---> Done\n"
     ]
    },
    {
     "name": "stderr",
     "output_type": "stream",
     "text": [
      "/var/folders/ll/h_rnbgns62bcj0skpd2j0ktr0000gp/T/ipykernel_38628/219860616.py:22: PerformanceWarning: DataFrame is highly fragmented.  This is usually the result of calling `frame.insert` many times, which has poor performance.  Consider joining all columns at once using pd.concat(axis=1) instead. To get a de-fragmented frame, use `newframe = frame.copy()`\n",
      "  final[col_name] = final.Recnum.map(mapper2)\n",
      "/var/folders/ll/h_rnbgns62bcj0skpd2j0ktr0000gp/T/ipykernel_38628/219860616.py:24: PerformanceWarning: DataFrame is highly fragmented.  This is usually the result of calling `frame.insert` many times, which has poor performance.  Consider joining all columns at once using pd.concat(axis=1) instead. To get a de-fragmented frame, use `newframe = frame.copy()`\n",
      "  final[entity + '_avg_' + str(time)] = final.Recnum.map(temp2.groupby('Recnum')['Amount'].mean())\n",
      "/var/folders/ll/h_rnbgns62bcj0skpd2j0ktr0000gp/T/ipykernel_38628/219860616.py:25: PerformanceWarning: DataFrame is highly fragmented.  This is usually the result of calling `frame.insert` many times, which has poor performance.  Consider joining all columns at once using pd.concat(axis=1) instead. To get a de-fragmented frame, use `newframe = frame.copy()`\n",
      "  final[entity + '_max_' + str(time)] = final.Recnum.map(temp2.groupby('Recnum')['Amount'].max())\n",
      "/var/folders/ll/h_rnbgns62bcj0skpd2j0ktr0000gp/T/ipykernel_38628/219860616.py:26: PerformanceWarning: DataFrame is highly fragmented.  This is usually the result of calling `frame.insert` many times, which has poor performance.  Consider joining all columns at once using pd.concat(axis=1) instead. To get a de-fragmented frame, use `newframe = frame.copy()`\n",
      "  final[entity + '_med_' + str(time)] = final.Recnum.map(temp2.groupby('Recnum')['Amount'].median())\n",
      "/var/folders/ll/h_rnbgns62bcj0skpd2j0ktr0000gp/T/ipykernel_38628/219860616.py:27: PerformanceWarning: DataFrame is highly fragmented.  This is usually the result of calling `frame.insert` many times, which has poor performance.  Consider joining all columns at once using pd.concat(axis=1) instead. To get a de-fragmented frame, use `newframe = frame.copy()`\n",
      "  final[entity + '_total_' + str(time)] = final.Recnum.map(temp2.groupby('Recnum')['Amount'].sum())\n",
      "/var/folders/ll/h_rnbgns62bcj0skpd2j0ktr0000gp/T/ipykernel_38628/219860616.py:28: PerformanceWarning: DataFrame is highly fragmented.  This is usually the result of calling `frame.insert` many times, which has poor performance.  Consider joining all columns at once using pd.concat(axis=1) instead. To get a de-fragmented frame, use `newframe = frame.copy()`\n",
      "  final[entity + '_actual/avg_' + str(time)] = final['Amount'] / final[entity + '_avg_' + str(time)]\n",
      "/var/folders/ll/h_rnbgns62bcj0skpd2j0ktr0000gp/T/ipykernel_38628/219860616.py:29: PerformanceWarning: DataFrame is highly fragmented.  This is usually the result of calling `frame.insert` many times, which has poor performance.  Consider joining all columns at once using pd.concat(axis=1) instead. To get a de-fragmented frame, use `newframe = frame.copy()`\n",
      "  final[entity + '_actual/max_' + str(time)] = final['Amount'] / final[entity + '_max_' + str(time)]\n",
      "/var/folders/ll/h_rnbgns62bcj0skpd2j0ktr0000gp/T/ipykernel_38628/219860616.py:30: PerformanceWarning: DataFrame is highly fragmented.  This is usually the result of calling `frame.insert` many times, which has poor performance.  Consider joining all columns at once using pd.concat(axis=1) instead. To get a de-fragmented frame, use `newframe = frame.copy()`\n",
      "  final[entity + '_actual/med_' + str(time)] = final['Amount'] / final[entity + '_med_' + str(time)]\n",
      "/var/folders/ll/h_rnbgns62bcj0skpd2j0ktr0000gp/T/ipykernel_38628/219860616.py:31: PerformanceWarning: DataFrame is highly fragmented.  This is usually the result of calling `frame.insert` many times, which has poor performance.  Consider joining all columns at once using pd.concat(axis=1) instead. To get a de-fragmented frame, use `newframe = frame.copy()`\n",
      "  final[entity + '_actual/toal_' + str(time)] = final['Amount'] / final[entity + '_total_' + str(time)]\n"
     ]
    },
    {
     "name": "stdout",
     "output_type": "stream",
     "text": [
      "Merchdesc_state_count_14 ---> Done\n",
      "Merchdesc_state amount variables over past 14 ---> Done\n"
     ]
    },
    {
     "name": "stderr",
     "output_type": "stream",
     "text": [
      "/var/folders/ll/h_rnbgns62bcj0skpd2j0ktr0000gp/T/ipykernel_38628/219860616.py:22: PerformanceWarning: DataFrame is highly fragmented.  This is usually the result of calling `frame.insert` many times, which has poor performance.  Consider joining all columns at once using pd.concat(axis=1) instead. To get a de-fragmented frame, use `newframe = frame.copy()`\n",
      "  final[col_name] = final.Recnum.map(mapper2)\n",
      "/var/folders/ll/h_rnbgns62bcj0skpd2j0ktr0000gp/T/ipykernel_38628/219860616.py:24: PerformanceWarning: DataFrame is highly fragmented.  This is usually the result of calling `frame.insert` many times, which has poor performance.  Consider joining all columns at once using pd.concat(axis=1) instead. To get a de-fragmented frame, use `newframe = frame.copy()`\n",
      "  final[entity + '_avg_' + str(time)] = final.Recnum.map(temp2.groupby('Recnum')['Amount'].mean())\n",
      "/var/folders/ll/h_rnbgns62bcj0skpd2j0ktr0000gp/T/ipykernel_38628/219860616.py:25: PerformanceWarning: DataFrame is highly fragmented.  This is usually the result of calling `frame.insert` many times, which has poor performance.  Consider joining all columns at once using pd.concat(axis=1) instead. To get a de-fragmented frame, use `newframe = frame.copy()`\n",
      "  final[entity + '_max_' + str(time)] = final.Recnum.map(temp2.groupby('Recnum')['Amount'].max())\n",
      "/var/folders/ll/h_rnbgns62bcj0skpd2j0ktr0000gp/T/ipykernel_38628/219860616.py:26: PerformanceWarning: DataFrame is highly fragmented.  This is usually the result of calling `frame.insert` many times, which has poor performance.  Consider joining all columns at once using pd.concat(axis=1) instead. To get a de-fragmented frame, use `newframe = frame.copy()`\n",
      "  final[entity + '_med_' + str(time)] = final.Recnum.map(temp2.groupby('Recnum')['Amount'].median())\n",
      "/var/folders/ll/h_rnbgns62bcj0skpd2j0ktr0000gp/T/ipykernel_38628/219860616.py:27: PerformanceWarning: DataFrame is highly fragmented.  This is usually the result of calling `frame.insert` many times, which has poor performance.  Consider joining all columns at once using pd.concat(axis=1) instead. To get a de-fragmented frame, use `newframe = frame.copy()`\n",
      "  final[entity + '_total_' + str(time)] = final.Recnum.map(temp2.groupby('Recnum')['Amount'].sum())\n",
      "/var/folders/ll/h_rnbgns62bcj0skpd2j0ktr0000gp/T/ipykernel_38628/219860616.py:28: PerformanceWarning: DataFrame is highly fragmented.  This is usually the result of calling `frame.insert` many times, which has poor performance.  Consider joining all columns at once using pd.concat(axis=1) instead. To get a de-fragmented frame, use `newframe = frame.copy()`\n",
      "  final[entity + '_actual/avg_' + str(time)] = final['Amount'] / final[entity + '_avg_' + str(time)]\n",
      "/var/folders/ll/h_rnbgns62bcj0skpd2j0ktr0000gp/T/ipykernel_38628/219860616.py:29: PerformanceWarning: DataFrame is highly fragmented.  This is usually the result of calling `frame.insert` many times, which has poor performance.  Consider joining all columns at once using pd.concat(axis=1) instead. To get a de-fragmented frame, use `newframe = frame.copy()`\n",
      "  final[entity + '_actual/max_' + str(time)] = final['Amount'] / final[entity + '_max_' + str(time)]\n",
      "/var/folders/ll/h_rnbgns62bcj0skpd2j0ktr0000gp/T/ipykernel_38628/219860616.py:30: PerformanceWarning: DataFrame is highly fragmented.  This is usually the result of calling `frame.insert` many times, which has poor performance.  Consider joining all columns at once using pd.concat(axis=1) instead. To get a de-fragmented frame, use `newframe = frame.copy()`\n",
      "  final[entity + '_actual/med_' + str(time)] = final['Amount'] / final[entity + '_med_' + str(time)]\n",
      "/var/folders/ll/h_rnbgns62bcj0skpd2j0ktr0000gp/T/ipykernel_38628/219860616.py:31: PerformanceWarning: DataFrame is highly fragmented.  This is usually the result of calling `frame.insert` many times, which has poor performance.  Consider joining all columns at once using pd.concat(axis=1) instead. To get a de-fragmented frame, use `newframe = frame.copy()`\n",
      "  final[entity + '_actual/toal_' + str(time)] = final['Amount'] / final[entity + '_total_' + str(time)]\n"
     ]
    },
    {
     "name": "stdout",
     "output_type": "stream",
     "text": [
      "Merchdesc_state_count_30 ---> Done\n",
      "Merchdesc_state amount variables over past 30 ---> Done\n",
      "Run time for the last entity ----------------- 3.5047407080000994s\n"
     ]
    },
    {
     "name": "stderr",
     "output_type": "stream",
     "text": [
      "/var/folders/ll/h_rnbgns62bcj0skpd2j0ktr0000gp/T/ipykernel_38628/219860616.py:13: PerformanceWarning: DataFrame is highly fragmented.  This is usually the result of calling `frame.insert` many times, which has poor performance.  Consider joining all columns at once using pd.concat(axis=1) instead. To get a de-fragmented frame, use `newframe = frame.copy()`\n",
      "  final[entity + '_day_since'] = final.Recnum.map(mapper)\n",
      "/var/folders/ll/h_rnbgns62bcj0skpd2j0ktr0000gp/T/ipykernel_38628/219860616.py:22: PerformanceWarning: DataFrame is highly fragmented.  This is usually the result of calling `frame.insert` many times, which has poor performance.  Consider joining all columns at once using pd.concat(axis=1) instead. To get a de-fragmented frame, use `newframe = frame.copy()`\n",
      "  final[col_name] = final.Recnum.map(mapper2)\n"
     ]
    },
    {
     "name": "stdout",
     "output_type": "stream",
     "text": [
      "\n",
      "Merchnum_desc_day_since ---> Done\n",
      "Merchnum_desc_count_0 ---> Done\n"
     ]
    },
    {
     "name": "stderr",
     "output_type": "stream",
     "text": [
      "/var/folders/ll/h_rnbgns62bcj0skpd2j0ktr0000gp/T/ipykernel_38628/219860616.py:24: PerformanceWarning: DataFrame is highly fragmented.  This is usually the result of calling `frame.insert` many times, which has poor performance.  Consider joining all columns at once using pd.concat(axis=1) instead. To get a de-fragmented frame, use `newframe = frame.copy()`\n",
      "  final[entity + '_avg_' + str(time)] = final.Recnum.map(temp2.groupby('Recnum')['Amount'].mean())\n",
      "/var/folders/ll/h_rnbgns62bcj0skpd2j0ktr0000gp/T/ipykernel_38628/219860616.py:25: PerformanceWarning: DataFrame is highly fragmented.  This is usually the result of calling `frame.insert` many times, which has poor performance.  Consider joining all columns at once using pd.concat(axis=1) instead. To get a de-fragmented frame, use `newframe = frame.copy()`\n",
      "  final[entity + '_max_' + str(time)] = final.Recnum.map(temp2.groupby('Recnum')['Amount'].max())\n",
      "/var/folders/ll/h_rnbgns62bcj0skpd2j0ktr0000gp/T/ipykernel_38628/219860616.py:26: PerformanceWarning: DataFrame is highly fragmented.  This is usually the result of calling `frame.insert` many times, which has poor performance.  Consider joining all columns at once using pd.concat(axis=1) instead. To get a de-fragmented frame, use `newframe = frame.copy()`\n",
      "  final[entity + '_med_' + str(time)] = final.Recnum.map(temp2.groupby('Recnum')['Amount'].median())\n",
      "/var/folders/ll/h_rnbgns62bcj0skpd2j0ktr0000gp/T/ipykernel_38628/219860616.py:27: PerformanceWarning: DataFrame is highly fragmented.  This is usually the result of calling `frame.insert` many times, which has poor performance.  Consider joining all columns at once using pd.concat(axis=1) instead. To get a de-fragmented frame, use `newframe = frame.copy()`\n",
      "  final[entity + '_total_' + str(time)] = final.Recnum.map(temp2.groupby('Recnum')['Amount'].sum())\n",
      "/var/folders/ll/h_rnbgns62bcj0skpd2j0ktr0000gp/T/ipykernel_38628/219860616.py:28: PerformanceWarning: DataFrame is highly fragmented.  This is usually the result of calling `frame.insert` many times, which has poor performance.  Consider joining all columns at once using pd.concat(axis=1) instead. To get a de-fragmented frame, use `newframe = frame.copy()`\n",
      "  final[entity + '_actual/avg_' + str(time)] = final['Amount'] / final[entity + '_avg_' + str(time)]\n",
      "/var/folders/ll/h_rnbgns62bcj0skpd2j0ktr0000gp/T/ipykernel_38628/219860616.py:29: PerformanceWarning: DataFrame is highly fragmented.  This is usually the result of calling `frame.insert` many times, which has poor performance.  Consider joining all columns at once using pd.concat(axis=1) instead. To get a de-fragmented frame, use `newframe = frame.copy()`\n",
      "  final[entity + '_actual/max_' + str(time)] = final['Amount'] / final[entity + '_max_' + str(time)]\n",
      "/var/folders/ll/h_rnbgns62bcj0skpd2j0ktr0000gp/T/ipykernel_38628/219860616.py:30: PerformanceWarning: DataFrame is highly fragmented.  This is usually the result of calling `frame.insert` many times, which has poor performance.  Consider joining all columns at once using pd.concat(axis=1) instead. To get a de-fragmented frame, use `newframe = frame.copy()`\n",
      "  final[entity + '_actual/med_' + str(time)] = final['Amount'] / final[entity + '_med_' + str(time)]\n",
      "/var/folders/ll/h_rnbgns62bcj0skpd2j0ktr0000gp/T/ipykernel_38628/219860616.py:31: PerformanceWarning: DataFrame is highly fragmented.  This is usually the result of calling `frame.insert` many times, which has poor performance.  Consider joining all columns at once using pd.concat(axis=1) instead. To get a de-fragmented frame, use `newframe = frame.copy()`\n",
      "  final[entity + '_actual/toal_' + str(time)] = final['Amount'] / final[entity + '_total_' + str(time)]\n"
     ]
    },
    {
     "name": "stdout",
     "output_type": "stream",
     "text": [
      "Merchnum_desc amount variables over past 0 ---> Done\n",
      "Merchnum_desc_count_1 ---> Done\n"
     ]
    },
    {
     "name": "stderr",
     "output_type": "stream",
     "text": [
      "/var/folders/ll/h_rnbgns62bcj0skpd2j0ktr0000gp/T/ipykernel_38628/219860616.py:22: PerformanceWarning: DataFrame is highly fragmented.  This is usually the result of calling `frame.insert` many times, which has poor performance.  Consider joining all columns at once using pd.concat(axis=1) instead. To get a de-fragmented frame, use `newframe = frame.copy()`\n",
      "  final[col_name] = final.Recnum.map(mapper2)\n",
      "/var/folders/ll/h_rnbgns62bcj0skpd2j0ktr0000gp/T/ipykernel_38628/219860616.py:24: PerformanceWarning: DataFrame is highly fragmented.  This is usually the result of calling `frame.insert` many times, which has poor performance.  Consider joining all columns at once using pd.concat(axis=1) instead. To get a de-fragmented frame, use `newframe = frame.copy()`\n",
      "  final[entity + '_avg_' + str(time)] = final.Recnum.map(temp2.groupby('Recnum')['Amount'].mean())\n",
      "/var/folders/ll/h_rnbgns62bcj0skpd2j0ktr0000gp/T/ipykernel_38628/219860616.py:25: PerformanceWarning: DataFrame is highly fragmented.  This is usually the result of calling `frame.insert` many times, which has poor performance.  Consider joining all columns at once using pd.concat(axis=1) instead. To get a de-fragmented frame, use `newframe = frame.copy()`\n",
      "  final[entity + '_max_' + str(time)] = final.Recnum.map(temp2.groupby('Recnum')['Amount'].max())\n",
      "/var/folders/ll/h_rnbgns62bcj0skpd2j0ktr0000gp/T/ipykernel_38628/219860616.py:26: PerformanceWarning: DataFrame is highly fragmented.  This is usually the result of calling `frame.insert` many times, which has poor performance.  Consider joining all columns at once using pd.concat(axis=1) instead. To get a de-fragmented frame, use `newframe = frame.copy()`\n",
      "  final[entity + '_med_' + str(time)] = final.Recnum.map(temp2.groupby('Recnum')['Amount'].median())\n",
      "/var/folders/ll/h_rnbgns62bcj0skpd2j0ktr0000gp/T/ipykernel_38628/219860616.py:27: PerformanceWarning: DataFrame is highly fragmented.  This is usually the result of calling `frame.insert` many times, which has poor performance.  Consider joining all columns at once using pd.concat(axis=1) instead. To get a de-fragmented frame, use `newframe = frame.copy()`\n",
      "  final[entity + '_total_' + str(time)] = final.Recnum.map(temp2.groupby('Recnum')['Amount'].sum())\n",
      "/var/folders/ll/h_rnbgns62bcj0skpd2j0ktr0000gp/T/ipykernel_38628/219860616.py:28: PerformanceWarning: DataFrame is highly fragmented.  This is usually the result of calling `frame.insert` many times, which has poor performance.  Consider joining all columns at once using pd.concat(axis=1) instead. To get a de-fragmented frame, use `newframe = frame.copy()`\n",
      "  final[entity + '_actual/avg_' + str(time)] = final['Amount'] / final[entity + '_avg_' + str(time)]\n",
      "/var/folders/ll/h_rnbgns62bcj0skpd2j0ktr0000gp/T/ipykernel_38628/219860616.py:29: PerformanceWarning: DataFrame is highly fragmented.  This is usually the result of calling `frame.insert` many times, which has poor performance.  Consider joining all columns at once using pd.concat(axis=1) instead. To get a de-fragmented frame, use `newframe = frame.copy()`\n",
      "  final[entity + '_actual/max_' + str(time)] = final['Amount'] / final[entity + '_max_' + str(time)]\n",
      "/var/folders/ll/h_rnbgns62bcj0skpd2j0ktr0000gp/T/ipykernel_38628/219860616.py:30: PerformanceWarning: DataFrame is highly fragmented.  This is usually the result of calling `frame.insert` many times, which has poor performance.  Consider joining all columns at once using pd.concat(axis=1) instead. To get a de-fragmented frame, use `newframe = frame.copy()`\n",
      "  final[entity + '_actual/med_' + str(time)] = final['Amount'] / final[entity + '_med_' + str(time)]\n",
      "/var/folders/ll/h_rnbgns62bcj0skpd2j0ktr0000gp/T/ipykernel_38628/219860616.py:31: PerformanceWarning: DataFrame is highly fragmented.  This is usually the result of calling `frame.insert` many times, which has poor performance.  Consider joining all columns at once using pd.concat(axis=1) instead. To get a de-fragmented frame, use `newframe = frame.copy()`\n",
      "  final[entity + '_actual/toal_' + str(time)] = final['Amount'] / final[entity + '_total_' + str(time)]\n"
     ]
    },
    {
     "name": "stdout",
     "output_type": "stream",
     "text": [
      "Merchnum_desc amount variables over past 1 ---> Done\n",
      "Merchnum_desc_count_3 ---> Done\n"
     ]
    },
    {
     "name": "stderr",
     "output_type": "stream",
     "text": [
      "/var/folders/ll/h_rnbgns62bcj0skpd2j0ktr0000gp/T/ipykernel_38628/219860616.py:22: PerformanceWarning: DataFrame is highly fragmented.  This is usually the result of calling `frame.insert` many times, which has poor performance.  Consider joining all columns at once using pd.concat(axis=1) instead. To get a de-fragmented frame, use `newframe = frame.copy()`\n",
      "  final[col_name] = final.Recnum.map(mapper2)\n",
      "/var/folders/ll/h_rnbgns62bcj0skpd2j0ktr0000gp/T/ipykernel_38628/219860616.py:24: PerformanceWarning: DataFrame is highly fragmented.  This is usually the result of calling `frame.insert` many times, which has poor performance.  Consider joining all columns at once using pd.concat(axis=1) instead. To get a de-fragmented frame, use `newframe = frame.copy()`\n",
      "  final[entity + '_avg_' + str(time)] = final.Recnum.map(temp2.groupby('Recnum')['Amount'].mean())\n",
      "/var/folders/ll/h_rnbgns62bcj0skpd2j0ktr0000gp/T/ipykernel_38628/219860616.py:25: PerformanceWarning: DataFrame is highly fragmented.  This is usually the result of calling `frame.insert` many times, which has poor performance.  Consider joining all columns at once using pd.concat(axis=1) instead. To get a de-fragmented frame, use `newframe = frame.copy()`\n",
      "  final[entity + '_max_' + str(time)] = final.Recnum.map(temp2.groupby('Recnum')['Amount'].max())\n",
      "/var/folders/ll/h_rnbgns62bcj0skpd2j0ktr0000gp/T/ipykernel_38628/219860616.py:26: PerformanceWarning: DataFrame is highly fragmented.  This is usually the result of calling `frame.insert` many times, which has poor performance.  Consider joining all columns at once using pd.concat(axis=1) instead. To get a de-fragmented frame, use `newframe = frame.copy()`\n",
      "  final[entity + '_med_' + str(time)] = final.Recnum.map(temp2.groupby('Recnum')['Amount'].median())\n",
      "/var/folders/ll/h_rnbgns62bcj0skpd2j0ktr0000gp/T/ipykernel_38628/219860616.py:27: PerformanceWarning: DataFrame is highly fragmented.  This is usually the result of calling `frame.insert` many times, which has poor performance.  Consider joining all columns at once using pd.concat(axis=1) instead. To get a de-fragmented frame, use `newframe = frame.copy()`\n",
      "  final[entity + '_total_' + str(time)] = final.Recnum.map(temp2.groupby('Recnum')['Amount'].sum())\n",
      "/var/folders/ll/h_rnbgns62bcj0skpd2j0ktr0000gp/T/ipykernel_38628/219860616.py:28: PerformanceWarning: DataFrame is highly fragmented.  This is usually the result of calling `frame.insert` many times, which has poor performance.  Consider joining all columns at once using pd.concat(axis=1) instead. To get a de-fragmented frame, use `newframe = frame.copy()`\n",
      "  final[entity + '_actual/avg_' + str(time)] = final['Amount'] / final[entity + '_avg_' + str(time)]\n",
      "/var/folders/ll/h_rnbgns62bcj0skpd2j0ktr0000gp/T/ipykernel_38628/219860616.py:29: PerformanceWarning: DataFrame is highly fragmented.  This is usually the result of calling `frame.insert` many times, which has poor performance.  Consider joining all columns at once using pd.concat(axis=1) instead. To get a de-fragmented frame, use `newframe = frame.copy()`\n",
      "  final[entity + '_actual/max_' + str(time)] = final['Amount'] / final[entity + '_max_' + str(time)]\n",
      "/var/folders/ll/h_rnbgns62bcj0skpd2j0ktr0000gp/T/ipykernel_38628/219860616.py:30: PerformanceWarning: DataFrame is highly fragmented.  This is usually the result of calling `frame.insert` many times, which has poor performance.  Consider joining all columns at once using pd.concat(axis=1) instead. To get a de-fragmented frame, use `newframe = frame.copy()`\n",
      "  final[entity + '_actual/med_' + str(time)] = final['Amount'] / final[entity + '_med_' + str(time)]\n",
      "/var/folders/ll/h_rnbgns62bcj0skpd2j0ktr0000gp/T/ipykernel_38628/219860616.py:31: PerformanceWarning: DataFrame is highly fragmented.  This is usually the result of calling `frame.insert` many times, which has poor performance.  Consider joining all columns at once using pd.concat(axis=1) instead. To get a de-fragmented frame, use `newframe = frame.copy()`\n",
      "  final[entity + '_actual/toal_' + str(time)] = final['Amount'] / final[entity + '_total_' + str(time)]\n"
     ]
    },
    {
     "name": "stdout",
     "output_type": "stream",
     "text": [
      "Merchnum_desc amount variables over past 3 ---> Done\n"
     ]
    },
    {
     "name": "stderr",
     "output_type": "stream",
     "text": [
      "/var/folders/ll/h_rnbgns62bcj0skpd2j0ktr0000gp/T/ipykernel_38628/219860616.py:22: PerformanceWarning: DataFrame is highly fragmented.  This is usually the result of calling `frame.insert` many times, which has poor performance.  Consider joining all columns at once using pd.concat(axis=1) instead. To get a de-fragmented frame, use `newframe = frame.copy()`\n",
      "  final[col_name] = final.Recnum.map(mapper2)\n",
      "/var/folders/ll/h_rnbgns62bcj0skpd2j0ktr0000gp/T/ipykernel_38628/219860616.py:24: PerformanceWarning: DataFrame is highly fragmented.  This is usually the result of calling `frame.insert` many times, which has poor performance.  Consider joining all columns at once using pd.concat(axis=1) instead. To get a de-fragmented frame, use `newframe = frame.copy()`\n",
      "  final[entity + '_avg_' + str(time)] = final.Recnum.map(temp2.groupby('Recnum')['Amount'].mean())\n",
      "/var/folders/ll/h_rnbgns62bcj0skpd2j0ktr0000gp/T/ipykernel_38628/219860616.py:25: PerformanceWarning: DataFrame is highly fragmented.  This is usually the result of calling `frame.insert` many times, which has poor performance.  Consider joining all columns at once using pd.concat(axis=1) instead. To get a de-fragmented frame, use `newframe = frame.copy()`\n",
      "  final[entity + '_max_' + str(time)] = final.Recnum.map(temp2.groupby('Recnum')['Amount'].max())\n",
      "/var/folders/ll/h_rnbgns62bcj0skpd2j0ktr0000gp/T/ipykernel_38628/219860616.py:26: PerformanceWarning: DataFrame is highly fragmented.  This is usually the result of calling `frame.insert` many times, which has poor performance.  Consider joining all columns at once using pd.concat(axis=1) instead. To get a de-fragmented frame, use `newframe = frame.copy()`\n",
      "  final[entity + '_med_' + str(time)] = final.Recnum.map(temp2.groupby('Recnum')['Amount'].median())\n",
      "/var/folders/ll/h_rnbgns62bcj0skpd2j0ktr0000gp/T/ipykernel_38628/219860616.py:27: PerformanceWarning: DataFrame is highly fragmented.  This is usually the result of calling `frame.insert` many times, which has poor performance.  Consider joining all columns at once using pd.concat(axis=1) instead. To get a de-fragmented frame, use `newframe = frame.copy()`\n",
      "  final[entity + '_total_' + str(time)] = final.Recnum.map(temp2.groupby('Recnum')['Amount'].sum())\n",
      "/var/folders/ll/h_rnbgns62bcj0skpd2j0ktr0000gp/T/ipykernel_38628/219860616.py:28: PerformanceWarning: DataFrame is highly fragmented.  This is usually the result of calling `frame.insert` many times, which has poor performance.  Consider joining all columns at once using pd.concat(axis=1) instead. To get a de-fragmented frame, use `newframe = frame.copy()`\n",
      "  final[entity + '_actual/avg_' + str(time)] = final['Amount'] / final[entity + '_avg_' + str(time)]\n",
      "/var/folders/ll/h_rnbgns62bcj0skpd2j0ktr0000gp/T/ipykernel_38628/219860616.py:29: PerformanceWarning: DataFrame is highly fragmented.  This is usually the result of calling `frame.insert` many times, which has poor performance.  Consider joining all columns at once using pd.concat(axis=1) instead. To get a de-fragmented frame, use `newframe = frame.copy()`\n",
      "  final[entity + '_actual/max_' + str(time)] = final['Amount'] / final[entity + '_max_' + str(time)]\n",
      "/var/folders/ll/h_rnbgns62bcj0skpd2j0ktr0000gp/T/ipykernel_38628/219860616.py:30: PerformanceWarning: DataFrame is highly fragmented.  This is usually the result of calling `frame.insert` many times, which has poor performance.  Consider joining all columns at once using pd.concat(axis=1) instead. To get a de-fragmented frame, use `newframe = frame.copy()`\n",
      "  final[entity + '_actual/med_' + str(time)] = final['Amount'] / final[entity + '_med_' + str(time)]\n",
      "/var/folders/ll/h_rnbgns62bcj0skpd2j0ktr0000gp/T/ipykernel_38628/219860616.py:31: PerformanceWarning: DataFrame is highly fragmented.  This is usually the result of calling `frame.insert` many times, which has poor performance.  Consider joining all columns at once using pd.concat(axis=1) instead. To get a de-fragmented frame, use `newframe = frame.copy()`\n",
      "  final[entity + '_actual/toal_' + str(time)] = final['Amount'] / final[entity + '_total_' + str(time)]\n"
     ]
    },
    {
     "name": "stdout",
     "output_type": "stream",
     "text": [
      "Merchnum_desc_count_7 ---> Done\n",
      "Merchnum_desc amount variables over past 7 ---> Done\n"
     ]
    },
    {
     "name": "stderr",
     "output_type": "stream",
     "text": [
      "/var/folders/ll/h_rnbgns62bcj0skpd2j0ktr0000gp/T/ipykernel_38628/219860616.py:22: PerformanceWarning: DataFrame is highly fragmented.  This is usually the result of calling `frame.insert` many times, which has poor performance.  Consider joining all columns at once using pd.concat(axis=1) instead. To get a de-fragmented frame, use `newframe = frame.copy()`\n",
      "  final[col_name] = final.Recnum.map(mapper2)\n",
      "/var/folders/ll/h_rnbgns62bcj0skpd2j0ktr0000gp/T/ipykernel_38628/219860616.py:24: PerformanceWarning: DataFrame is highly fragmented.  This is usually the result of calling `frame.insert` many times, which has poor performance.  Consider joining all columns at once using pd.concat(axis=1) instead. To get a de-fragmented frame, use `newframe = frame.copy()`\n",
      "  final[entity + '_avg_' + str(time)] = final.Recnum.map(temp2.groupby('Recnum')['Amount'].mean())\n",
      "/var/folders/ll/h_rnbgns62bcj0skpd2j0ktr0000gp/T/ipykernel_38628/219860616.py:25: PerformanceWarning: DataFrame is highly fragmented.  This is usually the result of calling `frame.insert` many times, which has poor performance.  Consider joining all columns at once using pd.concat(axis=1) instead. To get a de-fragmented frame, use `newframe = frame.copy()`\n",
      "  final[entity + '_max_' + str(time)] = final.Recnum.map(temp2.groupby('Recnum')['Amount'].max())\n",
      "/var/folders/ll/h_rnbgns62bcj0skpd2j0ktr0000gp/T/ipykernel_38628/219860616.py:26: PerformanceWarning: DataFrame is highly fragmented.  This is usually the result of calling `frame.insert` many times, which has poor performance.  Consider joining all columns at once using pd.concat(axis=1) instead. To get a de-fragmented frame, use `newframe = frame.copy()`\n",
      "  final[entity + '_med_' + str(time)] = final.Recnum.map(temp2.groupby('Recnum')['Amount'].median())\n",
      "/var/folders/ll/h_rnbgns62bcj0skpd2j0ktr0000gp/T/ipykernel_38628/219860616.py:27: PerformanceWarning: DataFrame is highly fragmented.  This is usually the result of calling `frame.insert` many times, which has poor performance.  Consider joining all columns at once using pd.concat(axis=1) instead. To get a de-fragmented frame, use `newframe = frame.copy()`\n",
      "  final[entity + '_total_' + str(time)] = final.Recnum.map(temp2.groupby('Recnum')['Amount'].sum())\n",
      "/var/folders/ll/h_rnbgns62bcj0skpd2j0ktr0000gp/T/ipykernel_38628/219860616.py:28: PerformanceWarning: DataFrame is highly fragmented.  This is usually the result of calling `frame.insert` many times, which has poor performance.  Consider joining all columns at once using pd.concat(axis=1) instead. To get a de-fragmented frame, use `newframe = frame.copy()`\n",
      "  final[entity + '_actual/avg_' + str(time)] = final['Amount'] / final[entity + '_avg_' + str(time)]\n",
      "/var/folders/ll/h_rnbgns62bcj0skpd2j0ktr0000gp/T/ipykernel_38628/219860616.py:29: PerformanceWarning: DataFrame is highly fragmented.  This is usually the result of calling `frame.insert` many times, which has poor performance.  Consider joining all columns at once using pd.concat(axis=1) instead. To get a de-fragmented frame, use `newframe = frame.copy()`\n",
      "  final[entity + '_actual/max_' + str(time)] = final['Amount'] / final[entity + '_max_' + str(time)]\n",
      "/var/folders/ll/h_rnbgns62bcj0skpd2j0ktr0000gp/T/ipykernel_38628/219860616.py:30: PerformanceWarning: DataFrame is highly fragmented.  This is usually the result of calling `frame.insert` many times, which has poor performance.  Consider joining all columns at once using pd.concat(axis=1) instead. To get a de-fragmented frame, use `newframe = frame.copy()`\n",
      "  final[entity + '_actual/med_' + str(time)] = final['Amount'] / final[entity + '_med_' + str(time)]\n",
      "/var/folders/ll/h_rnbgns62bcj0skpd2j0ktr0000gp/T/ipykernel_38628/219860616.py:31: PerformanceWarning: DataFrame is highly fragmented.  This is usually the result of calling `frame.insert` many times, which has poor performance.  Consider joining all columns at once using pd.concat(axis=1) instead. To get a de-fragmented frame, use `newframe = frame.copy()`\n",
      "  final[entity + '_actual/toal_' + str(time)] = final['Amount'] / final[entity + '_total_' + str(time)]\n"
     ]
    },
    {
     "name": "stdout",
     "output_type": "stream",
     "text": [
      "Merchnum_desc_count_14 ---> Done\n",
      "Merchnum_desc amount variables over past 14 ---> Done\n"
     ]
    },
    {
     "name": "stderr",
     "output_type": "stream",
     "text": [
      "/var/folders/ll/h_rnbgns62bcj0skpd2j0ktr0000gp/T/ipykernel_38628/219860616.py:22: PerformanceWarning: DataFrame is highly fragmented.  This is usually the result of calling `frame.insert` many times, which has poor performance.  Consider joining all columns at once using pd.concat(axis=1) instead. To get a de-fragmented frame, use `newframe = frame.copy()`\n",
      "  final[col_name] = final.Recnum.map(mapper2)\n",
      "/var/folders/ll/h_rnbgns62bcj0skpd2j0ktr0000gp/T/ipykernel_38628/219860616.py:24: PerformanceWarning: DataFrame is highly fragmented.  This is usually the result of calling `frame.insert` many times, which has poor performance.  Consider joining all columns at once using pd.concat(axis=1) instead. To get a de-fragmented frame, use `newframe = frame.copy()`\n",
      "  final[entity + '_avg_' + str(time)] = final.Recnum.map(temp2.groupby('Recnum')['Amount'].mean())\n",
      "/var/folders/ll/h_rnbgns62bcj0skpd2j0ktr0000gp/T/ipykernel_38628/219860616.py:25: PerformanceWarning: DataFrame is highly fragmented.  This is usually the result of calling `frame.insert` many times, which has poor performance.  Consider joining all columns at once using pd.concat(axis=1) instead. To get a de-fragmented frame, use `newframe = frame.copy()`\n",
      "  final[entity + '_max_' + str(time)] = final.Recnum.map(temp2.groupby('Recnum')['Amount'].max())\n",
      "/var/folders/ll/h_rnbgns62bcj0skpd2j0ktr0000gp/T/ipykernel_38628/219860616.py:26: PerformanceWarning: DataFrame is highly fragmented.  This is usually the result of calling `frame.insert` many times, which has poor performance.  Consider joining all columns at once using pd.concat(axis=1) instead. To get a de-fragmented frame, use `newframe = frame.copy()`\n",
      "  final[entity + '_med_' + str(time)] = final.Recnum.map(temp2.groupby('Recnum')['Amount'].median())\n",
      "/var/folders/ll/h_rnbgns62bcj0skpd2j0ktr0000gp/T/ipykernel_38628/219860616.py:27: PerformanceWarning: DataFrame is highly fragmented.  This is usually the result of calling `frame.insert` many times, which has poor performance.  Consider joining all columns at once using pd.concat(axis=1) instead. To get a de-fragmented frame, use `newframe = frame.copy()`\n",
      "  final[entity + '_total_' + str(time)] = final.Recnum.map(temp2.groupby('Recnum')['Amount'].sum())\n",
      "/var/folders/ll/h_rnbgns62bcj0skpd2j0ktr0000gp/T/ipykernel_38628/219860616.py:28: PerformanceWarning: DataFrame is highly fragmented.  This is usually the result of calling `frame.insert` many times, which has poor performance.  Consider joining all columns at once using pd.concat(axis=1) instead. To get a de-fragmented frame, use `newframe = frame.copy()`\n",
      "  final[entity + '_actual/avg_' + str(time)] = final['Amount'] / final[entity + '_avg_' + str(time)]\n",
      "/var/folders/ll/h_rnbgns62bcj0skpd2j0ktr0000gp/T/ipykernel_38628/219860616.py:29: PerformanceWarning: DataFrame is highly fragmented.  This is usually the result of calling `frame.insert` many times, which has poor performance.  Consider joining all columns at once using pd.concat(axis=1) instead. To get a de-fragmented frame, use `newframe = frame.copy()`\n",
      "  final[entity + '_actual/max_' + str(time)] = final['Amount'] / final[entity + '_max_' + str(time)]\n",
      "/var/folders/ll/h_rnbgns62bcj0skpd2j0ktr0000gp/T/ipykernel_38628/219860616.py:30: PerformanceWarning: DataFrame is highly fragmented.  This is usually the result of calling `frame.insert` many times, which has poor performance.  Consider joining all columns at once using pd.concat(axis=1) instead. To get a de-fragmented frame, use `newframe = frame.copy()`\n",
      "  final[entity + '_actual/med_' + str(time)] = final['Amount'] / final[entity + '_med_' + str(time)]\n",
      "/var/folders/ll/h_rnbgns62bcj0skpd2j0ktr0000gp/T/ipykernel_38628/219860616.py:31: PerformanceWarning: DataFrame is highly fragmented.  This is usually the result of calling `frame.insert` many times, which has poor performance.  Consider joining all columns at once using pd.concat(axis=1) instead. To get a de-fragmented frame, use `newframe = frame.copy()`\n",
      "  final[entity + '_actual/toal_' + str(time)] = final['Amount'] / final[entity + '_total_' + str(time)]\n"
     ]
    },
    {
     "name": "stdout",
     "output_type": "stream",
     "text": [
      "Merchnum_desc_count_30 ---> Done\n",
      "Merchnum_desc amount variables over past 30 ---> Done\n",
      "Run time for the last entity ----------------- 3.05664995799998s\n"
     ]
    },
    {
     "name": "stderr",
     "output_type": "stream",
     "text": [
      "/var/folders/ll/h_rnbgns62bcj0skpd2j0ktr0000gp/T/ipykernel_38628/219860616.py:13: PerformanceWarning: DataFrame is highly fragmented.  This is usually the result of calling `frame.insert` many times, which has poor performance.  Consider joining all columns at once using pd.concat(axis=1) instead. To get a de-fragmented frame, use `newframe = frame.copy()`\n",
      "  final[entity + '_day_since'] = final.Recnum.map(mapper)\n",
      "/var/folders/ll/h_rnbgns62bcj0skpd2j0ktr0000gp/T/ipykernel_38628/219860616.py:22: PerformanceWarning: DataFrame is highly fragmented.  This is usually the result of calling `frame.insert` many times, which has poor performance.  Consider joining all columns at once using pd.concat(axis=1) instead. To get a de-fragmented frame, use `newframe = frame.copy()`\n",
      "  final[col_name] = final.Recnum.map(mapper2)\n",
      "/var/folders/ll/h_rnbgns62bcj0skpd2j0ktr0000gp/T/ipykernel_38628/219860616.py:24: PerformanceWarning: DataFrame is highly fragmented.  This is usually the result of calling `frame.insert` many times, which has poor performance.  Consider joining all columns at once using pd.concat(axis=1) instead. To get a de-fragmented frame, use `newframe = frame.copy()`\n",
      "  final[entity + '_avg_' + str(time)] = final.Recnum.map(temp2.groupby('Recnum')['Amount'].mean())\n"
     ]
    },
    {
     "name": "stdout",
     "output_type": "stream",
     "text": [
      "\n",
      "Merchnum_desc_state_day_since ---> Done\n",
      "Merchnum_desc_state_count_0 ---> Done\n"
     ]
    },
    {
     "name": "stderr",
     "output_type": "stream",
     "text": [
      "/var/folders/ll/h_rnbgns62bcj0skpd2j0ktr0000gp/T/ipykernel_38628/219860616.py:25: PerformanceWarning: DataFrame is highly fragmented.  This is usually the result of calling `frame.insert` many times, which has poor performance.  Consider joining all columns at once using pd.concat(axis=1) instead. To get a de-fragmented frame, use `newframe = frame.copy()`\n",
      "  final[entity + '_max_' + str(time)] = final.Recnum.map(temp2.groupby('Recnum')['Amount'].max())\n",
      "/var/folders/ll/h_rnbgns62bcj0skpd2j0ktr0000gp/T/ipykernel_38628/219860616.py:26: PerformanceWarning: DataFrame is highly fragmented.  This is usually the result of calling `frame.insert` many times, which has poor performance.  Consider joining all columns at once using pd.concat(axis=1) instead. To get a de-fragmented frame, use `newframe = frame.copy()`\n",
      "  final[entity + '_med_' + str(time)] = final.Recnum.map(temp2.groupby('Recnum')['Amount'].median())\n",
      "/var/folders/ll/h_rnbgns62bcj0skpd2j0ktr0000gp/T/ipykernel_38628/219860616.py:27: PerformanceWarning: DataFrame is highly fragmented.  This is usually the result of calling `frame.insert` many times, which has poor performance.  Consider joining all columns at once using pd.concat(axis=1) instead. To get a de-fragmented frame, use `newframe = frame.copy()`\n",
      "  final[entity + '_total_' + str(time)] = final.Recnum.map(temp2.groupby('Recnum')['Amount'].sum())\n",
      "/var/folders/ll/h_rnbgns62bcj0skpd2j0ktr0000gp/T/ipykernel_38628/219860616.py:28: PerformanceWarning: DataFrame is highly fragmented.  This is usually the result of calling `frame.insert` many times, which has poor performance.  Consider joining all columns at once using pd.concat(axis=1) instead. To get a de-fragmented frame, use `newframe = frame.copy()`\n",
      "  final[entity + '_actual/avg_' + str(time)] = final['Amount'] / final[entity + '_avg_' + str(time)]\n",
      "/var/folders/ll/h_rnbgns62bcj0skpd2j0ktr0000gp/T/ipykernel_38628/219860616.py:29: PerformanceWarning: DataFrame is highly fragmented.  This is usually the result of calling `frame.insert` many times, which has poor performance.  Consider joining all columns at once using pd.concat(axis=1) instead. To get a de-fragmented frame, use `newframe = frame.copy()`\n",
      "  final[entity + '_actual/max_' + str(time)] = final['Amount'] / final[entity + '_max_' + str(time)]\n",
      "/var/folders/ll/h_rnbgns62bcj0skpd2j0ktr0000gp/T/ipykernel_38628/219860616.py:30: PerformanceWarning: DataFrame is highly fragmented.  This is usually the result of calling `frame.insert` many times, which has poor performance.  Consider joining all columns at once using pd.concat(axis=1) instead. To get a de-fragmented frame, use `newframe = frame.copy()`\n",
      "  final[entity + '_actual/med_' + str(time)] = final['Amount'] / final[entity + '_med_' + str(time)]\n",
      "/var/folders/ll/h_rnbgns62bcj0skpd2j0ktr0000gp/T/ipykernel_38628/219860616.py:31: PerformanceWarning: DataFrame is highly fragmented.  This is usually the result of calling `frame.insert` many times, which has poor performance.  Consider joining all columns at once using pd.concat(axis=1) instead. To get a de-fragmented frame, use `newframe = frame.copy()`\n",
      "  final[entity + '_actual/toal_' + str(time)] = final['Amount'] / final[entity + '_total_' + str(time)]\n"
     ]
    },
    {
     "name": "stdout",
     "output_type": "stream",
     "text": [
      "Merchnum_desc_state amount variables over past 0 ---> Done\n",
      "Merchnum_desc_state_count_1 ---> Done\n"
     ]
    },
    {
     "name": "stderr",
     "output_type": "stream",
     "text": [
      "/var/folders/ll/h_rnbgns62bcj0skpd2j0ktr0000gp/T/ipykernel_38628/219860616.py:22: PerformanceWarning: DataFrame is highly fragmented.  This is usually the result of calling `frame.insert` many times, which has poor performance.  Consider joining all columns at once using pd.concat(axis=1) instead. To get a de-fragmented frame, use `newframe = frame.copy()`\n",
      "  final[col_name] = final.Recnum.map(mapper2)\n",
      "/var/folders/ll/h_rnbgns62bcj0skpd2j0ktr0000gp/T/ipykernel_38628/219860616.py:24: PerformanceWarning: DataFrame is highly fragmented.  This is usually the result of calling `frame.insert` many times, which has poor performance.  Consider joining all columns at once using pd.concat(axis=1) instead. To get a de-fragmented frame, use `newframe = frame.copy()`\n",
      "  final[entity + '_avg_' + str(time)] = final.Recnum.map(temp2.groupby('Recnum')['Amount'].mean())\n",
      "/var/folders/ll/h_rnbgns62bcj0skpd2j0ktr0000gp/T/ipykernel_38628/219860616.py:25: PerformanceWarning: DataFrame is highly fragmented.  This is usually the result of calling `frame.insert` many times, which has poor performance.  Consider joining all columns at once using pd.concat(axis=1) instead. To get a de-fragmented frame, use `newframe = frame.copy()`\n",
      "  final[entity + '_max_' + str(time)] = final.Recnum.map(temp2.groupby('Recnum')['Amount'].max())\n",
      "/var/folders/ll/h_rnbgns62bcj0skpd2j0ktr0000gp/T/ipykernel_38628/219860616.py:26: PerformanceWarning: DataFrame is highly fragmented.  This is usually the result of calling `frame.insert` many times, which has poor performance.  Consider joining all columns at once using pd.concat(axis=1) instead. To get a de-fragmented frame, use `newframe = frame.copy()`\n",
      "  final[entity + '_med_' + str(time)] = final.Recnum.map(temp2.groupby('Recnum')['Amount'].median())\n",
      "/var/folders/ll/h_rnbgns62bcj0skpd2j0ktr0000gp/T/ipykernel_38628/219860616.py:27: PerformanceWarning: DataFrame is highly fragmented.  This is usually the result of calling `frame.insert` many times, which has poor performance.  Consider joining all columns at once using pd.concat(axis=1) instead. To get a de-fragmented frame, use `newframe = frame.copy()`\n",
      "  final[entity + '_total_' + str(time)] = final.Recnum.map(temp2.groupby('Recnum')['Amount'].sum())\n",
      "/var/folders/ll/h_rnbgns62bcj0skpd2j0ktr0000gp/T/ipykernel_38628/219860616.py:28: PerformanceWarning: DataFrame is highly fragmented.  This is usually the result of calling `frame.insert` many times, which has poor performance.  Consider joining all columns at once using pd.concat(axis=1) instead. To get a de-fragmented frame, use `newframe = frame.copy()`\n",
      "  final[entity + '_actual/avg_' + str(time)] = final['Amount'] / final[entity + '_avg_' + str(time)]\n",
      "/var/folders/ll/h_rnbgns62bcj0skpd2j0ktr0000gp/T/ipykernel_38628/219860616.py:29: PerformanceWarning: DataFrame is highly fragmented.  This is usually the result of calling `frame.insert` many times, which has poor performance.  Consider joining all columns at once using pd.concat(axis=1) instead. To get a de-fragmented frame, use `newframe = frame.copy()`\n",
      "  final[entity + '_actual/max_' + str(time)] = final['Amount'] / final[entity + '_max_' + str(time)]\n",
      "/var/folders/ll/h_rnbgns62bcj0skpd2j0ktr0000gp/T/ipykernel_38628/219860616.py:30: PerformanceWarning: DataFrame is highly fragmented.  This is usually the result of calling `frame.insert` many times, which has poor performance.  Consider joining all columns at once using pd.concat(axis=1) instead. To get a de-fragmented frame, use `newframe = frame.copy()`\n",
      "  final[entity + '_actual/med_' + str(time)] = final['Amount'] / final[entity + '_med_' + str(time)]\n",
      "/var/folders/ll/h_rnbgns62bcj0skpd2j0ktr0000gp/T/ipykernel_38628/219860616.py:31: PerformanceWarning: DataFrame is highly fragmented.  This is usually the result of calling `frame.insert` many times, which has poor performance.  Consider joining all columns at once using pd.concat(axis=1) instead. To get a de-fragmented frame, use `newframe = frame.copy()`\n",
      "  final[entity + '_actual/toal_' + str(time)] = final['Amount'] / final[entity + '_total_' + str(time)]\n"
     ]
    },
    {
     "name": "stdout",
     "output_type": "stream",
     "text": [
      "Merchnum_desc_state amount variables over past 1 ---> Done\n",
      "Merchnum_desc_state_count_3 ---> Done\n"
     ]
    },
    {
     "name": "stderr",
     "output_type": "stream",
     "text": [
      "/var/folders/ll/h_rnbgns62bcj0skpd2j0ktr0000gp/T/ipykernel_38628/219860616.py:22: PerformanceWarning: DataFrame is highly fragmented.  This is usually the result of calling `frame.insert` many times, which has poor performance.  Consider joining all columns at once using pd.concat(axis=1) instead. To get a de-fragmented frame, use `newframe = frame.copy()`\n",
      "  final[col_name] = final.Recnum.map(mapper2)\n",
      "/var/folders/ll/h_rnbgns62bcj0skpd2j0ktr0000gp/T/ipykernel_38628/219860616.py:24: PerformanceWarning: DataFrame is highly fragmented.  This is usually the result of calling `frame.insert` many times, which has poor performance.  Consider joining all columns at once using pd.concat(axis=1) instead. To get a de-fragmented frame, use `newframe = frame.copy()`\n",
      "  final[entity + '_avg_' + str(time)] = final.Recnum.map(temp2.groupby('Recnum')['Amount'].mean())\n",
      "/var/folders/ll/h_rnbgns62bcj0skpd2j0ktr0000gp/T/ipykernel_38628/219860616.py:25: PerformanceWarning: DataFrame is highly fragmented.  This is usually the result of calling `frame.insert` many times, which has poor performance.  Consider joining all columns at once using pd.concat(axis=1) instead. To get a de-fragmented frame, use `newframe = frame.copy()`\n",
      "  final[entity + '_max_' + str(time)] = final.Recnum.map(temp2.groupby('Recnum')['Amount'].max())\n",
      "/var/folders/ll/h_rnbgns62bcj0skpd2j0ktr0000gp/T/ipykernel_38628/219860616.py:26: PerformanceWarning: DataFrame is highly fragmented.  This is usually the result of calling `frame.insert` many times, which has poor performance.  Consider joining all columns at once using pd.concat(axis=1) instead. To get a de-fragmented frame, use `newframe = frame.copy()`\n",
      "  final[entity + '_med_' + str(time)] = final.Recnum.map(temp2.groupby('Recnum')['Amount'].median())\n",
      "/var/folders/ll/h_rnbgns62bcj0skpd2j0ktr0000gp/T/ipykernel_38628/219860616.py:27: PerformanceWarning: DataFrame is highly fragmented.  This is usually the result of calling `frame.insert` many times, which has poor performance.  Consider joining all columns at once using pd.concat(axis=1) instead. To get a de-fragmented frame, use `newframe = frame.copy()`\n",
      "  final[entity + '_total_' + str(time)] = final.Recnum.map(temp2.groupby('Recnum')['Amount'].sum())\n",
      "/var/folders/ll/h_rnbgns62bcj0skpd2j0ktr0000gp/T/ipykernel_38628/219860616.py:28: PerformanceWarning: DataFrame is highly fragmented.  This is usually the result of calling `frame.insert` many times, which has poor performance.  Consider joining all columns at once using pd.concat(axis=1) instead. To get a de-fragmented frame, use `newframe = frame.copy()`\n",
      "  final[entity + '_actual/avg_' + str(time)] = final['Amount'] / final[entity + '_avg_' + str(time)]\n",
      "/var/folders/ll/h_rnbgns62bcj0skpd2j0ktr0000gp/T/ipykernel_38628/219860616.py:29: PerformanceWarning: DataFrame is highly fragmented.  This is usually the result of calling `frame.insert` many times, which has poor performance.  Consider joining all columns at once using pd.concat(axis=1) instead. To get a de-fragmented frame, use `newframe = frame.copy()`\n",
      "  final[entity + '_actual/max_' + str(time)] = final['Amount'] / final[entity + '_max_' + str(time)]\n",
      "/var/folders/ll/h_rnbgns62bcj0skpd2j0ktr0000gp/T/ipykernel_38628/219860616.py:30: PerformanceWarning: DataFrame is highly fragmented.  This is usually the result of calling `frame.insert` many times, which has poor performance.  Consider joining all columns at once using pd.concat(axis=1) instead. To get a de-fragmented frame, use `newframe = frame.copy()`\n",
      "  final[entity + '_actual/med_' + str(time)] = final['Amount'] / final[entity + '_med_' + str(time)]\n",
      "/var/folders/ll/h_rnbgns62bcj0skpd2j0ktr0000gp/T/ipykernel_38628/219860616.py:31: PerformanceWarning: DataFrame is highly fragmented.  This is usually the result of calling `frame.insert` many times, which has poor performance.  Consider joining all columns at once using pd.concat(axis=1) instead. To get a de-fragmented frame, use `newframe = frame.copy()`\n",
      "  final[entity + '_actual/toal_' + str(time)] = final['Amount'] / final[entity + '_total_' + str(time)]\n"
     ]
    },
    {
     "name": "stdout",
     "output_type": "stream",
     "text": [
      "Merchnum_desc_state amount variables over past 3 ---> Done\n"
     ]
    },
    {
     "name": "stderr",
     "output_type": "stream",
     "text": [
      "/var/folders/ll/h_rnbgns62bcj0skpd2j0ktr0000gp/T/ipykernel_38628/219860616.py:22: PerformanceWarning: DataFrame is highly fragmented.  This is usually the result of calling `frame.insert` many times, which has poor performance.  Consider joining all columns at once using pd.concat(axis=1) instead. To get a de-fragmented frame, use `newframe = frame.copy()`\n",
      "  final[col_name] = final.Recnum.map(mapper2)\n",
      "/var/folders/ll/h_rnbgns62bcj0skpd2j0ktr0000gp/T/ipykernel_38628/219860616.py:24: PerformanceWarning: DataFrame is highly fragmented.  This is usually the result of calling `frame.insert` many times, which has poor performance.  Consider joining all columns at once using pd.concat(axis=1) instead. To get a de-fragmented frame, use `newframe = frame.copy()`\n",
      "  final[entity + '_avg_' + str(time)] = final.Recnum.map(temp2.groupby('Recnum')['Amount'].mean())\n",
      "/var/folders/ll/h_rnbgns62bcj0skpd2j0ktr0000gp/T/ipykernel_38628/219860616.py:25: PerformanceWarning: DataFrame is highly fragmented.  This is usually the result of calling `frame.insert` many times, which has poor performance.  Consider joining all columns at once using pd.concat(axis=1) instead. To get a de-fragmented frame, use `newframe = frame.copy()`\n",
      "  final[entity + '_max_' + str(time)] = final.Recnum.map(temp2.groupby('Recnum')['Amount'].max())\n",
      "/var/folders/ll/h_rnbgns62bcj0skpd2j0ktr0000gp/T/ipykernel_38628/219860616.py:26: PerformanceWarning: DataFrame is highly fragmented.  This is usually the result of calling `frame.insert` many times, which has poor performance.  Consider joining all columns at once using pd.concat(axis=1) instead. To get a de-fragmented frame, use `newframe = frame.copy()`\n",
      "  final[entity + '_med_' + str(time)] = final.Recnum.map(temp2.groupby('Recnum')['Amount'].median())\n",
      "/var/folders/ll/h_rnbgns62bcj0skpd2j0ktr0000gp/T/ipykernel_38628/219860616.py:27: PerformanceWarning: DataFrame is highly fragmented.  This is usually the result of calling `frame.insert` many times, which has poor performance.  Consider joining all columns at once using pd.concat(axis=1) instead. To get a de-fragmented frame, use `newframe = frame.copy()`\n",
      "  final[entity + '_total_' + str(time)] = final.Recnum.map(temp2.groupby('Recnum')['Amount'].sum())\n",
      "/var/folders/ll/h_rnbgns62bcj0skpd2j0ktr0000gp/T/ipykernel_38628/219860616.py:28: PerformanceWarning: DataFrame is highly fragmented.  This is usually the result of calling `frame.insert` many times, which has poor performance.  Consider joining all columns at once using pd.concat(axis=1) instead. To get a de-fragmented frame, use `newframe = frame.copy()`\n",
      "  final[entity + '_actual/avg_' + str(time)] = final['Amount'] / final[entity + '_avg_' + str(time)]\n",
      "/var/folders/ll/h_rnbgns62bcj0skpd2j0ktr0000gp/T/ipykernel_38628/219860616.py:29: PerformanceWarning: DataFrame is highly fragmented.  This is usually the result of calling `frame.insert` many times, which has poor performance.  Consider joining all columns at once using pd.concat(axis=1) instead. To get a de-fragmented frame, use `newframe = frame.copy()`\n",
      "  final[entity + '_actual/max_' + str(time)] = final['Amount'] / final[entity + '_max_' + str(time)]\n",
      "/var/folders/ll/h_rnbgns62bcj0skpd2j0ktr0000gp/T/ipykernel_38628/219860616.py:30: PerformanceWarning: DataFrame is highly fragmented.  This is usually the result of calling `frame.insert` many times, which has poor performance.  Consider joining all columns at once using pd.concat(axis=1) instead. To get a de-fragmented frame, use `newframe = frame.copy()`\n",
      "  final[entity + '_actual/med_' + str(time)] = final['Amount'] / final[entity + '_med_' + str(time)]\n",
      "/var/folders/ll/h_rnbgns62bcj0skpd2j0ktr0000gp/T/ipykernel_38628/219860616.py:31: PerformanceWarning: DataFrame is highly fragmented.  This is usually the result of calling `frame.insert` many times, which has poor performance.  Consider joining all columns at once using pd.concat(axis=1) instead. To get a de-fragmented frame, use `newframe = frame.copy()`\n",
      "  final[entity + '_actual/toal_' + str(time)] = final['Amount'] / final[entity + '_total_' + str(time)]\n"
     ]
    },
    {
     "name": "stdout",
     "output_type": "stream",
     "text": [
      "Merchnum_desc_state_count_7 ---> Done\n",
      "Merchnum_desc_state amount variables over past 7 ---> Done\n"
     ]
    },
    {
     "name": "stderr",
     "output_type": "stream",
     "text": [
      "/var/folders/ll/h_rnbgns62bcj0skpd2j0ktr0000gp/T/ipykernel_38628/219860616.py:22: PerformanceWarning: DataFrame is highly fragmented.  This is usually the result of calling `frame.insert` many times, which has poor performance.  Consider joining all columns at once using pd.concat(axis=1) instead. To get a de-fragmented frame, use `newframe = frame.copy()`\n",
      "  final[col_name] = final.Recnum.map(mapper2)\n",
      "/var/folders/ll/h_rnbgns62bcj0skpd2j0ktr0000gp/T/ipykernel_38628/219860616.py:24: PerformanceWarning: DataFrame is highly fragmented.  This is usually the result of calling `frame.insert` many times, which has poor performance.  Consider joining all columns at once using pd.concat(axis=1) instead. To get a de-fragmented frame, use `newframe = frame.copy()`\n",
      "  final[entity + '_avg_' + str(time)] = final.Recnum.map(temp2.groupby('Recnum')['Amount'].mean())\n",
      "/var/folders/ll/h_rnbgns62bcj0skpd2j0ktr0000gp/T/ipykernel_38628/219860616.py:25: PerformanceWarning: DataFrame is highly fragmented.  This is usually the result of calling `frame.insert` many times, which has poor performance.  Consider joining all columns at once using pd.concat(axis=1) instead. To get a de-fragmented frame, use `newframe = frame.copy()`\n",
      "  final[entity + '_max_' + str(time)] = final.Recnum.map(temp2.groupby('Recnum')['Amount'].max())\n",
      "/var/folders/ll/h_rnbgns62bcj0skpd2j0ktr0000gp/T/ipykernel_38628/219860616.py:26: PerformanceWarning: DataFrame is highly fragmented.  This is usually the result of calling `frame.insert` many times, which has poor performance.  Consider joining all columns at once using pd.concat(axis=1) instead. To get a de-fragmented frame, use `newframe = frame.copy()`\n",
      "  final[entity + '_med_' + str(time)] = final.Recnum.map(temp2.groupby('Recnum')['Amount'].median())\n",
      "/var/folders/ll/h_rnbgns62bcj0skpd2j0ktr0000gp/T/ipykernel_38628/219860616.py:27: PerformanceWarning: DataFrame is highly fragmented.  This is usually the result of calling `frame.insert` many times, which has poor performance.  Consider joining all columns at once using pd.concat(axis=1) instead. To get a de-fragmented frame, use `newframe = frame.copy()`\n",
      "  final[entity + '_total_' + str(time)] = final.Recnum.map(temp2.groupby('Recnum')['Amount'].sum())\n",
      "/var/folders/ll/h_rnbgns62bcj0skpd2j0ktr0000gp/T/ipykernel_38628/219860616.py:28: PerformanceWarning: DataFrame is highly fragmented.  This is usually the result of calling `frame.insert` many times, which has poor performance.  Consider joining all columns at once using pd.concat(axis=1) instead. To get a de-fragmented frame, use `newframe = frame.copy()`\n",
      "  final[entity + '_actual/avg_' + str(time)] = final['Amount'] / final[entity + '_avg_' + str(time)]\n",
      "/var/folders/ll/h_rnbgns62bcj0skpd2j0ktr0000gp/T/ipykernel_38628/219860616.py:29: PerformanceWarning: DataFrame is highly fragmented.  This is usually the result of calling `frame.insert` many times, which has poor performance.  Consider joining all columns at once using pd.concat(axis=1) instead. To get a de-fragmented frame, use `newframe = frame.copy()`\n",
      "  final[entity + '_actual/max_' + str(time)] = final['Amount'] / final[entity + '_max_' + str(time)]\n",
      "/var/folders/ll/h_rnbgns62bcj0skpd2j0ktr0000gp/T/ipykernel_38628/219860616.py:30: PerformanceWarning: DataFrame is highly fragmented.  This is usually the result of calling `frame.insert` many times, which has poor performance.  Consider joining all columns at once using pd.concat(axis=1) instead. To get a de-fragmented frame, use `newframe = frame.copy()`\n",
      "  final[entity + '_actual/med_' + str(time)] = final['Amount'] / final[entity + '_med_' + str(time)]\n",
      "/var/folders/ll/h_rnbgns62bcj0skpd2j0ktr0000gp/T/ipykernel_38628/219860616.py:31: PerformanceWarning: DataFrame is highly fragmented.  This is usually the result of calling `frame.insert` many times, which has poor performance.  Consider joining all columns at once using pd.concat(axis=1) instead. To get a de-fragmented frame, use `newframe = frame.copy()`\n",
      "  final[entity + '_actual/toal_' + str(time)] = final['Amount'] / final[entity + '_total_' + str(time)]\n"
     ]
    },
    {
     "name": "stdout",
     "output_type": "stream",
     "text": [
      "Merchnum_desc_state_count_14 ---> Done\n",
      "Merchnum_desc_state amount variables over past 14 ---> Done\n"
     ]
    },
    {
     "name": "stderr",
     "output_type": "stream",
     "text": [
      "/var/folders/ll/h_rnbgns62bcj0skpd2j0ktr0000gp/T/ipykernel_38628/219860616.py:22: PerformanceWarning: DataFrame is highly fragmented.  This is usually the result of calling `frame.insert` many times, which has poor performance.  Consider joining all columns at once using pd.concat(axis=1) instead. To get a de-fragmented frame, use `newframe = frame.copy()`\n",
      "  final[col_name] = final.Recnum.map(mapper2)\n",
      "/var/folders/ll/h_rnbgns62bcj0skpd2j0ktr0000gp/T/ipykernel_38628/219860616.py:24: PerformanceWarning: DataFrame is highly fragmented.  This is usually the result of calling `frame.insert` many times, which has poor performance.  Consider joining all columns at once using pd.concat(axis=1) instead. To get a de-fragmented frame, use `newframe = frame.copy()`\n",
      "  final[entity + '_avg_' + str(time)] = final.Recnum.map(temp2.groupby('Recnum')['Amount'].mean())\n",
      "/var/folders/ll/h_rnbgns62bcj0skpd2j0ktr0000gp/T/ipykernel_38628/219860616.py:25: PerformanceWarning: DataFrame is highly fragmented.  This is usually the result of calling `frame.insert` many times, which has poor performance.  Consider joining all columns at once using pd.concat(axis=1) instead. To get a de-fragmented frame, use `newframe = frame.copy()`\n",
      "  final[entity + '_max_' + str(time)] = final.Recnum.map(temp2.groupby('Recnum')['Amount'].max())\n",
      "/var/folders/ll/h_rnbgns62bcj0skpd2j0ktr0000gp/T/ipykernel_38628/219860616.py:26: PerformanceWarning: DataFrame is highly fragmented.  This is usually the result of calling `frame.insert` many times, which has poor performance.  Consider joining all columns at once using pd.concat(axis=1) instead. To get a de-fragmented frame, use `newframe = frame.copy()`\n",
      "  final[entity + '_med_' + str(time)] = final.Recnum.map(temp2.groupby('Recnum')['Amount'].median())\n",
      "/var/folders/ll/h_rnbgns62bcj0skpd2j0ktr0000gp/T/ipykernel_38628/219860616.py:27: PerformanceWarning: DataFrame is highly fragmented.  This is usually the result of calling `frame.insert` many times, which has poor performance.  Consider joining all columns at once using pd.concat(axis=1) instead. To get a de-fragmented frame, use `newframe = frame.copy()`\n",
      "  final[entity + '_total_' + str(time)] = final.Recnum.map(temp2.groupby('Recnum')['Amount'].sum())\n",
      "/var/folders/ll/h_rnbgns62bcj0skpd2j0ktr0000gp/T/ipykernel_38628/219860616.py:28: PerformanceWarning: DataFrame is highly fragmented.  This is usually the result of calling `frame.insert` many times, which has poor performance.  Consider joining all columns at once using pd.concat(axis=1) instead. To get a de-fragmented frame, use `newframe = frame.copy()`\n",
      "  final[entity + '_actual/avg_' + str(time)] = final['Amount'] / final[entity + '_avg_' + str(time)]\n",
      "/var/folders/ll/h_rnbgns62bcj0skpd2j0ktr0000gp/T/ipykernel_38628/219860616.py:29: PerformanceWarning: DataFrame is highly fragmented.  This is usually the result of calling `frame.insert` many times, which has poor performance.  Consider joining all columns at once using pd.concat(axis=1) instead. To get a de-fragmented frame, use `newframe = frame.copy()`\n",
      "  final[entity + '_actual/max_' + str(time)] = final['Amount'] / final[entity + '_max_' + str(time)]\n",
      "/var/folders/ll/h_rnbgns62bcj0skpd2j0ktr0000gp/T/ipykernel_38628/219860616.py:30: PerformanceWarning: DataFrame is highly fragmented.  This is usually the result of calling `frame.insert` many times, which has poor performance.  Consider joining all columns at once using pd.concat(axis=1) instead. To get a de-fragmented frame, use `newframe = frame.copy()`\n",
      "  final[entity + '_actual/med_' + str(time)] = final['Amount'] / final[entity + '_med_' + str(time)]\n",
      "/var/folders/ll/h_rnbgns62bcj0skpd2j0ktr0000gp/T/ipykernel_38628/219860616.py:31: PerformanceWarning: DataFrame is highly fragmented.  This is usually the result of calling `frame.insert` many times, which has poor performance.  Consider joining all columns at once using pd.concat(axis=1) instead. To get a de-fragmented frame, use `newframe = frame.copy()`\n",
      "  final[entity + '_actual/toal_' + str(time)] = final['Amount'] / final[entity + '_total_' + str(time)]\n"
     ]
    },
    {
     "name": "stdout",
     "output_type": "stream",
     "text": [
      "Merchnum_desc_state_count_30 ---> Done\n",
      "Merchnum_desc_state amount variables over past 30 ---> Done\n",
      "Run time for the last entity ----------------- 3.051581959000032s\n"
     ]
    },
    {
     "name": "stderr",
     "output_type": "stream",
     "text": [
      "/var/folders/ll/h_rnbgns62bcj0skpd2j0ktr0000gp/T/ipykernel_38628/219860616.py:13: PerformanceWarning: DataFrame is highly fragmented.  This is usually the result of calling `frame.insert` many times, which has poor performance.  Consider joining all columns at once using pd.concat(axis=1) instead. To get a de-fragmented frame, use `newframe = frame.copy()`\n",
      "  final[entity + '_day_since'] = final.Recnum.map(mapper)\n",
      "/var/folders/ll/h_rnbgns62bcj0skpd2j0ktr0000gp/T/ipykernel_38628/219860616.py:22: PerformanceWarning: DataFrame is highly fragmented.  This is usually the result of calling `frame.insert` many times, which has poor performance.  Consider joining all columns at once using pd.concat(axis=1) instead. To get a de-fragmented frame, use `newframe = frame.copy()`\n",
      "  final[col_name] = final.Recnum.map(mapper2)\n",
      "/var/folders/ll/h_rnbgns62bcj0skpd2j0ktr0000gp/T/ipykernel_38628/219860616.py:24: PerformanceWarning: DataFrame is highly fragmented.  This is usually the result of calling `frame.insert` many times, which has poor performance.  Consider joining all columns at once using pd.concat(axis=1) instead. To get a de-fragmented frame, use `newframe = frame.copy()`\n",
      "  final[entity + '_avg_' + str(time)] = final.Recnum.map(temp2.groupby('Recnum')['Amount'].mean())\n",
      "/var/folders/ll/h_rnbgns62bcj0skpd2j0ktr0000gp/T/ipykernel_38628/219860616.py:25: PerformanceWarning: DataFrame is highly fragmented.  This is usually the result of calling `frame.insert` many times, which has poor performance.  Consider joining all columns at once using pd.concat(axis=1) instead. To get a de-fragmented frame, use `newframe = frame.copy()`\n",
      "  final[entity + '_max_' + str(time)] = final.Recnum.map(temp2.groupby('Recnum')['Amount'].max())\n",
      "/var/folders/ll/h_rnbgns62bcj0skpd2j0ktr0000gp/T/ipykernel_38628/219860616.py:26: PerformanceWarning: DataFrame is highly fragmented.  This is usually the result of calling `frame.insert` many times, which has poor performance.  Consider joining all columns at once using pd.concat(axis=1) instead. To get a de-fragmented frame, use `newframe = frame.copy()`\n",
      "  final[entity + '_med_' + str(time)] = final.Recnum.map(temp2.groupby('Recnum')['Amount'].median())\n",
      "/var/folders/ll/h_rnbgns62bcj0skpd2j0ktr0000gp/T/ipykernel_38628/219860616.py:27: PerformanceWarning: DataFrame is highly fragmented.  This is usually the result of calling `frame.insert` many times, which has poor performance.  Consider joining all columns at once using pd.concat(axis=1) instead. To get a de-fragmented frame, use `newframe = frame.copy()`\n",
      "  final[entity + '_total_' + str(time)] = final.Recnum.map(temp2.groupby('Recnum')['Amount'].sum())\n",
      "/var/folders/ll/h_rnbgns62bcj0skpd2j0ktr0000gp/T/ipykernel_38628/219860616.py:28: PerformanceWarning: DataFrame is highly fragmented.  This is usually the result of calling `frame.insert` many times, which has poor performance.  Consider joining all columns at once using pd.concat(axis=1) instead. To get a de-fragmented frame, use `newframe = frame.copy()`\n",
      "  final[entity + '_actual/avg_' + str(time)] = final['Amount'] / final[entity + '_avg_' + str(time)]\n",
      "/var/folders/ll/h_rnbgns62bcj0skpd2j0ktr0000gp/T/ipykernel_38628/219860616.py:29: PerformanceWarning: DataFrame is highly fragmented.  This is usually the result of calling `frame.insert` many times, which has poor performance.  Consider joining all columns at once using pd.concat(axis=1) instead. To get a de-fragmented frame, use `newframe = frame.copy()`\n",
      "  final[entity + '_actual/max_' + str(time)] = final['Amount'] / final[entity + '_max_' + str(time)]\n",
      "/var/folders/ll/h_rnbgns62bcj0skpd2j0ktr0000gp/T/ipykernel_38628/219860616.py:30: PerformanceWarning: DataFrame is highly fragmented.  This is usually the result of calling `frame.insert` many times, which has poor performance.  Consider joining all columns at once using pd.concat(axis=1) instead. To get a de-fragmented frame, use `newframe = frame.copy()`\n",
      "  final[entity + '_actual/med_' + str(time)] = final['Amount'] / final[entity + '_med_' + str(time)]\n",
      "/var/folders/ll/h_rnbgns62bcj0skpd2j0ktr0000gp/T/ipykernel_38628/219860616.py:31: PerformanceWarning: DataFrame is highly fragmented.  This is usually the result of calling `frame.insert` many times, which has poor performance.  Consider joining all columns at once using pd.concat(axis=1) instead. To get a de-fragmented frame, use `newframe = frame.copy()`\n",
      "  final[entity + '_actual/toal_' + str(time)] = final['Amount'] / final[entity + '_total_' + str(time)]\n",
      "/var/folders/ll/h_rnbgns62bcj0skpd2j0ktr0000gp/T/ipykernel_38628/219860616.py:22: PerformanceWarning: DataFrame is highly fragmented.  This is usually the result of calling `frame.insert` many times, which has poor performance.  Consider joining all columns at once using pd.concat(axis=1) instead. To get a de-fragmented frame, use `newframe = frame.copy()`\n",
      "  final[col_name] = final.Recnum.map(mapper2)\n",
      "/var/folders/ll/h_rnbgns62bcj0skpd2j0ktr0000gp/T/ipykernel_38628/219860616.py:24: PerformanceWarning: DataFrame is highly fragmented.  This is usually the result of calling `frame.insert` many times, which has poor performance.  Consider joining all columns at once using pd.concat(axis=1) instead. To get a de-fragmented frame, use `newframe = frame.copy()`\n",
      "  final[entity + '_avg_' + str(time)] = final.Recnum.map(temp2.groupby('Recnum')['Amount'].mean())\n",
      "/var/folders/ll/h_rnbgns62bcj0skpd2j0ktr0000gp/T/ipykernel_38628/219860616.py:25: PerformanceWarning: DataFrame is highly fragmented.  This is usually the result of calling `frame.insert` many times, which has poor performance.  Consider joining all columns at once using pd.concat(axis=1) instead. To get a de-fragmented frame, use `newframe = frame.copy()`\n",
      "  final[entity + '_max_' + str(time)] = final.Recnum.map(temp2.groupby('Recnum')['Amount'].max())\n",
      "/var/folders/ll/h_rnbgns62bcj0skpd2j0ktr0000gp/T/ipykernel_38628/219860616.py:26: PerformanceWarning: DataFrame is highly fragmented.  This is usually the result of calling `frame.insert` many times, which has poor performance.  Consider joining all columns at once using pd.concat(axis=1) instead. To get a de-fragmented frame, use `newframe = frame.copy()`\n",
      "  final[entity + '_med_' + str(time)] = final.Recnum.map(temp2.groupby('Recnum')['Amount'].median())\n",
      "/var/folders/ll/h_rnbgns62bcj0skpd2j0ktr0000gp/T/ipykernel_38628/219860616.py:27: PerformanceWarning: DataFrame is highly fragmented.  This is usually the result of calling `frame.insert` many times, which has poor performance.  Consider joining all columns at once using pd.concat(axis=1) instead. To get a de-fragmented frame, use `newframe = frame.copy()`\n",
      "  final[entity + '_total_' + str(time)] = final.Recnum.map(temp2.groupby('Recnum')['Amount'].sum())\n",
      "/var/folders/ll/h_rnbgns62bcj0skpd2j0ktr0000gp/T/ipykernel_38628/219860616.py:28: PerformanceWarning: DataFrame is highly fragmented.  This is usually the result of calling `frame.insert` many times, which has poor performance.  Consider joining all columns at once using pd.concat(axis=1) instead. To get a de-fragmented frame, use `newframe = frame.copy()`\n",
      "  final[entity + '_actual/avg_' + str(time)] = final['Amount'] / final[entity + '_avg_' + str(time)]\n",
      "/var/folders/ll/h_rnbgns62bcj0skpd2j0ktr0000gp/T/ipykernel_38628/219860616.py:29: PerformanceWarning: DataFrame is highly fragmented.  This is usually the result of calling `frame.insert` many times, which has poor performance.  Consider joining all columns at once using pd.concat(axis=1) instead. To get a de-fragmented frame, use `newframe = frame.copy()`\n",
      "  final[entity + '_actual/max_' + str(time)] = final['Amount'] / final[entity + '_max_' + str(time)]\n",
      "/var/folders/ll/h_rnbgns62bcj0skpd2j0ktr0000gp/T/ipykernel_38628/219860616.py:30: PerformanceWarning: DataFrame is highly fragmented.  This is usually the result of calling `frame.insert` many times, which has poor performance.  Consider joining all columns at once using pd.concat(axis=1) instead. To get a de-fragmented frame, use `newframe = frame.copy()`\n",
      "  final[entity + '_actual/med_' + str(time)] = final['Amount'] / final[entity + '_med_' + str(time)]\n",
      "/var/folders/ll/h_rnbgns62bcj0skpd2j0ktr0000gp/T/ipykernel_38628/219860616.py:31: PerformanceWarning: DataFrame is highly fragmented.  This is usually the result of calling `frame.insert` many times, which has poor performance.  Consider joining all columns at once using pd.concat(axis=1) instead. To get a de-fragmented frame, use `newframe = frame.copy()`\n",
      "  final[entity + '_actual/toal_' + str(time)] = final['Amount'] / final[entity + '_total_' + str(time)]\n",
      "/var/folders/ll/h_rnbgns62bcj0skpd2j0ktr0000gp/T/ipykernel_38628/219860616.py:22: PerformanceWarning: DataFrame is highly fragmented.  This is usually the result of calling `frame.insert` many times, which has poor performance.  Consider joining all columns at once using pd.concat(axis=1) instead. To get a de-fragmented frame, use `newframe = frame.copy()`\n",
      "  final[col_name] = final.Recnum.map(mapper2)\n"
     ]
    },
    {
     "name": "stdout",
     "output_type": "stream",
     "text": [
      "\n",
      "card_merchnum_month_day_since ---> Done\n",
      "card_merchnum_month_count_0 ---> Done\n",
      "card_merchnum_month amount variables over past 0 ---> Done\n",
      "card_merchnum_month_count_1 ---> Done\n",
      "card_merchnum_month amount variables over past 1 ---> Done\n",
      "card_merchnum_month_count_3 ---> Done\n"
     ]
    },
    {
     "name": "stderr",
     "output_type": "stream",
     "text": [
      "/var/folders/ll/h_rnbgns62bcj0skpd2j0ktr0000gp/T/ipykernel_38628/219860616.py:24: PerformanceWarning: DataFrame is highly fragmented.  This is usually the result of calling `frame.insert` many times, which has poor performance.  Consider joining all columns at once using pd.concat(axis=1) instead. To get a de-fragmented frame, use `newframe = frame.copy()`\n",
      "  final[entity + '_avg_' + str(time)] = final.Recnum.map(temp2.groupby('Recnum')['Amount'].mean())\n",
      "/var/folders/ll/h_rnbgns62bcj0skpd2j0ktr0000gp/T/ipykernel_38628/219860616.py:25: PerformanceWarning: DataFrame is highly fragmented.  This is usually the result of calling `frame.insert` many times, which has poor performance.  Consider joining all columns at once using pd.concat(axis=1) instead. To get a de-fragmented frame, use `newframe = frame.copy()`\n",
      "  final[entity + '_max_' + str(time)] = final.Recnum.map(temp2.groupby('Recnum')['Amount'].max())\n",
      "/var/folders/ll/h_rnbgns62bcj0skpd2j0ktr0000gp/T/ipykernel_38628/219860616.py:26: PerformanceWarning: DataFrame is highly fragmented.  This is usually the result of calling `frame.insert` many times, which has poor performance.  Consider joining all columns at once using pd.concat(axis=1) instead. To get a de-fragmented frame, use `newframe = frame.copy()`\n",
      "  final[entity + '_med_' + str(time)] = final.Recnum.map(temp2.groupby('Recnum')['Amount'].median())\n",
      "/var/folders/ll/h_rnbgns62bcj0skpd2j0ktr0000gp/T/ipykernel_38628/219860616.py:27: PerformanceWarning: DataFrame is highly fragmented.  This is usually the result of calling `frame.insert` many times, which has poor performance.  Consider joining all columns at once using pd.concat(axis=1) instead. To get a de-fragmented frame, use `newframe = frame.copy()`\n",
      "  final[entity + '_total_' + str(time)] = final.Recnum.map(temp2.groupby('Recnum')['Amount'].sum())\n",
      "/var/folders/ll/h_rnbgns62bcj0skpd2j0ktr0000gp/T/ipykernel_38628/219860616.py:28: PerformanceWarning: DataFrame is highly fragmented.  This is usually the result of calling `frame.insert` many times, which has poor performance.  Consider joining all columns at once using pd.concat(axis=1) instead. To get a de-fragmented frame, use `newframe = frame.copy()`\n",
      "  final[entity + '_actual/avg_' + str(time)] = final['Amount'] / final[entity + '_avg_' + str(time)]\n",
      "/var/folders/ll/h_rnbgns62bcj0skpd2j0ktr0000gp/T/ipykernel_38628/219860616.py:29: PerformanceWarning: DataFrame is highly fragmented.  This is usually the result of calling `frame.insert` many times, which has poor performance.  Consider joining all columns at once using pd.concat(axis=1) instead. To get a de-fragmented frame, use `newframe = frame.copy()`\n",
      "  final[entity + '_actual/max_' + str(time)] = final['Amount'] / final[entity + '_max_' + str(time)]\n",
      "/var/folders/ll/h_rnbgns62bcj0skpd2j0ktr0000gp/T/ipykernel_38628/219860616.py:30: PerformanceWarning: DataFrame is highly fragmented.  This is usually the result of calling `frame.insert` many times, which has poor performance.  Consider joining all columns at once using pd.concat(axis=1) instead. To get a de-fragmented frame, use `newframe = frame.copy()`\n",
      "  final[entity + '_actual/med_' + str(time)] = final['Amount'] / final[entity + '_med_' + str(time)]\n",
      "/var/folders/ll/h_rnbgns62bcj0skpd2j0ktr0000gp/T/ipykernel_38628/219860616.py:31: PerformanceWarning: DataFrame is highly fragmented.  This is usually the result of calling `frame.insert` many times, which has poor performance.  Consider joining all columns at once using pd.concat(axis=1) instead. To get a de-fragmented frame, use `newframe = frame.copy()`\n",
      "  final[entity + '_actual/toal_' + str(time)] = final['Amount'] / final[entity + '_total_' + str(time)]\n",
      "/var/folders/ll/h_rnbgns62bcj0skpd2j0ktr0000gp/T/ipykernel_38628/219860616.py:22: PerformanceWarning: DataFrame is highly fragmented.  This is usually the result of calling `frame.insert` many times, which has poor performance.  Consider joining all columns at once using pd.concat(axis=1) instead. To get a de-fragmented frame, use `newframe = frame.copy()`\n",
      "  final[col_name] = final.Recnum.map(mapper2)\n",
      "/var/folders/ll/h_rnbgns62bcj0skpd2j0ktr0000gp/T/ipykernel_38628/219860616.py:24: PerformanceWarning: DataFrame is highly fragmented.  This is usually the result of calling `frame.insert` many times, which has poor performance.  Consider joining all columns at once using pd.concat(axis=1) instead. To get a de-fragmented frame, use `newframe = frame.copy()`\n",
      "  final[entity + '_avg_' + str(time)] = final.Recnum.map(temp2.groupby('Recnum')['Amount'].mean())\n",
      "/var/folders/ll/h_rnbgns62bcj0skpd2j0ktr0000gp/T/ipykernel_38628/219860616.py:25: PerformanceWarning: DataFrame is highly fragmented.  This is usually the result of calling `frame.insert` many times, which has poor performance.  Consider joining all columns at once using pd.concat(axis=1) instead. To get a de-fragmented frame, use `newframe = frame.copy()`\n",
      "  final[entity + '_max_' + str(time)] = final.Recnum.map(temp2.groupby('Recnum')['Amount'].max())\n",
      "/var/folders/ll/h_rnbgns62bcj0skpd2j0ktr0000gp/T/ipykernel_38628/219860616.py:26: PerformanceWarning: DataFrame is highly fragmented.  This is usually the result of calling `frame.insert` many times, which has poor performance.  Consider joining all columns at once using pd.concat(axis=1) instead. To get a de-fragmented frame, use `newframe = frame.copy()`\n",
      "  final[entity + '_med_' + str(time)] = final.Recnum.map(temp2.groupby('Recnum')['Amount'].median())\n",
      "/var/folders/ll/h_rnbgns62bcj0skpd2j0ktr0000gp/T/ipykernel_38628/219860616.py:27: PerformanceWarning: DataFrame is highly fragmented.  This is usually the result of calling `frame.insert` many times, which has poor performance.  Consider joining all columns at once using pd.concat(axis=1) instead. To get a de-fragmented frame, use `newframe = frame.copy()`\n",
      "  final[entity + '_total_' + str(time)] = final.Recnum.map(temp2.groupby('Recnum')['Amount'].sum())\n",
      "/var/folders/ll/h_rnbgns62bcj0skpd2j0ktr0000gp/T/ipykernel_38628/219860616.py:28: PerformanceWarning: DataFrame is highly fragmented.  This is usually the result of calling `frame.insert` many times, which has poor performance.  Consider joining all columns at once using pd.concat(axis=1) instead. To get a de-fragmented frame, use `newframe = frame.copy()`\n",
      "  final[entity + '_actual/avg_' + str(time)] = final['Amount'] / final[entity + '_avg_' + str(time)]\n",
      "/var/folders/ll/h_rnbgns62bcj0skpd2j0ktr0000gp/T/ipykernel_38628/219860616.py:29: PerformanceWarning: DataFrame is highly fragmented.  This is usually the result of calling `frame.insert` many times, which has poor performance.  Consider joining all columns at once using pd.concat(axis=1) instead. To get a de-fragmented frame, use `newframe = frame.copy()`\n",
      "  final[entity + '_actual/max_' + str(time)] = final['Amount'] / final[entity + '_max_' + str(time)]\n",
      "/var/folders/ll/h_rnbgns62bcj0skpd2j0ktr0000gp/T/ipykernel_38628/219860616.py:30: PerformanceWarning: DataFrame is highly fragmented.  This is usually the result of calling `frame.insert` many times, which has poor performance.  Consider joining all columns at once using pd.concat(axis=1) instead. To get a de-fragmented frame, use `newframe = frame.copy()`\n",
      "  final[entity + '_actual/med_' + str(time)] = final['Amount'] / final[entity + '_med_' + str(time)]\n",
      "/var/folders/ll/h_rnbgns62bcj0skpd2j0ktr0000gp/T/ipykernel_38628/219860616.py:31: PerformanceWarning: DataFrame is highly fragmented.  This is usually the result of calling `frame.insert` many times, which has poor performance.  Consider joining all columns at once using pd.concat(axis=1) instead. To get a de-fragmented frame, use `newframe = frame.copy()`\n",
      "  final[entity + '_actual/toal_' + str(time)] = final['Amount'] / final[entity + '_total_' + str(time)]\n",
      "/var/folders/ll/h_rnbgns62bcj0skpd2j0ktr0000gp/T/ipykernel_38628/219860616.py:22: PerformanceWarning: DataFrame is highly fragmented.  This is usually the result of calling `frame.insert` many times, which has poor performance.  Consider joining all columns at once using pd.concat(axis=1) instead. To get a de-fragmented frame, use `newframe = frame.copy()`\n",
      "  final[col_name] = final.Recnum.map(mapper2)\n",
      "/var/folders/ll/h_rnbgns62bcj0skpd2j0ktr0000gp/T/ipykernel_38628/219860616.py:24: PerformanceWarning: DataFrame is highly fragmented.  This is usually the result of calling `frame.insert` many times, which has poor performance.  Consider joining all columns at once using pd.concat(axis=1) instead. To get a de-fragmented frame, use `newframe = frame.copy()`\n",
      "  final[entity + '_avg_' + str(time)] = final.Recnum.map(temp2.groupby('Recnum')['Amount'].mean())\n"
     ]
    },
    {
     "name": "stdout",
     "output_type": "stream",
     "text": [
      "card_merchnum_month amount variables over past 3 ---> Done\n",
      "card_merchnum_month_count_7 ---> Done\n",
      "card_merchnum_month amount variables over past 7 ---> Done\n",
      "card_merchnum_month_count_14 ---> Done\n",
      "card_merchnum_month amount variables over past 14 ---> Done\n"
     ]
    },
    {
     "name": "stderr",
     "output_type": "stream",
     "text": [
      "/var/folders/ll/h_rnbgns62bcj0skpd2j0ktr0000gp/T/ipykernel_38628/219860616.py:25: PerformanceWarning: DataFrame is highly fragmented.  This is usually the result of calling `frame.insert` many times, which has poor performance.  Consider joining all columns at once using pd.concat(axis=1) instead. To get a de-fragmented frame, use `newframe = frame.copy()`\n",
      "  final[entity + '_max_' + str(time)] = final.Recnum.map(temp2.groupby('Recnum')['Amount'].max())\n",
      "/var/folders/ll/h_rnbgns62bcj0skpd2j0ktr0000gp/T/ipykernel_38628/219860616.py:26: PerformanceWarning: DataFrame is highly fragmented.  This is usually the result of calling `frame.insert` many times, which has poor performance.  Consider joining all columns at once using pd.concat(axis=1) instead. To get a de-fragmented frame, use `newframe = frame.copy()`\n",
      "  final[entity + '_med_' + str(time)] = final.Recnum.map(temp2.groupby('Recnum')['Amount'].median())\n",
      "/var/folders/ll/h_rnbgns62bcj0skpd2j0ktr0000gp/T/ipykernel_38628/219860616.py:27: PerformanceWarning: DataFrame is highly fragmented.  This is usually the result of calling `frame.insert` many times, which has poor performance.  Consider joining all columns at once using pd.concat(axis=1) instead. To get a de-fragmented frame, use `newframe = frame.copy()`\n",
      "  final[entity + '_total_' + str(time)] = final.Recnum.map(temp2.groupby('Recnum')['Amount'].sum())\n",
      "/var/folders/ll/h_rnbgns62bcj0skpd2j0ktr0000gp/T/ipykernel_38628/219860616.py:28: PerformanceWarning: DataFrame is highly fragmented.  This is usually the result of calling `frame.insert` many times, which has poor performance.  Consider joining all columns at once using pd.concat(axis=1) instead. To get a de-fragmented frame, use `newframe = frame.copy()`\n",
      "  final[entity + '_actual/avg_' + str(time)] = final['Amount'] / final[entity + '_avg_' + str(time)]\n",
      "/var/folders/ll/h_rnbgns62bcj0skpd2j0ktr0000gp/T/ipykernel_38628/219860616.py:29: PerformanceWarning: DataFrame is highly fragmented.  This is usually the result of calling `frame.insert` many times, which has poor performance.  Consider joining all columns at once using pd.concat(axis=1) instead. To get a de-fragmented frame, use `newframe = frame.copy()`\n",
      "  final[entity + '_actual/max_' + str(time)] = final['Amount'] / final[entity + '_max_' + str(time)]\n",
      "/var/folders/ll/h_rnbgns62bcj0skpd2j0ktr0000gp/T/ipykernel_38628/219860616.py:30: PerformanceWarning: DataFrame is highly fragmented.  This is usually the result of calling `frame.insert` many times, which has poor performance.  Consider joining all columns at once using pd.concat(axis=1) instead. To get a de-fragmented frame, use `newframe = frame.copy()`\n",
      "  final[entity + '_actual/med_' + str(time)] = final['Amount'] / final[entity + '_med_' + str(time)]\n",
      "/var/folders/ll/h_rnbgns62bcj0skpd2j0ktr0000gp/T/ipykernel_38628/219860616.py:31: PerformanceWarning: DataFrame is highly fragmented.  This is usually the result of calling `frame.insert` many times, which has poor performance.  Consider joining all columns at once using pd.concat(axis=1) instead. To get a de-fragmented frame, use `newframe = frame.copy()`\n",
      "  final[entity + '_actual/toal_' + str(time)] = final['Amount'] / final[entity + '_total_' + str(time)]\n",
      "/var/folders/ll/h_rnbgns62bcj0skpd2j0ktr0000gp/T/ipykernel_38628/219860616.py:22: PerformanceWarning: DataFrame is highly fragmented.  This is usually the result of calling `frame.insert` many times, which has poor performance.  Consider joining all columns at once using pd.concat(axis=1) instead. To get a de-fragmented frame, use `newframe = frame.copy()`\n",
      "  final[col_name] = final.Recnum.map(mapper2)\n",
      "/var/folders/ll/h_rnbgns62bcj0skpd2j0ktr0000gp/T/ipykernel_38628/219860616.py:24: PerformanceWarning: DataFrame is highly fragmented.  This is usually the result of calling `frame.insert` many times, which has poor performance.  Consider joining all columns at once using pd.concat(axis=1) instead. To get a de-fragmented frame, use `newframe = frame.copy()`\n",
      "  final[entity + '_avg_' + str(time)] = final.Recnum.map(temp2.groupby('Recnum')['Amount'].mean())\n",
      "/var/folders/ll/h_rnbgns62bcj0skpd2j0ktr0000gp/T/ipykernel_38628/219860616.py:25: PerformanceWarning: DataFrame is highly fragmented.  This is usually the result of calling `frame.insert` many times, which has poor performance.  Consider joining all columns at once using pd.concat(axis=1) instead. To get a de-fragmented frame, use `newframe = frame.copy()`\n",
      "  final[entity + '_max_' + str(time)] = final.Recnum.map(temp2.groupby('Recnum')['Amount'].max())\n",
      "/var/folders/ll/h_rnbgns62bcj0skpd2j0ktr0000gp/T/ipykernel_38628/219860616.py:26: PerformanceWarning: DataFrame is highly fragmented.  This is usually the result of calling `frame.insert` many times, which has poor performance.  Consider joining all columns at once using pd.concat(axis=1) instead. To get a de-fragmented frame, use `newframe = frame.copy()`\n",
      "  final[entity + '_med_' + str(time)] = final.Recnum.map(temp2.groupby('Recnum')['Amount'].median())\n",
      "/var/folders/ll/h_rnbgns62bcj0skpd2j0ktr0000gp/T/ipykernel_38628/219860616.py:27: PerformanceWarning: DataFrame is highly fragmented.  This is usually the result of calling `frame.insert` many times, which has poor performance.  Consider joining all columns at once using pd.concat(axis=1) instead. To get a de-fragmented frame, use `newframe = frame.copy()`\n",
      "  final[entity + '_total_' + str(time)] = final.Recnum.map(temp2.groupby('Recnum')['Amount'].sum())\n",
      "/var/folders/ll/h_rnbgns62bcj0skpd2j0ktr0000gp/T/ipykernel_38628/219860616.py:28: PerformanceWarning: DataFrame is highly fragmented.  This is usually the result of calling `frame.insert` many times, which has poor performance.  Consider joining all columns at once using pd.concat(axis=1) instead. To get a de-fragmented frame, use `newframe = frame.copy()`\n",
      "  final[entity + '_actual/avg_' + str(time)] = final['Amount'] / final[entity + '_avg_' + str(time)]\n",
      "/var/folders/ll/h_rnbgns62bcj0skpd2j0ktr0000gp/T/ipykernel_38628/219860616.py:29: PerformanceWarning: DataFrame is highly fragmented.  This is usually the result of calling `frame.insert` many times, which has poor performance.  Consider joining all columns at once using pd.concat(axis=1) instead. To get a de-fragmented frame, use `newframe = frame.copy()`\n",
      "  final[entity + '_actual/max_' + str(time)] = final['Amount'] / final[entity + '_max_' + str(time)]\n",
      "/var/folders/ll/h_rnbgns62bcj0skpd2j0ktr0000gp/T/ipykernel_38628/219860616.py:30: PerformanceWarning: DataFrame is highly fragmented.  This is usually the result of calling `frame.insert` many times, which has poor performance.  Consider joining all columns at once using pd.concat(axis=1) instead. To get a de-fragmented frame, use `newframe = frame.copy()`\n",
      "  final[entity + '_actual/med_' + str(time)] = final['Amount'] / final[entity + '_med_' + str(time)]\n",
      "/var/folders/ll/h_rnbgns62bcj0skpd2j0ktr0000gp/T/ipykernel_38628/219860616.py:31: PerformanceWarning: DataFrame is highly fragmented.  This is usually the result of calling `frame.insert` many times, which has poor performance.  Consider joining all columns at once using pd.concat(axis=1) instead. To get a de-fragmented frame, use `newframe = frame.copy()`\n",
      "  final[entity + '_actual/toal_' + str(time)] = final['Amount'] / final[entity + '_total_' + str(time)]\n"
     ]
    },
    {
     "name": "stdout",
     "output_type": "stream",
     "text": [
      "card_merchnum_month_count_30 ---> Done\n",
      "card_merchnum_month amount variables over past 30 ---> Done\n",
      "Run time for the last entity ----------------- 0.7257860419999815s\n",
      "\n",
      "card_merchnum_state_month_day_since ---> Done\n"
     ]
    },
    {
     "name": "stderr",
     "output_type": "stream",
     "text": [
      "/var/folders/ll/h_rnbgns62bcj0skpd2j0ktr0000gp/T/ipykernel_38628/219860616.py:13: PerformanceWarning: DataFrame is highly fragmented.  This is usually the result of calling `frame.insert` many times, which has poor performance.  Consider joining all columns at once using pd.concat(axis=1) instead. To get a de-fragmented frame, use `newframe = frame.copy()`\n",
      "  final[entity + '_day_since'] = final.Recnum.map(mapper)\n",
      "/var/folders/ll/h_rnbgns62bcj0skpd2j0ktr0000gp/T/ipykernel_38628/219860616.py:22: PerformanceWarning: DataFrame is highly fragmented.  This is usually the result of calling `frame.insert` many times, which has poor performance.  Consider joining all columns at once using pd.concat(axis=1) instead. To get a de-fragmented frame, use `newframe = frame.copy()`\n",
      "  final[col_name] = final.Recnum.map(mapper2)\n",
      "/var/folders/ll/h_rnbgns62bcj0skpd2j0ktr0000gp/T/ipykernel_38628/219860616.py:24: PerformanceWarning: DataFrame is highly fragmented.  This is usually the result of calling `frame.insert` many times, which has poor performance.  Consider joining all columns at once using pd.concat(axis=1) instead. To get a de-fragmented frame, use `newframe = frame.copy()`\n",
      "  final[entity + '_avg_' + str(time)] = final.Recnum.map(temp2.groupby('Recnum')['Amount'].mean())\n",
      "/var/folders/ll/h_rnbgns62bcj0skpd2j0ktr0000gp/T/ipykernel_38628/219860616.py:25: PerformanceWarning: DataFrame is highly fragmented.  This is usually the result of calling `frame.insert` many times, which has poor performance.  Consider joining all columns at once using pd.concat(axis=1) instead. To get a de-fragmented frame, use `newframe = frame.copy()`\n",
      "  final[entity + '_max_' + str(time)] = final.Recnum.map(temp2.groupby('Recnum')['Amount'].max())\n",
      "/var/folders/ll/h_rnbgns62bcj0skpd2j0ktr0000gp/T/ipykernel_38628/219860616.py:26: PerformanceWarning: DataFrame is highly fragmented.  This is usually the result of calling `frame.insert` many times, which has poor performance.  Consider joining all columns at once using pd.concat(axis=1) instead. To get a de-fragmented frame, use `newframe = frame.copy()`\n",
      "  final[entity + '_med_' + str(time)] = final.Recnum.map(temp2.groupby('Recnum')['Amount'].median())\n",
      "/var/folders/ll/h_rnbgns62bcj0skpd2j0ktr0000gp/T/ipykernel_38628/219860616.py:27: PerformanceWarning: DataFrame is highly fragmented.  This is usually the result of calling `frame.insert` many times, which has poor performance.  Consider joining all columns at once using pd.concat(axis=1) instead. To get a de-fragmented frame, use `newframe = frame.copy()`\n",
      "  final[entity + '_total_' + str(time)] = final.Recnum.map(temp2.groupby('Recnum')['Amount'].sum())\n",
      "/var/folders/ll/h_rnbgns62bcj0skpd2j0ktr0000gp/T/ipykernel_38628/219860616.py:28: PerformanceWarning: DataFrame is highly fragmented.  This is usually the result of calling `frame.insert` many times, which has poor performance.  Consider joining all columns at once using pd.concat(axis=1) instead. To get a de-fragmented frame, use `newframe = frame.copy()`\n",
      "  final[entity + '_actual/avg_' + str(time)] = final['Amount'] / final[entity + '_avg_' + str(time)]\n",
      "/var/folders/ll/h_rnbgns62bcj0skpd2j0ktr0000gp/T/ipykernel_38628/219860616.py:29: PerformanceWarning: DataFrame is highly fragmented.  This is usually the result of calling `frame.insert` many times, which has poor performance.  Consider joining all columns at once using pd.concat(axis=1) instead. To get a de-fragmented frame, use `newframe = frame.copy()`\n",
      "  final[entity + '_actual/max_' + str(time)] = final['Amount'] / final[entity + '_max_' + str(time)]\n",
      "/var/folders/ll/h_rnbgns62bcj0skpd2j0ktr0000gp/T/ipykernel_38628/219860616.py:30: PerformanceWarning: DataFrame is highly fragmented.  This is usually the result of calling `frame.insert` many times, which has poor performance.  Consider joining all columns at once using pd.concat(axis=1) instead. To get a de-fragmented frame, use `newframe = frame.copy()`\n",
      "  final[entity + '_actual/med_' + str(time)] = final['Amount'] / final[entity + '_med_' + str(time)]\n",
      "/var/folders/ll/h_rnbgns62bcj0skpd2j0ktr0000gp/T/ipykernel_38628/219860616.py:31: PerformanceWarning: DataFrame is highly fragmented.  This is usually the result of calling `frame.insert` many times, which has poor performance.  Consider joining all columns at once using pd.concat(axis=1) instead. To get a de-fragmented frame, use `newframe = frame.copy()`\n",
      "  final[entity + '_actual/toal_' + str(time)] = final['Amount'] / final[entity + '_total_' + str(time)]\n",
      "/var/folders/ll/h_rnbgns62bcj0skpd2j0ktr0000gp/T/ipykernel_38628/219860616.py:22: PerformanceWarning: DataFrame is highly fragmented.  This is usually the result of calling `frame.insert` many times, which has poor performance.  Consider joining all columns at once using pd.concat(axis=1) instead. To get a de-fragmented frame, use `newframe = frame.copy()`\n",
      "  final[col_name] = final.Recnum.map(mapper2)\n",
      "/var/folders/ll/h_rnbgns62bcj0skpd2j0ktr0000gp/T/ipykernel_38628/219860616.py:24: PerformanceWarning: DataFrame is highly fragmented.  This is usually the result of calling `frame.insert` many times, which has poor performance.  Consider joining all columns at once using pd.concat(axis=1) instead. To get a de-fragmented frame, use `newframe = frame.copy()`\n",
      "  final[entity + '_avg_' + str(time)] = final.Recnum.map(temp2.groupby('Recnum')['Amount'].mean())\n",
      "/var/folders/ll/h_rnbgns62bcj0skpd2j0ktr0000gp/T/ipykernel_38628/219860616.py:25: PerformanceWarning: DataFrame is highly fragmented.  This is usually the result of calling `frame.insert` many times, which has poor performance.  Consider joining all columns at once using pd.concat(axis=1) instead. To get a de-fragmented frame, use `newframe = frame.copy()`\n",
      "  final[entity + '_max_' + str(time)] = final.Recnum.map(temp2.groupby('Recnum')['Amount'].max())\n",
      "/var/folders/ll/h_rnbgns62bcj0skpd2j0ktr0000gp/T/ipykernel_38628/219860616.py:26: PerformanceWarning: DataFrame is highly fragmented.  This is usually the result of calling `frame.insert` many times, which has poor performance.  Consider joining all columns at once using pd.concat(axis=1) instead. To get a de-fragmented frame, use `newframe = frame.copy()`\n",
      "  final[entity + '_med_' + str(time)] = final.Recnum.map(temp2.groupby('Recnum')['Amount'].median())\n",
      "/var/folders/ll/h_rnbgns62bcj0skpd2j0ktr0000gp/T/ipykernel_38628/219860616.py:27: PerformanceWarning: DataFrame is highly fragmented.  This is usually the result of calling `frame.insert` many times, which has poor performance.  Consider joining all columns at once using pd.concat(axis=1) instead. To get a de-fragmented frame, use `newframe = frame.copy()`\n",
      "  final[entity + '_total_' + str(time)] = final.Recnum.map(temp2.groupby('Recnum')['Amount'].sum())\n",
      "/var/folders/ll/h_rnbgns62bcj0skpd2j0ktr0000gp/T/ipykernel_38628/219860616.py:28: PerformanceWarning: DataFrame is highly fragmented.  This is usually the result of calling `frame.insert` many times, which has poor performance.  Consider joining all columns at once using pd.concat(axis=1) instead. To get a de-fragmented frame, use `newframe = frame.copy()`\n",
      "  final[entity + '_actual/avg_' + str(time)] = final['Amount'] / final[entity + '_avg_' + str(time)]\n",
      "/var/folders/ll/h_rnbgns62bcj0skpd2j0ktr0000gp/T/ipykernel_38628/219860616.py:29: PerformanceWarning: DataFrame is highly fragmented.  This is usually the result of calling `frame.insert` many times, which has poor performance.  Consider joining all columns at once using pd.concat(axis=1) instead. To get a de-fragmented frame, use `newframe = frame.copy()`\n",
      "  final[entity + '_actual/max_' + str(time)] = final['Amount'] / final[entity + '_max_' + str(time)]\n",
      "/var/folders/ll/h_rnbgns62bcj0skpd2j0ktr0000gp/T/ipykernel_38628/219860616.py:30: PerformanceWarning: DataFrame is highly fragmented.  This is usually the result of calling `frame.insert` many times, which has poor performance.  Consider joining all columns at once using pd.concat(axis=1) instead. To get a de-fragmented frame, use `newframe = frame.copy()`\n",
      "  final[entity + '_actual/med_' + str(time)] = final['Amount'] / final[entity + '_med_' + str(time)]\n",
      "/var/folders/ll/h_rnbgns62bcj0skpd2j0ktr0000gp/T/ipykernel_38628/219860616.py:31: PerformanceWarning: DataFrame is highly fragmented.  This is usually the result of calling `frame.insert` many times, which has poor performance.  Consider joining all columns at once using pd.concat(axis=1) instead. To get a de-fragmented frame, use `newframe = frame.copy()`\n",
      "  final[entity + '_actual/toal_' + str(time)] = final['Amount'] / final[entity + '_total_' + str(time)]\n",
      "/var/folders/ll/h_rnbgns62bcj0skpd2j0ktr0000gp/T/ipykernel_38628/219860616.py:22: PerformanceWarning: DataFrame is highly fragmented.  This is usually the result of calling `frame.insert` many times, which has poor performance.  Consider joining all columns at once using pd.concat(axis=1) instead. To get a de-fragmented frame, use `newframe = frame.copy()`\n",
      "  final[col_name] = final.Recnum.map(mapper2)\n",
      "/var/folders/ll/h_rnbgns62bcj0skpd2j0ktr0000gp/T/ipykernel_38628/219860616.py:24: PerformanceWarning: DataFrame is highly fragmented.  This is usually the result of calling `frame.insert` many times, which has poor performance.  Consider joining all columns at once using pd.concat(axis=1) instead. To get a de-fragmented frame, use `newframe = frame.copy()`\n",
      "  final[entity + '_avg_' + str(time)] = final.Recnum.map(temp2.groupby('Recnum')['Amount'].mean())\n"
     ]
    },
    {
     "name": "stdout",
     "output_type": "stream",
     "text": [
      "card_merchnum_state_month_count_0 ---> Done\n",
      "card_merchnum_state_month amount variables over past 0 ---> Done\n",
      "card_merchnum_state_month_count_1 ---> Done\n",
      "card_merchnum_state_month amount variables over past 1 ---> Done\n",
      "card_merchnum_state_month_count_3 ---> Done\n"
     ]
    },
    {
     "name": "stderr",
     "output_type": "stream",
     "text": [
      "/var/folders/ll/h_rnbgns62bcj0skpd2j0ktr0000gp/T/ipykernel_38628/219860616.py:25: PerformanceWarning: DataFrame is highly fragmented.  This is usually the result of calling `frame.insert` many times, which has poor performance.  Consider joining all columns at once using pd.concat(axis=1) instead. To get a de-fragmented frame, use `newframe = frame.copy()`\n",
      "  final[entity + '_max_' + str(time)] = final.Recnum.map(temp2.groupby('Recnum')['Amount'].max())\n",
      "/var/folders/ll/h_rnbgns62bcj0skpd2j0ktr0000gp/T/ipykernel_38628/219860616.py:26: PerformanceWarning: DataFrame is highly fragmented.  This is usually the result of calling `frame.insert` many times, which has poor performance.  Consider joining all columns at once using pd.concat(axis=1) instead. To get a de-fragmented frame, use `newframe = frame.copy()`\n",
      "  final[entity + '_med_' + str(time)] = final.Recnum.map(temp2.groupby('Recnum')['Amount'].median())\n",
      "/var/folders/ll/h_rnbgns62bcj0skpd2j0ktr0000gp/T/ipykernel_38628/219860616.py:27: PerformanceWarning: DataFrame is highly fragmented.  This is usually the result of calling `frame.insert` many times, which has poor performance.  Consider joining all columns at once using pd.concat(axis=1) instead. To get a de-fragmented frame, use `newframe = frame.copy()`\n",
      "  final[entity + '_total_' + str(time)] = final.Recnum.map(temp2.groupby('Recnum')['Amount'].sum())\n",
      "/var/folders/ll/h_rnbgns62bcj0skpd2j0ktr0000gp/T/ipykernel_38628/219860616.py:28: PerformanceWarning: DataFrame is highly fragmented.  This is usually the result of calling `frame.insert` many times, which has poor performance.  Consider joining all columns at once using pd.concat(axis=1) instead. To get a de-fragmented frame, use `newframe = frame.copy()`\n",
      "  final[entity + '_actual/avg_' + str(time)] = final['Amount'] / final[entity + '_avg_' + str(time)]\n",
      "/var/folders/ll/h_rnbgns62bcj0skpd2j0ktr0000gp/T/ipykernel_38628/219860616.py:29: PerformanceWarning: DataFrame is highly fragmented.  This is usually the result of calling `frame.insert` many times, which has poor performance.  Consider joining all columns at once using pd.concat(axis=1) instead. To get a de-fragmented frame, use `newframe = frame.copy()`\n",
      "  final[entity + '_actual/max_' + str(time)] = final['Amount'] / final[entity + '_max_' + str(time)]\n",
      "/var/folders/ll/h_rnbgns62bcj0skpd2j0ktr0000gp/T/ipykernel_38628/219860616.py:30: PerformanceWarning: DataFrame is highly fragmented.  This is usually the result of calling `frame.insert` many times, which has poor performance.  Consider joining all columns at once using pd.concat(axis=1) instead. To get a de-fragmented frame, use `newframe = frame.copy()`\n",
      "  final[entity + '_actual/med_' + str(time)] = final['Amount'] / final[entity + '_med_' + str(time)]\n",
      "/var/folders/ll/h_rnbgns62bcj0skpd2j0ktr0000gp/T/ipykernel_38628/219860616.py:31: PerformanceWarning: DataFrame is highly fragmented.  This is usually the result of calling `frame.insert` many times, which has poor performance.  Consider joining all columns at once using pd.concat(axis=1) instead. To get a de-fragmented frame, use `newframe = frame.copy()`\n",
      "  final[entity + '_actual/toal_' + str(time)] = final['Amount'] / final[entity + '_total_' + str(time)]\n",
      "/var/folders/ll/h_rnbgns62bcj0skpd2j0ktr0000gp/T/ipykernel_38628/219860616.py:22: PerformanceWarning: DataFrame is highly fragmented.  This is usually the result of calling `frame.insert` many times, which has poor performance.  Consider joining all columns at once using pd.concat(axis=1) instead. To get a de-fragmented frame, use `newframe = frame.copy()`\n",
      "  final[col_name] = final.Recnum.map(mapper2)\n",
      "/var/folders/ll/h_rnbgns62bcj0skpd2j0ktr0000gp/T/ipykernel_38628/219860616.py:24: PerformanceWarning: DataFrame is highly fragmented.  This is usually the result of calling `frame.insert` many times, which has poor performance.  Consider joining all columns at once using pd.concat(axis=1) instead. To get a de-fragmented frame, use `newframe = frame.copy()`\n",
      "  final[entity + '_avg_' + str(time)] = final.Recnum.map(temp2.groupby('Recnum')['Amount'].mean())\n",
      "/var/folders/ll/h_rnbgns62bcj0skpd2j0ktr0000gp/T/ipykernel_38628/219860616.py:25: PerformanceWarning: DataFrame is highly fragmented.  This is usually the result of calling `frame.insert` many times, which has poor performance.  Consider joining all columns at once using pd.concat(axis=1) instead. To get a de-fragmented frame, use `newframe = frame.copy()`\n",
      "  final[entity + '_max_' + str(time)] = final.Recnum.map(temp2.groupby('Recnum')['Amount'].max())\n",
      "/var/folders/ll/h_rnbgns62bcj0skpd2j0ktr0000gp/T/ipykernel_38628/219860616.py:26: PerformanceWarning: DataFrame is highly fragmented.  This is usually the result of calling `frame.insert` many times, which has poor performance.  Consider joining all columns at once using pd.concat(axis=1) instead. To get a de-fragmented frame, use `newframe = frame.copy()`\n",
      "  final[entity + '_med_' + str(time)] = final.Recnum.map(temp2.groupby('Recnum')['Amount'].median())\n",
      "/var/folders/ll/h_rnbgns62bcj0skpd2j0ktr0000gp/T/ipykernel_38628/219860616.py:27: PerformanceWarning: DataFrame is highly fragmented.  This is usually the result of calling `frame.insert` many times, which has poor performance.  Consider joining all columns at once using pd.concat(axis=1) instead. To get a de-fragmented frame, use `newframe = frame.copy()`\n",
      "  final[entity + '_total_' + str(time)] = final.Recnum.map(temp2.groupby('Recnum')['Amount'].sum())\n",
      "/var/folders/ll/h_rnbgns62bcj0skpd2j0ktr0000gp/T/ipykernel_38628/219860616.py:28: PerformanceWarning: DataFrame is highly fragmented.  This is usually the result of calling `frame.insert` many times, which has poor performance.  Consider joining all columns at once using pd.concat(axis=1) instead. To get a de-fragmented frame, use `newframe = frame.copy()`\n",
      "  final[entity + '_actual/avg_' + str(time)] = final['Amount'] / final[entity + '_avg_' + str(time)]\n",
      "/var/folders/ll/h_rnbgns62bcj0skpd2j0ktr0000gp/T/ipykernel_38628/219860616.py:29: PerformanceWarning: DataFrame is highly fragmented.  This is usually the result of calling `frame.insert` many times, which has poor performance.  Consider joining all columns at once using pd.concat(axis=1) instead. To get a de-fragmented frame, use `newframe = frame.copy()`\n",
      "  final[entity + '_actual/max_' + str(time)] = final['Amount'] / final[entity + '_max_' + str(time)]\n",
      "/var/folders/ll/h_rnbgns62bcj0skpd2j0ktr0000gp/T/ipykernel_38628/219860616.py:30: PerformanceWarning: DataFrame is highly fragmented.  This is usually the result of calling `frame.insert` many times, which has poor performance.  Consider joining all columns at once using pd.concat(axis=1) instead. To get a de-fragmented frame, use `newframe = frame.copy()`\n",
      "  final[entity + '_actual/med_' + str(time)] = final['Amount'] / final[entity + '_med_' + str(time)]\n",
      "/var/folders/ll/h_rnbgns62bcj0skpd2j0ktr0000gp/T/ipykernel_38628/219860616.py:31: PerformanceWarning: DataFrame is highly fragmented.  This is usually the result of calling `frame.insert` many times, which has poor performance.  Consider joining all columns at once using pd.concat(axis=1) instead. To get a de-fragmented frame, use `newframe = frame.copy()`\n",
      "  final[entity + '_actual/toal_' + str(time)] = final['Amount'] / final[entity + '_total_' + str(time)]\n",
      "/var/folders/ll/h_rnbgns62bcj0skpd2j0ktr0000gp/T/ipykernel_38628/219860616.py:22: PerformanceWarning: DataFrame is highly fragmented.  This is usually the result of calling `frame.insert` many times, which has poor performance.  Consider joining all columns at once using pd.concat(axis=1) instead. To get a de-fragmented frame, use `newframe = frame.copy()`\n",
      "  final[col_name] = final.Recnum.map(mapper2)\n",
      "/var/folders/ll/h_rnbgns62bcj0skpd2j0ktr0000gp/T/ipykernel_38628/219860616.py:24: PerformanceWarning: DataFrame is highly fragmented.  This is usually the result of calling `frame.insert` many times, which has poor performance.  Consider joining all columns at once using pd.concat(axis=1) instead. To get a de-fragmented frame, use `newframe = frame.copy()`\n",
      "  final[entity + '_avg_' + str(time)] = final.Recnum.map(temp2.groupby('Recnum')['Amount'].mean())\n",
      "/var/folders/ll/h_rnbgns62bcj0skpd2j0ktr0000gp/T/ipykernel_38628/219860616.py:25: PerformanceWarning: DataFrame is highly fragmented.  This is usually the result of calling `frame.insert` many times, which has poor performance.  Consider joining all columns at once using pd.concat(axis=1) instead. To get a de-fragmented frame, use `newframe = frame.copy()`\n",
      "  final[entity + '_max_' + str(time)] = final.Recnum.map(temp2.groupby('Recnum')['Amount'].max())\n"
     ]
    },
    {
     "name": "stdout",
     "output_type": "stream",
     "text": [
      "card_merchnum_state_month amount variables over past 3 ---> Done\n",
      "card_merchnum_state_month_count_7 ---> Done\n",
      "card_merchnum_state_month amount variables over past 7 ---> Done\n",
      "card_merchnum_state_month_count_14 ---> Done\n"
     ]
    },
    {
     "name": "stderr",
     "output_type": "stream",
     "text": [
      "/var/folders/ll/h_rnbgns62bcj0skpd2j0ktr0000gp/T/ipykernel_38628/219860616.py:26: PerformanceWarning: DataFrame is highly fragmented.  This is usually the result of calling `frame.insert` many times, which has poor performance.  Consider joining all columns at once using pd.concat(axis=1) instead. To get a de-fragmented frame, use `newframe = frame.copy()`\n",
      "  final[entity + '_med_' + str(time)] = final.Recnum.map(temp2.groupby('Recnum')['Amount'].median())\n",
      "/var/folders/ll/h_rnbgns62bcj0skpd2j0ktr0000gp/T/ipykernel_38628/219860616.py:27: PerformanceWarning: DataFrame is highly fragmented.  This is usually the result of calling `frame.insert` many times, which has poor performance.  Consider joining all columns at once using pd.concat(axis=1) instead. To get a de-fragmented frame, use `newframe = frame.copy()`\n",
      "  final[entity + '_total_' + str(time)] = final.Recnum.map(temp2.groupby('Recnum')['Amount'].sum())\n",
      "/var/folders/ll/h_rnbgns62bcj0skpd2j0ktr0000gp/T/ipykernel_38628/219860616.py:28: PerformanceWarning: DataFrame is highly fragmented.  This is usually the result of calling `frame.insert` many times, which has poor performance.  Consider joining all columns at once using pd.concat(axis=1) instead. To get a de-fragmented frame, use `newframe = frame.copy()`\n",
      "  final[entity + '_actual/avg_' + str(time)] = final['Amount'] / final[entity + '_avg_' + str(time)]\n",
      "/var/folders/ll/h_rnbgns62bcj0skpd2j0ktr0000gp/T/ipykernel_38628/219860616.py:29: PerformanceWarning: DataFrame is highly fragmented.  This is usually the result of calling `frame.insert` many times, which has poor performance.  Consider joining all columns at once using pd.concat(axis=1) instead. To get a de-fragmented frame, use `newframe = frame.copy()`\n",
      "  final[entity + '_actual/max_' + str(time)] = final['Amount'] / final[entity + '_max_' + str(time)]\n",
      "/var/folders/ll/h_rnbgns62bcj0skpd2j0ktr0000gp/T/ipykernel_38628/219860616.py:30: PerformanceWarning: DataFrame is highly fragmented.  This is usually the result of calling `frame.insert` many times, which has poor performance.  Consider joining all columns at once using pd.concat(axis=1) instead. To get a de-fragmented frame, use `newframe = frame.copy()`\n",
      "  final[entity + '_actual/med_' + str(time)] = final['Amount'] / final[entity + '_med_' + str(time)]\n",
      "/var/folders/ll/h_rnbgns62bcj0skpd2j0ktr0000gp/T/ipykernel_38628/219860616.py:31: PerformanceWarning: DataFrame is highly fragmented.  This is usually the result of calling `frame.insert` many times, which has poor performance.  Consider joining all columns at once using pd.concat(axis=1) instead. To get a de-fragmented frame, use `newframe = frame.copy()`\n",
      "  final[entity + '_actual/toal_' + str(time)] = final['Amount'] / final[entity + '_total_' + str(time)]\n",
      "/var/folders/ll/h_rnbgns62bcj0skpd2j0ktr0000gp/T/ipykernel_38628/219860616.py:22: PerformanceWarning: DataFrame is highly fragmented.  This is usually the result of calling `frame.insert` many times, which has poor performance.  Consider joining all columns at once using pd.concat(axis=1) instead. To get a de-fragmented frame, use `newframe = frame.copy()`\n",
      "  final[col_name] = final.Recnum.map(mapper2)\n",
      "/var/folders/ll/h_rnbgns62bcj0skpd2j0ktr0000gp/T/ipykernel_38628/219860616.py:24: PerformanceWarning: DataFrame is highly fragmented.  This is usually the result of calling `frame.insert` many times, which has poor performance.  Consider joining all columns at once using pd.concat(axis=1) instead. To get a de-fragmented frame, use `newframe = frame.copy()`\n",
      "  final[entity + '_avg_' + str(time)] = final.Recnum.map(temp2.groupby('Recnum')['Amount'].mean())\n",
      "/var/folders/ll/h_rnbgns62bcj0skpd2j0ktr0000gp/T/ipykernel_38628/219860616.py:25: PerformanceWarning: DataFrame is highly fragmented.  This is usually the result of calling `frame.insert` many times, which has poor performance.  Consider joining all columns at once using pd.concat(axis=1) instead. To get a de-fragmented frame, use `newframe = frame.copy()`\n",
      "  final[entity + '_max_' + str(time)] = final.Recnum.map(temp2.groupby('Recnum')['Amount'].max())\n",
      "/var/folders/ll/h_rnbgns62bcj0skpd2j0ktr0000gp/T/ipykernel_38628/219860616.py:26: PerformanceWarning: DataFrame is highly fragmented.  This is usually the result of calling `frame.insert` many times, which has poor performance.  Consider joining all columns at once using pd.concat(axis=1) instead. To get a de-fragmented frame, use `newframe = frame.copy()`\n",
      "  final[entity + '_med_' + str(time)] = final.Recnum.map(temp2.groupby('Recnum')['Amount'].median())\n",
      "/var/folders/ll/h_rnbgns62bcj0skpd2j0ktr0000gp/T/ipykernel_38628/219860616.py:27: PerformanceWarning: DataFrame is highly fragmented.  This is usually the result of calling `frame.insert` many times, which has poor performance.  Consider joining all columns at once using pd.concat(axis=1) instead. To get a de-fragmented frame, use `newframe = frame.copy()`\n",
      "  final[entity + '_total_' + str(time)] = final.Recnum.map(temp2.groupby('Recnum')['Amount'].sum())\n",
      "/var/folders/ll/h_rnbgns62bcj0skpd2j0ktr0000gp/T/ipykernel_38628/219860616.py:28: PerformanceWarning: DataFrame is highly fragmented.  This is usually the result of calling `frame.insert` many times, which has poor performance.  Consider joining all columns at once using pd.concat(axis=1) instead. To get a de-fragmented frame, use `newframe = frame.copy()`\n",
      "  final[entity + '_actual/avg_' + str(time)] = final['Amount'] / final[entity + '_avg_' + str(time)]\n",
      "/var/folders/ll/h_rnbgns62bcj0skpd2j0ktr0000gp/T/ipykernel_38628/219860616.py:29: PerformanceWarning: DataFrame is highly fragmented.  This is usually the result of calling `frame.insert` many times, which has poor performance.  Consider joining all columns at once using pd.concat(axis=1) instead. To get a de-fragmented frame, use `newframe = frame.copy()`\n",
      "  final[entity + '_actual/max_' + str(time)] = final['Amount'] / final[entity + '_max_' + str(time)]\n",
      "/var/folders/ll/h_rnbgns62bcj0skpd2j0ktr0000gp/T/ipykernel_38628/219860616.py:30: PerformanceWarning: DataFrame is highly fragmented.  This is usually the result of calling `frame.insert` many times, which has poor performance.  Consider joining all columns at once using pd.concat(axis=1) instead. To get a de-fragmented frame, use `newframe = frame.copy()`\n",
      "  final[entity + '_actual/med_' + str(time)] = final['Amount'] / final[entity + '_med_' + str(time)]\n",
      "/var/folders/ll/h_rnbgns62bcj0skpd2j0ktr0000gp/T/ipykernel_38628/219860616.py:31: PerformanceWarning: DataFrame is highly fragmented.  This is usually the result of calling `frame.insert` many times, which has poor performance.  Consider joining all columns at once using pd.concat(axis=1) instead. To get a de-fragmented frame, use `newframe = frame.copy()`\n",
      "  final[entity + '_actual/toal_' + str(time)] = final['Amount'] / final[entity + '_total_' + str(time)]\n"
     ]
    },
    {
     "name": "stdout",
     "output_type": "stream",
     "text": [
      "card_merchnum_state_month amount variables over past 14 ---> Done\n",
      "card_merchnum_state_month_count_30 ---> Done\n",
      "card_merchnum_state_month amount variables over past 30 ---> Done\n",
      "Run time for the last entity ----------------- 0.6709210000001349s\n"
     ]
    },
    {
     "name": "stderr",
     "output_type": "stream",
     "text": [
      "/var/folders/ll/h_rnbgns62bcj0skpd2j0ktr0000gp/T/ipykernel_38628/219860616.py:13: PerformanceWarning: DataFrame is highly fragmented.  This is usually the result of calling `frame.insert` many times, which has poor performance.  Consider joining all columns at once using pd.concat(axis=1) instead. To get a de-fragmented frame, use `newframe = frame.copy()`\n",
      "  final[entity + '_day_since'] = final.Recnum.map(mapper)\n",
      "/var/folders/ll/h_rnbgns62bcj0skpd2j0ktr0000gp/T/ipykernel_38628/219860616.py:22: PerformanceWarning: DataFrame is highly fragmented.  This is usually the result of calling `frame.insert` many times, which has poor performance.  Consider joining all columns at once using pd.concat(axis=1) instead. To get a de-fragmented frame, use `newframe = frame.copy()`\n",
      "  final[col_name] = final.Recnum.map(mapper2)\n",
      "/var/folders/ll/h_rnbgns62bcj0skpd2j0ktr0000gp/T/ipykernel_38628/219860616.py:24: PerformanceWarning: DataFrame is highly fragmented.  This is usually the result of calling `frame.insert` many times, which has poor performance.  Consider joining all columns at once using pd.concat(axis=1) instead. To get a de-fragmented frame, use `newframe = frame.copy()`\n",
      "  final[entity + '_avg_' + str(time)] = final.Recnum.map(temp2.groupby('Recnum')['Amount'].mean())\n",
      "/var/folders/ll/h_rnbgns62bcj0skpd2j0ktr0000gp/T/ipykernel_38628/219860616.py:25: PerformanceWarning: DataFrame is highly fragmented.  This is usually the result of calling `frame.insert` many times, which has poor performance.  Consider joining all columns at once using pd.concat(axis=1) instead. To get a de-fragmented frame, use `newframe = frame.copy()`\n",
      "  final[entity + '_max_' + str(time)] = final.Recnum.map(temp2.groupby('Recnum')['Amount'].max())\n",
      "/var/folders/ll/h_rnbgns62bcj0skpd2j0ktr0000gp/T/ipykernel_38628/219860616.py:26: PerformanceWarning: DataFrame is highly fragmented.  This is usually the result of calling `frame.insert` many times, which has poor performance.  Consider joining all columns at once using pd.concat(axis=1) instead. To get a de-fragmented frame, use `newframe = frame.copy()`\n",
      "  final[entity + '_med_' + str(time)] = final.Recnum.map(temp2.groupby('Recnum')['Amount'].median())\n",
      "/var/folders/ll/h_rnbgns62bcj0skpd2j0ktr0000gp/T/ipykernel_38628/219860616.py:27: PerformanceWarning: DataFrame is highly fragmented.  This is usually the result of calling `frame.insert` many times, which has poor performance.  Consider joining all columns at once using pd.concat(axis=1) instead. To get a de-fragmented frame, use `newframe = frame.copy()`\n",
      "  final[entity + '_total_' + str(time)] = final.Recnum.map(temp2.groupby('Recnum')['Amount'].sum())\n",
      "/var/folders/ll/h_rnbgns62bcj0skpd2j0ktr0000gp/T/ipykernel_38628/219860616.py:28: PerformanceWarning: DataFrame is highly fragmented.  This is usually the result of calling `frame.insert` many times, which has poor performance.  Consider joining all columns at once using pd.concat(axis=1) instead. To get a de-fragmented frame, use `newframe = frame.copy()`\n",
      "  final[entity + '_actual/avg_' + str(time)] = final['Amount'] / final[entity + '_avg_' + str(time)]\n",
      "/var/folders/ll/h_rnbgns62bcj0skpd2j0ktr0000gp/T/ipykernel_38628/219860616.py:29: PerformanceWarning: DataFrame is highly fragmented.  This is usually the result of calling `frame.insert` many times, which has poor performance.  Consider joining all columns at once using pd.concat(axis=1) instead. To get a de-fragmented frame, use `newframe = frame.copy()`\n",
      "  final[entity + '_actual/max_' + str(time)] = final['Amount'] / final[entity + '_max_' + str(time)]\n",
      "/var/folders/ll/h_rnbgns62bcj0skpd2j0ktr0000gp/T/ipykernel_38628/219860616.py:30: PerformanceWarning: DataFrame is highly fragmented.  This is usually the result of calling `frame.insert` many times, which has poor performance.  Consider joining all columns at once using pd.concat(axis=1) instead. To get a de-fragmented frame, use `newframe = frame.copy()`\n",
      "  final[entity + '_actual/med_' + str(time)] = final['Amount'] / final[entity + '_med_' + str(time)]\n",
      "/var/folders/ll/h_rnbgns62bcj0skpd2j0ktr0000gp/T/ipykernel_38628/219860616.py:31: PerformanceWarning: DataFrame is highly fragmented.  This is usually the result of calling `frame.insert` many times, which has poor performance.  Consider joining all columns at once using pd.concat(axis=1) instead. To get a de-fragmented frame, use `newframe = frame.copy()`\n",
      "  final[entity + '_actual/toal_' + str(time)] = final['Amount'] / final[entity + '_total_' + str(time)]\n",
      "/var/folders/ll/h_rnbgns62bcj0skpd2j0ktr0000gp/T/ipykernel_38628/219860616.py:22: PerformanceWarning: DataFrame is highly fragmented.  This is usually the result of calling `frame.insert` many times, which has poor performance.  Consider joining all columns at once using pd.concat(axis=1) instead. To get a de-fragmented frame, use `newframe = frame.copy()`\n",
      "  final[col_name] = final.Recnum.map(mapper2)\n",
      "/var/folders/ll/h_rnbgns62bcj0skpd2j0ktr0000gp/T/ipykernel_38628/219860616.py:24: PerformanceWarning: DataFrame is highly fragmented.  This is usually the result of calling `frame.insert` many times, which has poor performance.  Consider joining all columns at once using pd.concat(axis=1) instead. To get a de-fragmented frame, use `newframe = frame.copy()`\n",
      "  final[entity + '_avg_' + str(time)] = final.Recnum.map(temp2.groupby('Recnum')['Amount'].mean())\n",
      "/var/folders/ll/h_rnbgns62bcj0skpd2j0ktr0000gp/T/ipykernel_38628/219860616.py:25: PerformanceWarning: DataFrame is highly fragmented.  This is usually the result of calling `frame.insert` many times, which has poor performance.  Consider joining all columns at once using pd.concat(axis=1) instead. To get a de-fragmented frame, use `newframe = frame.copy()`\n",
      "  final[entity + '_max_' + str(time)] = final.Recnum.map(temp2.groupby('Recnum')['Amount'].max())\n",
      "/var/folders/ll/h_rnbgns62bcj0skpd2j0ktr0000gp/T/ipykernel_38628/219860616.py:26: PerformanceWarning: DataFrame is highly fragmented.  This is usually the result of calling `frame.insert` many times, which has poor performance.  Consider joining all columns at once using pd.concat(axis=1) instead. To get a de-fragmented frame, use `newframe = frame.copy()`\n",
      "  final[entity + '_med_' + str(time)] = final.Recnum.map(temp2.groupby('Recnum')['Amount'].median())\n"
     ]
    },
    {
     "name": "stdout",
     "output_type": "stream",
     "text": [
      "\n",
      "card_merchnum_state_day_since ---> Done\n",
      "card_merchnum_state_count_0 ---> Done\n",
      "card_merchnum_state amount variables over past 0 ---> Done\n",
      "card_merchnum_state_count_1 ---> Done\n"
     ]
    },
    {
     "name": "stderr",
     "output_type": "stream",
     "text": [
      "/var/folders/ll/h_rnbgns62bcj0skpd2j0ktr0000gp/T/ipykernel_38628/219860616.py:27: PerformanceWarning: DataFrame is highly fragmented.  This is usually the result of calling `frame.insert` many times, which has poor performance.  Consider joining all columns at once using pd.concat(axis=1) instead. To get a de-fragmented frame, use `newframe = frame.copy()`\n",
      "  final[entity + '_total_' + str(time)] = final.Recnum.map(temp2.groupby('Recnum')['Amount'].sum())\n",
      "/var/folders/ll/h_rnbgns62bcj0skpd2j0ktr0000gp/T/ipykernel_38628/219860616.py:28: PerformanceWarning: DataFrame is highly fragmented.  This is usually the result of calling `frame.insert` many times, which has poor performance.  Consider joining all columns at once using pd.concat(axis=1) instead. To get a de-fragmented frame, use `newframe = frame.copy()`\n",
      "  final[entity + '_actual/avg_' + str(time)] = final['Amount'] / final[entity + '_avg_' + str(time)]\n",
      "/var/folders/ll/h_rnbgns62bcj0skpd2j0ktr0000gp/T/ipykernel_38628/219860616.py:29: PerformanceWarning: DataFrame is highly fragmented.  This is usually the result of calling `frame.insert` many times, which has poor performance.  Consider joining all columns at once using pd.concat(axis=1) instead. To get a de-fragmented frame, use `newframe = frame.copy()`\n",
      "  final[entity + '_actual/max_' + str(time)] = final['Amount'] / final[entity + '_max_' + str(time)]\n",
      "/var/folders/ll/h_rnbgns62bcj0skpd2j0ktr0000gp/T/ipykernel_38628/219860616.py:30: PerformanceWarning: DataFrame is highly fragmented.  This is usually the result of calling `frame.insert` many times, which has poor performance.  Consider joining all columns at once using pd.concat(axis=1) instead. To get a de-fragmented frame, use `newframe = frame.copy()`\n",
      "  final[entity + '_actual/med_' + str(time)] = final['Amount'] / final[entity + '_med_' + str(time)]\n",
      "/var/folders/ll/h_rnbgns62bcj0skpd2j0ktr0000gp/T/ipykernel_38628/219860616.py:31: PerformanceWarning: DataFrame is highly fragmented.  This is usually the result of calling `frame.insert` many times, which has poor performance.  Consider joining all columns at once using pd.concat(axis=1) instead. To get a de-fragmented frame, use `newframe = frame.copy()`\n",
      "  final[entity + '_actual/toal_' + str(time)] = final['Amount'] / final[entity + '_total_' + str(time)]\n",
      "/var/folders/ll/h_rnbgns62bcj0skpd2j0ktr0000gp/T/ipykernel_38628/219860616.py:22: PerformanceWarning: DataFrame is highly fragmented.  This is usually the result of calling `frame.insert` many times, which has poor performance.  Consider joining all columns at once using pd.concat(axis=1) instead. To get a de-fragmented frame, use `newframe = frame.copy()`\n",
      "  final[col_name] = final.Recnum.map(mapper2)\n",
      "/var/folders/ll/h_rnbgns62bcj0skpd2j0ktr0000gp/T/ipykernel_38628/219860616.py:24: PerformanceWarning: DataFrame is highly fragmented.  This is usually the result of calling `frame.insert` many times, which has poor performance.  Consider joining all columns at once using pd.concat(axis=1) instead. To get a de-fragmented frame, use `newframe = frame.copy()`\n",
      "  final[entity + '_avg_' + str(time)] = final.Recnum.map(temp2.groupby('Recnum')['Amount'].mean())\n",
      "/var/folders/ll/h_rnbgns62bcj0skpd2j0ktr0000gp/T/ipykernel_38628/219860616.py:25: PerformanceWarning: DataFrame is highly fragmented.  This is usually the result of calling `frame.insert` many times, which has poor performance.  Consider joining all columns at once using pd.concat(axis=1) instead. To get a de-fragmented frame, use `newframe = frame.copy()`\n",
      "  final[entity + '_max_' + str(time)] = final.Recnum.map(temp2.groupby('Recnum')['Amount'].max())\n",
      "/var/folders/ll/h_rnbgns62bcj0skpd2j0ktr0000gp/T/ipykernel_38628/219860616.py:26: PerformanceWarning: DataFrame is highly fragmented.  This is usually the result of calling `frame.insert` many times, which has poor performance.  Consider joining all columns at once using pd.concat(axis=1) instead. To get a de-fragmented frame, use `newframe = frame.copy()`\n",
      "  final[entity + '_med_' + str(time)] = final.Recnum.map(temp2.groupby('Recnum')['Amount'].median())\n",
      "/var/folders/ll/h_rnbgns62bcj0skpd2j0ktr0000gp/T/ipykernel_38628/219860616.py:27: PerformanceWarning: DataFrame is highly fragmented.  This is usually the result of calling `frame.insert` many times, which has poor performance.  Consider joining all columns at once using pd.concat(axis=1) instead. To get a de-fragmented frame, use `newframe = frame.copy()`\n",
      "  final[entity + '_total_' + str(time)] = final.Recnum.map(temp2.groupby('Recnum')['Amount'].sum())\n",
      "/var/folders/ll/h_rnbgns62bcj0skpd2j0ktr0000gp/T/ipykernel_38628/219860616.py:28: PerformanceWarning: DataFrame is highly fragmented.  This is usually the result of calling `frame.insert` many times, which has poor performance.  Consider joining all columns at once using pd.concat(axis=1) instead. To get a de-fragmented frame, use `newframe = frame.copy()`\n",
      "  final[entity + '_actual/avg_' + str(time)] = final['Amount'] / final[entity + '_avg_' + str(time)]\n",
      "/var/folders/ll/h_rnbgns62bcj0skpd2j0ktr0000gp/T/ipykernel_38628/219860616.py:29: PerformanceWarning: DataFrame is highly fragmented.  This is usually the result of calling `frame.insert` many times, which has poor performance.  Consider joining all columns at once using pd.concat(axis=1) instead. To get a de-fragmented frame, use `newframe = frame.copy()`\n",
      "  final[entity + '_actual/max_' + str(time)] = final['Amount'] / final[entity + '_max_' + str(time)]\n",
      "/var/folders/ll/h_rnbgns62bcj0skpd2j0ktr0000gp/T/ipykernel_38628/219860616.py:30: PerformanceWarning: DataFrame is highly fragmented.  This is usually the result of calling `frame.insert` many times, which has poor performance.  Consider joining all columns at once using pd.concat(axis=1) instead. To get a de-fragmented frame, use `newframe = frame.copy()`\n",
      "  final[entity + '_actual/med_' + str(time)] = final['Amount'] / final[entity + '_med_' + str(time)]\n",
      "/var/folders/ll/h_rnbgns62bcj0skpd2j0ktr0000gp/T/ipykernel_38628/219860616.py:31: PerformanceWarning: DataFrame is highly fragmented.  This is usually the result of calling `frame.insert` many times, which has poor performance.  Consider joining all columns at once using pd.concat(axis=1) instead. To get a de-fragmented frame, use `newframe = frame.copy()`\n",
      "  final[entity + '_actual/toal_' + str(time)] = final['Amount'] / final[entity + '_total_' + str(time)]\n",
      "/var/folders/ll/h_rnbgns62bcj0skpd2j0ktr0000gp/T/ipykernel_38628/219860616.py:22: PerformanceWarning: DataFrame is highly fragmented.  This is usually the result of calling `frame.insert` many times, which has poor performance.  Consider joining all columns at once using pd.concat(axis=1) instead. To get a de-fragmented frame, use `newframe = frame.copy()`\n",
      "  final[col_name] = final.Recnum.map(mapper2)\n",
      "/var/folders/ll/h_rnbgns62bcj0skpd2j0ktr0000gp/T/ipykernel_38628/219860616.py:24: PerformanceWarning: DataFrame is highly fragmented.  This is usually the result of calling `frame.insert` many times, which has poor performance.  Consider joining all columns at once using pd.concat(axis=1) instead. To get a de-fragmented frame, use `newframe = frame.copy()`\n",
      "  final[entity + '_avg_' + str(time)] = final.Recnum.map(temp2.groupby('Recnum')['Amount'].mean())\n"
     ]
    },
    {
     "name": "stdout",
     "output_type": "stream",
     "text": [
      "card_merchnum_state amount variables over past 1 ---> Done\n",
      "card_merchnum_state_count_3 ---> Done\n",
      "card_merchnum_state amount variables over past 3 ---> Done\n",
      "card_merchnum_state_count_7 ---> Done\n"
     ]
    },
    {
     "name": "stderr",
     "output_type": "stream",
     "text": [
      "/var/folders/ll/h_rnbgns62bcj0skpd2j0ktr0000gp/T/ipykernel_38628/219860616.py:25: PerformanceWarning: DataFrame is highly fragmented.  This is usually the result of calling `frame.insert` many times, which has poor performance.  Consider joining all columns at once using pd.concat(axis=1) instead. To get a de-fragmented frame, use `newframe = frame.copy()`\n",
      "  final[entity + '_max_' + str(time)] = final.Recnum.map(temp2.groupby('Recnum')['Amount'].max())\n",
      "/var/folders/ll/h_rnbgns62bcj0skpd2j0ktr0000gp/T/ipykernel_38628/219860616.py:26: PerformanceWarning: DataFrame is highly fragmented.  This is usually the result of calling `frame.insert` many times, which has poor performance.  Consider joining all columns at once using pd.concat(axis=1) instead. To get a de-fragmented frame, use `newframe = frame.copy()`\n",
      "  final[entity + '_med_' + str(time)] = final.Recnum.map(temp2.groupby('Recnum')['Amount'].median())\n",
      "/var/folders/ll/h_rnbgns62bcj0skpd2j0ktr0000gp/T/ipykernel_38628/219860616.py:27: PerformanceWarning: DataFrame is highly fragmented.  This is usually the result of calling `frame.insert` many times, which has poor performance.  Consider joining all columns at once using pd.concat(axis=1) instead. To get a de-fragmented frame, use `newframe = frame.copy()`\n",
      "  final[entity + '_total_' + str(time)] = final.Recnum.map(temp2.groupby('Recnum')['Amount'].sum())\n",
      "/var/folders/ll/h_rnbgns62bcj0skpd2j0ktr0000gp/T/ipykernel_38628/219860616.py:28: PerformanceWarning: DataFrame is highly fragmented.  This is usually the result of calling `frame.insert` many times, which has poor performance.  Consider joining all columns at once using pd.concat(axis=1) instead. To get a de-fragmented frame, use `newframe = frame.copy()`\n",
      "  final[entity + '_actual/avg_' + str(time)] = final['Amount'] / final[entity + '_avg_' + str(time)]\n",
      "/var/folders/ll/h_rnbgns62bcj0skpd2j0ktr0000gp/T/ipykernel_38628/219860616.py:29: PerformanceWarning: DataFrame is highly fragmented.  This is usually the result of calling `frame.insert` many times, which has poor performance.  Consider joining all columns at once using pd.concat(axis=1) instead. To get a de-fragmented frame, use `newframe = frame.copy()`\n",
      "  final[entity + '_actual/max_' + str(time)] = final['Amount'] / final[entity + '_max_' + str(time)]\n",
      "/var/folders/ll/h_rnbgns62bcj0skpd2j0ktr0000gp/T/ipykernel_38628/219860616.py:30: PerformanceWarning: DataFrame is highly fragmented.  This is usually the result of calling `frame.insert` many times, which has poor performance.  Consider joining all columns at once using pd.concat(axis=1) instead. To get a de-fragmented frame, use `newframe = frame.copy()`\n",
      "  final[entity + '_actual/med_' + str(time)] = final['Amount'] / final[entity + '_med_' + str(time)]\n",
      "/var/folders/ll/h_rnbgns62bcj0skpd2j0ktr0000gp/T/ipykernel_38628/219860616.py:31: PerformanceWarning: DataFrame is highly fragmented.  This is usually the result of calling `frame.insert` many times, which has poor performance.  Consider joining all columns at once using pd.concat(axis=1) instead. To get a de-fragmented frame, use `newframe = frame.copy()`\n",
      "  final[entity + '_actual/toal_' + str(time)] = final['Amount'] / final[entity + '_total_' + str(time)]\n",
      "/var/folders/ll/h_rnbgns62bcj0skpd2j0ktr0000gp/T/ipykernel_38628/219860616.py:22: PerformanceWarning: DataFrame is highly fragmented.  This is usually the result of calling `frame.insert` many times, which has poor performance.  Consider joining all columns at once using pd.concat(axis=1) instead. To get a de-fragmented frame, use `newframe = frame.copy()`\n",
      "  final[col_name] = final.Recnum.map(mapper2)\n",
      "/var/folders/ll/h_rnbgns62bcj0skpd2j0ktr0000gp/T/ipykernel_38628/219860616.py:24: PerformanceWarning: DataFrame is highly fragmented.  This is usually the result of calling `frame.insert` many times, which has poor performance.  Consider joining all columns at once using pd.concat(axis=1) instead. To get a de-fragmented frame, use `newframe = frame.copy()`\n",
      "  final[entity + '_avg_' + str(time)] = final.Recnum.map(temp2.groupby('Recnum')['Amount'].mean())\n",
      "/var/folders/ll/h_rnbgns62bcj0skpd2j0ktr0000gp/T/ipykernel_38628/219860616.py:25: PerformanceWarning: DataFrame is highly fragmented.  This is usually the result of calling `frame.insert` many times, which has poor performance.  Consider joining all columns at once using pd.concat(axis=1) instead. To get a de-fragmented frame, use `newframe = frame.copy()`\n",
      "  final[entity + '_max_' + str(time)] = final.Recnum.map(temp2.groupby('Recnum')['Amount'].max())\n",
      "/var/folders/ll/h_rnbgns62bcj0skpd2j0ktr0000gp/T/ipykernel_38628/219860616.py:26: PerformanceWarning: DataFrame is highly fragmented.  This is usually the result of calling `frame.insert` many times, which has poor performance.  Consider joining all columns at once using pd.concat(axis=1) instead. To get a de-fragmented frame, use `newframe = frame.copy()`\n",
      "  final[entity + '_med_' + str(time)] = final.Recnum.map(temp2.groupby('Recnum')['Amount'].median())\n",
      "/var/folders/ll/h_rnbgns62bcj0skpd2j0ktr0000gp/T/ipykernel_38628/219860616.py:27: PerformanceWarning: DataFrame is highly fragmented.  This is usually the result of calling `frame.insert` many times, which has poor performance.  Consider joining all columns at once using pd.concat(axis=1) instead. To get a de-fragmented frame, use `newframe = frame.copy()`\n",
      "  final[entity + '_total_' + str(time)] = final.Recnum.map(temp2.groupby('Recnum')['Amount'].sum())\n",
      "/var/folders/ll/h_rnbgns62bcj0skpd2j0ktr0000gp/T/ipykernel_38628/219860616.py:28: PerformanceWarning: DataFrame is highly fragmented.  This is usually the result of calling `frame.insert` many times, which has poor performance.  Consider joining all columns at once using pd.concat(axis=1) instead. To get a de-fragmented frame, use `newframe = frame.copy()`\n",
      "  final[entity + '_actual/avg_' + str(time)] = final['Amount'] / final[entity + '_avg_' + str(time)]\n",
      "/var/folders/ll/h_rnbgns62bcj0skpd2j0ktr0000gp/T/ipykernel_38628/219860616.py:29: PerformanceWarning: DataFrame is highly fragmented.  This is usually the result of calling `frame.insert` many times, which has poor performance.  Consider joining all columns at once using pd.concat(axis=1) instead. To get a de-fragmented frame, use `newframe = frame.copy()`\n",
      "  final[entity + '_actual/max_' + str(time)] = final['Amount'] / final[entity + '_max_' + str(time)]\n",
      "/var/folders/ll/h_rnbgns62bcj0skpd2j0ktr0000gp/T/ipykernel_38628/219860616.py:30: PerformanceWarning: DataFrame is highly fragmented.  This is usually the result of calling `frame.insert` many times, which has poor performance.  Consider joining all columns at once using pd.concat(axis=1) instead. To get a de-fragmented frame, use `newframe = frame.copy()`\n",
      "  final[entity + '_actual/med_' + str(time)] = final['Amount'] / final[entity + '_med_' + str(time)]\n",
      "/var/folders/ll/h_rnbgns62bcj0skpd2j0ktr0000gp/T/ipykernel_38628/219860616.py:31: PerformanceWarning: DataFrame is highly fragmented.  This is usually the result of calling `frame.insert` many times, which has poor performance.  Consider joining all columns at once using pd.concat(axis=1) instead. To get a de-fragmented frame, use `newframe = frame.copy()`\n",
      "  final[entity + '_actual/toal_' + str(time)] = final['Amount'] / final[entity + '_total_' + str(time)]\n"
     ]
    },
    {
     "name": "stdout",
     "output_type": "stream",
     "text": [
      "card_merchnum_state amount variables over past 7 ---> Done\n",
      "card_merchnum_state_count_14 ---> Done\n",
      "card_merchnum_state amount variables over past 14 ---> Done\n",
      "card_merchnum_state_count_30 ---> Done\n",
      "card_merchnum_state amount variables over past 30 ---> Done\n",
      "Total run time: 15.123914871533334mins\n"
     ]
    },
    {
     "name": "stderr",
     "output_type": "stream",
     "text": [
      "/var/folders/ll/h_rnbgns62bcj0skpd2j0ktr0000gp/T/ipykernel_38628/219860616.py:22: PerformanceWarning: DataFrame is highly fragmented.  This is usually the result of calling `frame.insert` many times, which has poor performance.  Consider joining all columns at once using pd.concat(axis=1) instead. To get a de-fragmented frame, use `newframe = frame.copy()`\n",
      "  final[col_name] = final.Recnum.map(mapper2)\n",
      "/var/folders/ll/h_rnbgns62bcj0skpd2j0ktr0000gp/T/ipykernel_38628/219860616.py:24: PerformanceWarning: DataFrame is highly fragmented.  This is usually the result of calling `frame.insert` many times, which has poor performance.  Consider joining all columns at once using pd.concat(axis=1) instead. To get a de-fragmented frame, use `newframe = frame.copy()`\n",
      "  final[entity + '_avg_' + str(time)] = final.Recnum.map(temp2.groupby('Recnum')['Amount'].mean())\n",
      "/var/folders/ll/h_rnbgns62bcj0skpd2j0ktr0000gp/T/ipykernel_38628/219860616.py:25: PerformanceWarning: DataFrame is highly fragmented.  This is usually the result of calling `frame.insert` many times, which has poor performance.  Consider joining all columns at once using pd.concat(axis=1) instead. To get a de-fragmented frame, use `newframe = frame.copy()`\n",
      "  final[entity + '_max_' + str(time)] = final.Recnum.map(temp2.groupby('Recnum')['Amount'].max())\n",
      "/var/folders/ll/h_rnbgns62bcj0skpd2j0ktr0000gp/T/ipykernel_38628/219860616.py:26: PerformanceWarning: DataFrame is highly fragmented.  This is usually the result of calling `frame.insert` many times, which has poor performance.  Consider joining all columns at once using pd.concat(axis=1) instead. To get a de-fragmented frame, use `newframe = frame.copy()`\n",
      "  final[entity + '_med_' + str(time)] = final.Recnum.map(temp2.groupby('Recnum')['Amount'].median())\n",
      "/var/folders/ll/h_rnbgns62bcj0skpd2j0ktr0000gp/T/ipykernel_38628/219860616.py:27: PerformanceWarning: DataFrame is highly fragmented.  This is usually the result of calling `frame.insert` many times, which has poor performance.  Consider joining all columns at once using pd.concat(axis=1) instead. To get a de-fragmented frame, use `newframe = frame.copy()`\n",
      "  final[entity + '_total_' + str(time)] = final.Recnum.map(temp2.groupby('Recnum')['Amount'].sum())\n",
      "/var/folders/ll/h_rnbgns62bcj0skpd2j0ktr0000gp/T/ipykernel_38628/219860616.py:28: PerformanceWarning: DataFrame is highly fragmented.  This is usually the result of calling `frame.insert` many times, which has poor performance.  Consider joining all columns at once using pd.concat(axis=1) instead. To get a de-fragmented frame, use `newframe = frame.copy()`\n",
      "  final[entity + '_actual/avg_' + str(time)] = final['Amount'] / final[entity + '_avg_' + str(time)]\n",
      "/var/folders/ll/h_rnbgns62bcj0skpd2j0ktr0000gp/T/ipykernel_38628/219860616.py:29: PerformanceWarning: DataFrame is highly fragmented.  This is usually the result of calling `frame.insert` many times, which has poor performance.  Consider joining all columns at once using pd.concat(axis=1) instead. To get a de-fragmented frame, use `newframe = frame.copy()`\n",
      "  final[entity + '_actual/max_' + str(time)] = final['Amount'] / final[entity + '_max_' + str(time)]\n",
      "/var/folders/ll/h_rnbgns62bcj0skpd2j0ktr0000gp/T/ipykernel_38628/219860616.py:30: PerformanceWarning: DataFrame is highly fragmented.  This is usually the result of calling `frame.insert` many times, which has poor performance.  Consider joining all columns at once using pd.concat(axis=1) instead. To get a de-fragmented frame, use `newframe = frame.copy()`\n",
      "  final[entity + '_actual/med_' + str(time)] = final['Amount'] / final[entity + '_med_' + str(time)]\n",
      "/var/folders/ll/h_rnbgns62bcj0skpd2j0ktr0000gp/T/ipykernel_38628/219860616.py:31: PerformanceWarning: DataFrame is highly fragmented.  This is usually the result of calling `frame.insert` many times, which has poor performance.  Consider joining all columns at once using pd.concat(axis=1) instead. To get a de-fragmented frame, use `newframe = frame.copy()`\n",
      "  final[entity + '_actual/toal_' + str(time)] = final['Amount'] / final[entity + '_total_' + str(time)]\n"
     ]
    }
   ],
   "source": [
    "start = timeit.default_timer()\n",
    "for entity in entities:    \n",
    "    try: print('Run time for the last entity ----------------- {}s'.format(timeit.default_timer() - st))\n",
    "    except: print('')\n",
    "    st = timeit.default_timer()    \n",
    "    ## Day-since variables:   \n",
    "    data_l = data1[['Recnum', 'Date', entity]]\n",
    "    data_r = data1[['check_record', 'check_date', entity, 'Amount']]    \n",
    "    temp = pd.merge(data_l,data_r, left_on = entity, right_on = entity)   \n",
    "    temp1 = temp[temp.Recnum > temp.check_record][['Recnum','Date','check_date']]\\\n",
    "                                                   .groupby('Recnum')[['Date', 'check_date']].last()\n",
    "    mapper = (temp1.Date - temp1.check_date).dt.days\n",
    "    final[entity + '_day_since'] = final.Recnum.map(mapper)\n",
    "    final[entity + '_day_since'].fillna((final.Date - pd.to_datetime('2010-01-01')).dt.days, inplace = True)\n",
    "    print('\\n' + entity + '_day_since ---> Done')   \n",
    "    ## Frequency & Amount variables:   \n",
    "    for time in [0,1,3,7,14,30]:       \n",
    "        temp2 = temp[(temp.check_date >= (temp.Date - dt.timedelta(time))) &\\\n",
    "                       (temp.Recnum >= temp.check_record)][['Recnum', entity, 'Amount']]       \n",
    "        col_name = entity + '_count_' + str(time)    \n",
    "        mapper2 = temp2.groupby('Recnum')[entity].count()      \n",
    "        final[col_name] = final.Recnum.map(mapper2)        \n",
    "        print(col_name + ' ---> Done')       \n",
    "        final[entity + '_avg_' + str(time)] = final.Recnum.map(temp2.groupby('Recnum')['Amount'].mean())\n",
    "        final[entity + '_max_' + str(time)] = final.Recnum.map(temp2.groupby('Recnum')['Amount'].max())\n",
    "        final[entity + '_med_' + str(time)] = final.Recnum.map(temp2.groupby('Recnum')['Amount'].median())\n",
    "        final[entity + '_total_' + str(time)] = final.Recnum.map(temp2.groupby('Recnum')['Amount'].sum())\n",
    "        final[entity + '_actual/avg_' + str(time)] = final['Amount'] / final[entity + '_avg_' + str(time)]\n",
    "        final[entity + '_actual/max_' + str(time)] = final['Amount'] / final[entity + '_max_' + str(time)]\n",
    "        final[entity + '_actual/med_' + str(time)] = final['Amount'] / final[entity + '_med_' + str(time)]\n",
    "        final[entity + '_actual/toal_' + str(time)] = final['Amount'] / final[entity + '_total_' + str(time)]       \n",
    "        print(entity + ' amount variables over past ' + str(time) + ' ---> Done')\n",
    "\n",
    "print('Total run time: {}mins'.format((timeit.default_timer() - start)/60))\n"
   ]
  },
  {
   "cell_type": "code",
   "execution_count": 123,
   "id": "Z9QI89lbULvt",
   "metadata": {
    "id": "Z9QI89lbULvt"
   },
   "outputs": [
    {
     "data": {
      "text/plain": [
       "(96397, 1016)"
      ]
     },
     "execution_count": 123,
     "metadata": {},
     "output_type": "execute_result"
    }
   ],
   "source": [
    "final.shape"
   ]
  },
  {
   "cell_type": "code",
   "execution_count": 124,
   "id": "P29Q6K7TUN2F",
   "metadata": {
    "id": "P29Q6K7TUN2F"
   },
   "outputs": [
    {
     "data": {
      "text/plain": [
       "(96397, 26)"
      ]
     },
     "execution_count": 124,
     "metadata": {},
     "output_type": "execute_result"
    }
   ],
   "source": [
    "data.shape"
   ]
  },
  {
   "cell_type": "markdown",
   "id": "c39f16b7",
   "metadata": {},
   "source": [
    "**NEW VARIABLES**\n",
    "\n",
    "**1. To capture Unusual transaction amounts, concatenation of cardnum with amount entities**"
   ]
  },
  {
   "cell_type": "code",
   "execution_count": 133,
   "id": "9f8dee7a",
   "metadata": {},
   "outputs": [
    {
     "name": "stderr",
     "output_type": "stream",
     "text": [
      "/var/folders/ll/h_rnbgns62bcj0skpd2j0ktr0000gp/T/ipykernel_38628/373991939.py:12: FutureWarning: The default value of numeric_only in DataFrameGroupBy.median is deprecated. In a future version, numeric_only will default to False. Either specify numeric_only or select only columns which should be valid for the function.\n",
      "  median_amount = data.groupby(\"Cardnum\").median()['Amount']\n",
      "/var/folders/ll/h_rnbgns62bcj0skpd2j0ktr0000gp/T/ipykernel_38628/373991939.py:14: FutureWarning: The default value of numeric_only in DataFrameGroupBy.mean is deprecated. In a future version, numeric_only will default to False. Either specify numeric_only or select only columns which should be valid for the function.\n",
      "  mean_amount = data.groupby(\"Cardnum\").mean()['Amount']\n",
      "/var/folders/ll/h_rnbgns62bcj0skpd2j0ktr0000gp/T/ipykernel_38628/373991939.py:23: SettingWithCopyWarning: \n",
      "A value is trying to be set on a copy of a slice from a DataFrame.\n",
      "Try using .loc[row_indexer,col_indexer] = value instead\n",
      "\n",
      "See the caveats in the documentation: https://pandas.pydata.org/pandas-docs/stable/user_guide/indexing.html#returning-a-view-versus-a-copy\n",
      "  data['Median_Diff_Cardnum'] = l\n",
      "/var/folders/ll/h_rnbgns62bcj0skpd2j0ktr0000gp/T/ipykernel_38628/373991939.py:30: SettingWithCopyWarning: \n",
      "A value is trying to be set on a copy of a slice from a DataFrame.\n",
      "Try using .loc[row_indexer,col_indexer] = value instead\n",
      "\n",
      "See the caveats in the documentation: https://pandas.pydata.org/pandas-docs/stable/user_guide/indexing.html#returning-a-view-versus-a-copy\n",
      "  data[\"Max_Cardnum\"] = l\n",
      "/var/folders/ll/h_rnbgns62bcj0skpd2j0ktr0000gp/T/ipykernel_38628/373991939.py:37: SettingWithCopyWarning: \n",
      "A value is trying to be set on a copy of a slice from a DataFrame.\n",
      "Try using .loc[row_indexer,col_indexer] = value instead\n",
      "\n",
      "See the caveats in the documentation: https://pandas.pydata.org/pandas-docs/stable/user_guide/indexing.html#returning-a-view-versus-a-copy\n",
      "  data[\"Min_Cardnum\"] = l\n",
      "/var/folders/ll/h_rnbgns62bcj0skpd2j0ktr0000gp/T/ipykernel_38628/373991939.py:45: SettingWithCopyWarning: \n",
      "A value is trying to be set on a copy of a slice from a DataFrame.\n",
      "Try using .loc[row_indexer,col_indexer] = value instead\n",
      "\n",
      "See the caveats in the documentation: https://pandas.pydata.org/pandas-docs/stable/user_guide/indexing.html#returning-a-view-versus-a-copy\n",
      "  data['Mean_Diff_Cardnum'] = l\n"
     ]
    }
   ],
   "source": [
    "# Amount - statistics per cardnum to capture unusal transaction amounts \n",
    "\n",
    "maximum_value = data.groupby(\"Cardnum\").max()['Amount']\n",
    "\n",
    "minimum_value = data.groupby(\"Cardnum\").min()['Amount']\n",
    "\n",
    "median_amount = data.groupby(\"Cardnum\").median()['Amount']\n",
    "\n",
    "mean_amount = data.groupby(\"Cardnum\").mean()['Amount']\n",
    "\n",
    "l = []\n",
    "for i in data.index:\n",
    "  median = median_amount.loc[data['Cardnum'][i]]\n",
    "  value = ((data['Amount'][i] - median) / median) * 100 \n",
    "  l.append(value)\n",
    "\n",
    "\n",
    "data['Median_Diff_Cardnum'] = l\n",
    "\n",
    "l = []\n",
    "for i in data.index:\n",
    "  maximum = maximum_value.loc[data['Cardnum'][i]]\n",
    "  l.append(maximum)\n",
    "\n",
    "data[\"Max_Cardnum\"] = l\n",
    "\n",
    "l = []\n",
    "for i in data.index:\n",
    "  minimum = minimum_value.loc[data['Cardnum'][i]]\n",
    "  l.append(minimum)\n",
    "\n",
    "data[\"Min_Cardnum\"] = l\n",
    "\n",
    "l = []\n",
    "for i in data.index:\n",
    "  mean = mean_amount.loc[data['Cardnum'][i]]\n",
    "  value = ((data['Amount'][i] - mean) / mean) * 100 \n",
    "  l.append(value)\n",
    "\n",
    "data['Mean_Diff_Cardnum'] = l"
   ]
  },
  {
   "cell_type": "markdown",
   "id": "eda41b8a",
   "metadata": {},
   "source": [
    "**New Variables**\\\n",
    "**2. Combination of entities to check the frequency of the cardnumbers with the days since the cardnumber has been used, along with the frequency and the merchant number.\n",
    "This essentially tells us if there have been a lot of transactions happening at a particular merchant in a short       span of time**"
   ]
  },
  {
   "cell_type": "code",
   "execution_count": 138,
   "id": "dfd08406",
   "metadata": {},
   "outputs": [
    {
     "name": "stderr",
     "output_type": "stream",
     "text": [
      "/var/folders/ll/h_rnbgns62bcj0skpd2j0ktr0000gp/T/ipykernel_38628/1754028423.py:4: PerformanceWarning: DataFrame is highly fragmented.  This is usually the result of calling `frame.insert` many times, which has poor performance.  Consider joining all columns at once using pd.concat(axis=1) instead. To get a de-fragmented frame, use `newframe = frame.copy()`\n",
      "  final['Cardnum' + '_day_since_merchnum' + '_max_' + str(time) + '_merchnum'] = final['Cardnum' + '_day_since_merchnum'] + final['Cardnum' + '_max_' + str(time) + '_merchnum']\n",
      "/var/folders/ll/h_rnbgns62bcj0skpd2j0ktr0000gp/T/ipykernel_38628/1754028423.py:5: PerformanceWarning: DataFrame is highly fragmented.  This is usually the result of calling `frame.insert` many times, which has poor performance.  Consider joining all columns at once using pd.concat(axis=1) instead. To get a de-fragmented frame, use `newframe = frame.copy()`\n",
      "  final['Cardnum' + '_day_since_merchnum' +  '_med_' + str(time) + '_merchnum'] = final['Cardnum' + '_day_since_merchnum'] + final['Cardnum' + '_med_' + str(time) + '_merchnum']\n",
      "/var/folders/ll/h_rnbgns62bcj0skpd2j0ktr0000gp/T/ipykernel_38628/1754028423.py:6: PerformanceWarning: DataFrame is highly fragmented.  This is usually the result of calling `frame.insert` many times, which has poor performance.  Consider joining all columns at once using pd.concat(axis=1) instead. To get a de-fragmented frame, use `newframe = frame.copy()`\n",
      "  final['Cardnum' + '_day_since_merchnum' + '_total_' + str(time) + '_merchnum'] = final['Cardnum' + '_day_since_merchnum'] + final['Cardnum' + '_total_' + str(time) + '_merchnum']\n",
      "/var/folders/ll/h_rnbgns62bcj0skpd2j0ktr0000gp/T/ipykernel_38628/1754028423.py:7: PerformanceWarning: DataFrame is highly fragmented.  This is usually the result of calling `frame.insert` many times, which has poor performance.  Consider joining all columns at once using pd.concat(axis=1) instead. To get a de-fragmented frame, use `newframe = frame.copy()`\n",
      "  final['Cardnum' + '_day_since_merchnum' + '_actual/avg_' + str(time) + '_merchnum'] = final['Cardnum' + '_day_since_merchnum'] + final['Cardnum' + '_actual/avg_' + str(time) + '_merchnum']\n",
      "/var/folders/ll/h_rnbgns62bcj0skpd2j0ktr0000gp/T/ipykernel_38628/1754028423.py:8: PerformanceWarning: DataFrame is highly fragmented.  This is usually the result of calling `frame.insert` many times, which has poor performance.  Consider joining all columns at once using pd.concat(axis=1) instead. To get a de-fragmented frame, use `newframe = frame.copy()`\n",
      "  final['Cardnum' + '_day_since_merchnum' + '_actual/max_' + str(time) + '_merchnum'] = final['Cardnum' + '_day_since_merchnum'] + final['Cardnum' + '_actual/max_' + str(time) + '_merchnum']\n",
      "/var/folders/ll/h_rnbgns62bcj0skpd2j0ktr0000gp/T/ipykernel_38628/1754028423.py:9: PerformanceWarning: DataFrame is highly fragmented.  This is usually the result of calling `frame.insert` many times, which has poor performance.  Consider joining all columns at once using pd.concat(axis=1) instead. To get a de-fragmented frame, use `newframe = frame.copy()`\n",
      "  final['Cardnum' + '_day_since_merchnum' + '_actual/med_' + str(time) + '_merchnum'] = final['Cardnum' + '_day_since_merchnum'] + final['Cardnum' + '_actual/med_' + str(time) + '_merchnum']\n",
      "/var/folders/ll/h_rnbgns62bcj0skpd2j0ktr0000gp/T/ipykernel_38628/1754028423.py:10: PerformanceWarning: DataFrame is highly fragmented.  This is usually the result of calling `frame.insert` many times, which has poor performance.  Consider joining all columns at once using pd.concat(axis=1) instead. To get a de-fragmented frame, use `newframe = frame.copy()`\n",
      "  final['Cardnum' + '_day_since_merchnum' + '_actual/toal_' + str(time) + '_merchnum'] = final['Cardnum' + '_day_since_merchnum'] + final['Cardnum' + '_actual/toal_' + str(time) + '_merchnum']\n",
      "/var/folders/ll/h_rnbgns62bcj0skpd2j0ktr0000gp/T/ipykernel_38628/1754028423.py:3: PerformanceWarning: DataFrame is highly fragmented.  This is usually the result of calling `frame.insert` many times, which has poor performance.  Consider joining all columns at once using pd.concat(axis=1) instead. To get a de-fragmented frame, use `newframe = frame.copy()`\n",
      "  final['Cardnum' + '_day_since_merchnum' + '_avg_' + str(time) + '_merchnum'] = final['Cardnum' + '_day_since_merchnum'] + final['Cardnum' + '_avg_' + str(time) + '_merchnum']\n",
      "/var/folders/ll/h_rnbgns62bcj0skpd2j0ktr0000gp/T/ipykernel_38628/1754028423.py:4: PerformanceWarning: DataFrame is highly fragmented.  This is usually the result of calling `frame.insert` many times, which has poor performance.  Consider joining all columns at once using pd.concat(axis=1) instead. To get a de-fragmented frame, use `newframe = frame.copy()`\n",
      "  final['Cardnum' + '_day_since_merchnum' + '_max_' + str(time) + '_merchnum'] = final['Cardnum' + '_day_since_merchnum'] + final['Cardnum' + '_max_' + str(time) + '_merchnum']\n",
      "/var/folders/ll/h_rnbgns62bcj0skpd2j0ktr0000gp/T/ipykernel_38628/1754028423.py:5: PerformanceWarning: DataFrame is highly fragmented.  This is usually the result of calling `frame.insert` many times, which has poor performance.  Consider joining all columns at once using pd.concat(axis=1) instead. To get a de-fragmented frame, use `newframe = frame.copy()`\n",
      "  final['Cardnum' + '_day_since_merchnum' +  '_med_' + str(time) + '_merchnum'] = final['Cardnum' + '_day_since_merchnum'] + final['Cardnum' + '_med_' + str(time) + '_merchnum']\n",
      "/var/folders/ll/h_rnbgns62bcj0skpd2j0ktr0000gp/T/ipykernel_38628/1754028423.py:6: PerformanceWarning: DataFrame is highly fragmented.  This is usually the result of calling `frame.insert` many times, which has poor performance.  Consider joining all columns at once using pd.concat(axis=1) instead. To get a de-fragmented frame, use `newframe = frame.copy()`\n",
      "  final['Cardnum' + '_day_since_merchnum' + '_total_' + str(time) + '_merchnum'] = final['Cardnum' + '_day_since_merchnum'] + final['Cardnum' + '_total_' + str(time) + '_merchnum']\n",
      "/var/folders/ll/h_rnbgns62bcj0skpd2j0ktr0000gp/T/ipykernel_38628/1754028423.py:7: PerformanceWarning: DataFrame is highly fragmented.  This is usually the result of calling `frame.insert` many times, which has poor performance.  Consider joining all columns at once using pd.concat(axis=1) instead. To get a de-fragmented frame, use `newframe = frame.copy()`\n",
      "  final['Cardnum' + '_day_since_merchnum' + '_actual/avg_' + str(time) + '_merchnum'] = final['Cardnum' + '_day_since_merchnum'] + final['Cardnum' + '_actual/avg_' + str(time) + '_merchnum']\n",
      "/var/folders/ll/h_rnbgns62bcj0skpd2j0ktr0000gp/T/ipykernel_38628/1754028423.py:8: PerformanceWarning: DataFrame is highly fragmented.  This is usually the result of calling `frame.insert` many times, which has poor performance.  Consider joining all columns at once using pd.concat(axis=1) instead. To get a de-fragmented frame, use `newframe = frame.copy()`\n",
      "  final['Cardnum' + '_day_since_merchnum' + '_actual/max_' + str(time) + '_merchnum'] = final['Cardnum' + '_day_since_merchnum'] + final['Cardnum' + '_actual/max_' + str(time) + '_merchnum']\n",
      "/var/folders/ll/h_rnbgns62bcj0skpd2j0ktr0000gp/T/ipykernel_38628/1754028423.py:9: PerformanceWarning: DataFrame is highly fragmented.  This is usually the result of calling `frame.insert` many times, which has poor performance.  Consider joining all columns at once using pd.concat(axis=1) instead. To get a de-fragmented frame, use `newframe = frame.copy()`\n",
      "  final['Cardnum' + '_day_since_merchnum' + '_actual/med_' + str(time) + '_merchnum'] = final['Cardnum' + '_day_since_merchnum'] + final['Cardnum' + '_actual/med_' + str(time) + '_merchnum']\n",
      "/var/folders/ll/h_rnbgns62bcj0skpd2j0ktr0000gp/T/ipykernel_38628/1754028423.py:10: PerformanceWarning: DataFrame is highly fragmented.  This is usually the result of calling `frame.insert` many times, which has poor performance.  Consider joining all columns at once using pd.concat(axis=1) instead. To get a de-fragmented frame, use `newframe = frame.copy()`\n",
      "  final['Cardnum' + '_day_since_merchnum' + '_actual/toal_' + str(time) + '_merchnum'] = final['Cardnum' + '_day_since_merchnum'] + final['Cardnum' + '_actual/toal_' + str(time) + '_merchnum']\n",
      "/var/folders/ll/h_rnbgns62bcj0skpd2j0ktr0000gp/T/ipykernel_38628/1754028423.py:3: PerformanceWarning: DataFrame is highly fragmented.  This is usually the result of calling `frame.insert` many times, which has poor performance.  Consider joining all columns at once using pd.concat(axis=1) instead. To get a de-fragmented frame, use `newframe = frame.copy()`\n",
      "  final['Cardnum' + '_day_since_merchnum' + '_avg_' + str(time) + '_merchnum'] = final['Cardnum' + '_day_since_merchnum'] + final['Cardnum' + '_avg_' + str(time) + '_merchnum']\n",
      "/var/folders/ll/h_rnbgns62bcj0skpd2j0ktr0000gp/T/ipykernel_38628/1754028423.py:4: PerformanceWarning: DataFrame is highly fragmented.  This is usually the result of calling `frame.insert` many times, which has poor performance.  Consider joining all columns at once using pd.concat(axis=1) instead. To get a de-fragmented frame, use `newframe = frame.copy()`\n",
      "  final['Cardnum' + '_day_since_merchnum' + '_max_' + str(time) + '_merchnum'] = final['Cardnum' + '_day_since_merchnum'] + final['Cardnum' + '_max_' + str(time) + '_merchnum']\n",
      "/var/folders/ll/h_rnbgns62bcj0skpd2j0ktr0000gp/T/ipykernel_38628/1754028423.py:5: PerformanceWarning: DataFrame is highly fragmented.  This is usually the result of calling `frame.insert` many times, which has poor performance.  Consider joining all columns at once using pd.concat(axis=1) instead. To get a de-fragmented frame, use `newframe = frame.copy()`\n",
      "  final['Cardnum' + '_day_since_merchnum' +  '_med_' + str(time) + '_merchnum'] = final['Cardnum' + '_day_since_merchnum'] + final['Cardnum' + '_med_' + str(time) + '_merchnum']\n",
      "/var/folders/ll/h_rnbgns62bcj0skpd2j0ktr0000gp/T/ipykernel_38628/1754028423.py:6: PerformanceWarning: DataFrame is highly fragmented.  This is usually the result of calling `frame.insert` many times, which has poor performance.  Consider joining all columns at once using pd.concat(axis=1) instead. To get a de-fragmented frame, use `newframe = frame.copy()`\n",
      "  final['Cardnum' + '_day_since_merchnum' + '_total_' + str(time) + '_merchnum'] = final['Cardnum' + '_day_since_merchnum'] + final['Cardnum' + '_total_' + str(time) + '_merchnum']\n",
      "/var/folders/ll/h_rnbgns62bcj0skpd2j0ktr0000gp/T/ipykernel_38628/1754028423.py:7: PerformanceWarning: DataFrame is highly fragmented.  This is usually the result of calling `frame.insert` many times, which has poor performance.  Consider joining all columns at once using pd.concat(axis=1) instead. To get a de-fragmented frame, use `newframe = frame.copy()`\n",
      "  final['Cardnum' + '_day_since_merchnum' + '_actual/avg_' + str(time) + '_merchnum'] = final['Cardnum' + '_day_since_merchnum'] + final['Cardnum' + '_actual/avg_' + str(time) + '_merchnum']\n",
      "/var/folders/ll/h_rnbgns62bcj0skpd2j0ktr0000gp/T/ipykernel_38628/1754028423.py:8: PerformanceWarning: DataFrame is highly fragmented.  This is usually the result of calling `frame.insert` many times, which has poor performance.  Consider joining all columns at once using pd.concat(axis=1) instead. To get a de-fragmented frame, use `newframe = frame.copy()`\n",
      "  final['Cardnum' + '_day_since_merchnum' + '_actual/max_' + str(time) + '_merchnum'] = final['Cardnum' + '_day_since_merchnum'] + final['Cardnum' + '_actual/max_' + str(time) + '_merchnum']\n",
      "/var/folders/ll/h_rnbgns62bcj0skpd2j0ktr0000gp/T/ipykernel_38628/1754028423.py:9: PerformanceWarning: DataFrame is highly fragmented.  This is usually the result of calling `frame.insert` many times, which has poor performance.  Consider joining all columns at once using pd.concat(axis=1) instead. To get a de-fragmented frame, use `newframe = frame.copy()`\n",
      "  final['Cardnum' + '_day_since_merchnum' + '_actual/med_' + str(time) + '_merchnum'] = final['Cardnum' + '_day_since_merchnum'] + final['Cardnum' + '_actual/med_' + str(time) + '_merchnum']\n",
      "/var/folders/ll/h_rnbgns62bcj0skpd2j0ktr0000gp/T/ipykernel_38628/1754028423.py:10: PerformanceWarning: DataFrame is highly fragmented.  This is usually the result of calling `frame.insert` many times, which has poor performance.  Consider joining all columns at once using pd.concat(axis=1) instead. To get a de-fragmented frame, use `newframe = frame.copy()`\n",
      "  final['Cardnum' + '_day_since_merchnum' + '_actual/toal_' + str(time) + '_merchnum'] = final['Cardnum' + '_day_since_merchnum'] + final['Cardnum' + '_actual/toal_' + str(time) + '_merchnum']\n",
      "/var/folders/ll/h_rnbgns62bcj0skpd2j0ktr0000gp/T/ipykernel_38628/1754028423.py:3: PerformanceWarning: DataFrame is highly fragmented.  This is usually the result of calling `frame.insert` many times, which has poor performance.  Consider joining all columns at once using pd.concat(axis=1) instead. To get a de-fragmented frame, use `newframe = frame.copy()`\n",
      "  final['Cardnum' + '_day_since_merchnum' + '_avg_' + str(time) + '_merchnum'] = final['Cardnum' + '_day_since_merchnum'] + final['Cardnum' + '_avg_' + str(time) + '_merchnum']\n",
      "/var/folders/ll/h_rnbgns62bcj0skpd2j0ktr0000gp/T/ipykernel_38628/1754028423.py:4: PerformanceWarning: DataFrame is highly fragmented.  This is usually the result of calling `frame.insert` many times, which has poor performance.  Consider joining all columns at once using pd.concat(axis=1) instead. To get a de-fragmented frame, use `newframe = frame.copy()`\n",
      "  final['Cardnum' + '_day_since_merchnum' + '_max_' + str(time) + '_merchnum'] = final['Cardnum' + '_day_since_merchnum'] + final['Cardnum' + '_max_' + str(time) + '_merchnum']\n",
      "/var/folders/ll/h_rnbgns62bcj0skpd2j0ktr0000gp/T/ipykernel_38628/1754028423.py:5: PerformanceWarning: DataFrame is highly fragmented.  This is usually the result of calling `frame.insert` many times, which has poor performance.  Consider joining all columns at once using pd.concat(axis=1) instead. To get a de-fragmented frame, use `newframe = frame.copy()`\n",
      "  final['Cardnum' + '_day_since_merchnum' +  '_med_' + str(time) + '_merchnum'] = final['Cardnum' + '_day_since_merchnum'] + final['Cardnum' + '_med_' + str(time) + '_merchnum']\n",
      "/var/folders/ll/h_rnbgns62bcj0skpd2j0ktr0000gp/T/ipykernel_38628/1754028423.py:6: PerformanceWarning: DataFrame is highly fragmented.  This is usually the result of calling `frame.insert` many times, which has poor performance.  Consider joining all columns at once using pd.concat(axis=1) instead. To get a de-fragmented frame, use `newframe = frame.copy()`\n",
      "  final['Cardnum' + '_day_since_merchnum' + '_total_' + str(time) + '_merchnum'] = final['Cardnum' + '_day_since_merchnum'] + final['Cardnum' + '_total_' + str(time) + '_merchnum']\n",
      "/var/folders/ll/h_rnbgns62bcj0skpd2j0ktr0000gp/T/ipykernel_38628/1754028423.py:7: PerformanceWarning: DataFrame is highly fragmented.  This is usually the result of calling `frame.insert` many times, which has poor performance.  Consider joining all columns at once using pd.concat(axis=1) instead. To get a de-fragmented frame, use `newframe = frame.copy()`\n",
      "  final['Cardnum' + '_day_since_merchnum' + '_actual/avg_' + str(time) + '_merchnum'] = final['Cardnum' + '_day_since_merchnum'] + final['Cardnum' + '_actual/avg_' + str(time) + '_merchnum']\n",
      "/var/folders/ll/h_rnbgns62bcj0skpd2j0ktr0000gp/T/ipykernel_38628/1754028423.py:8: PerformanceWarning: DataFrame is highly fragmented.  This is usually the result of calling `frame.insert` many times, which has poor performance.  Consider joining all columns at once using pd.concat(axis=1) instead. To get a de-fragmented frame, use `newframe = frame.copy()`\n",
      "  final['Cardnum' + '_day_since_merchnum' + '_actual/max_' + str(time) + '_merchnum'] = final['Cardnum' + '_day_since_merchnum'] + final['Cardnum' + '_actual/max_' + str(time) + '_merchnum']\n",
      "/var/folders/ll/h_rnbgns62bcj0skpd2j0ktr0000gp/T/ipykernel_38628/1754028423.py:9: PerformanceWarning: DataFrame is highly fragmented.  This is usually the result of calling `frame.insert` many times, which has poor performance.  Consider joining all columns at once using pd.concat(axis=1) instead. To get a de-fragmented frame, use `newframe = frame.copy()`\n",
      "  final['Cardnum' + '_day_since_merchnum' + '_actual/med_' + str(time) + '_merchnum'] = final['Cardnum' + '_day_since_merchnum'] + final['Cardnum' + '_actual/med_' + str(time) + '_merchnum']\n",
      "/var/folders/ll/h_rnbgns62bcj0skpd2j0ktr0000gp/T/ipykernel_38628/1754028423.py:10: PerformanceWarning: DataFrame is highly fragmented.  This is usually the result of calling `frame.insert` many times, which has poor performance.  Consider joining all columns at once using pd.concat(axis=1) instead. To get a de-fragmented frame, use `newframe = frame.copy()`\n",
      "  final['Cardnum' + '_day_since_merchnum' + '_actual/toal_' + str(time) + '_merchnum'] = final['Cardnum' + '_day_since_merchnum'] + final['Cardnum' + '_actual/toal_' + str(time) + '_merchnum']\n",
      "/var/folders/ll/h_rnbgns62bcj0skpd2j0ktr0000gp/T/ipykernel_38628/1754028423.py:3: PerformanceWarning: DataFrame is highly fragmented.  This is usually the result of calling `frame.insert` many times, which has poor performance.  Consider joining all columns at once using pd.concat(axis=1) instead. To get a de-fragmented frame, use `newframe = frame.copy()`\n",
      "  final['Cardnum' + '_day_since_merchnum' + '_avg_' + str(time) + '_merchnum'] = final['Cardnum' + '_day_since_merchnum'] + final['Cardnum' + '_avg_' + str(time) + '_merchnum']\n",
      "/var/folders/ll/h_rnbgns62bcj0skpd2j0ktr0000gp/T/ipykernel_38628/1754028423.py:4: PerformanceWarning: DataFrame is highly fragmented.  This is usually the result of calling `frame.insert` many times, which has poor performance.  Consider joining all columns at once using pd.concat(axis=1) instead. To get a de-fragmented frame, use `newframe = frame.copy()`\n",
      "  final['Cardnum' + '_day_since_merchnum' + '_max_' + str(time) + '_merchnum'] = final['Cardnum' + '_day_since_merchnum'] + final['Cardnum' + '_max_' + str(time) + '_merchnum']\n",
      "/var/folders/ll/h_rnbgns62bcj0skpd2j0ktr0000gp/T/ipykernel_38628/1754028423.py:5: PerformanceWarning: DataFrame is highly fragmented.  This is usually the result of calling `frame.insert` many times, which has poor performance.  Consider joining all columns at once using pd.concat(axis=1) instead. To get a de-fragmented frame, use `newframe = frame.copy()`\n",
      "  final['Cardnum' + '_day_since_merchnum' +  '_med_' + str(time) + '_merchnum'] = final['Cardnum' + '_day_since_merchnum'] + final['Cardnum' + '_med_' + str(time) + '_merchnum']\n",
      "/var/folders/ll/h_rnbgns62bcj0skpd2j0ktr0000gp/T/ipykernel_38628/1754028423.py:6: PerformanceWarning: DataFrame is highly fragmented.  This is usually the result of calling `frame.insert` many times, which has poor performance.  Consider joining all columns at once using pd.concat(axis=1) instead. To get a de-fragmented frame, use `newframe = frame.copy()`\n",
      "  final['Cardnum' + '_day_since_merchnum' + '_total_' + str(time) + '_merchnum'] = final['Cardnum' + '_day_since_merchnum'] + final['Cardnum' + '_total_' + str(time) + '_merchnum']\n",
      "/var/folders/ll/h_rnbgns62bcj0skpd2j0ktr0000gp/T/ipykernel_38628/1754028423.py:7: PerformanceWarning: DataFrame is highly fragmented.  This is usually the result of calling `frame.insert` many times, which has poor performance.  Consider joining all columns at once using pd.concat(axis=1) instead. To get a de-fragmented frame, use `newframe = frame.copy()`\n",
      "  final['Cardnum' + '_day_since_merchnum' + '_actual/avg_' + str(time) + '_merchnum'] = final['Cardnum' + '_day_since_merchnum'] + final['Cardnum' + '_actual/avg_' + str(time) + '_merchnum']\n",
      "/var/folders/ll/h_rnbgns62bcj0skpd2j0ktr0000gp/T/ipykernel_38628/1754028423.py:8: PerformanceWarning: DataFrame is highly fragmented.  This is usually the result of calling `frame.insert` many times, which has poor performance.  Consider joining all columns at once using pd.concat(axis=1) instead. To get a de-fragmented frame, use `newframe = frame.copy()`\n",
      "  final['Cardnum' + '_day_since_merchnum' + '_actual/max_' + str(time) + '_merchnum'] = final['Cardnum' + '_day_since_merchnum'] + final['Cardnum' + '_actual/max_' + str(time) + '_merchnum']\n",
      "/var/folders/ll/h_rnbgns62bcj0skpd2j0ktr0000gp/T/ipykernel_38628/1754028423.py:9: PerformanceWarning: DataFrame is highly fragmented.  This is usually the result of calling `frame.insert` many times, which has poor performance.  Consider joining all columns at once using pd.concat(axis=1) instead. To get a de-fragmented frame, use `newframe = frame.copy()`\n",
      "  final['Cardnum' + '_day_since_merchnum' + '_actual/med_' + str(time) + '_merchnum'] = final['Cardnum' + '_day_since_merchnum'] + final['Cardnum' + '_actual/med_' + str(time) + '_merchnum']\n",
      "/var/folders/ll/h_rnbgns62bcj0skpd2j0ktr0000gp/T/ipykernel_38628/1754028423.py:10: PerformanceWarning: DataFrame is highly fragmented.  This is usually the result of calling `frame.insert` many times, which has poor performance.  Consider joining all columns at once using pd.concat(axis=1) instead. To get a de-fragmented frame, use `newframe = frame.copy()`\n",
      "  final['Cardnum' + '_day_since_merchnum' + '_actual/toal_' + str(time) + '_merchnum'] = final['Cardnum' + '_day_since_merchnum'] + final['Cardnum' + '_actual/toal_' + str(time) + '_merchnum']\n",
      "/var/folders/ll/h_rnbgns62bcj0skpd2j0ktr0000gp/T/ipykernel_38628/1754028423.py:3: PerformanceWarning: DataFrame is highly fragmented.  This is usually the result of calling `frame.insert` many times, which has poor performance.  Consider joining all columns at once using pd.concat(axis=1) instead. To get a de-fragmented frame, use `newframe = frame.copy()`\n",
      "  final['Cardnum' + '_day_since_merchnum' + '_avg_' + str(time) + '_merchnum'] = final['Cardnum' + '_day_since_merchnum'] + final['Cardnum' + '_avg_' + str(time) + '_merchnum']\n",
      "/var/folders/ll/h_rnbgns62bcj0skpd2j0ktr0000gp/T/ipykernel_38628/1754028423.py:4: PerformanceWarning: DataFrame is highly fragmented.  This is usually the result of calling `frame.insert` many times, which has poor performance.  Consider joining all columns at once using pd.concat(axis=1) instead. To get a de-fragmented frame, use `newframe = frame.copy()`\n",
      "  final['Cardnum' + '_day_since_merchnum' + '_max_' + str(time) + '_merchnum'] = final['Cardnum' + '_day_since_merchnum'] + final['Cardnum' + '_max_' + str(time) + '_merchnum']\n",
      "/var/folders/ll/h_rnbgns62bcj0skpd2j0ktr0000gp/T/ipykernel_38628/1754028423.py:5: PerformanceWarning: DataFrame is highly fragmented.  This is usually the result of calling `frame.insert` many times, which has poor performance.  Consider joining all columns at once using pd.concat(axis=1) instead. To get a de-fragmented frame, use `newframe = frame.copy()`\n",
      "  final['Cardnum' + '_day_since_merchnum' +  '_med_' + str(time) + '_merchnum'] = final['Cardnum' + '_day_since_merchnum'] + final['Cardnum' + '_med_' + str(time) + '_merchnum']\n",
      "/var/folders/ll/h_rnbgns62bcj0skpd2j0ktr0000gp/T/ipykernel_38628/1754028423.py:6: PerformanceWarning: DataFrame is highly fragmented.  This is usually the result of calling `frame.insert` many times, which has poor performance.  Consider joining all columns at once using pd.concat(axis=1) instead. To get a de-fragmented frame, use `newframe = frame.copy()`\n",
      "  final['Cardnum' + '_day_since_merchnum' + '_total_' + str(time) + '_merchnum'] = final['Cardnum' + '_day_since_merchnum'] + final['Cardnum' + '_total_' + str(time) + '_merchnum']\n",
      "/var/folders/ll/h_rnbgns62bcj0skpd2j0ktr0000gp/T/ipykernel_38628/1754028423.py:7: PerformanceWarning: DataFrame is highly fragmented.  This is usually the result of calling `frame.insert` many times, which has poor performance.  Consider joining all columns at once using pd.concat(axis=1) instead. To get a de-fragmented frame, use `newframe = frame.copy()`\n",
      "  final['Cardnum' + '_day_since_merchnum' + '_actual/avg_' + str(time) + '_merchnum'] = final['Cardnum' + '_day_since_merchnum'] + final['Cardnum' + '_actual/avg_' + str(time) + '_merchnum']\n",
      "/var/folders/ll/h_rnbgns62bcj0skpd2j0ktr0000gp/T/ipykernel_38628/1754028423.py:8: PerformanceWarning: DataFrame is highly fragmented.  This is usually the result of calling `frame.insert` many times, which has poor performance.  Consider joining all columns at once using pd.concat(axis=1) instead. To get a de-fragmented frame, use `newframe = frame.copy()`\n",
      "  final['Cardnum' + '_day_since_merchnum' + '_actual/max_' + str(time) + '_merchnum'] = final['Cardnum' + '_day_since_merchnum'] + final['Cardnum' + '_actual/max_' + str(time) + '_merchnum']\n",
      "/var/folders/ll/h_rnbgns62bcj0skpd2j0ktr0000gp/T/ipykernel_38628/1754028423.py:9: PerformanceWarning: DataFrame is highly fragmented.  This is usually the result of calling `frame.insert` many times, which has poor performance.  Consider joining all columns at once using pd.concat(axis=1) instead. To get a de-fragmented frame, use `newframe = frame.copy()`\n",
      "  final['Cardnum' + '_day_since_merchnum' + '_actual/med_' + str(time) + '_merchnum'] = final['Cardnum' + '_day_since_merchnum'] + final['Cardnum' + '_actual/med_' + str(time) + '_merchnum']\n",
      "/var/folders/ll/h_rnbgns62bcj0skpd2j0ktr0000gp/T/ipykernel_38628/1754028423.py:10: PerformanceWarning: DataFrame is highly fragmented.  This is usually the result of calling `frame.insert` many times, which has poor performance.  Consider joining all columns at once using pd.concat(axis=1) instead. To get a de-fragmented frame, use `newframe = frame.copy()`\n",
      "  final['Cardnum' + '_day_since_merchnum' + '_actual/toal_' + str(time) + '_merchnum'] = final['Cardnum' + '_day_since_merchnum'] + final['Cardnum' + '_actual/toal_' + str(time) + '_merchnum']\n"
     ]
    }
   ],
   "source": [
    "for time in [0,1,3,7,14,30]:\n",
    "   \n",
    "    final['Cardnum' + '_day_since_merchnum' + '_avg_' + str(time) + '_merchnum'] = final['Cardnum' + '_day_since_merchnum'] + final['Cardnum' + '_avg_' + str(time) + '_merchnum']\n",
    "    final['Cardnum' + '_day_since_merchnum' + '_max_' + str(time) + '_merchnum'] = final['Cardnum' + '_day_since_merchnum'] + final['Cardnum' + '_max_' + str(time) + '_merchnum']\n",
    "    final['Cardnum' + '_day_since_merchnum' +  '_med_' + str(time) + '_merchnum'] = final['Cardnum' + '_day_since_merchnum'] + final['Cardnum' + '_med_' + str(time) + '_merchnum']\n",
    "    final['Cardnum' + '_day_since_merchnum' + '_total_' + str(time) + '_merchnum'] = final['Cardnum' + '_day_since_merchnum'] + final['Cardnum' + '_total_' + str(time) + '_merchnum']\n",
    "    final['Cardnum' + '_day_since_merchnum' + '_actual/avg_' + str(time) + '_merchnum'] = final['Cardnum' + '_day_since_merchnum'] + final['Cardnum' + '_actual/avg_' + str(time) + '_merchnum']\n",
    "    final['Cardnum' + '_day_since_merchnum' + '_actual/max_' + str(time) + '_merchnum'] = final['Cardnum' + '_day_since_merchnum'] + final['Cardnum' + '_actual/max_' + str(time) + '_merchnum']\n",
    "    final['Cardnum' + '_day_since_merchnum' + '_actual/med_' + str(time) + '_merchnum'] = final['Cardnum' + '_day_since_merchnum'] + final['Cardnum' + '_actual/med_' + str(time) + '_merchnum']\n",
    "    final['Cardnum' + '_day_since_merchnum' + '_actual/toal_' + str(time) + '_merchnum'] = final['Cardnum' + '_day_since_merchnum'] + final['Cardnum' + '_actual/toal_' + str(time) + '_merchnum']\n",
    "    \n",
    "    "
   ]
  },
  {
   "cell_type": "code",
   "execution_count": 130,
   "id": "DQjVd6QxT_8u",
   "metadata": {
    "id": "DQjVd6QxT_8u"
   },
   "outputs": [
    {
     "name": "stdout",
     "output_type": "stream",
     "text": [
      "run time: 0.10792558299999655s\n"
     ]
    },
    {
     "name": "stderr",
     "output_type": "stream",
     "text": [
      "/var/folders/ll/h_rnbgns62bcj0skpd2j0ktr0000gp/T/ipykernel_38628/4053462765.py:6: PerformanceWarning: DataFrame is highly fragmented.  This is usually the result of calling `frame.insert` many times, which has poor performance.  Consider joining all columns at once using pd.concat(axis=1) instead. To get a de-fragmented frame, use `newframe = frame.copy()`\n",
      "  final[ent + '_count_' + d + '_by_' + dd] =\\\n",
      "/var/folders/ll/h_rnbgns62bcj0skpd2j0ktr0000gp/T/ipykernel_38628/4053462765.py:6: PerformanceWarning: DataFrame is highly fragmented.  This is usually the result of calling `frame.insert` many times, which has poor performance.  Consider joining all columns at once using pd.concat(axis=1) instead. To get a de-fragmented frame, use `newframe = frame.copy()`\n",
      "  final[ent + '_count_' + d + '_by_' + dd] =\\\n",
      "/var/folders/ll/h_rnbgns62bcj0skpd2j0ktr0000gp/T/ipykernel_38628/4053462765.py:6: PerformanceWarning: DataFrame is highly fragmented.  This is usually the result of calling `frame.insert` many times, which has poor performance.  Consider joining all columns at once using pd.concat(axis=1) instead. To get a de-fragmented frame, use `newframe = frame.copy()`\n",
      "  final[ent + '_count_' + d + '_by_' + dd] =\\\n",
      "/var/folders/ll/h_rnbgns62bcj0skpd2j0ktr0000gp/T/ipykernel_38628/4053462765.py:6: PerformanceWarning: DataFrame is highly fragmented.  This is usually the result of calling `frame.insert` many times, which has poor performance.  Consider joining all columns at once using pd.concat(axis=1) instead. To get a de-fragmented frame, use `newframe = frame.copy()`\n",
      "  final[ent + '_count_' + d + '_by_' + dd] =\\\n",
      "/var/folders/ll/h_rnbgns62bcj0skpd2j0ktr0000gp/T/ipykernel_38628/4053462765.py:6: PerformanceWarning: DataFrame is highly fragmented.  This is usually the result of calling `frame.insert` many times, which has poor performance.  Consider joining all columns at once using pd.concat(axis=1) instead. To get a de-fragmented frame, use `newframe = frame.copy()`\n",
      "  final[ent + '_count_' + d + '_by_' + dd] =\\\n",
      "/var/folders/ll/h_rnbgns62bcj0skpd2j0ktr0000gp/T/ipykernel_38628/4053462765.py:6: PerformanceWarning: DataFrame is highly fragmented.  This is usually the result of calling `frame.insert` many times, which has poor performance.  Consider joining all columns at once using pd.concat(axis=1) instead. To get a de-fragmented frame, use `newframe = frame.copy()`\n",
      "  final[ent + '_count_' + d + '_by_' + dd] =\\\n",
      "/var/folders/ll/h_rnbgns62bcj0skpd2j0ktr0000gp/T/ipykernel_38628/4053462765.py:6: PerformanceWarning: DataFrame is highly fragmented.  This is usually the result of calling `frame.insert` many times, which has poor performance.  Consider joining all columns at once using pd.concat(axis=1) instead. To get a de-fragmented frame, use `newframe = frame.copy()`\n",
      "  final[ent + '_count_' + d + '_by_' + dd] =\\\n",
      "/var/folders/ll/h_rnbgns62bcj0skpd2j0ktr0000gp/T/ipykernel_38628/4053462765.py:6: PerformanceWarning: DataFrame is highly fragmented.  This is usually the result of calling `frame.insert` many times, which has poor performance.  Consider joining all columns at once using pd.concat(axis=1) instead. To get a de-fragmented frame, use `newframe = frame.copy()`\n",
      "  final[ent + '_count_' + d + '_by_' + dd] =\\\n",
      "/var/folders/ll/h_rnbgns62bcj0skpd2j0ktr0000gp/T/ipykernel_38628/4053462765.py:6: PerformanceWarning: DataFrame is highly fragmented.  This is usually the result of calling `frame.insert` many times, which has poor performance.  Consider joining all columns at once using pd.concat(axis=1) instead. To get a de-fragmented frame, use `newframe = frame.copy()`\n",
      "  final[ent + '_count_' + d + '_by_' + dd] =\\\n",
      "/var/folders/ll/h_rnbgns62bcj0skpd2j0ktr0000gp/T/ipykernel_38628/4053462765.py:6: PerformanceWarning: DataFrame is highly fragmented.  This is usually the result of calling `frame.insert` many times, which has poor performance.  Consider joining all columns at once using pd.concat(axis=1) instead. To get a de-fragmented frame, use `newframe = frame.copy()`\n",
      "  final[ent + '_count_' + d + '_by_' + dd] =\\\n",
      "/var/folders/ll/h_rnbgns62bcj0skpd2j0ktr0000gp/T/ipykernel_38628/4053462765.py:6: PerformanceWarning: DataFrame is highly fragmented.  This is usually the result of calling `frame.insert` many times, which has poor performance.  Consider joining all columns at once using pd.concat(axis=1) instead. To get a de-fragmented frame, use `newframe = frame.copy()`\n",
      "  final[ent + '_count_' + d + '_by_' + dd] =\\\n",
      "/var/folders/ll/h_rnbgns62bcj0skpd2j0ktr0000gp/T/ipykernel_38628/4053462765.py:6: PerformanceWarning: DataFrame is highly fragmented.  This is usually the result of calling `frame.insert` many times, which has poor performance.  Consider joining all columns at once using pd.concat(axis=1) instead. To get a de-fragmented frame, use `newframe = frame.copy()`\n",
      "  final[ent + '_count_' + d + '_by_' + dd] =\\\n",
      "/var/folders/ll/h_rnbgns62bcj0skpd2j0ktr0000gp/T/ipykernel_38628/4053462765.py:6: PerformanceWarning: DataFrame is highly fragmented.  This is usually the result of calling `frame.insert` many times, which has poor performance.  Consider joining all columns at once using pd.concat(axis=1) instead. To get a de-fragmented frame, use `newframe = frame.copy()`\n",
      "  final[ent + '_count_' + d + '_by_' + dd] =\\\n",
      "/var/folders/ll/h_rnbgns62bcj0skpd2j0ktr0000gp/T/ipykernel_38628/4053462765.py:6: PerformanceWarning: DataFrame is highly fragmented.  This is usually the result of calling `frame.insert` many times, which has poor performance.  Consider joining all columns at once using pd.concat(axis=1) instead. To get a de-fragmented frame, use `newframe = frame.copy()`\n",
      "  final[ent + '_count_' + d + '_by_' + dd] =\\\n",
      "/var/folders/ll/h_rnbgns62bcj0skpd2j0ktr0000gp/T/ipykernel_38628/4053462765.py:6: PerformanceWarning: DataFrame is highly fragmented.  This is usually the result of calling `frame.insert` many times, which has poor performance.  Consider joining all columns at once using pd.concat(axis=1) instead. To get a de-fragmented frame, use `newframe = frame.copy()`\n",
      "  final[ent + '_count_' + d + '_by_' + dd] =\\\n",
      "/var/folders/ll/h_rnbgns62bcj0skpd2j0ktr0000gp/T/ipykernel_38628/4053462765.py:6: PerformanceWarning: DataFrame is highly fragmented.  This is usually the result of calling `frame.insert` many times, which has poor performance.  Consider joining all columns at once using pd.concat(axis=1) instead. To get a de-fragmented frame, use `newframe = frame.copy()`\n",
      "  final[ent + '_count_' + d + '_by_' + dd] =\\\n",
      "/var/folders/ll/h_rnbgns62bcj0skpd2j0ktr0000gp/T/ipykernel_38628/4053462765.py:6: PerformanceWarning: DataFrame is highly fragmented.  This is usually the result of calling `frame.insert` many times, which has poor performance.  Consider joining all columns at once using pd.concat(axis=1) instead. To get a de-fragmented frame, use `newframe = frame.copy()`\n",
      "  final[ent + '_count_' + d + '_by_' + dd] =\\\n",
      "/var/folders/ll/h_rnbgns62bcj0skpd2j0ktr0000gp/T/ipykernel_38628/4053462765.py:6: PerformanceWarning: DataFrame is highly fragmented.  This is usually the result of calling `frame.insert` many times, which has poor performance.  Consider joining all columns at once using pd.concat(axis=1) instead. To get a de-fragmented frame, use `newframe = frame.copy()`\n",
      "  final[ent + '_count_' + d + '_by_' + dd] =\\\n",
      "/var/folders/ll/h_rnbgns62bcj0skpd2j0ktr0000gp/T/ipykernel_38628/4053462765.py:6: PerformanceWarning: DataFrame is highly fragmented.  This is usually the result of calling `frame.insert` many times, which has poor performance.  Consider joining all columns at once using pd.concat(axis=1) instead. To get a de-fragmented frame, use `newframe = frame.copy()`\n",
      "  final[ent + '_count_' + d + '_by_' + dd] =\\\n",
      "/var/folders/ll/h_rnbgns62bcj0skpd2j0ktr0000gp/T/ipykernel_38628/4053462765.py:6: PerformanceWarning: DataFrame is highly fragmented.  This is usually the result of calling `frame.insert` many times, which has poor performance.  Consider joining all columns at once using pd.concat(axis=1) instead. To get a de-fragmented frame, use `newframe = frame.copy()`\n",
      "  final[ent + '_count_' + d + '_by_' + dd] =\\\n",
      "/var/folders/ll/h_rnbgns62bcj0skpd2j0ktr0000gp/T/ipykernel_38628/4053462765.py:6: PerformanceWarning: DataFrame is highly fragmented.  This is usually the result of calling `frame.insert` many times, which has poor performance.  Consider joining all columns at once using pd.concat(axis=1) instead. To get a de-fragmented frame, use `newframe = frame.copy()`\n",
      "  final[ent + '_count_' + d + '_by_' + dd] =\\\n",
      "/var/folders/ll/h_rnbgns62bcj0skpd2j0ktr0000gp/T/ipykernel_38628/4053462765.py:6: PerformanceWarning: DataFrame is highly fragmented.  This is usually the result of calling `frame.insert` many times, which has poor performance.  Consider joining all columns at once using pd.concat(axis=1) instead. To get a de-fragmented frame, use `newframe = frame.copy()`\n",
      "  final[ent + '_count_' + d + '_by_' + dd] =\\\n",
      "/var/folders/ll/h_rnbgns62bcj0skpd2j0ktr0000gp/T/ipykernel_38628/4053462765.py:6: PerformanceWarning: DataFrame is highly fragmented.  This is usually the result of calling `frame.insert` many times, which has poor performance.  Consider joining all columns at once using pd.concat(axis=1) instead. To get a de-fragmented frame, use `newframe = frame.copy()`\n",
      "  final[ent + '_count_' + d + '_by_' + dd] =\\\n",
      "/var/folders/ll/h_rnbgns62bcj0skpd2j0ktr0000gp/T/ipykernel_38628/4053462765.py:6: PerformanceWarning: DataFrame is highly fragmented.  This is usually the result of calling `frame.insert` many times, which has poor performance.  Consider joining all columns at once using pd.concat(axis=1) instead. To get a de-fragmented frame, use `newframe = frame.copy()`\n",
      "  final[ent + '_count_' + d + '_by_' + dd] =\\\n",
      "/var/folders/ll/h_rnbgns62bcj0skpd2j0ktr0000gp/T/ipykernel_38628/4053462765.py:6: PerformanceWarning: DataFrame is highly fragmented.  This is usually the result of calling `frame.insert` many times, which has poor performance.  Consider joining all columns at once using pd.concat(axis=1) instead. To get a de-fragmented frame, use `newframe = frame.copy()`\n",
      "  final[ent + '_count_' + d + '_by_' + dd] =\\\n",
      "/var/folders/ll/h_rnbgns62bcj0skpd2j0ktr0000gp/T/ipykernel_38628/4053462765.py:6: PerformanceWarning: DataFrame is highly fragmented.  This is usually the result of calling `frame.insert` many times, which has poor performance.  Consider joining all columns at once using pd.concat(axis=1) instead. To get a de-fragmented frame, use `newframe = frame.copy()`\n",
      "  final[ent + '_count_' + d + '_by_' + dd] =\\\n",
      "/var/folders/ll/h_rnbgns62bcj0skpd2j0ktr0000gp/T/ipykernel_38628/4053462765.py:6: PerformanceWarning: DataFrame is highly fragmented.  This is usually the result of calling `frame.insert` many times, which has poor performance.  Consider joining all columns at once using pd.concat(axis=1) instead. To get a de-fragmented frame, use `newframe = frame.copy()`\n",
      "  final[ent + '_count_' + d + '_by_' + dd] =\\\n",
      "/var/folders/ll/h_rnbgns62bcj0skpd2j0ktr0000gp/T/ipykernel_38628/4053462765.py:6: PerformanceWarning: DataFrame is highly fragmented.  This is usually the result of calling `frame.insert` many times, which has poor performance.  Consider joining all columns at once using pd.concat(axis=1) instead. To get a de-fragmented frame, use `newframe = frame.copy()`\n",
      "  final[ent + '_count_' + d + '_by_' + dd] =\\\n",
      "/var/folders/ll/h_rnbgns62bcj0skpd2j0ktr0000gp/T/ipykernel_38628/4053462765.py:6: PerformanceWarning: DataFrame is highly fragmented.  This is usually the result of calling `frame.insert` many times, which has poor performance.  Consider joining all columns at once using pd.concat(axis=1) instead. To get a de-fragmented frame, use `newframe = frame.copy()`\n",
      "  final[ent + '_count_' + d + '_by_' + dd] =\\\n",
      "/var/folders/ll/h_rnbgns62bcj0skpd2j0ktr0000gp/T/ipykernel_38628/4053462765.py:6: PerformanceWarning: DataFrame is highly fragmented.  This is usually the result of calling `frame.insert` many times, which has poor performance.  Consider joining all columns at once using pd.concat(axis=1) instead. To get a de-fragmented frame, use `newframe = frame.copy()`\n",
      "  final[ent + '_count_' + d + '_by_' + dd] =\\\n",
      "/var/folders/ll/h_rnbgns62bcj0skpd2j0ktr0000gp/T/ipykernel_38628/4053462765.py:6: PerformanceWarning: DataFrame is highly fragmented.  This is usually the result of calling `frame.insert` many times, which has poor performance.  Consider joining all columns at once using pd.concat(axis=1) instead. To get a de-fragmented frame, use `newframe = frame.copy()`\n",
      "  final[ent + '_count_' + d + '_by_' + dd] =\\\n",
      "/var/folders/ll/h_rnbgns62bcj0skpd2j0ktr0000gp/T/ipykernel_38628/4053462765.py:6: PerformanceWarning: DataFrame is highly fragmented.  This is usually the result of calling `frame.insert` many times, which has poor performance.  Consider joining all columns at once using pd.concat(axis=1) instead. To get a de-fragmented frame, use `newframe = frame.copy()`\n",
      "  final[ent + '_count_' + d + '_by_' + dd] =\\\n",
      "/var/folders/ll/h_rnbgns62bcj0skpd2j0ktr0000gp/T/ipykernel_38628/4053462765.py:6: PerformanceWarning: DataFrame is highly fragmented.  This is usually the result of calling `frame.insert` many times, which has poor performance.  Consider joining all columns at once using pd.concat(axis=1) instead. To get a de-fragmented frame, use `newframe = frame.copy()`\n",
      "  final[ent + '_count_' + d + '_by_' + dd] =\\\n",
      "/var/folders/ll/h_rnbgns62bcj0skpd2j0ktr0000gp/T/ipykernel_38628/4053462765.py:6: PerformanceWarning: DataFrame is highly fragmented.  This is usually the result of calling `frame.insert` many times, which has poor performance.  Consider joining all columns at once using pd.concat(axis=1) instead. To get a de-fragmented frame, use `newframe = frame.copy()`\n",
      "  final[ent + '_count_' + d + '_by_' + dd] =\\\n",
      "/var/folders/ll/h_rnbgns62bcj0skpd2j0ktr0000gp/T/ipykernel_38628/4053462765.py:6: PerformanceWarning: DataFrame is highly fragmented.  This is usually the result of calling `frame.insert` many times, which has poor performance.  Consider joining all columns at once using pd.concat(axis=1) instead. To get a de-fragmented frame, use `newframe = frame.copy()`\n",
      "  final[ent + '_count_' + d + '_by_' + dd] =\\\n",
      "/var/folders/ll/h_rnbgns62bcj0skpd2j0ktr0000gp/T/ipykernel_38628/4053462765.py:6: PerformanceWarning: DataFrame is highly fragmented.  This is usually the result of calling `frame.insert` many times, which has poor performance.  Consider joining all columns at once using pd.concat(axis=1) instead. To get a de-fragmented frame, use `newframe = frame.copy()`\n",
      "  final[ent + '_count_' + d + '_by_' + dd] =\\\n",
      "/var/folders/ll/h_rnbgns62bcj0skpd2j0ktr0000gp/T/ipykernel_38628/4053462765.py:6: PerformanceWarning: DataFrame is highly fragmented.  This is usually the result of calling `frame.insert` many times, which has poor performance.  Consider joining all columns at once using pd.concat(axis=1) instead. To get a de-fragmented frame, use `newframe = frame.copy()`\n",
      "  final[ent + '_count_' + d + '_by_' + dd] =\\\n",
      "/var/folders/ll/h_rnbgns62bcj0skpd2j0ktr0000gp/T/ipykernel_38628/4053462765.py:6: PerformanceWarning: DataFrame is highly fragmented.  This is usually the result of calling `frame.insert` many times, which has poor performance.  Consider joining all columns at once using pd.concat(axis=1) instead. To get a de-fragmented frame, use `newframe = frame.copy()`\n",
      "  final[ent + '_count_' + d + '_by_' + dd] =\\\n",
      "/var/folders/ll/h_rnbgns62bcj0skpd2j0ktr0000gp/T/ipykernel_38628/4053462765.py:6: PerformanceWarning: DataFrame is highly fragmented.  This is usually the result of calling `frame.insert` many times, which has poor performance.  Consider joining all columns at once using pd.concat(axis=1) instead. To get a de-fragmented frame, use `newframe = frame.copy()`\n",
      "  final[ent + '_count_' + d + '_by_' + dd] =\\\n",
      "/var/folders/ll/h_rnbgns62bcj0skpd2j0ktr0000gp/T/ipykernel_38628/4053462765.py:6: PerformanceWarning: DataFrame is highly fragmented.  This is usually the result of calling `frame.insert` many times, which has poor performance.  Consider joining all columns at once using pd.concat(axis=1) instead. To get a de-fragmented frame, use `newframe = frame.copy()`\n",
      "  final[ent + '_count_' + d + '_by_' + dd] =\\\n",
      "/var/folders/ll/h_rnbgns62bcj0skpd2j0ktr0000gp/T/ipykernel_38628/4053462765.py:6: PerformanceWarning: DataFrame is highly fragmented.  This is usually the result of calling `frame.insert` many times, which has poor performance.  Consider joining all columns at once using pd.concat(axis=1) instead. To get a de-fragmented frame, use `newframe = frame.copy()`\n",
      "  final[ent + '_count_' + d + '_by_' + dd] =\\\n",
      "/var/folders/ll/h_rnbgns62bcj0skpd2j0ktr0000gp/T/ipykernel_38628/4053462765.py:6: PerformanceWarning: DataFrame is highly fragmented.  This is usually the result of calling `frame.insert` many times, which has poor performance.  Consider joining all columns at once using pd.concat(axis=1) instead. To get a de-fragmented frame, use `newframe = frame.copy()`\n",
      "  final[ent + '_count_' + d + '_by_' + dd] =\\\n",
      "/var/folders/ll/h_rnbgns62bcj0skpd2j0ktr0000gp/T/ipykernel_38628/4053462765.py:6: PerformanceWarning: DataFrame is highly fragmented.  This is usually the result of calling `frame.insert` many times, which has poor performance.  Consider joining all columns at once using pd.concat(axis=1) instead. To get a de-fragmented frame, use `newframe = frame.copy()`\n",
      "  final[ent + '_count_' + d + '_by_' + dd] =\\\n",
      "/var/folders/ll/h_rnbgns62bcj0skpd2j0ktr0000gp/T/ipykernel_38628/4053462765.py:6: PerformanceWarning: DataFrame is highly fragmented.  This is usually the result of calling `frame.insert` many times, which has poor performance.  Consider joining all columns at once using pd.concat(axis=1) instead. To get a de-fragmented frame, use `newframe = frame.copy()`\n",
      "  final[ent + '_count_' + d + '_by_' + dd] =\\\n",
      "/var/folders/ll/h_rnbgns62bcj0skpd2j0ktr0000gp/T/ipykernel_38628/4053462765.py:6: PerformanceWarning: DataFrame is highly fragmented.  This is usually the result of calling `frame.insert` many times, which has poor performance.  Consider joining all columns at once using pd.concat(axis=1) instead. To get a de-fragmented frame, use `newframe = frame.copy()`\n",
      "  final[ent + '_count_' + d + '_by_' + dd] =\\\n",
      "/var/folders/ll/h_rnbgns62bcj0skpd2j0ktr0000gp/T/ipykernel_38628/4053462765.py:6: PerformanceWarning: DataFrame is highly fragmented.  This is usually the result of calling `frame.insert` many times, which has poor performance.  Consider joining all columns at once using pd.concat(axis=1) instead. To get a de-fragmented frame, use `newframe = frame.copy()`\n",
      "  final[ent + '_count_' + d + '_by_' + dd] =\\\n",
      "/var/folders/ll/h_rnbgns62bcj0skpd2j0ktr0000gp/T/ipykernel_38628/4053462765.py:6: PerformanceWarning: DataFrame is highly fragmented.  This is usually the result of calling `frame.insert` many times, which has poor performance.  Consider joining all columns at once using pd.concat(axis=1) instead. To get a de-fragmented frame, use `newframe = frame.copy()`\n",
      "  final[ent + '_count_' + d + '_by_' + dd] =\\\n",
      "/var/folders/ll/h_rnbgns62bcj0skpd2j0ktr0000gp/T/ipykernel_38628/4053462765.py:6: PerformanceWarning: DataFrame is highly fragmented.  This is usually the result of calling `frame.insert` many times, which has poor performance.  Consider joining all columns at once using pd.concat(axis=1) instead. To get a de-fragmented frame, use `newframe = frame.copy()`\n",
      "  final[ent + '_count_' + d + '_by_' + dd] =\\\n",
      "/var/folders/ll/h_rnbgns62bcj0skpd2j0ktr0000gp/T/ipykernel_38628/4053462765.py:6: PerformanceWarning: DataFrame is highly fragmented.  This is usually the result of calling `frame.insert` many times, which has poor performance.  Consider joining all columns at once using pd.concat(axis=1) instead. To get a de-fragmented frame, use `newframe = frame.copy()`\n",
      "  final[ent + '_count_' + d + '_by_' + dd] =\\\n",
      "/var/folders/ll/h_rnbgns62bcj0skpd2j0ktr0000gp/T/ipykernel_38628/4053462765.py:6: PerformanceWarning: DataFrame is highly fragmented.  This is usually the result of calling `frame.insert` many times, which has poor performance.  Consider joining all columns at once using pd.concat(axis=1) instead. To get a de-fragmented frame, use `newframe = frame.copy()`\n",
      "  final[ent + '_count_' + d + '_by_' + dd] =\\\n",
      "/var/folders/ll/h_rnbgns62bcj0skpd2j0ktr0000gp/T/ipykernel_38628/4053462765.py:6: PerformanceWarning: DataFrame is highly fragmented.  This is usually the result of calling `frame.insert` many times, which has poor performance.  Consider joining all columns at once using pd.concat(axis=1) instead. To get a de-fragmented frame, use `newframe = frame.copy()`\n",
      "  final[ent + '_count_' + d + '_by_' + dd] =\\\n",
      "/var/folders/ll/h_rnbgns62bcj0skpd2j0ktr0000gp/T/ipykernel_38628/4053462765.py:6: PerformanceWarning: DataFrame is highly fragmented.  This is usually the result of calling `frame.insert` many times, which has poor performance.  Consider joining all columns at once using pd.concat(axis=1) instead. To get a de-fragmented frame, use `newframe = frame.copy()`\n",
      "  final[ent + '_count_' + d + '_by_' + dd] =\\\n",
      "/var/folders/ll/h_rnbgns62bcj0skpd2j0ktr0000gp/T/ipykernel_38628/4053462765.py:6: PerformanceWarning: DataFrame is highly fragmented.  This is usually the result of calling `frame.insert` many times, which has poor performance.  Consider joining all columns at once using pd.concat(axis=1) instead. To get a de-fragmented frame, use `newframe = frame.copy()`\n",
      "  final[ent + '_count_' + d + '_by_' + dd] =\\\n",
      "/var/folders/ll/h_rnbgns62bcj0skpd2j0ktr0000gp/T/ipykernel_38628/4053462765.py:6: PerformanceWarning: DataFrame is highly fragmented.  This is usually the result of calling `frame.insert` many times, which has poor performance.  Consider joining all columns at once using pd.concat(axis=1) instead. To get a de-fragmented frame, use `newframe = frame.copy()`\n",
      "  final[ent + '_count_' + d + '_by_' + dd] =\\\n",
      "/var/folders/ll/h_rnbgns62bcj0skpd2j0ktr0000gp/T/ipykernel_38628/4053462765.py:6: PerformanceWarning: DataFrame is highly fragmented.  This is usually the result of calling `frame.insert` many times, which has poor performance.  Consider joining all columns at once using pd.concat(axis=1) instead. To get a de-fragmented frame, use `newframe = frame.copy()`\n",
      "  final[ent + '_count_' + d + '_by_' + dd] =\\\n",
      "/var/folders/ll/h_rnbgns62bcj0skpd2j0ktr0000gp/T/ipykernel_38628/4053462765.py:6: PerformanceWarning: DataFrame is highly fragmented.  This is usually the result of calling `frame.insert` many times, which has poor performance.  Consider joining all columns at once using pd.concat(axis=1) instead. To get a de-fragmented frame, use `newframe = frame.copy()`\n",
      "  final[ent + '_count_' + d + '_by_' + dd] =\\\n",
      "/var/folders/ll/h_rnbgns62bcj0skpd2j0ktr0000gp/T/ipykernel_38628/4053462765.py:6: PerformanceWarning: DataFrame is highly fragmented.  This is usually the result of calling `frame.insert` many times, which has poor performance.  Consider joining all columns at once using pd.concat(axis=1) instead. To get a de-fragmented frame, use `newframe = frame.copy()`\n",
      "  final[ent + '_count_' + d + '_by_' + dd] =\\\n",
      "/var/folders/ll/h_rnbgns62bcj0skpd2j0ktr0000gp/T/ipykernel_38628/4053462765.py:6: PerformanceWarning: DataFrame is highly fragmented.  This is usually the result of calling `frame.insert` many times, which has poor performance.  Consider joining all columns at once using pd.concat(axis=1) instead. To get a de-fragmented frame, use `newframe = frame.copy()`\n",
      "  final[ent + '_count_' + d + '_by_' + dd] =\\\n",
      "/var/folders/ll/h_rnbgns62bcj0skpd2j0ktr0000gp/T/ipykernel_38628/4053462765.py:6: PerformanceWarning: DataFrame is highly fragmented.  This is usually the result of calling `frame.insert` many times, which has poor performance.  Consider joining all columns at once using pd.concat(axis=1) instead. To get a de-fragmented frame, use `newframe = frame.copy()`\n",
      "  final[ent + '_count_' + d + '_by_' + dd] =\\\n",
      "/var/folders/ll/h_rnbgns62bcj0skpd2j0ktr0000gp/T/ipykernel_38628/4053462765.py:6: PerformanceWarning: DataFrame is highly fragmented.  This is usually the result of calling `frame.insert` many times, which has poor performance.  Consider joining all columns at once using pd.concat(axis=1) instead. To get a de-fragmented frame, use `newframe = frame.copy()`\n",
      "  final[ent + '_count_' + d + '_by_' + dd] =\\\n",
      "/var/folders/ll/h_rnbgns62bcj0skpd2j0ktr0000gp/T/ipykernel_38628/4053462765.py:6: PerformanceWarning: DataFrame is highly fragmented.  This is usually the result of calling `frame.insert` many times, which has poor performance.  Consider joining all columns at once using pd.concat(axis=1) instead. To get a de-fragmented frame, use `newframe = frame.copy()`\n",
      "  final[ent + '_count_' + d + '_by_' + dd] =\\\n",
      "/var/folders/ll/h_rnbgns62bcj0skpd2j0ktr0000gp/T/ipykernel_38628/4053462765.py:6: PerformanceWarning: DataFrame is highly fragmented.  This is usually the result of calling `frame.insert` many times, which has poor performance.  Consider joining all columns at once using pd.concat(axis=1) instead. To get a de-fragmented frame, use `newframe = frame.copy()`\n",
      "  final[ent + '_count_' + d + '_by_' + dd] =\\\n",
      "/var/folders/ll/h_rnbgns62bcj0skpd2j0ktr0000gp/T/ipykernel_38628/4053462765.py:6: PerformanceWarning: DataFrame is highly fragmented.  This is usually the result of calling `frame.insert` many times, which has poor performance.  Consider joining all columns at once using pd.concat(axis=1) instead. To get a de-fragmented frame, use `newframe = frame.copy()`\n",
      "  final[ent + '_count_' + d + '_by_' + dd] =\\\n",
      "/var/folders/ll/h_rnbgns62bcj0skpd2j0ktr0000gp/T/ipykernel_38628/4053462765.py:6: PerformanceWarning: DataFrame is highly fragmented.  This is usually the result of calling `frame.insert` many times, which has poor performance.  Consider joining all columns at once using pd.concat(axis=1) instead. To get a de-fragmented frame, use `newframe = frame.copy()`\n",
      "  final[ent + '_count_' + d + '_by_' + dd] =\\\n",
      "/var/folders/ll/h_rnbgns62bcj0skpd2j0ktr0000gp/T/ipykernel_38628/4053462765.py:6: PerformanceWarning: DataFrame is highly fragmented.  This is usually the result of calling `frame.insert` many times, which has poor performance.  Consider joining all columns at once using pd.concat(axis=1) instead. To get a de-fragmented frame, use `newframe = frame.copy()`\n",
      "  final[ent + '_count_' + d + '_by_' + dd] =\\\n",
      "/var/folders/ll/h_rnbgns62bcj0skpd2j0ktr0000gp/T/ipykernel_38628/4053462765.py:6: PerformanceWarning: DataFrame is highly fragmented.  This is usually the result of calling `frame.insert` many times, which has poor performance.  Consider joining all columns at once using pd.concat(axis=1) instead. To get a de-fragmented frame, use `newframe = frame.copy()`\n",
      "  final[ent + '_count_' + d + '_by_' + dd] =\\\n",
      "/var/folders/ll/h_rnbgns62bcj0skpd2j0ktr0000gp/T/ipykernel_38628/4053462765.py:6: PerformanceWarning: DataFrame is highly fragmented.  This is usually the result of calling `frame.insert` many times, which has poor performance.  Consider joining all columns at once using pd.concat(axis=1) instead. To get a de-fragmented frame, use `newframe = frame.copy()`\n",
      "  final[ent + '_count_' + d + '_by_' + dd] =\\\n",
      "/var/folders/ll/h_rnbgns62bcj0skpd2j0ktr0000gp/T/ipykernel_38628/4053462765.py:6: PerformanceWarning: DataFrame is highly fragmented.  This is usually the result of calling `frame.insert` many times, which has poor performance.  Consider joining all columns at once using pd.concat(axis=1) instead. To get a de-fragmented frame, use `newframe = frame.copy()`\n",
      "  final[ent + '_count_' + d + '_by_' + dd] =\\\n",
      "/var/folders/ll/h_rnbgns62bcj0skpd2j0ktr0000gp/T/ipykernel_38628/4053462765.py:6: PerformanceWarning: DataFrame is highly fragmented.  This is usually the result of calling `frame.insert` many times, which has poor performance.  Consider joining all columns at once using pd.concat(axis=1) instead. To get a de-fragmented frame, use `newframe = frame.copy()`\n",
      "  final[ent + '_count_' + d + '_by_' + dd] =\\\n",
      "/var/folders/ll/h_rnbgns62bcj0skpd2j0ktr0000gp/T/ipykernel_38628/4053462765.py:6: PerformanceWarning: DataFrame is highly fragmented.  This is usually the result of calling `frame.insert` many times, which has poor performance.  Consider joining all columns at once using pd.concat(axis=1) instead. To get a de-fragmented frame, use `newframe = frame.copy()`\n",
      "  final[ent + '_count_' + d + '_by_' + dd] =\\\n",
      "/var/folders/ll/h_rnbgns62bcj0skpd2j0ktr0000gp/T/ipykernel_38628/4053462765.py:6: PerformanceWarning: DataFrame is highly fragmented.  This is usually the result of calling `frame.insert` many times, which has poor performance.  Consider joining all columns at once using pd.concat(axis=1) instead. To get a de-fragmented frame, use `newframe = frame.copy()`\n",
      "  final[ent + '_count_' + d + '_by_' + dd] =\\\n",
      "/var/folders/ll/h_rnbgns62bcj0skpd2j0ktr0000gp/T/ipykernel_38628/4053462765.py:6: PerformanceWarning: DataFrame is highly fragmented.  This is usually the result of calling `frame.insert` many times, which has poor performance.  Consider joining all columns at once using pd.concat(axis=1) instead. To get a de-fragmented frame, use `newframe = frame.copy()`\n",
      "  final[ent + '_count_' + d + '_by_' + dd] =\\\n",
      "/var/folders/ll/h_rnbgns62bcj0skpd2j0ktr0000gp/T/ipykernel_38628/4053462765.py:6: PerformanceWarning: DataFrame is highly fragmented.  This is usually the result of calling `frame.insert` many times, which has poor performance.  Consider joining all columns at once using pd.concat(axis=1) instead. To get a de-fragmented frame, use `newframe = frame.copy()`\n",
      "  final[ent + '_count_' + d + '_by_' + dd] =\\\n",
      "/var/folders/ll/h_rnbgns62bcj0skpd2j0ktr0000gp/T/ipykernel_38628/4053462765.py:6: PerformanceWarning: DataFrame is highly fragmented.  This is usually the result of calling `frame.insert` many times, which has poor performance.  Consider joining all columns at once using pd.concat(axis=1) instead. To get a de-fragmented frame, use `newframe = frame.copy()`\n",
      "  final[ent + '_count_' + d + '_by_' + dd] =\\\n",
      "/var/folders/ll/h_rnbgns62bcj0skpd2j0ktr0000gp/T/ipykernel_38628/4053462765.py:6: PerformanceWarning: DataFrame is highly fragmented.  This is usually the result of calling `frame.insert` many times, which has poor performance.  Consider joining all columns at once using pd.concat(axis=1) instead. To get a de-fragmented frame, use `newframe = frame.copy()`\n",
      "  final[ent + '_count_' + d + '_by_' + dd] =\\\n",
      "/var/folders/ll/h_rnbgns62bcj0skpd2j0ktr0000gp/T/ipykernel_38628/4053462765.py:6: PerformanceWarning: DataFrame is highly fragmented.  This is usually the result of calling `frame.insert` many times, which has poor performance.  Consider joining all columns at once using pd.concat(axis=1) instead. To get a de-fragmented frame, use `newframe = frame.copy()`\n",
      "  final[ent + '_count_' + d + '_by_' + dd] =\\\n",
      "/var/folders/ll/h_rnbgns62bcj0skpd2j0ktr0000gp/T/ipykernel_38628/4053462765.py:6: PerformanceWarning: DataFrame is highly fragmented.  This is usually the result of calling `frame.insert` many times, which has poor performance.  Consider joining all columns at once using pd.concat(axis=1) instead. To get a de-fragmented frame, use `newframe = frame.copy()`\n",
      "  final[ent + '_count_' + d + '_by_' + dd] =\\\n",
      "/var/folders/ll/h_rnbgns62bcj0skpd2j0ktr0000gp/T/ipykernel_38628/4053462765.py:6: PerformanceWarning: DataFrame is highly fragmented.  This is usually the result of calling `frame.insert` many times, which has poor performance.  Consider joining all columns at once using pd.concat(axis=1) instead. To get a de-fragmented frame, use `newframe = frame.copy()`\n",
      "  final[ent + '_count_' + d + '_by_' + dd] =\\\n",
      "/var/folders/ll/h_rnbgns62bcj0skpd2j0ktr0000gp/T/ipykernel_38628/4053462765.py:6: PerformanceWarning: DataFrame is highly fragmented.  This is usually the result of calling `frame.insert` many times, which has poor performance.  Consider joining all columns at once using pd.concat(axis=1) instead. To get a de-fragmented frame, use `newframe = frame.copy()`\n",
      "  final[ent + '_count_' + d + '_by_' + dd] =\\\n",
      "/var/folders/ll/h_rnbgns62bcj0skpd2j0ktr0000gp/T/ipykernel_38628/4053462765.py:6: PerformanceWarning: DataFrame is highly fragmented.  This is usually the result of calling `frame.insert` many times, which has poor performance.  Consider joining all columns at once using pd.concat(axis=1) instead. To get a de-fragmented frame, use `newframe = frame.copy()`\n",
      "  final[ent + '_count_' + d + '_by_' + dd] =\\\n",
      "/var/folders/ll/h_rnbgns62bcj0skpd2j0ktr0000gp/T/ipykernel_38628/4053462765.py:6: PerformanceWarning: DataFrame is highly fragmented.  This is usually the result of calling `frame.insert` many times, which has poor performance.  Consider joining all columns at once using pd.concat(axis=1) instead. To get a de-fragmented frame, use `newframe = frame.copy()`\n",
      "  final[ent + '_count_' + d + '_by_' + dd] =\\\n",
      "/var/folders/ll/h_rnbgns62bcj0skpd2j0ktr0000gp/T/ipykernel_38628/4053462765.py:6: PerformanceWarning: DataFrame is highly fragmented.  This is usually the result of calling `frame.insert` many times, which has poor performance.  Consider joining all columns at once using pd.concat(axis=1) instead. To get a de-fragmented frame, use `newframe = frame.copy()`\n",
      "  final[ent + '_count_' + d + '_by_' + dd] =\\\n",
      "/var/folders/ll/h_rnbgns62bcj0skpd2j0ktr0000gp/T/ipykernel_38628/4053462765.py:6: PerformanceWarning: DataFrame is highly fragmented.  This is usually the result of calling `frame.insert` many times, which has poor performance.  Consider joining all columns at once using pd.concat(axis=1) instead. To get a de-fragmented frame, use `newframe = frame.copy()`\n",
      "  final[ent + '_count_' + d + '_by_' + dd] =\\\n",
      "/var/folders/ll/h_rnbgns62bcj0skpd2j0ktr0000gp/T/ipykernel_38628/4053462765.py:6: PerformanceWarning: DataFrame is highly fragmented.  This is usually the result of calling `frame.insert` many times, which has poor performance.  Consider joining all columns at once using pd.concat(axis=1) instead. To get a de-fragmented frame, use `newframe = frame.copy()`\n",
      "  final[ent + '_count_' + d + '_by_' + dd] =\\\n",
      "/var/folders/ll/h_rnbgns62bcj0skpd2j0ktr0000gp/T/ipykernel_38628/4053462765.py:6: PerformanceWarning: DataFrame is highly fragmented.  This is usually the result of calling `frame.insert` many times, which has poor performance.  Consider joining all columns at once using pd.concat(axis=1) instead. To get a de-fragmented frame, use `newframe = frame.copy()`\n",
      "  final[ent + '_count_' + d + '_by_' + dd] =\\\n",
      "/var/folders/ll/h_rnbgns62bcj0skpd2j0ktr0000gp/T/ipykernel_38628/4053462765.py:6: PerformanceWarning: DataFrame is highly fragmented.  This is usually the result of calling `frame.insert` many times, which has poor performance.  Consider joining all columns at once using pd.concat(axis=1) instead. To get a de-fragmented frame, use `newframe = frame.copy()`\n",
      "  final[ent + '_count_' + d + '_by_' + dd] =\\\n",
      "/var/folders/ll/h_rnbgns62bcj0skpd2j0ktr0000gp/T/ipykernel_38628/4053462765.py:6: PerformanceWarning: DataFrame is highly fragmented.  This is usually the result of calling `frame.insert` many times, which has poor performance.  Consider joining all columns at once using pd.concat(axis=1) instead. To get a de-fragmented frame, use `newframe = frame.copy()`\n",
      "  final[ent + '_count_' + d + '_by_' + dd] =\\\n",
      "/var/folders/ll/h_rnbgns62bcj0skpd2j0ktr0000gp/T/ipykernel_38628/4053462765.py:6: PerformanceWarning: DataFrame is highly fragmented.  This is usually the result of calling `frame.insert` many times, which has poor performance.  Consider joining all columns at once using pd.concat(axis=1) instead. To get a de-fragmented frame, use `newframe = frame.copy()`\n",
      "  final[ent + '_count_' + d + '_by_' + dd] =\\\n",
      "/var/folders/ll/h_rnbgns62bcj0skpd2j0ktr0000gp/T/ipykernel_38628/4053462765.py:6: PerformanceWarning: DataFrame is highly fragmented.  This is usually the result of calling `frame.insert` many times, which has poor performance.  Consider joining all columns at once using pd.concat(axis=1) instead. To get a de-fragmented frame, use `newframe = frame.copy()`\n",
      "  final[ent + '_count_' + d + '_by_' + dd] =\\\n",
      "/var/folders/ll/h_rnbgns62bcj0skpd2j0ktr0000gp/T/ipykernel_38628/4053462765.py:6: PerformanceWarning: DataFrame is highly fragmented.  This is usually the result of calling `frame.insert` many times, which has poor performance.  Consider joining all columns at once using pd.concat(axis=1) instead. To get a de-fragmented frame, use `newframe = frame.copy()`\n",
      "  final[ent + '_count_' + d + '_by_' + dd] =\\\n",
      "/var/folders/ll/h_rnbgns62bcj0skpd2j0ktr0000gp/T/ipykernel_38628/4053462765.py:6: PerformanceWarning: DataFrame is highly fragmented.  This is usually the result of calling `frame.insert` many times, which has poor performance.  Consider joining all columns at once using pd.concat(axis=1) instead. To get a de-fragmented frame, use `newframe = frame.copy()`\n",
      "  final[ent + '_count_' + d + '_by_' + dd] =\\\n",
      "/var/folders/ll/h_rnbgns62bcj0skpd2j0ktr0000gp/T/ipykernel_38628/4053462765.py:6: PerformanceWarning: DataFrame is highly fragmented.  This is usually the result of calling `frame.insert` many times, which has poor performance.  Consider joining all columns at once using pd.concat(axis=1) instead. To get a de-fragmented frame, use `newframe = frame.copy()`\n",
      "  final[ent + '_count_' + d + '_by_' + dd] =\\\n",
      "/var/folders/ll/h_rnbgns62bcj0skpd2j0ktr0000gp/T/ipykernel_38628/4053462765.py:6: PerformanceWarning: DataFrame is highly fragmented.  This is usually the result of calling `frame.insert` many times, which has poor performance.  Consider joining all columns at once using pd.concat(axis=1) instead. To get a de-fragmented frame, use `newframe = frame.copy()`\n",
      "  final[ent + '_count_' + d + '_by_' + dd] =\\\n",
      "/var/folders/ll/h_rnbgns62bcj0skpd2j0ktr0000gp/T/ipykernel_38628/4053462765.py:6: PerformanceWarning: DataFrame is highly fragmented.  This is usually the result of calling `frame.insert` many times, which has poor performance.  Consider joining all columns at once using pd.concat(axis=1) instead. To get a de-fragmented frame, use `newframe = frame.copy()`\n",
      "  final[ent + '_count_' + d + '_by_' + dd] =\\\n",
      "/var/folders/ll/h_rnbgns62bcj0skpd2j0ktr0000gp/T/ipykernel_38628/4053462765.py:6: PerformanceWarning: DataFrame is highly fragmented.  This is usually the result of calling `frame.insert` many times, which has poor performance.  Consider joining all columns at once using pd.concat(axis=1) instead. To get a de-fragmented frame, use `newframe = frame.copy()`\n",
      "  final[ent + '_count_' + d + '_by_' + dd] =\\\n",
      "/var/folders/ll/h_rnbgns62bcj0skpd2j0ktr0000gp/T/ipykernel_38628/4053462765.py:6: PerformanceWarning: DataFrame is highly fragmented.  This is usually the result of calling `frame.insert` many times, which has poor performance.  Consider joining all columns at once using pd.concat(axis=1) instead. To get a de-fragmented frame, use `newframe = frame.copy()`\n",
      "  final[ent + '_count_' + d + '_by_' + dd] =\\\n",
      "/var/folders/ll/h_rnbgns62bcj0skpd2j0ktr0000gp/T/ipykernel_38628/4053462765.py:6: PerformanceWarning: DataFrame is highly fragmented.  This is usually the result of calling `frame.insert` many times, which has poor performance.  Consider joining all columns at once using pd.concat(axis=1) instead. To get a de-fragmented frame, use `newframe = frame.copy()`\n",
      "  final[ent + '_count_' + d + '_by_' + dd] =\\\n",
      "/var/folders/ll/h_rnbgns62bcj0skpd2j0ktr0000gp/T/ipykernel_38628/4053462765.py:6: PerformanceWarning: DataFrame is highly fragmented.  This is usually the result of calling `frame.insert` many times, which has poor performance.  Consider joining all columns at once using pd.concat(axis=1) instead. To get a de-fragmented frame, use `newframe = frame.copy()`\n",
      "  final[ent + '_count_' + d + '_by_' + dd] =\\\n",
      "/var/folders/ll/h_rnbgns62bcj0skpd2j0ktr0000gp/T/ipykernel_38628/4053462765.py:6: PerformanceWarning: DataFrame is highly fragmented.  This is usually the result of calling `frame.insert` many times, which has poor performance.  Consider joining all columns at once using pd.concat(axis=1) instead. To get a de-fragmented frame, use `newframe = frame.copy()`\n",
      "  final[ent + '_count_' + d + '_by_' + dd] =\\\n",
      "/var/folders/ll/h_rnbgns62bcj0skpd2j0ktr0000gp/T/ipykernel_38628/4053462765.py:6: PerformanceWarning: DataFrame is highly fragmented.  This is usually the result of calling `frame.insert` many times, which has poor performance.  Consider joining all columns at once using pd.concat(axis=1) instead. To get a de-fragmented frame, use `newframe = frame.copy()`\n",
      "  final[ent + '_count_' + d + '_by_' + dd] =\\\n",
      "/var/folders/ll/h_rnbgns62bcj0skpd2j0ktr0000gp/T/ipykernel_38628/4053462765.py:6: PerformanceWarning: DataFrame is highly fragmented.  This is usually the result of calling `frame.insert` many times, which has poor performance.  Consider joining all columns at once using pd.concat(axis=1) instead. To get a de-fragmented frame, use `newframe = frame.copy()`\n",
      "  final[ent + '_count_' + d + '_by_' + dd] =\\\n",
      "/var/folders/ll/h_rnbgns62bcj0skpd2j0ktr0000gp/T/ipykernel_38628/4053462765.py:6: PerformanceWarning: DataFrame is highly fragmented.  This is usually the result of calling `frame.insert` many times, which has poor performance.  Consider joining all columns at once using pd.concat(axis=1) instead. To get a de-fragmented frame, use `newframe = frame.copy()`\n",
      "  final[ent + '_count_' + d + '_by_' + dd] =\\\n",
      "/var/folders/ll/h_rnbgns62bcj0skpd2j0ktr0000gp/T/ipykernel_38628/4053462765.py:6: PerformanceWarning: DataFrame is highly fragmented.  This is usually the result of calling `frame.insert` many times, which has poor performance.  Consider joining all columns at once using pd.concat(axis=1) instead. To get a de-fragmented frame, use `newframe = frame.copy()`\n",
      "  final[ent + '_count_' + d + '_by_' + dd] =\\\n",
      "/var/folders/ll/h_rnbgns62bcj0skpd2j0ktr0000gp/T/ipykernel_38628/4053462765.py:6: PerformanceWarning: DataFrame is highly fragmented.  This is usually the result of calling `frame.insert` many times, which has poor performance.  Consider joining all columns at once using pd.concat(axis=1) instead. To get a de-fragmented frame, use `newframe = frame.copy()`\n",
      "  final[ent + '_count_' + d + '_by_' + dd] =\\\n",
      "/var/folders/ll/h_rnbgns62bcj0skpd2j0ktr0000gp/T/ipykernel_38628/4053462765.py:6: PerformanceWarning: DataFrame is highly fragmented.  This is usually the result of calling `frame.insert` many times, which has poor performance.  Consider joining all columns at once using pd.concat(axis=1) instead. To get a de-fragmented frame, use `newframe = frame.copy()`\n",
      "  final[ent + '_count_' + d + '_by_' + dd] =\\\n",
      "/var/folders/ll/h_rnbgns62bcj0skpd2j0ktr0000gp/T/ipykernel_38628/4053462765.py:6: PerformanceWarning: DataFrame is highly fragmented.  This is usually the result of calling `frame.insert` many times, which has poor performance.  Consider joining all columns at once using pd.concat(axis=1) instead. To get a de-fragmented frame, use `newframe = frame.copy()`\n",
      "  final[ent + '_count_' + d + '_by_' + dd] =\\\n",
      "/var/folders/ll/h_rnbgns62bcj0skpd2j0ktr0000gp/T/ipykernel_38628/4053462765.py:6: PerformanceWarning: DataFrame is highly fragmented.  This is usually the result of calling `frame.insert` many times, which has poor performance.  Consider joining all columns at once using pd.concat(axis=1) instead. To get a de-fragmented frame, use `newframe = frame.copy()`\n",
      "  final[ent + '_count_' + d + '_by_' + dd] =\\\n",
      "/var/folders/ll/h_rnbgns62bcj0skpd2j0ktr0000gp/T/ipykernel_38628/4053462765.py:6: PerformanceWarning: DataFrame is highly fragmented.  This is usually the result of calling `frame.insert` many times, which has poor performance.  Consider joining all columns at once using pd.concat(axis=1) instead. To get a de-fragmented frame, use `newframe = frame.copy()`\n",
      "  final[ent + '_count_' + d + '_by_' + dd] =\\\n",
      "/var/folders/ll/h_rnbgns62bcj0skpd2j0ktr0000gp/T/ipykernel_38628/4053462765.py:6: PerformanceWarning: DataFrame is highly fragmented.  This is usually the result of calling `frame.insert` many times, which has poor performance.  Consider joining all columns at once using pd.concat(axis=1) instead. To get a de-fragmented frame, use `newframe = frame.copy()`\n",
      "  final[ent + '_count_' + d + '_by_' + dd] =\\\n",
      "/var/folders/ll/h_rnbgns62bcj0skpd2j0ktr0000gp/T/ipykernel_38628/4053462765.py:6: PerformanceWarning: DataFrame is highly fragmented.  This is usually the result of calling `frame.insert` many times, which has poor performance.  Consider joining all columns at once using pd.concat(axis=1) instead. To get a de-fragmented frame, use `newframe = frame.copy()`\n",
      "  final[ent + '_count_' + d + '_by_' + dd] =\\\n",
      "/var/folders/ll/h_rnbgns62bcj0skpd2j0ktr0000gp/T/ipykernel_38628/4053462765.py:6: PerformanceWarning: DataFrame is highly fragmented.  This is usually the result of calling `frame.insert` many times, which has poor performance.  Consider joining all columns at once using pd.concat(axis=1) instead. To get a de-fragmented frame, use `newframe = frame.copy()`\n",
      "  final[ent + '_count_' + d + '_by_' + dd] =\\\n",
      "/var/folders/ll/h_rnbgns62bcj0skpd2j0ktr0000gp/T/ipykernel_38628/4053462765.py:6: PerformanceWarning: DataFrame is highly fragmented.  This is usually the result of calling `frame.insert` many times, which has poor performance.  Consider joining all columns at once using pd.concat(axis=1) instead. To get a de-fragmented frame, use `newframe = frame.copy()`\n",
      "  final[ent + '_count_' + d + '_by_' + dd] =\\\n",
      "/var/folders/ll/h_rnbgns62bcj0skpd2j0ktr0000gp/T/ipykernel_38628/4053462765.py:6: PerformanceWarning: DataFrame is highly fragmented.  This is usually the result of calling `frame.insert` many times, which has poor performance.  Consider joining all columns at once using pd.concat(axis=1) instead. To get a de-fragmented frame, use `newframe = frame.copy()`\n",
      "  final[ent + '_count_' + d + '_by_' + dd] =\\\n",
      "/var/folders/ll/h_rnbgns62bcj0skpd2j0ktr0000gp/T/ipykernel_38628/4053462765.py:6: PerformanceWarning: DataFrame is highly fragmented.  This is usually the result of calling `frame.insert` many times, which has poor performance.  Consider joining all columns at once using pd.concat(axis=1) instead. To get a de-fragmented frame, use `newframe = frame.copy()`\n",
      "  final[ent + '_count_' + d + '_by_' + dd] =\\\n",
      "/var/folders/ll/h_rnbgns62bcj0skpd2j0ktr0000gp/T/ipykernel_38628/4053462765.py:6: PerformanceWarning: DataFrame is highly fragmented.  This is usually the result of calling `frame.insert` many times, which has poor performance.  Consider joining all columns at once using pd.concat(axis=1) instead. To get a de-fragmented frame, use `newframe = frame.copy()`\n",
      "  final[ent + '_count_' + d + '_by_' + dd] =\\\n",
      "/var/folders/ll/h_rnbgns62bcj0skpd2j0ktr0000gp/T/ipykernel_38628/4053462765.py:6: PerformanceWarning: DataFrame is highly fragmented.  This is usually the result of calling `frame.insert` many times, which has poor performance.  Consider joining all columns at once using pd.concat(axis=1) instead. To get a de-fragmented frame, use `newframe = frame.copy()`\n",
      "  final[ent + '_count_' + d + '_by_' + dd] =\\\n",
      "/var/folders/ll/h_rnbgns62bcj0skpd2j0ktr0000gp/T/ipykernel_38628/4053462765.py:6: PerformanceWarning: DataFrame is highly fragmented.  This is usually the result of calling `frame.insert` many times, which has poor performance.  Consider joining all columns at once using pd.concat(axis=1) instead. To get a de-fragmented frame, use `newframe = frame.copy()`\n",
      "  final[ent + '_count_' + d + '_by_' + dd] =\\\n",
      "/var/folders/ll/h_rnbgns62bcj0skpd2j0ktr0000gp/T/ipykernel_38628/4053462765.py:6: PerformanceWarning: DataFrame is highly fragmented.  This is usually the result of calling `frame.insert` many times, which has poor performance.  Consider joining all columns at once using pd.concat(axis=1) instead. To get a de-fragmented frame, use `newframe = frame.copy()`\n",
      "  final[ent + '_count_' + d + '_by_' + dd] =\\\n",
      "/var/folders/ll/h_rnbgns62bcj0skpd2j0ktr0000gp/T/ipykernel_38628/4053462765.py:6: PerformanceWarning: DataFrame is highly fragmented.  This is usually the result of calling `frame.insert` many times, which has poor performance.  Consider joining all columns at once using pd.concat(axis=1) instead. To get a de-fragmented frame, use `newframe = frame.copy()`\n",
      "  final[ent + '_count_' + d + '_by_' + dd] =\\\n",
      "/var/folders/ll/h_rnbgns62bcj0skpd2j0ktr0000gp/T/ipykernel_38628/4053462765.py:6: PerformanceWarning: DataFrame is highly fragmented.  This is usually the result of calling `frame.insert` many times, which has poor performance.  Consider joining all columns at once using pd.concat(axis=1) instead. To get a de-fragmented frame, use `newframe = frame.copy()`\n",
      "  final[ent + '_count_' + d + '_by_' + dd] =\\\n",
      "/var/folders/ll/h_rnbgns62bcj0skpd2j0ktr0000gp/T/ipykernel_38628/4053462765.py:6: PerformanceWarning: DataFrame is highly fragmented.  This is usually the result of calling `frame.insert` many times, which has poor performance.  Consider joining all columns at once using pd.concat(axis=1) instead. To get a de-fragmented frame, use `newframe = frame.copy()`\n",
      "  final[ent + '_count_' + d + '_by_' + dd] =\\\n",
      "/var/folders/ll/h_rnbgns62bcj0skpd2j0ktr0000gp/T/ipykernel_38628/4053462765.py:6: PerformanceWarning: DataFrame is highly fragmented.  This is usually the result of calling `frame.insert` many times, which has poor performance.  Consider joining all columns at once using pd.concat(axis=1) instead. To get a de-fragmented frame, use `newframe = frame.copy()`\n",
      "  final[ent + '_count_' + d + '_by_' + dd] =\\\n",
      "/var/folders/ll/h_rnbgns62bcj0skpd2j0ktr0000gp/T/ipykernel_38628/4053462765.py:6: PerformanceWarning: DataFrame is highly fragmented.  This is usually the result of calling `frame.insert` many times, which has poor performance.  Consider joining all columns at once using pd.concat(axis=1) instead. To get a de-fragmented frame, use `newframe = frame.copy()`\n",
      "  final[ent + '_count_' + d + '_by_' + dd] =\\\n",
      "/var/folders/ll/h_rnbgns62bcj0skpd2j0ktr0000gp/T/ipykernel_38628/4053462765.py:6: PerformanceWarning: DataFrame is highly fragmented.  This is usually the result of calling `frame.insert` many times, which has poor performance.  Consider joining all columns at once using pd.concat(axis=1) instead. To get a de-fragmented frame, use `newframe = frame.copy()`\n",
      "  final[ent + '_count_' + d + '_by_' + dd] =\\\n",
      "/var/folders/ll/h_rnbgns62bcj0skpd2j0ktr0000gp/T/ipykernel_38628/4053462765.py:6: PerformanceWarning: DataFrame is highly fragmented.  This is usually the result of calling `frame.insert` many times, which has poor performance.  Consider joining all columns at once using pd.concat(axis=1) instead. To get a de-fragmented frame, use `newframe = frame.copy()`\n",
      "  final[ent + '_count_' + d + '_by_' + dd] =\\\n",
      "/var/folders/ll/h_rnbgns62bcj0skpd2j0ktr0000gp/T/ipykernel_38628/4053462765.py:6: PerformanceWarning: DataFrame is highly fragmented.  This is usually the result of calling `frame.insert` many times, which has poor performance.  Consider joining all columns at once using pd.concat(axis=1) instead. To get a de-fragmented frame, use `newframe = frame.copy()`\n",
      "  final[ent + '_count_' + d + '_by_' + dd] =\\\n",
      "/var/folders/ll/h_rnbgns62bcj0skpd2j0ktr0000gp/T/ipykernel_38628/4053462765.py:6: PerformanceWarning: DataFrame is highly fragmented.  This is usually the result of calling `frame.insert` many times, which has poor performance.  Consider joining all columns at once using pd.concat(axis=1) instead. To get a de-fragmented frame, use `newframe = frame.copy()`\n",
      "  final[ent + '_count_' + d + '_by_' + dd] =\\\n",
      "/var/folders/ll/h_rnbgns62bcj0skpd2j0ktr0000gp/T/ipykernel_38628/4053462765.py:6: PerformanceWarning: DataFrame is highly fragmented.  This is usually the result of calling `frame.insert` many times, which has poor performance.  Consider joining all columns at once using pd.concat(axis=1) instead. To get a de-fragmented frame, use `newframe = frame.copy()`\n",
      "  final[ent + '_count_' + d + '_by_' + dd] =\\\n",
      "/var/folders/ll/h_rnbgns62bcj0skpd2j0ktr0000gp/T/ipykernel_38628/4053462765.py:6: PerformanceWarning: DataFrame is highly fragmented.  This is usually the result of calling `frame.insert` many times, which has poor performance.  Consider joining all columns at once using pd.concat(axis=1) instead. To get a de-fragmented frame, use `newframe = frame.copy()`\n",
      "  final[ent + '_count_' + d + '_by_' + dd] =\\\n",
      "/var/folders/ll/h_rnbgns62bcj0skpd2j0ktr0000gp/T/ipykernel_38628/4053462765.py:6: PerformanceWarning: DataFrame is highly fragmented.  This is usually the result of calling `frame.insert` many times, which has poor performance.  Consider joining all columns at once using pd.concat(axis=1) instead. To get a de-fragmented frame, use `newframe = frame.copy()`\n",
      "  final[ent + '_count_' + d + '_by_' + dd] =\\\n",
      "/var/folders/ll/h_rnbgns62bcj0skpd2j0ktr0000gp/T/ipykernel_38628/4053462765.py:6: PerformanceWarning: DataFrame is highly fragmented.  This is usually the result of calling `frame.insert` many times, which has poor performance.  Consider joining all columns at once using pd.concat(axis=1) instead. To get a de-fragmented frame, use `newframe = frame.copy()`\n",
      "  final[ent + '_count_' + d + '_by_' + dd] =\\\n",
      "/var/folders/ll/h_rnbgns62bcj0skpd2j0ktr0000gp/T/ipykernel_38628/4053462765.py:6: PerformanceWarning: DataFrame is highly fragmented.  This is usually the result of calling `frame.insert` many times, which has poor performance.  Consider joining all columns at once using pd.concat(axis=1) instead. To get a de-fragmented frame, use `newframe = frame.copy()`\n",
      "  final[ent + '_count_' + d + '_by_' + dd] =\\\n",
      "/var/folders/ll/h_rnbgns62bcj0skpd2j0ktr0000gp/T/ipykernel_38628/4053462765.py:6: PerformanceWarning: DataFrame is highly fragmented.  This is usually the result of calling `frame.insert` many times, which has poor performance.  Consider joining all columns at once using pd.concat(axis=1) instead. To get a de-fragmented frame, use `newframe = frame.copy()`\n",
      "  final[ent + '_count_' + d + '_by_' + dd] =\\\n",
      "/var/folders/ll/h_rnbgns62bcj0skpd2j0ktr0000gp/T/ipykernel_38628/4053462765.py:6: PerformanceWarning: DataFrame is highly fragmented.  This is usually the result of calling `frame.insert` many times, which has poor performance.  Consider joining all columns at once using pd.concat(axis=1) instead. To get a de-fragmented frame, use `newframe = frame.copy()`\n",
      "  final[ent + '_count_' + d + '_by_' + dd] =\\\n",
      "/var/folders/ll/h_rnbgns62bcj0skpd2j0ktr0000gp/T/ipykernel_38628/4053462765.py:6: PerformanceWarning: DataFrame is highly fragmented.  This is usually the result of calling `frame.insert` many times, which has poor performance.  Consider joining all columns at once using pd.concat(axis=1) instead. To get a de-fragmented frame, use `newframe = frame.copy()`\n",
      "  final[ent + '_count_' + d + '_by_' + dd] =\\\n",
      "/var/folders/ll/h_rnbgns62bcj0skpd2j0ktr0000gp/T/ipykernel_38628/4053462765.py:6: PerformanceWarning: DataFrame is highly fragmented.  This is usually the result of calling `frame.insert` many times, which has poor performance.  Consider joining all columns at once using pd.concat(axis=1) instead. To get a de-fragmented frame, use `newframe = frame.copy()`\n",
      "  final[ent + '_count_' + d + '_by_' + dd] =\\\n",
      "/var/folders/ll/h_rnbgns62bcj0skpd2j0ktr0000gp/T/ipykernel_38628/4053462765.py:6: PerformanceWarning: DataFrame is highly fragmented.  This is usually the result of calling `frame.insert` many times, which has poor performance.  Consider joining all columns at once using pd.concat(axis=1) instead. To get a de-fragmented frame, use `newframe = frame.copy()`\n",
      "  final[ent + '_count_' + d + '_by_' + dd] =\\\n",
      "/var/folders/ll/h_rnbgns62bcj0skpd2j0ktr0000gp/T/ipykernel_38628/4053462765.py:6: PerformanceWarning: DataFrame is highly fragmented.  This is usually the result of calling `frame.insert` many times, which has poor performance.  Consider joining all columns at once using pd.concat(axis=1) instead. To get a de-fragmented frame, use `newframe = frame.copy()`\n",
      "  final[ent + '_count_' + d + '_by_' + dd] =\\\n",
      "/var/folders/ll/h_rnbgns62bcj0skpd2j0ktr0000gp/T/ipykernel_38628/4053462765.py:6: PerformanceWarning: DataFrame is highly fragmented.  This is usually the result of calling `frame.insert` many times, which has poor performance.  Consider joining all columns at once using pd.concat(axis=1) instead. To get a de-fragmented frame, use `newframe = frame.copy()`\n",
      "  final[ent + '_count_' + d + '_by_' + dd] =\\\n",
      "/var/folders/ll/h_rnbgns62bcj0skpd2j0ktr0000gp/T/ipykernel_38628/4053462765.py:6: PerformanceWarning: DataFrame is highly fragmented.  This is usually the result of calling `frame.insert` many times, which has poor performance.  Consider joining all columns at once using pd.concat(axis=1) instead. To get a de-fragmented frame, use `newframe = frame.copy()`\n",
      "  final[ent + '_count_' + d + '_by_' + dd] =\\\n",
      "/var/folders/ll/h_rnbgns62bcj0skpd2j0ktr0000gp/T/ipykernel_38628/4053462765.py:6: PerformanceWarning: DataFrame is highly fragmented.  This is usually the result of calling `frame.insert` many times, which has poor performance.  Consider joining all columns at once using pd.concat(axis=1) instead. To get a de-fragmented frame, use `newframe = frame.copy()`\n",
      "  final[ent + '_count_' + d + '_by_' + dd] =\\\n",
      "/var/folders/ll/h_rnbgns62bcj0skpd2j0ktr0000gp/T/ipykernel_38628/4053462765.py:6: PerformanceWarning: DataFrame is highly fragmented.  This is usually the result of calling `frame.insert` many times, which has poor performance.  Consider joining all columns at once using pd.concat(axis=1) instead. To get a de-fragmented frame, use `newframe = frame.copy()`\n",
      "  final[ent + '_count_' + d + '_by_' + dd] =\\\n",
      "/var/folders/ll/h_rnbgns62bcj0skpd2j0ktr0000gp/T/ipykernel_38628/4053462765.py:6: PerformanceWarning: DataFrame is highly fragmented.  This is usually the result of calling `frame.insert` many times, which has poor performance.  Consider joining all columns at once using pd.concat(axis=1) instead. To get a de-fragmented frame, use `newframe = frame.copy()`\n",
      "  final[ent + '_count_' + d + '_by_' + dd] =\\\n",
      "/var/folders/ll/h_rnbgns62bcj0skpd2j0ktr0000gp/T/ipykernel_38628/4053462765.py:6: PerformanceWarning: DataFrame is highly fragmented.  This is usually the result of calling `frame.insert` many times, which has poor performance.  Consider joining all columns at once using pd.concat(axis=1) instead. To get a de-fragmented frame, use `newframe = frame.copy()`\n",
      "  final[ent + '_count_' + d + '_by_' + dd] =\\\n"
     ]
    }
   ],
   "source": [
    "start = timeit.default_timer()\n",
    "# velocity change variables\n",
    "for ent in entities:\n",
    "    for d in ['0', '1']:\n",
    "        for dd in ['3','7', '14', '30']:\n",
    "            final[ent + '_count_' + d + '_by_' + dd] =\\\n",
    "            final[ent + '_count_' + d]/(final[ent + '_count_' + dd])/float(dd)\n",
    "            \n",
    "print('run time: {}s'.format(timeit.default_timer() - start))\n"
   ]
  },
  {
   "cell_type": "code",
   "execution_count": 139,
   "id": "KgSlU0eNVuwj",
   "metadata": {
    "id": "KgSlU0eNVuwj"
   },
   "outputs": [],
   "source": [
    "final.to_csv('final_before_B.csv')"
   ]
  },
  {
   "cell_type": "code",
   "execution_count": 140,
   "id": "F3JSOnvkVFSH",
   "metadata": {
    "id": "F3JSOnvkVFSH"
   },
   "outputs": [],
   "source": [
    "# Benfords Law - Variables \n",
    "\n",
    "bf = data.copy()\n",
    "bf['amount_100'] = (bf['Amount'] * 100).astype(str)\n",
    "bf['first_digit'] = bf['amount_100'].str[0]\n",
    "dropfedex = bf[bf['Merch description'].str.contains('FEDEX')]\n",
    "droplist=dropfedex.index.tolist()\n",
    "bfl= bf.drop(droplist)\n",
    "bfl['bin']= bfl['first_digit'].apply(lambda x: \"low\" if x == \"1\" else (\"low\" if x == \"2\" else \"high\"))\n",
    "\n"
   ]
  },
  {
   "cell_type": "code",
   "execution_count": 141,
   "id": "3co2Wq7TVR-Q",
   "metadata": {
    "id": "3co2Wq7TVR-Q"
   },
   "outputs": [],
   "source": [
    "card_bf = bfl.groupby(['Cardnum', 'bin']).agg({'bin': ['count']}).reset_index()\n",
    "card_bf.columns=['Cardnum', 'bin', 'count']\n",
    "card_bf = card_bf.pivot_table(index='Cardnum', columns='bin', values='count', aggfunc='sum').reset_index() \n",
    "card_bf.columns=['Cardnum', 'n_high', 'n_low']\n",
    "card_bf = card_bf.fillna(1)\n"
   ]
  },
  {
   "cell_type": "code",
   "execution_count": 142,
   "id": "_AjrbOwGVSEB",
   "metadata": {
    "id": "_AjrbOwGVSEB"
   },
   "outputs": [],
   "source": [
    "\n",
    "#calclating R, 1/R, U, n, t U_smoothed\n",
    "import math\n",
    "c=3\n",
    "n_mid=15\n",
    "card_bf['R'] = (1.096 * card_bf['n_low']/card_bf['n_high'])\n",
    "card_bf['1/R'] = (1/card_bf['R'])\n",
    "card_bf['U'] = list(map (lambda x, y : max(x,y), card_bf['R'], card_bf['1/R']))\n",
    "card_bf['n'] = card_bf['n_high'] + card_bf['n_low']\n",
    "card_bf['t'] = ((card_bf[ 'n' ]-n_mid)/c)\n",
    "card_bf['U_smoothed']= list(map (lambda x, y : (1+ (x-1)/(1+ math.exp(-y))),card_bf['U'],card_bf['t'])) \n",
    "card_bf['U_smoothed'] = card_bf['U_smoothed']\n"
   ]
  },
  {
   "cell_type": "code",
   "execution_count": 143,
   "id": "S32lPIVdVSJA",
   "metadata": {
    "id": "S32lPIVdVSJA"
   },
   "outputs": [],
   "source": [
    "merch_bf = bfl.groupby(['Merchnum', 'bin']).agg({'bin': ['count']}).reset_index()\n",
    "merch_bf.columns=['Merchnum', 'bin', 'count']\n",
    "merch_bf = merch_bf.pivot_table(index='Merchnum', columns='bin', values='count', aggfunc='sum').reset_index() \n",
    "merch_bf.columns=['Merchnum', 'n_high', 'n_low']\n",
    "merch_bf = merch_bf.fillna(1)\n"
   ]
  },
  {
   "cell_type": "code",
   "execution_count": 144,
   "id": "3iWumKl5VWJT",
   "metadata": {
    "id": "3iWumKl5VWJT"
   },
   "outputs": [],
   "source": [
    "\n",
    "#calclating R, 1/R, U, n, t U_smoothed\n",
    "import math\n",
    "c=3\n",
    "n_mid=15\n",
    "merch_bf['R'] = (1.096 * merch_bf['n_low']/merch_bf['n_high'])\n",
    "merch_bf['1/R'] = (1/merch_bf['R'])\n",
    "merch_bf['U'] = list(map (lambda x, y : max(x,y), merch_bf['R'], merch_bf['1/R']))\n",
    "merch_bf['n'] = merch_bf['n_high'] + merch_bf['n_low']\n",
    "merch_bf['t'] = ((merch_bf[ 'n' ]-n_mid)/c)\n",
    "merch_bf['U_smoothed']= list(map (lambda x, y : (1+ (x-1)/(1+ math.exp(-y))),merch_bf['U'],merch_bf['t'])) \n",
    "merch_bf['U_smoothed'] = merch_bf['U_smoothed']\n",
    "\n"
   ]
  },
  {
   "cell_type": "code",
   "execution_count": 145,
   "id": "FmtxOAcVVSM8",
   "metadata": {
    "id": "FmtxOAcVVSM8"
   },
   "outputs": [],
   "source": [
    "\n",
    "card_bf['Cardnum']=card_bf['Cardnum'].apply(str)\n",
    "merch_bf['Merchnum']=merch_bf['Merchnum'].apply(str)\n"
   ]
  },
  {
   "cell_type": "code",
   "execution_count": 146,
   "id": "lLuGbP-JVSQ7",
   "metadata": {
    "colab": {
     "base_uri": "https://localhost:8080/",
     "height": 175
    },
    "id": "lLuGbP-JVSQ7",
    "outputId": "7c1792d9-c470-4c9a-a164-94911e333326"
   },
   "outputs": [
    {
     "data": {
      "text/html": [
       "<div>\n",
       "<style scoped>\n",
       "    .dataframe tbody tr th:only-of-type {\n",
       "        vertical-align: middle;\n",
       "    }\n",
       "\n",
       "    .dataframe tbody tr th {\n",
       "        vertical-align: top;\n",
       "    }\n",
       "\n",
       "    .dataframe thead th {\n",
       "        text-align: right;\n",
       "    }\n",
       "</style>\n",
       "<table border=\"1\" class=\"dataframe\">\n",
       "  <thead>\n",
       "    <tr style=\"text-align: right;\">\n",
       "      <th></th>\n",
       "      <th>U_smoothed</th>\n",
       "    </tr>\n",
       "    <tr>\n",
       "      <th>Cardnum</th>\n",
       "      <th></th>\n",
       "    </tr>\n",
       "  </thead>\n",
       "  <tbody>\n",
       "    <tr>\n",
       "      <th>5142253356</th>\n",
       "      <td>13.371199</td>\n",
       "    </tr>\n",
       "    <tr>\n",
       "      <th>5142299705</th>\n",
       "      <td>9.027976</td>\n",
       "    </tr>\n",
       "    <tr>\n",
       "      <th>5142197563</th>\n",
       "      <td>8.150852</td>\n",
       "    </tr>\n",
       "  </tbody>\n",
       "</table>\n",
       "</div>"
      ],
      "text/plain": [
       "            U_smoothed\n",
       "Cardnum               \n",
       "5142253356   13.371199\n",
       "5142299705    9.027976\n",
       "5142197563    8.150852"
      ]
     },
     "execution_count": 146,
     "metadata": {},
     "output_type": "execute_result"
    }
   ],
   "source": [
    "card_bf.set_index('Cardnum', inplace=True)\n",
    "card_Ustar = pd.DataFrame(card_bf['U_smoothed'])\n",
    "card_Ustar.sort_values([ 'U_smoothed'], ascending = False).head(3)\n",
    "\n"
   ]
  },
  {
   "cell_type": "code",
   "execution_count": 147,
   "id": "BYsvVDhiVSU3",
   "metadata": {
    "colab": {
     "base_uri": "https://localhost:8080/",
     "height": 175
    },
    "id": "BYsvVDhiVSU3",
    "outputId": "56607692-b72f-496d-951e-dfaccc2338f0"
   },
   "outputs": [
    {
     "data": {
      "text/html": [
       "<div>\n",
       "<style scoped>\n",
       "    .dataframe tbody tr th:only-of-type {\n",
       "        vertical-align: middle;\n",
       "    }\n",
       "\n",
       "    .dataframe tbody tr th {\n",
       "        vertical-align: top;\n",
       "    }\n",
       "\n",
       "    .dataframe thead th {\n",
       "        text-align: right;\n",
       "    }\n",
       "</style>\n",
       "<table border=\"1\" class=\"dataframe\">\n",
       "  <thead>\n",
       "    <tr style=\"text-align: right;\">\n",
       "      <th></th>\n",
       "      <th>U_smoothed</th>\n",
       "    </tr>\n",
       "    <tr>\n",
       "      <th>Merchnum</th>\n",
       "      <th></th>\n",
       "    </tr>\n",
       "  </thead>\n",
       "  <tbody>\n",
       "    <tr>\n",
       "      <th>991808369338</th>\n",
       "      <td>165.145985</td>\n",
       "    </tr>\n",
       "    <tr>\n",
       "      <th>8078200641472</th>\n",
       "      <td>64.663981</td>\n",
       "    </tr>\n",
       "    <tr>\n",
       "      <th>308904389335</th>\n",
       "      <td>48.357557</td>\n",
       "    </tr>\n",
       "  </tbody>\n",
       "</table>\n",
       "</div>"
      ],
      "text/plain": [
       "               U_smoothed\n",
       "Merchnum                 \n",
       "991808369338   165.145985\n",
       "8078200641472   64.663981\n",
       "308904389335    48.357557"
      ]
     },
     "execution_count": 147,
     "metadata": {},
     "output_type": "execute_result"
    }
   ],
   "source": [
    "merch_bf.set_index('Merchnum', inplace=True) \n",
    "merch_Ustar = pd.DataFrame (merch_bf [ 'U_smoothed'])\n",
    "merch_Ustar.sort_values (['U_smoothed'], ascending = False).head(3)\n"
   ]
  },
  {
   "cell_type": "code",
   "execution_count": 149,
   "id": "NFzVSaNAVelW",
   "metadata": {
    "colab": {
     "base_uri": "https://localhost:8080/",
     "height": 782
    },
    "id": "NFzVSaNAVelW",
    "outputId": "eeefd95d-7335-4a21-87bf-1639e375d3d5"
   },
   "outputs": [
    {
     "data": {
      "text/html": [
       "<div>\n",
       "<style scoped>\n",
       "    .dataframe tbody tr th:only-of-type {\n",
       "        vertical-align: middle;\n",
       "    }\n",
       "\n",
       "    .dataframe tbody tr th {\n",
       "        vertical-align: top;\n",
       "    }\n",
       "\n",
       "    .dataframe thead th {\n",
       "        text-align: right;\n",
       "    }\n",
       "</style>\n",
       "<table border=\"1\" class=\"dataframe\">\n",
       "  <thead>\n",
       "    <tr style=\"text-align: right;\">\n",
       "      <th></th>\n",
       "      <th>Recnum</th>\n",
       "      <th>Cardnum</th>\n",
       "      <th>Date</th>\n",
       "      <th>Merchnum</th>\n",
       "      <th>Merch description</th>\n",
       "      <th>Merch state</th>\n",
       "      <th>Merch zip</th>\n",
       "      <th>Transtype</th>\n",
       "      <th>Amount</th>\n",
       "      <th>Fraud</th>\n",
       "      <th>...</th>\n",
       "      <th>Cardnum_day_since_merchnum_avg_30_merchnum</th>\n",
       "      <th>Cardnum_day_since_merchnum_max_30_merchnum</th>\n",
       "      <th>Cardnum_day_since_merchnum_med_30_merchnum</th>\n",
       "      <th>Cardnum_day_since_merchnum_total_30_merchnum</th>\n",
       "      <th>Cardnum_day_since_merchnum_actual/avg_30_merchnum</th>\n",
       "      <th>Cardnum_day_since_merchnum_actual/max_30_merchnum</th>\n",
       "      <th>Cardnum_day_since_merchnum_actual/med_30_merchnum</th>\n",
       "      <th>Cardnum_day_since_merchnum_actual/toal_30_merchnum</th>\n",
       "      <th>U*_cardnum</th>\n",
       "      <th>U*_merchnum</th>\n",
       "    </tr>\n",
       "  </thead>\n",
       "  <tbody>\n",
       "    <tr>\n",
       "      <th>0</th>\n",
       "      <td>1</td>\n",
       "      <td>5142190439</td>\n",
       "      <td>2010-01-01</td>\n",
       "      <td>5509006296254</td>\n",
       "      <td>FEDEX SHP 12/23/09 AB#</td>\n",
       "      <td>foreign</td>\n",
       "      <td>38118.0</td>\n",
       "      <td>P</td>\n",
       "      <td>3.62</td>\n",
       "      <td>0</td>\n",
       "      <td>...</td>\n",
       "      <td>3.62</td>\n",
       "      <td>3.62</td>\n",
       "      <td>3.62</td>\n",
       "      <td>3.62</td>\n",
       "      <td>1.000000</td>\n",
       "      <td>1.000000</td>\n",
       "      <td>1.000000</td>\n",
       "      <td>1.000000</td>\n",
       "      <td>2.178008</td>\n",
       "      <td>NaN</td>\n",
       "    </tr>\n",
       "    <tr>\n",
       "      <th>1</th>\n",
       "      <td>2</td>\n",
       "      <td>5142183973</td>\n",
       "      <td>2010-01-01</td>\n",
       "      <td>61003026333</td>\n",
       "      <td>SERVICE MERCHANDISE #81</td>\n",
       "      <td>MA</td>\n",
       "      <td>1803.0</td>\n",
       "      <td>P</td>\n",
       "      <td>31.42</td>\n",
       "      <td>0</td>\n",
       "      <td>...</td>\n",
       "      <td>31.42</td>\n",
       "      <td>31.42</td>\n",
       "      <td>31.42</td>\n",
       "      <td>31.42</td>\n",
       "      <td>1.000000</td>\n",
       "      <td>1.000000</td>\n",
       "      <td>1.000000</td>\n",
       "      <td>1.000000</td>\n",
       "      <td>1.604857</td>\n",
       "      <td>1.001244</td>\n",
       "    </tr>\n",
       "    <tr>\n",
       "      <th>2</th>\n",
       "      <td>3</td>\n",
       "      <td>5142131721</td>\n",
       "      <td>2010-01-01</td>\n",
       "      <td>4503082993600</td>\n",
       "      <td>OFFICE DEPOT #191</td>\n",
       "      <td>MD</td>\n",
       "      <td>20706.0</td>\n",
       "      <td>P</td>\n",
       "      <td>178.49</td>\n",
       "      <td>0</td>\n",
       "      <td>...</td>\n",
       "      <td>178.49</td>\n",
       "      <td>178.49</td>\n",
       "      <td>178.49</td>\n",
       "      <td>178.49</td>\n",
       "      <td>1.000000</td>\n",
       "      <td>1.000000</td>\n",
       "      <td>1.000000</td>\n",
       "      <td>1.000000</td>\n",
       "      <td>2.368143</td>\n",
       "      <td>1.025818</td>\n",
       "    </tr>\n",
       "    <tr>\n",
       "      <th>3</th>\n",
       "      <td>4</td>\n",
       "      <td>5142148452</td>\n",
       "      <td>2010-01-01</td>\n",
       "      <td>5509006296254</td>\n",
       "      <td>FEDEX SHP 12/28/09 AB#</td>\n",
       "      <td>foreign</td>\n",
       "      <td>38118.0</td>\n",
       "      <td>P</td>\n",
       "      <td>3.62</td>\n",
       "      <td>0</td>\n",
       "      <td>...</td>\n",
       "      <td>3.62</td>\n",
       "      <td>3.62</td>\n",
       "      <td>3.62</td>\n",
       "      <td>3.62</td>\n",
       "      <td>1.000000</td>\n",
       "      <td>1.000000</td>\n",
       "      <td>1.000000</td>\n",
       "      <td>1.000000</td>\n",
       "      <td>1.044105</td>\n",
       "      <td>NaN</td>\n",
       "    </tr>\n",
       "    <tr>\n",
       "      <th>4</th>\n",
       "      <td>5</td>\n",
       "      <td>5142190439</td>\n",
       "      <td>2010-01-01</td>\n",
       "      <td>5509006296254</td>\n",
       "      <td>FEDEX SHP 12/23/09 AB#</td>\n",
       "      <td>foreign</td>\n",
       "      <td>38118.0</td>\n",
       "      <td>P</td>\n",
       "      <td>3.62</td>\n",
       "      <td>0</td>\n",
       "      <td>...</td>\n",
       "      <td>3.62</td>\n",
       "      <td>3.62</td>\n",
       "      <td>3.62</td>\n",
       "      <td>7.24</td>\n",
       "      <td>1.000000</td>\n",
       "      <td>1.000000</td>\n",
       "      <td>1.000000</td>\n",
       "      <td>0.500000</td>\n",
       "      <td>2.178008</td>\n",
       "      <td>NaN</td>\n",
       "    </tr>\n",
       "    <tr>\n",
       "      <th>...</th>\n",
       "      <td>...</td>\n",
       "      <td>...</td>\n",
       "      <td>...</td>\n",
       "      <td>...</td>\n",
       "      <td>...</td>\n",
       "      <td>...</td>\n",
       "      <td>...</td>\n",
       "      <td>...</td>\n",
       "      <td>...</td>\n",
       "      <td>...</td>\n",
       "      <td>...</td>\n",
       "      <td>...</td>\n",
       "      <td>...</td>\n",
       "      <td>...</td>\n",
       "      <td>...</td>\n",
       "      <td>...</td>\n",
       "      <td>...</td>\n",
       "      <td>...</td>\n",
       "      <td>...</td>\n",
       "      <td>...</td>\n",
       "      <td>...</td>\n",
       "    </tr>\n",
       "    <tr>\n",
       "      <th>96392</th>\n",
       "      <td>96749</td>\n",
       "      <td>5142276053</td>\n",
       "      <td>2010-12-31</td>\n",
       "      <td>3500000006160</td>\n",
       "      <td>BEST BUY      00001610</td>\n",
       "      <td>KY</td>\n",
       "      <td>41042.0</td>\n",
       "      <td>P</td>\n",
       "      <td>84.79</td>\n",
       "      <td>0</td>\n",
       "      <td>...</td>\n",
       "      <td>448.79</td>\n",
       "      <td>448.79</td>\n",
       "      <td>448.79</td>\n",
       "      <td>448.79</td>\n",
       "      <td>365.000000</td>\n",
       "      <td>365.000000</td>\n",
       "      <td>365.000000</td>\n",
       "      <td>365.000000</td>\n",
       "      <td>1.002393</td>\n",
       "      <td>1.001244</td>\n",
       "    </tr>\n",
       "    <tr>\n",
       "      <th>96393</th>\n",
       "      <td>96750</td>\n",
       "      <td>5142225701</td>\n",
       "      <td>2010-12-31</td>\n",
       "      <td>8090710030950</td>\n",
       "      <td>MARKUS OFFICE SUPPLIES</td>\n",
       "      <td>OH</td>\n",
       "      <td>45248.0</td>\n",
       "      <td>P</td>\n",
       "      <td>118.75</td>\n",
       "      <td>0</td>\n",
       "      <td>...</td>\n",
       "      <td>370.30</td>\n",
       "      <td>610.85</td>\n",
       "      <td>370.30</td>\n",
       "      <td>729.60</td>\n",
       "      <td>11.330504</td>\n",
       "      <td>11.197966</td>\n",
       "      <td>11.330504</td>\n",
       "      <td>11.165252</td>\n",
       "      <td>1.137948</td>\n",
       "      <td>1.288057</td>\n",
       "    </tr>\n",
       "    <tr>\n",
       "      <th>96394</th>\n",
       "      <td>96751</td>\n",
       "      <td>5142226486</td>\n",
       "      <td>2010-12-31</td>\n",
       "      <td>4503057341100</td>\n",
       "      <td>TECH PAC, INC</td>\n",
       "      <td>OH</td>\n",
       "      <td>45150.0</td>\n",
       "      <td>P</td>\n",
       "      <td>363.56</td>\n",
       "      <td>0</td>\n",
       "      <td>...</td>\n",
       "      <td>727.56</td>\n",
       "      <td>727.56</td>\n",
       "      <td>727.56</td>\n",
       "      <td>727.56</td>\n",
       "      <td>365.000000</td>\n",
       "      <td>365.000000</td>\n",
       "      <td>365.000000</td>\n",
       "      <td>365.000000</td>\n",
       "      <td>1.201338</td>\n",
       "      <td>1.106055</td>\n",
       "    </tr>\n",
       "    <tr>\n",
       "      <th>96395</th>\n",
       "      <td>96752</td>\n",
       "      <td>5142244619</td>\n",
       "      <td>2010-12-31</td>\n",
       "      <td>8834000695412</td>\n",
       "      <td>BUY.COM</td>\n",
       "      <td>CA</td>\n",
       "      <td>92656.0</td>\n",
       "      <td>P</td>\n",
       "      <td>2202.03</td>\n",
       "      <td>0</td>\n",
       "      <td>...</td>\n",
       "      <td>941.21</td>\n",
       "      <td>2228.03</td>\n",
       "      <td>509.25</td>\n",
       "      <td>2771.63</td>\n",
       "      <td>28.406038</td>\n",
       "      <td>27.000000</td>\n",
       "      <td>30.556710</td>\n",
       "      <td>26.802013</td>\n",
       "      <td>1.499767</td>\n",
       "      <td>1.029441</td>\n",
       "    </tr>\n",
       "    <tr>\n",
       "      <th>96396</th>\n",
       "      <td>96753</td>\n",
       "      <td>5142243247</td>\n",
       "      <td>2010-12-31</td>\n",
       "      <td>9108347680006</td>\n",
       "      <td>STAPLES NATIONAL #471</td>\n",
       "      <td>NJ</td>\n",
       "      <td>7606.0</td>\n",
       "      <td>P</td>\n",
       "      <td>554.64</td>\n",
       "      <td>0</td>\n",
       "      <td>...</td>\n",
       "      <td>242.60</td>\n",
       "      <td>556.64</td>\n",
       "      <td>92.36</td>\n",
       "      <td>723.80</td>\n",
       "      <td>4.305237</td>\n",
       "      <td>3.000000</td>\n",
       "      <td>8.138114</td>\n",
       "      <td>2.768412</td>\n",
       "      <td>1.233441</td>\n",
       "      <td>1.113448</td>\n",
       "    </tr>\n",
       "  </tbody>\n",
       "</table>\n",
       "<p>96397 rows × 1265 columns</p>\n",
       "</div>"
      ],
      "text/plain": [
       "       Recnum     Cardnum       Date       Merchnum        Merch description  \\\n",
       "0           1  5142190439 2010-01-01  5509006296254   FEDEX SHP 12/23/09 AB#   \n",
       "1           2  5142183973 2010-01-01    61003026333  SERVICE MERCHANDISE #81   \n",
       "2           3  5142131721 2010-01-01  4503082993600        OFFICE DEPOT #191   \n",
       "3           4  5142148452 2010-01-01  5509006296254   FEDEX SHP 12/28/09 AB#   \n",
       "4           5  5142190439 2010-01-01  5509006296254   FEDEX SHP 12/23/09 AB#   \n",
       "...       ...         ...        ...            ...                      ...   \n",
       "96392   96749  5142276053 2010-12-31  3500000006160   BEST BUY      00001610   \n",
       "96393   96750  5142225701 2010-12-31  8090710030950   MARKUS OFFICE SUPPLIES   \n",
       "96394   96751  5142226486 2010-12-31  4503057341100            TECH PAC, INC   \n",
       "96395   96752  5142244619 2010-12-31  8834000695412                  BUY.COM   \n",
       "96396   96753  5142243247 2010-12-31  9108347680006    STAPLES NATIONAL #471   \n",
       "\n",
       "      Merch state Merch zip Transtype   Amount  Fraud  ...  \\\n",
       "0         foreign   38118.0         P     3.62      0  ...   \n",
       "1              MA    1803.0         P    31.42      0  ...   \n",
       "2              MD   20706.0         P   178.49      0  ...   \n",
       "3         foreign   38118.0         P     3.62      0  ...   \n",
       "4         foreign   38118.0         P     3.62      0  ...   \n",
       "...           ...       ...       ...      ...    ...  ...   \n",
       "96392          KY   41042.0         P    84.79      0  ...   \n",
       "96393          OH   45248.0         P   118.75      0  ...   \n",
       "96394          OH   45150.0         P   363.56      0  ...   \n",
       "96395          CA   92656.0         P  2202.03      0  ...   \n",
       "96396          NJ    7606.0         P   554.64      0  ...   \n",
       "\n",
       "      Cardnum_day_since_merchnum_avg_30_merchnum  \\\n",
       "0                                           3.62   \n",
       "1                                          31.42   \n",
       "2                                         178.49   \n",
       "3                                           3.62   \n",
       "4                                           3.62   \n",
       "...                                          ...   \n",
       "96392                                     448.79   \n",
       "96393                                     370.30   \n",
       "96394                                     727.56   \n",
       "96395                                     941.21   \n",
       "96396                                     242.60   \n",
       "\n",
       "       Cardnum_day_since_merchnum_max_30_merchnum  \\\n",
       "0                                            3.62   \n",
       "1                                           31.42   \n",
       "2                                          178.49   \n",
       "3                                            3.62   \n",
       "4                                            3.62   \n",
       "...                                           ...   \n",
       "96392                                      448.79   \n",
       "96393                                      610.85   \n",
       "96394                                      727.56   \n",
       "96395                                     2228.03   \n",
       "96396                                      556.64   \n",
       "\n",
       "      Cardnum_day_since_merchnum_med_30_merchnum  \\\n",
       "0                                           3.62   \n",
       "1                                          31.42   \n",
       "2                                         178.49   \n",
       "3                                           3.62   \n",
       "4                                           3.62   \n",
       "...                                          ...   \n",
       "96392                                     448.79   \n",
       "96393                                     370.30   \n",
       "96394                                     727.56   \n",
       "96395                                     509.25   \n",
       "96396                                      92.36   \n",
       "\n",
       "      Cardnum_day_since_merchnum_total_30_merchnum  \\\n",
       "0                                             3.62   \n",
       "1                                            31.42   \n",
       "2                                           178.49   \n",
       "3                                             3.62   \n",
       "4                                             7.24   \n",
       "...                                            ...   \n",
       "96392                                       448.79   \n",
       "96393                                       729.60   \n",
       "96394                                       727.56   \n",
       "96395                                      2771.63   \n",
       "96396                                       723.80   \n",
       "\n",
       "      Cardnum_day_since_merchnum_actual/avg_30_merchnum  \\\n",
       "0                                              1.000000   \n",
       "1                                              1.000000   \n",
       "2                                              1.000000   \n",
       "3                                              1.000000   \n",
       "4                                              1.000000   \n",
       "...                                                 ...   \n",
       "96392                                        365.000000   \n",
       "96393                                         11.330504   \n",
       "96394                                        365.000000   \n",
       "96395                                         28.406038   \n",
       "96396                                          4.305237   \n",
       "\n",
       "      Cardnum_day_since_merchnum_actual/max_30_merchnum  \\\n",
       "0                                              1.000000   \n",
       "1                                              1.000000   \n",
       "2                                              1.000000   \n",
       "3                                              1.000000   \n",
       "4                                              1.000000   \n",
       "...                                                 ...   \n",
       "96392                                        365.000000   \n",
       "96393                                         11.197966   \n",
       "96394                                        365.000000   \n",
       "96395                                         27.000000   \n",
       "96396                                          3.000000   \n",
       "\n",
       "      Cardnum_day_since_merchnum_actual/med_30_merchnum  \\\n",
       "0                                              1.000000   \n",
       "1                                              1.000000   \n",
       "2                                              1.000000   \n",
       "3                                              1.000000   \n",
       "4                                              1.000000   \n",
       "...                                                 ...   \n",
       "96392                                        365.000000   \n",
       "96393                                         11.330504   \n",
       "96394                                        365.000000   \n",
       "96395                                         30.556710   \n",
       "96396                                          8.138114   \n",
       "\n",
       "      Cardnum_day_since_merchnum_actual/toal_30_merchnum U*_cardnum  \\\n",
       "0                                               1.000000   2.178008   \n",
       "1                                               1.000000   1.604857   \n",
       "2                                               1.000000   2.368143   \n",
       "3                                               1.000000   1.044105   \n",
       "4                                               0.500000   2.178008   \n",
       "...                                                  ...        ...   \n",
       "96392                                         365.000000   1.002393   \n",
       "96393                                          11.165252   1.137948   \n",
       "96394                                         365.000000   1.201338   \n",
       "96395                                          26.802013   1.499767   \n",
       "96396                                           2.768412   1.233441   \n",
       "\n",
       "      U*_merchnum  \n",
       "0             NaN  \n",
       "1        1.001244  \n",
       "2        1.025818  \n",
       "3             NaN  \n",
       "4             NaN  \n",
       "...           ...  \n",
       "96392    1.001244  \n",
       "96393    1.288057  \n",
       "96394    1.106055  \n",
       "96395    1.029441  \n",
       "96396    1.113448  \n",
       "\n",
       "[96397 rows x 1265 columns]"
      ]
     },
     "execution_count": 149,
     "metadata": {},
     "output_type": "execute_result"
    }
   ],
   "source": [
    "final = final.merge(card_Ustar, how = 'left', left_on='Cardnum', right_on=card_Ustar.index) \n",
    "final = final.rename(columns={'U_smoothed': 'U*_cardnum' })\n",
    "final = final.merge(merch_Ustar, how = 'left', left_on='Merchnum', right_on=merch_Ustar.index) \n",
    "final.rename (columns={ 'U_smoothed': 'U*_merchnum'})\n"
   ]
  },
  {
   "cell_type": "code",
   "execution_count": 150,
   "id": "c61faa13",
   "metadata": {
    "id": "c61faa13",
    "outputId": "d084f535-f847-484c-f43c-f7db9cf45930"
   },
   "outputs": [
    {
     "name": "stdout",
     "output_type": "stream",
     "text": [
      "duration:  1:11:51.563890\n"
     ]
    }
   ],
   "source": [
    "print('duration: ',dt.datetime.now() - start_time)"
   ]
  },
  {
   "cell_type": "code",
   "execution_count": 155,
   "id": "qs1jYuFnVRTA",
   "metadata": {
    "id": "qs1jYuFnVRTA"
   },
   "outputs": [],
   "source": [
    "final.to_csv('final_after_B.csv')"
   ]
  },
  {
   "cell_type": "code",
   "execution_count": 152,
   "id": "a4a943a5",
   "metadata": {
    "id": "a4a943a5"
   },
   "outputs": [],
   "source": [
    "data.to_csv('data_before_B.csv')"
   ]
  },
  {
   "cell_type": "code",
   "execution_count": 156,
   "id": "0f6fdb45",
   "metadata": {},
   "outputs": [
    {
     "name": "stdout",
     "output_type": "stream",
     "text": [
      "(96397, 1266)\n",
      "(96397, 31)\n"
     ]
    }
   ],
   "source": [
    "new_data_after = pd.read_csv('final_after_B.csv')\n",
    "print(new_data_after.shape)\n",
    "new_data_before = pd.read_csv('data_before_B.csv')\n",
    "print(new_data_before.shape)"
   ]
  }
 ],
 "metadata": {
  "accelerator": "GPU",
  "colab": {
   "provenance": []
  },
  "gpuClass": "standard",
  "kernelspec": {
   "display_name": "Python 3 (ipykernel)",
   "language": "python",
   "name": "python3"
  },
  "language_info": {
   "codemirror_mode": {
    "name": "ipython",
    "version": 3
   },
   "file_extension": ".py",
   "mimetype": "text/x-python",
   "name": "python",
   "nbconvert_exporter": "python",
   "pygments_lexer": "ipython3",
   "version": "3.9.12"
  },
  "toc": {
   "base_numbering": 1,
   "nav_menu": {},
   "number_sections": true,
   "sideBar": true,
   "skip_h1_title": false,
   "title_cell": "Table of Contents",
   "title_sidebar": "Contents",
   "toc_cell": false,
   "toc_position": {},
   "toc_section_display": true,
   "toc_window_display": false
  }
 },
 "nbformat": 4,
 "nbformat_minor": 5
}
